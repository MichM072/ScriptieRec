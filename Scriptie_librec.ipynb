{
  "cells": [
    {
      "cell_type": "markdown",
      "metadata": {
        "id": "view-in-github",
        "colab_type": "text"
      },
      "source": [
        "<a href=\"https://colab.research.google.com/github/MichM072/ScriptieRec/blob/main/Scriptie_librec.ipynb\" target=\"_parent\"><img src=\"https://colab.research.google.com/assets/colab-badge.svg\" alt=\"Open In Colab\"/></a>"
      ]
    },
    {
      "cell_type": "code",
      "execution_count": null,
      "metadata": {
        "colab": {
          "base_uri": "https://localhost:8080/"
        },
        "id": "-cPrXWrwzr0Y",
        "outputId": "45c2021c-6cf2-4cbc-98df-00b7ef862c1d"
      },
      "outputs": [
        {
          "output_type": "stream",
          "name": "stdout",
          "text": [
            "Mounted at /content/drive\n",
            "Looking in indexes: https://pypi.org/simple, https://us-python.pkg.dev/colab-wheels/public/simple/\n",
            "Collecting surprise\n",
            "  Downloading surprise-0.1-py2.py3-none-any.whl (1.8 kB)\n",
            "Collecting scikit-surprise\n",
            "  Downloading scikit-surprise-1.1.3.tar.gz (771 kB)\n",
            "\u001b[2K     \u001b[90m━━━━━━━━━━━━━━━━━━━━━━━━━━━━━━━━━━━━━━\u001b[0m \u001b[32m772.0/772.0 KB\u001b[0m \u001b[31m30.1 MB/s\u001b[0m eta \u001b[36m0:00:00\u001b[0m\n",
            "\u001b[?25h  Preparing metadata (setup.py) ... \u001b[?25l\u001b[?25hdone\n",
            "Requirement already satisfied: joblib>=1.0.0 in /usr/local/lib/python3.9/dist-packages (from scikit-surprise->surprise) (1.1.1)\n",
            "Requirement already satisfied: numpy>=1.17.3 in /usr/local/lib/python3.9/dist-packages (from scikit-surprise->surprise) (1.22.4)\n",
            "Requirement already satisfied: scipy>=1.3.2 in /usr/local/lib/python3.9/dist-packages (from scikit-surprise->surprise) (1.10.1)\n",
            "Building wheels for collected packages: scikit-surprise\n",
            "  Building wheel for scikit-surprise (setup.py) ... \u001b[?25l\u001b[?25hdone\n",
            "  Created wheel for scikit-surprise: filename=scikit_surprise-1.1.3-cp39-cp39-linux_x86_64.whl size=3193667 sha256=84da8665b53f6de62641d51af83aeb0f4544c3d070bd0d83f978f6d4fc90d594\n",
            "  Stored in directory: /root/.cache/pip/wheels/c6/3a/46/9b17b3512bdf283c6cb84f59929cdd5199d4e754d596d22784\n",
            "Successfully built scikit-surprise\n",
            "Installing collected packages: scikit-surprise, surprise\n",
            "Successfully installed scikit-surprise-1.1.3 surprise-0.1\n",
            "Looking in indexes: https://pypi.org/simple, https://us-python.pkg.dev/colab-wheels/public/simple/\n",
            "Collecting LibRecommender\n",
            "  Downloading LibRecommender-1.0.1-cp39-cp39-manylinux_2_17_x86_64.manylinux2014_x86_64.whl (2.1 MB)\n",
            "\u001b[2K     \u001b[90m━━━━━━━━━━━━━━━━━━━━━━━━━━━━━━━━━━━━━━━━\u001b[0m \u001b[32m2.1/2.1 MB\u001b[0m \u001b[31m43.1 MB/s\u001b[0m eta \u001b[36m0:00:00\u001b[0m\n",
            "\u001b[?25hRequirement already satisfied: gensim>=4.0.0 in /usr/local/lib/python3.9/dist-packages (from LibRecommender) (4.3.1)\n",
            "Requirement already satisfied: tqdm in /usr/local/lib/python3.9/dist-packages (from LibRecommender) (4.65.0)\n",
            "Requirement already satisfied: scipy>=1.7.0 in /usr/local/lib/python3.9/dist-packages (from gensim>=4.0.0->LibRecommender) (1.10.1)\n",
            "Requirement already satisfied: numpy>=1.18.5 in /usr/local/lib/python3.9/dist-packages (from gensim>=4.0.0->LibRecommender) (1.22.4)\n",
            "Requirement already satisfied: smart-open>=1.8.1 in /usr/local/lib/python3.9/dist-packages (from gensim>=4.0.0->LibRecommender) (6.3.0)\n",
            "Installing collected packages: LibRecommender\n",
            "Successfully installed LibRecommender-1.0.1\n",
            "Looking in indexes: https://pypi.org/simple, https://us-python.pkg.dev/colab-wheels/public/simple/\n",
            "Collecting ray\n",
            "  Downloading ray-2.3.1-cp39-cp39-manylinux2014_x86_64.whl (58.6 MB)\n",
            "\u001b[2K     \u001b[90m━━━━━━━━━━━━━━━━━━━━━━━━━━━━━━━━━━━━━━━━\u001b[0m \u001b[32m58.6/58.6 MB\u001b[0m \u001b[31m14.3 MB/s\u001b[0m eta \u001b[36m0:00:00\u001b[0m\n",
            "\u001b[?25hCollecting frozenlist\n",
            "  Downloading frozenlist-1.3.3-cp39-cp39-manylinux_2_5_x86_64.manylinux1_x86_64.manylinux_2_17_x86_64.manylinux2014_x86_64.whl (158 kB)\n",
            "\u001b[2K     \u001b[90m━━━━━━━━━━━━━━━━━━━━━━━━━━━━━━━━━━━━━━\u001b[0m \u001b[32m158.8/158.8 KB\u001b[0m \u001b[31m23.0 MB/s\u001b[0m eta \u001b[36m0:00:00\u001b[0m\n",
            "\u001b[?25hRequirement already satisfied: protobuf!=3.19.5,>=3.15.3 in /usr/local/lib/python3.9/dist-packages (from ray) (3.20.3)\n",
            "Requirement already satisfied: msgpack<2.0.0,>=1.0.0 in /usr/local/lib/python3.9/dist-packages (from ray) (1.0.5)\n",
            "Requirement already satisfied: attrs in /usr/local/lib/python3.9/dist-packages (from ray) (22.2.0)\n",
            "Requirement already satisfied: requests in /usr/local/lib/python3.9/dist-packages (from ray) (2.27.1)\n",
            "Requirement already satisfied: jsonschema in /usr/local/lib/python3.9/dist-packages (from ray) (4.3.3)\n",
            "Collecting virtualenv>=20.0.24\n",
            "  Downloading virtualenv-20.21.0-py3-none-any.whl (8.7 MB)\n",
            "\u001b[2K     \u001b[90m━━━━━━━━━━━━━━━━━━━━━━━━━━━━━━━━━━━━━━━━\u001b[0m \u001b[32m8.7/8.7 MB\u001b[0m \u001b[31m87.0 MB/s\u001b[0m eta \u001b[36m0:00:00\u001b[0m\n",
            "\u001b[?25hRequirement already satisfied: numpy>=1.19.3 in /usr/local/lib/python3.9/dist-packages (from ray) (1.22.4)\n",
            "Collecting aiosignal\n",
            "  Downloading aiosignal-1.3.1-py3-none-any.whl (7.6 kB)\n",
            "Requirement already satisfied: pyyaml in /usr/local/lib/python3.9/dist-packages (from ray) (6.0)\n",
            "Requirement already satisfied: click>=7.0 in /usr/local/lib/python3.9/dist-packages (from ray) (8.1.3)\n",
            "Requirement already satisfied: filelock in /usr/local/lib/python3.9/dist-packages (from ray) (3.10.7)\n",
            "Requirement already satisfied: grpcio>=1.32.0 in /usr/local/lib/python3.9/dist-packages (from ray) (1.53.0)\n",
            "Requirement already satisfied: tabulate in /usr/local/lib/python3.9/dist-packages (from ray) (0.8.10)\n",
            "Collecting tensorboardX>=1.9\n",
            "  Downloading tensorboardX-2.6-py2.py3-none-any.whl (114 kB)\n",
            "\u001b[2K     \u001b[90m━━━━━━━━━━━━━━━━━━━━━━━━━━━━━━━━━━━━━━\u001b[0m \u001b[32m114.5/114.5 KB\u001b[0m \u001b[31m13.4 MB/s\u001b[0m eta \u001b[36m0:00:00\u001b[0m\n",
            "\u001b[?25hRequirement already satisfied: pandas in /usr/local/lib/python3.9/dist-packages (from ray) (1.4.4)\n",
            "Requirement already satisfied: packaging in /usr/local/lib/python3.9/dist-packages (from tensorboardX>=1.9->ray) (23.0)\n",
            "Collecting distlib<1,>=0.3.6\n",
            "  Downloading distlib-0.3.6-py2.py3-none-any.whl (468 kB)\n",
            "\u001b[2K     \u001b[90m━━━━━━━━━━━━━━━━━━━━━━━━━━━━━━━━━━━━━━\u001b[0m \u001b[32m468.5/468.5 KB\u001b[0m \u001b[31m41.7 MB/s\u001b[0m eta \u001b[36m0:00:00\u001b[0m\n",
            "\u001b[?25hRequirement already satisfied: platformdirs<4,>=2.4 in /usr/local/lib/python3.9/dist-packages (from virtualenv>=20.0.24->ray) (3.2.0)\n",
            "Requirement already satisfied: pyrsistent!=0.17.0,!=0.17.1,!=0.17.2,>=0.14.0 in /usr/local/lib/python3.9/dist-packages (from jsonschema->ray) (0.19.3)\n",
            "Requirement already satisfied: pytz>=2020.1 in /usr/local/lib/python3.9/dist-packages (from pandas->ray) (2022.7.1)\n",
            "Requirement already satisfied: python-dateutil>=2.8.1 in /usr/local/lib/python3.9/dist-packages (from pandas->ray) (2.8.2)\n",
            "Requirement already satisfied: certifi>=2017.4.17 in /usr/local/lib/python3.9/dist-packages (from requests->ray) (2022.12.7)\n",
            "Requirement already satisfied: idna<4,>=2.5 in /usr/local/lib/python3.9/dist-packages (from requests->ray) (3.4)\n",
            "Requirement already satisfied: urllib3<1.27,>=1.21.1 in /usr/local/lib/python3.9/dist-packages (from requests->ray) (1.26.15)\n",
            "Requirement already satisfied: charset-normalizer~=2.0.0 in /usr/local/lib/python3.9/dist-packages (from requests->ray) (2.0.12)\n",
            "Requirement already satisfied: six>=1.5 in /usr/local/lib/python3.9/dist-packages (from python-dateutil>=2.8.1->pandas->ray) (1.16.0)\n",
            "Installing collected packages: distlib, virtualenv, tensorboardX, frozenlist, aiosignal, ray\n",
            "Successfully installed aiosignal-1.3.1 distlib-0.3.6 frozenlist-1.3.3 ray-2.3.1 tensorboardX-2.6 virtualenv-20.21.0\n"
          ]
        }
      ],
      "source": [
        "# Pip installations\n",
        "import os\n",
        "\n",
        "local = os.path.isdir('data/movielens_100k/ml-100k/')\n",
        "\n",
        "if local:\n",
        "  path = 'data/movielens_100k/ml-100k/'\n",
        "else:\n",
        "  if not os.path.isdir('/content/drive/MyDrive/ml-100k/'):\n",
        "    from google.colab import drive\n",
        "    drive.mount('/content/drive')\n",
        "  path = '/content/drive/MyDrive/ml-100k/'\n",
        "\n",
        "if not local:\n",
        "  !pip install surprise\n",
        "  !pip install LibRecommender\n",
        "  !pip install ray -U \"ray[tune]\""
      ]
    },
    {
      "cell_type": "code",
      "execution_count": null,
      "metadata": {
        "id": "6Fggk6yLMSmy"
      },
      "outputs": [],
      "source": [
        "# Imports\n",
        "import pandas as pd\n",
        "import numpy as np\n",
        "import seaborn as sns\n",
        "import matplotlib.pyplot as plt\n",
        "import sklearn\n",
        "import gc\n",
        "from surprise import Dataset\n",
        "from sklearn.metrics.pairwise import cosine_similarity, euclidean_distances\n",
        "from sklearn.metrics import DistanceMetric\n",
        "from sklearn import preprocessing\n",
        "import tensorflow as tf"
      ]
    },
    {
      "cell_type": "code",
      "execution_count": null,
      "metadata": {
        "id": "k2AUzqbDMwJm"
      },
      "outputs": [],
      "source": [
        "user_cols = ['userId',  'age',  'gender',  'occupation',  'zip code']\n",
        "user_data = pd.read_csv(path + 'u.user', sep='|', names=user_cols)\n",
        "\n",
        "rating_cols = ['userId' , 'itemId','rating', 'timestamp']\n",
        "rating_matrix = pd.read_csv(path + 'u.data', sep='\\t', names=rating_cols).sort_values(by='userId', ascending=True).reset_index(drop=True)\n",
        "\n",
        "item_cols = ['itemId', 'movieTitle', 'releaseDate', 'videoReleaseDate', \n",
        "        'IMDb-URL', 'unknown', 'Action', 'Adventure', 'Animation', 'Children\\'s',\n",
        "        'Comedy', 'Crime', 'Documentary', 'Drama', 'Fantasy', 'Film-Noir', 'Horror',\n",
        "        'Musical', 'Mystery', 'Romance', 'Sci-Fi', 'Thriller', 'War', 'Western']\n",
        "item_matrix = pd.read_csv(path + 'u.item', sep='|', names = item_cols, encoding = 'unicode_escape', engine ='python')"
      ]
    },
    {
      "cell_type": "code",
      "execution_count": null,
      "metadata": {
        "colab": {
          "base_uri": "https://localhost:8080/",
          "height": 404
        },
        "id": "_1fNxyFBNelU",
        "outputId": "b0bccb45-cc59-42fe-90e0-aac31c434d0d"
      },
      "outputs": [
        {
          "output_type": "execute_result",
          "data": {
            "text/plain": [
              "   userId  itemId  rating  timestamp  age gender     occupation zip code  \\\n",
              "0       1      55       5  875072688   24      M     technician    85711   \n",
              "1       8      55       5  879362286   36      M  administrator    05201   \n",
              "2      16      55       5  877717956   21      M  entertainment    10309   \n",
              "3      23      55       4  874785624   30      F         artist    48197   \n",
              "4      24      55       5  875323308   21      F         artist    94533   \n",
              "\n",
              "                 movieTitle  releaseDate  ...  Fantasy Film-Noir  Horror  \\\n",
              "0  Professional, The (1994)  01-Jan-1994  ...        0         0       0   \n",
              "1  Professional, The (1994)  01-Jan-1994  ...        0         0       0   \n",
              "2  Professional, The (1994)  01-Jan-1994  ...        0         0       0   \n",
              "3  Professional, The (1994)  01-Jan-1994  ...        0         0       0   \n",
              "4  Professional, The (1994)  01-Jan-1994  ...        0         0       0   \n",
              "\n",
              "   Musical  Mystery  Romance  Sci-Fi  Thriller  War  Western  \n",
              "0        0        0        1       0         1    0        0  \n",
              "1        0        0        1       0         1    0        0  \n",
              "2        0        0        1       0         1    0        0  \n",
              "3        0        0        1       0         1    0        0  \n",
              "4        0        0        1       0         1    0        0  \n",
              "\n",
              "[5 rows x 31 columns]"
            ],
            "text/html": [
              "\n",
              "  <div id=\"df-5bc0eec8-f431-4a82-95cc-e60dcbb95bb9\">\n",
              "    <div class=\"colab-df-container\">\n",
              "      <div>\n",
              "<style scoped>\n",
              "    .dataframe tbody tr th:only-of-type {\n",
              "        vertical-align: middle;\n",
              "    }\n",
              "\n",
              "    .dataframe tbody tr th {\n",
              "        vertical-align: top;\n",
              "    }\n",
              "\n",
              "    .dataframe thead th {\n",
              "        text-align: right;\n",
              "    }\n",
              "</style>\n",
              "<table border=\"1\" class=\"dataframe\">\n",
              "  <thead>\n",
              "    <tr style=\"text-align: right;\">\n",
              "      <th></th>\n",
              "      <th>userId</th>\n",
              "      <th>itemId</th>\n",
              "      <th>rating</th>\n",
              "      <th>timestamp</th>\n",
              "      <th>age</th>\n",
              "      <th>gender</th>\n",
              "      <th>occupation</th>\n",
              "      <th>zip code</th>\n",
              "      <th>movieTitle</th>\n",
              "      <th>releaseDate</th>\n",
              "      <th>...</th>\n",
              "      <th>Fantasy</th>\n",
              "      <th>Film-Noir</th>\n",
              "      <th>Horror</th>\n",
              "      <th>Musical</th>\n",
              "      <th>Mystery</th>\n",
              "      <th>Romance</th>\n",
              "      <th>Sci-Fi</th>\n",
              "      <th>Thriller</th>\n",
              "      <th>War</th>\n",
              "      <th>Western</th>\n",
              "    </tr>\n",
              "  </thead>\n",
              "  <tbody>\n",
              "    <tr>\n",
              "      <th>0</th>\n",
              "      <td>1</td>\n",
              "      <td>55</td>\n",
              "      <td>5</td>\n",
              "      <td>875072688</td>\n",
              "      <td>24</td>\n",
              "      <td>M</td>\n",
              "      <td>technician</td>\n",
              "      <td>85711</td>\n",
              "      <td>Professional, The (1994)</td>\n",
              "      <td>01-Jan-1994</td>\n",
              "      <td>...</td>\n",
              "      <td>0</td>\n",
              "      <td>0</td>\n",
              "      <td>0</td>\n",
              "      <td>0</td>\n",
              "      <td>0</td>\n",
              "      <td>1</td>\n",
              "      <td>0</td>\n",
              "      <td>1</td>\n",
              "      <td>0</td>\n",
              "      <td>0</td>\n",
              "    </tr>\n",
              "    <tr>\n",
              "      <th>1</th>\n",
              "      <td>8</td>\n",
              "      <td>55</td>\n",
              "      <td>5</td>\n",
              "      <td>879362286</td>\n",
              "      <td>36</td>\n",
              "      <td>M</td>\n",
              "      <td>administrator</td>\n",
              "      <td>05201</td>\n",
              "      <td>Professional, The (1994)</td>\n",
              "      <td>01-Jan-1994</td>\n",
              "      <td>...</td>\n",
              "      <td>0</td>\n",
              "      <td>0</td>\n",
              "      <td>0</td>\n",
              "      <td>0</td>\n",
              "      <td>0</td>\n",
              "      <td>1</td>\n",
              "      <td>0</td>\n",
              "      <td>1</td>\n",
              "      <td>0</td>\n",
              "      <td>0</td>\n",
              "    </tr>\n",
              "    <tr>\n",
              "      <th>2</th>\n",
              "      <td>16</td>\n",
              "      <td>55</td>\n",
              "      <td>5</td>\n",
              "      <td>877717956</td>\n",
              "      <td>21</td>\n",
              "      <td>M</td>\n",
              "      <td>entertainment</td>\n",
              "      <td>10309</td>\n",
              "      <td>Professional, The (1994)</td>\n",
              "      <td>01-Jan-1994</td>\n",
              "      <td>...</td>\n",
              "      <td>0</td>\n",
              "      <td>0</td>\n",
              "      <td>0</td>\n",
              "      <td>0</td>\n",
              "      <td>0</td>\n",
              "      <td>1</td>\n",
              "      <td>0</td>\n",
              "      <td>1</td>\n",
              "      <td>0</td>\n",
              "      <td>0</td>\n",
              "    </tr>\n",
              "    <tr>\n",
              "      <th>3</th>\n",
              "      <td>23</td>\n",
              "      <td>55</td>\n",
              "      <td>4</td>\n",
              "      <td>874785624</td>\n",
              "      <td>30</td>\n",
              "      <td>F</td>\n",
              "      <td>artist</td>\n",
              "      <td>48197</td>\n",
              "      <td>Professional, The (1994)</td>\n",
              "      <td>01-Jan-1994</td>\n",
              "      <td>...</td>\n",
              "      <td>0</td>\n",
              "      <td>0</td>\n",
              "      <td>0</td>\n",
              "      <td>0</td>\n",
              "      <td>0</td>\n",
              "      <td>1</td>\n",
              "      <td>0</td>\n",
              "      <td>1</td>\n",
              "      <td>0</td>\n",
              "      <td>0</td>\n",
              "    </tr>\n",
              "    <tr>\n",
              "      <th>4</th>\n",
              "      <td>24</td>\n",
              "      <td>55</td>\n",
              "      <td>5</td>\n",
              "      <td>875323308</td>\n",
              "      <td>21</td>\n",
              "      <td>F</td>\n",
              "      <td>artist</td>\n",
              "      <td>94533</td>\n",
              "      <td>Professional, The (1994)</td>\n",
              "      <td>01-Jan-1994</td>\n",
              "      <td>...</td>\n",
              "      <td>0</td>\n",
              "      <td>0</td>\n",
              "      <td>0</td>\n",
              "      <td>0</td>\n",
              "      <td>0</td>\n",
              "      <td>1</td>\n",
              "      <td>0</td>\n",
              "      <td>1</td>\n",
              "      <td>0</td>\n",
              "      <td>0</td>\n",
              "    </tr>\n",
              "  </tbody>\n",
              "</table>\n",
              "<p>5 rows × 31 columns</p>\n",
              "</div>\n",
              "      <button class=\"colab-df-convert\" onclick=\"convertToInteractive('df-5bc0eec8-f431-4a82-95cc-e60dcbb95bb9')\"\n",
              "              title=\"Convert this dataframe to an interactive table.\"\n",
              "              style=\"display:none;\">\n",
              "        \n",
              "  <svg xmlns=\"http://www.w3.org/2000/svg\" height=\"24px\"viewBox=\"0 0 24 24\"\n",
              "       width=\"24px\">\n",
              "    <path d=\"M0 0h24v24H0V0z\" fill=\"none\"/>\n",
              "    <path d=\"M18.56 5.44l.94 2.06.94-2.06 2.06-.94-2.06-.94-.94-2.06-.94 2.06-2.06.94zm-11 1L8.5 8.5l.94-2.06 2.06-.94-2.06-.94L8.5 2.5l-.94 2.06-2.06.94zm10 10l.94 2.06.94-2.06 2.06-.94-2.06-.94-.94-2.06-.94 2.06-2.06.94z\"/><path d=\"M17.41 7.96l-1.37-1.37c-.4-.4-.92-.59-1.43-.59-.52 0-1.04.2-1.43.59L10.3 9.45l-7.72 7.72c-.78.78-.78 2.05 0 2.83L4 21.41c.39.39.9.59 1.41.59.51 0 1.02-.2 1.41-.59l7.78-7.78 2.81-2.81c.8-.78.8-2.07 0-2.86zM5.41 20L4 18.59l7.72-7.72 1.47 1.35L5.41 20z\"/>\n",
              "  </svg>\n",
              "      </button>\n",
              "      \n",
              "  <style>\n",
              "    .colab-df-container {\n",
              "      display:flex;\n",
              "      flex-wrap:wrap;\n",
              "      gap: 12px;\n",
              "    }\n",
              "\n",
              "    .colab-df-convert {\n",
              "      background-color: #E8F0FE;\n",
              "      border: none;\n",
              "      border-radius: 50%;\n",
              "      cursor: pointer;\n",
              "      display: none;\n",
              "      fill: #1967D2;\n",
              "      height: 32px;\n",
              "      padding: 0 0 0 0;\n",
              "      width: 32px;\n",
              "    }\n",
              "\n",
              "    .colab-df-convert:hover {\n",
              "      background-color: #E2EBFA;\n",
              "      box-shadow: 0px 1px 2px rgba(60, 64, 67, 0.3), 0px 1px 3px 1px rgba(60, 64, 67, 0.15);\n",
              "      fill: #174EA6;\n",
              "    }\n",
              "\n",
              "    [theme=dark] .colab-df-convert {\n",
              "      background-color: #3B4455;\n",
              "      fill: #D2E3FC;\n",
              "    }\n",
              "\n",
              "    [theme=dark] .colab-df-convert:hover {\n",
              "      background-color: #434B5C;\n",
              "      box-shadow: 0px 1px 3px 1px rgba(0, 0, 0, 0.15);\n",
              "      filter: drop-shadow(0px 1px 2px rgba(0, 0, 0, 0.3));\n",
              "      fill: #FFFFFF;\n",
              "    }\n",
              "  </style>\n",
              "\n",
              "      <script>\n",
              "        const buttonEl =\n",
              "          document.querySelector('#df-5bc0eec8-f431-4a82-95cc-e60dcbb95bb9 button.colab-df-convert');\n",
              "        buttonEl.style.display =\n",
              "          google.colab.kernel.accessAllowed ? 'block' : 'none';\n",
              "\n",
              "        async function convertToInteractive(key) {\n",
              "          const element = document.querySelector('#df-5bc0eec8-f431-4a82-95cc-e60dcbb95bb9');\n",
              "          const dataTable =\n",
              "            await google.colab.kernel.invokeFunction('convertToInteractive',\n",
              "                                                     [key], {});\n",
              "          if (!dataTable) return;\n",
              "\n",
              "          const docLinkHtml = 'Like what you see? Visit the ' +\n",
              "            '<a target=\"_blank\" href=https://colab.research.google.com/notebooks/data_table.ipynb>data table notebook</a>'\n",
              "            + ' to learn more about interactive tables.';\n",
              "          element.innerHTML = '';\n",
              "          dataTable['output_type'] = 'display_data';\n",
              "          await google.colab.output.renderOutput(dataTable, element);\n",
              "          const docLink = document.createElement('div');\n",
              "          docLink.innerHTML = docLinkHtml;\n",
              "          element.appendChild(docLink);\n",
              "        }\n",
              "      </script>\n",
              "    </div>\n",
              "  </div>\n",
              "  "
            ]
          },
          "metadata": {},
          "execution_count": 7
        }
      ],
      "source": [
        "df_data = rating_matrix.merge(user_data, on='userId').merge(item_matrix, on='itemId')\n",
        "\n",
        "df_data.head()"
      ]
    },
    {
      "cell_type": "code",
      "execution_count": null,
      "metadata": {
        "colab": {
          "base_uri": "https://localhost:8080/"
        },
        "id": "306oNw6Btseb",
        "outputId": "37f21e89-d0df-46e3-a9d8-a58bfaea8d86"
      },
      "outputs": [
        {
          "output_type": "execute_result",
          "data": {
            "text/plain": [
              "(100000, 31)"
            ]
          },
          "metadata": {},
          "execution_count": 8
        }
      ],
      "source": [
        "df_data.shape"
      ]
    },
    {
      "cell_type": "code",
      "execution_count": null,
      "metadata": {
        "colab": {
          "base_uri": "https://localhost:8080/"
        },
        "id": "JWI2wOzDPBDY",
        "outputId": "a267e61b-981f-4ed1-ebd5-e163db1ae223"
      },
      "outputs": [
        {
          "output_type": "execute_result",
          "data": {
            "text/plain": [
              "874724710"
            ]
          },
          "metadata": {},
          "execution_count": 9
        }
      ],
      "source": [
        "df_data['timestamp'].min()"
      ]
    },
    {
      "cell_type": "code",
      "execution_count": null,
      "metadata": {
        "colab": {
          "base_uri": "https://localhost:8080/"
        },
        "id": "RYPBN7wFcfke",
        "outputId": "6945b661-9b36-4370-f962-73b379eed96e"
      },
      "outputs": [
        {
          "output_type": "execute_result",
          "data": {
            "text/plain": [
              "Timestamp('1997-09-20 03:05:10')"
            ]
          },
          "metadata": {},
          "execution_count": 10
        }
      ],
      "source": [
        "df_datetime = pd.to_datetime(df_data['timestamp'],unit='s')\n",
        "\n",
        "df_datetime.min()"
      ]
    },
    {
      "cell_type": "code",
      "execution_count": null,
      "metadata": {
        "colab": {
          "base_uri": "https://localhost:8080/"
        },
        "id": "QQCUI0jZt1TY",
        "outputId": "c1e94c51-d20a-4841-c491-8bb626337a13"
      },
      "outputs": [
        {
          "output_type": "stream",
          "name": "stderr",
          "text": [
            "WARNING:tensorflow:From /usr/local/lib/python3.9/dist-packages/tensorflow/python/compat/v2_compat.py:107: disable_resource_variables (from tensorflow.python.ops.variable_scope) is deprecated and will be removed in a future version.\n",
            "Instructions for updating:\n",
            "non-resource variables are not supported in the long term\n"
          ]
        }
      ],
      "source": [
        "day_split = 86400\n",
        "\n",
        "from libreco.data import random_split\n",
        "\n",
        "df_data = df_data.rename(columns = {'userId': 'user', 'itemId' : 'item', 'rating': 'label', 'timestamp': 'time'})\n",
        "\n",
        "# df_data2\n",
        "\n",
        "# split data into three folds for training, evaluating and testing\n",
        "# first_half_data = df_data[: (len(df_data) // 2)]\n",
        "train_data, eval_data, test_data = random_split(df_data, multi_ratios=[0.8, 0.1, 0.1], seed=42)"
      ]
    },
    {
      "cell_type": "code",
      "execution_count": null,
      "metadata": {
        "colab": {
          "base_uri": "https://localhost:8080/"
        },
        "id": "xQzWwPuN2puo",
        "outputId": "5ada4049-6398-44f4-d3fa-c97b7f257663"
      },
      "outputs": [
        {
          "output_type": "execute_result",
          "data": {
            "text/plain": [
              "0        01-Jan-1994\n",
              "1        01-Jan-1994\n",
              "2        01-Jan-1994\n",
              "3        01-Jan-1994\n",
              "4        01-Jan-1994\n",
              "            ...     \n",
              "99995    06-Feb-1998\n",
              "99996    06-Feb-1998\n",
              "99997    01-Jan-1998\n",
              "99998    01-Jan-1994\n",
              "99999    08-Mar-1996\n",
              "Name: releaseDate, Length: 100000, dtype: object"
            ]
          },
          "metadata": {},
          "execution_count": 12
        }
      ],
      "source": [
        "df_data['releaseDate']"
      ]
    },
    {
      "cell_type": "code",
      "execution_count": null,
      "metadata": {
        "id": "1Qyln1Iryd5s"
      },
      "outputs": [],
      "source": [
        "from libreco.data import DatasetPure\n",
        "\n",
        "# sparse_col = [\"gender\", \"occupation\", \"zip code\", \n",
        "#               'unknown', 'Action', 'Adventure', 'Animation', 'Children\\'s',\n",
        "#               'Comedy', 'Crime', 'Documentary', 'Drama', 'Fantasy', 'Film-Noir',\n",
        "#               'Horror', 'Musical', 'Mystery', 'Romance', 'Sci-Fi', 'Thriller', 'War', 'Western']\n",
        "# dense_col = [\"age\"]\n",
        "# user_col = ['age', 'gender', 'occupation', 'zip code']\n",
        "# item_col = ['unknown', 'Action', 'Adventure', 'Animation', 'Children\\'s',\n",
        "#               'Comedy', 'Crime', 'Documentary', 'Drama', 'Fantasy', 'Film-Noir',\n",
        "#               'Horror', 'Musical', 'Mystery', 'Romance', 'Sci-Fi', 'Thriller', 'War', 'Western']\n",
        "\n",
        "train_data, data_info = DatasetPure.build_trainset(train_data)\n",
        "eval_data = DatasetPure.build_evalset(eval_data)\n",
        "test_data = DatasetPure.build_testset(test_data)"
      ]
    },
    {
      "cell_type": "code",
      "execution_count": null,
      "metadata": {
        "id": "mdln2VzV5Xo7"
      },
      "outputs": [],
      "source": [
        "from libreco.algorithms import SVD\n",
        "from libreco.evaluation import evaluate"
      ]
    },
    {
      "cell_type": "code",
      "execution_count": null,
      "metadata": {
        "id": "AUMFiJxuiq3x"
      },
      "outputs": [],
      "source": [
        "# import itertools\n",
        "\n",
        "# test_grid = {\n",
        "#     'epochs' : [10, 20, 30],\n",
        "#     'reg' : [2, 4]\n",
        "# }\n",
        "\n",
        "# # print(list(test_grid.keys()))\n",
        "# # allNames = sorted(test_grid)\n",
        "# # print(allNames)\n",
        "# # combinations = itertools.product(*(test_grid[Name] for Name in allNames))\n",
        "# # print(list(combinations))\n",
        "\n",
        "# keys, values = zip(*test_grid.items())\n",
        "# permutations_dicts = [dict(zip(keys, v)) for v in itertools.product(*values)]\n",
        "\n",
        "# for combination in permutations_dicts:\n",
        "#   for key in combination:\n",
        "#     print(combination[key])\n",
        "#   print(combination)"
      ]
    },
    {
      "cell_type": "code",
      "execution_count": null,
      "metadata": {
        "id": "BtRjFy1hTBhG"
      },
      "outputs": [],
      "source": [
        "# import copy\n",
        "\n",
        "# def gridsearch(model, param_grid, **kwargs):\n",
        "\n",
        "#   target_model = model\n",
        "\n",
        "#   best_config = []\n",
        "#   best_eval = 1000\n",
        "\n",
        "#   keys, values = zip(*param_grid.items())\n",
        "#   combinations = [dict(zip(keys, v)) for v in itertools.product(*values)]\n",
        "\n",
        "#   for configuration in combinations:\n",
        "\n",
        "#     # reset graph\n",
        "#     tf.compat.v1.reset_default_graph()\n",
        "\n",
        "#     # Initialize estimator model\n",
        "#     est = target_model(**kwargs)\n",
        "\n",
        "#     pre_reg_conf = copy.copy(configuration)\n",
        "\n",
        "#     for attribute in configuration:\n",
        "#       if attribute == 'reg' and attribute is not None:\n",
        "#         configuration[attribute] = tf.keras.regularizers.l2(configuration[attribute])\n",
        "#       setattr(est, attribute, configuration[attribute])\n",
        "\n",
        "#     print(f'Configuration completed, training: {target_model.__name__}')\n",
        "#     print(f'Current configuration: {pre_reg_conf}')\n",
        "\n",
        "#     with tf.device('/GPU:0'):\n",
        "\n",
        "#       est.fit(\n",
        "#           train_data,\n",
        "#           verbose=0,\n",
        "#           shuffle=True,\n",
        "#       )\n",
        "\n",
        "#     evaluation = evaluate(model=est, data=eval_data, metrics=[\"rmse\"])\n",
        "#     if evaluation['rmse'] < best_eval:\n",
        "#       best_eval = evaluation['rmse']\n",
        "#       best_config = configuration\n",
        "\n",
        "#   return (best_config, best_eval)"
      ]
    },
    {
      "cell_type": "code",
      "execution_count": null,
      "metadata": {
        "colab": {
          "base_uri": "https://localhost:8080/"
        },
        "id": "5_hH8Q3E9Vs5",
        "outputId": "c0ef0618-29de-44b4-c51a-681fe1e62f80"
      },
      "outputs": [
        {
          "output_type": "execute_result",
          "data": {
            "text/plain": [
              "100"
            ]
          },
          "metadata": {},
          "execution_count": 17
        }
      ],
      "source": [
        "test = {'rmse': 100}\n",
        "\n",
        "test['rmse']"
      ]
    },
    {
      "cell_type": "code",
      "execution_count": null,
      "metadata": {
        "colab": {
          "base_uri": "https://localhost:8080/"
        },
        "id": "XVimvMNOaGKj",
        "outputId": "2bf74629-b02d-445f-f14b-6da8b6080a54"
      },
      "outputs": [
        {
          "output_type": "execute_result",
          "data": {
            "text/plain": [
              "[PhysicalDevice(name='/physical_device:GPU:0', device_type='GPU')]"
            ]
          },
          "metadata": {},
          "execution_count": 18
        }
      ],
      "source": [
        "tf.config.list_physical_devices('GPU')"
      ]
    },
    {
      "cell_type": "code",
      "execution_count": null,
      "metadata": {
        "id": "Vvxf-TvNlTt2"
      },
      "outputs": [],
      "source": [
        "# tf.compat.v1.reset_default_graph()\n",
        "\n",
        "# param_grid = {\n",
        "#     'n_epochs': [10],\n",
        "#     'reg': [0.2],\n",
        "#     'lr': [0.004],\n",
        "#     'embed_size': [10, 100]\n",
        "# }\n",
        "\n",
        "# defaults = {'task': 'ranking',\n",
        "#             'data_info':data_info, \n",
        "#             'loss_type': \"cross_entropy\", \n",
        "#             'lr':1e-04, \n",
        "#             'batch_size':2048}\n",
        "\n",
        "# gridsearch(SVD, param_grid, task=\"rating\",\n",
        "#     data_info=data_info,\n",
        "#     loss_type=\"cross_entropy\",\n",
        "#     lr=1e-3,\n",
        "#     batch_size=2048)"
      ]
    },
    {
      "cell_type": "code",
      "execution_count": null,
      "metadata": {
        "colab": {
          "base_uri": "https://localhost:8080/"
        },
        "id": "rP1nSZ1XKe7d",
        "outputId": "d14fdef2-d0f7-41ee-9921-4633868b1872"
      },
      "outputs": [
        {
          "output_type": "stream",
          "name": "stdout",
          "text": [
            "1e-05\n"
          ]
        }
      ],
      "source": [
        "print(1e-5)"
      ]
    },
    {
      "cell_type": "code",
      "execution_count": null,
      "metadata": {
        "id": "sRW3L0CVn-K_"
      },
      "outputs": [],
      "source": [
        "# for reg in [None, 0.000002, 0.00002, 0.0002, 0.002, 0.02]:\n",
        "#   tf.compat.v1.reset_default_graph()\n",
        "#   model = SVD(\n",
        "#     task=\"rating\",\n",
        "#     data_info=data_info,\n",
        "#     n_epochs=1,\n",
        "#     loss_type=\"cross_entropy\",\n",
        "#     lr=0.03,\n",
        "#     reg=reg,\n",
        "#     batch_size=2048,\n",
        "# )\n",
        "#   model.fit(\n",
        "#       train_data,\n",
        "#       verbose=2,\n",
        "#       shuffle=True,\n",
        "#       eval_data=eval_data,\n",
        "#       metrics=['rmse'],\n",
        "#   )"
      ]
    },
    {
      "cell_type": "code",
      "execution_count": null,
      "metadata": {
        "id": "CE3T-cak5cNW"
      },
      "outputs": [],
      "source": [
        "# tf.compat.v1.reset_default_graph()\n",
        "\n",
        "# model = SVD(\n",
        "#     task=\"rating\",\n",
        "#     data_info=data_info,\n",
        "#     embed_size = 100,\n",
        "#     n_epochs=20,\n",
        "#     loss_type=\"cross_entropy\",\n",
        "#     lr = 0.001,\n",
        "#     reg = 0.02,\n",
        "#     batch_size=2048,\n",
        "# )\n",
        "\n",
        "# model.fit(\n",
        "#     train_data,\n",
        "#     verbose=0,\n",
        "#     shuffle=True,\n",
        "#     eval_data=eval_data,\n",
        "#     metrics=[\"msre\"],\n",
        "# )\n",
        "\n",
        "# model.get_item_embedding(1)"
      ]
    },
    {
      "cell_type": "code",
      "execution_count": null,
      "metadata": {
        "id": "RGLH-0T7-Kv0"
      },
      "outputs": [],
      "source": [
        "from libreco.evaluation import evaluate\n",
        "# evaluate(model=model, data=test_data, metrics=['rmse'])"
      ]
    },
    {
      "cell_type": "code",
      "execution_count": null,
      "metadata": {
        "id": "L870zGiaB1Jj"
      },
      "outputs": [],
      "source": [
        "from libreco.algorithms import (\n",
        "    ALS,\n",
        "    SVD,\n",
        "    ItemCF,\n",
        "    SVDpp,\n",
        "    UserCF,\n",
        ")"
      ]
    },
    {
      "cell_type": "code",
      "execution_count": null,
      "metadata": {
        "id": "UupL7--yxJyN"
      },
      "outputs": [],
      "source": [
        "def create_regs(regs):\n",
        "  regulators = [tf.keras.regularizers.l2(reg) for reg in regs]\n",
        "  regulators.append(None)\n",
        "  return regulators"
      ]
    },
    {
      "cell_type": "code",
      "execution_count": null,
      "metadata": {
        "colab": {
          "base_uri": "https://localhost:8080/"
        },
        "id": "HqYJ3s5kYNyD",
        "outputId": "38b049af-03b8-42e0-b2f6-9aaaac141291"
      },
      "outputs": [
        {
          "output_type": "stream",
          "name": "stdout",
          "text": [
            "Looking in indexes: https://pypi.org/simple, https://us-python.pkg.dev/colab-wheels/public/simple/\n",
            "Collecting hpbandster\n",
            "  Downloading hpbandster-0.7.4.tar.gz (51 kB)\n",
            "\u001b[2K     \u001b[90m━━━━━━━━━━━━━━━━━━━━━━━━━━━━━━━━━━━━━━━━\u001b[0m \u001b[32m51.3/51.3 KB\u001b[0m \u001b[31m5.3 MB/s\u001b[0m eta \u001b[36m0:00:00\u001b[0m\n",
            "\u001b[?25h  Preparing metadata (setup.py) ... \u001b[?25l\u001b[?25hdone\n",
            "Collecting ConfigSpace\n",
            "  Downloading ConfigSpace-0.6.1-cp39-cp39-manylinux_2_17_x86_64.manylinux2014_x86_64.whl (5.7 MB)\n",
            "\u001b[2K     \u001b[90m━━━━━━━━━━━━━━━━━━━━━━━━━━━━━━━━━━━━━━━━\u001b[0m \u001b[32m5.7/5.7 MB\u001b[0m \u001b[31m30.1 MB/s\u001b[0m eta \u001b[36m0:00:00\u001b[0m\n",
            "\u001b[?25hCollecting Pyro4\n",
            "  Downloading Pyro4-4.82-py2.py3-none-any.whl (89 kB)\n",
            "\u001b[2K     \u001b[90m━━━━━━━━━━━━━━━━━━━━━━━━━━━━━━━━━━━━━━━━\u001b[0m \u001b[32m90.0/90.0 KB\u001b[0m \u001b[31m12.6 MB/s\u001b[0m eta \u001b[36m0:00:00\u001b[0m\n",
            "\u001b[?25hCollecting serpent\n",
            "  Downloading serpent-1.41-py3-none-any.whl (9.6 kB)\n",
            "Requirement already satisfied: numpy in /usr/local/lib/python3.9/dist-packages (from hpbandster) (1.22.4)\n",
            "Requirement already satisfied: statsmodels in /usr/local/lib/python3.9/dist-packages (from hpbandster) (0.13.5)\n",
            "Requirement already satisfied: scipy in /usr/local/lib/python3.9/dist-packages (from hpbandster) (1.10.1)\n",
            "Collecting netifaces\n",
            "  Downloading netifaces-0.11.0-cp39-cp39-manylinux_2_5_x86_64.manylinux1_x86_64.whl (32 kB)\n",
            "Requirement already satisfied: pyparsing in /usr/local/lib/python3.9/dist-packages (from ConfigSpace) (3.0.9)\n",
            "Requirement already satisfied: typing-extensions in /usr/local/lib/python3.9/dist-packages (from ConfigSpace) (4.5.0)\n",
            "Requirement already satisfied: more-itertools in /usr/local/lib/python3.9/dist-packages (from ConfigSpace) (9.1.0)\n",
            "Requirement already satisfied: packaging>=21.3 in /usr/local/lib/python3.9/dist-packages (from statsmodels->hpbandster) (23.0)\n",
            "Requirement already satisfied: pandas>=0.25 in /usr/local/lib/python3.9/dist-packages (from statsmodels->hpbandster) (1.4.4)\n",
            "Requirement already satisfied: patsy>=0.5.2 in /usr/local/lib/python3.9/dist-packages (from statsmodels->hpbandster) (0.5.3)\n",
            "Requirement already satisfied: pytz>=2020.1 in /usr/local/lib/python3.9/dist-packages (from pandas>=0.25->statsmodels->hpbandster) (2022.7.1)\n",
            "Requirement already satisfied: python-dateutil>=2.8.1 in /usr/local/lib/python3.9/dist-packages (from pandas>=0.25->statsmodels->hpbandster) (2.8.2)\n",
            "Requirement already satisfied: six in /usr/local/lib/python3.9/dist-packages (from patsy>=0.5.2->statsmodels->hpbandster) (1.16.0)\n",
            "Building wheels for collected packages: hpbandster\n",
            "  Building wheel for hpbandster (setup.py) ... \u001b[?25l\u001b[?25hdone\n",
            "  Created wheel for hpbandster: filename=hpbandster-0.7.4-py3-none-any.whl size=80008 sha256=e735b91ea6cf7d0611ac899fcaac77e29eb71c5a80cac6e488fd40b61a7ddddf\n",
            "  Stored in directory: /root/.cache/pip/wheels/00/1a/64/46fd18498e6be998858d9f0586e5ba66318d30139fd8c8962b\n",
            "Successfully built hpbandster\n",
            "Installing collected packages: netifaces, serpent, Pyro4, ConfigSpace, hpbandster\n",
            "Successfully installed ConfigSpace-0.6.1 Pyro4-4.82 hpbandster-0.7.4 netifaces-0.11.0 serpent-1.41\n",
            "Looking in indexes: https://pypi.org/simple, https://us-python.pkg.dev/colab-wheels/public/simple/\n",
            "Requirement already satisfied: statsmodels in /usr/local/lib/python3.9/dist-packages (0.13.5)\n",
            "Requirement already satisfied: packaging>=21.3 in /usr/local/lib/python3.9/dist-packages (from statsmodels) (23.0)\n",
            "Requirement already satisfied: patsy>=0.5.2 in /usr/local/lib/python3.9/dist-packages (from statsmodels) (0.5.3)\n",
            "Requirement already satisfied: pandas>=0.25 in /usr/local/lib/python3.9/dist-packages (from statsmodels) (1.4.4)\n",
            "Requirement already satisfied: numpy>=1.17 in /usr/local/lib/python3.9/dist-packages (from statsmodels) (1.22.4)\n",
            "Requirement already satisfied: scipy>=1.3 in /usr/local/lib/python3.9/dist-packages (from statsmodels) (1.10.1)\n",
            "Requirement already satisfied: python-dateutil>=2.8.1 in /usr/local/lib/python3.9/dist-packages (from pandas>=0.25->statsmodels) (2.8.2)\n",
            "Requirement already satisfied: pytz>=2020.1 in /usr/local/lib/python3.9/dist-packages (from pandas>=0.25->statsmodels) (2022.7.1)\n",
            "Requirement already satisfied: six in /usr/local/lib/python3.9/dist-packages (from patsy>=0.5.2->statsmodels) (1.16.0)\n"
          ]
        }
      ],
      "source": [
        "!pip install hpbandster ConfigSpace\n",
        "!pip install statsmodels --upgrade"
      ]
    },
    {
      "cell_type": "code",
      "execution_count": null,
      "metadata": {
        "id": "rrNvp1ZqrmwX"
      },
      "outputs": [],
      "source": [
        "from ray import tune, air\n",
        "from ray.tune.search.hyperopt import HyperOptSearch\n",
        "from ray.tune.schedulers.hb_bohb import HyperBandForBOHB\n",
        "from ray.tune.search.bohb import TuneBOHB\n",
        "from ray.air import session\n",
        "import ConfigSpace as CS"
      ]
    },
    {
      "cell_type": "code",
      "execution_count": null,
      "metadata": {
        "colab": {
          "base_uri": "https://localhost:8080/"
        },
        "id": "sIyjnHKV6Xva",
        "outputId": "10d5eddd-feb0-4667-c583-778afbde5620"
      },
      "outputs": [
        {
          "output_type": "execute_result",
          "data": {
            "text/plain": [
              "[PhysicalDevice(name='/physical_device:GPU:0', device_type='GPU')]"
            ]
          },
          "metadata": {},
          "execution_count": 28
        }
      ],
      "source": [
        "tf.config.list_physical_devices('GPU')"
      ]
    },
    {
      "cell_type": "code",
      "execution_count": null,
      "metadata": {
        "id": "0RJZ24a9sQtt"
      },
      "outputs": [],
      "source": [
        "# def objective(config):\n",
        "#   tf.compat.v1.reset_default_graph()\n",
        "#   svd = SVD(\n",
        "#       \"rating\",\n",
        "#       data_info,\n",
        "#       loss_type=\"cross_entropy\",\n",
        "#       embed_size=config['embed_size'],\n",
        "#       n_epochs=config['n_epochs'],\n",
        "#       lr=config['lr'],\n",
        "#       reg=config['reg'],\n",
        "#       batch_size=256,\n",
        "#   )\n",
        "#   svd.fit(\n",
        "#     train_data,\n",
        "#     verbose=2,\n",
        "#     shuffle=True,\n",
        "#   )\n",
        "#   accuracy = evaluate(model=svd, data=eval_data, metrics=['rmse'])\n",
        "#   acc = accuracy['rmse']\n",
        "#   return {\"rmse\": acc}\n",
        "\n",
        "# search_space = {'n_epochs': tune.choice([10, 25, 50, 75, 100]),\n",
        "#     'lr': tune.choice([1e-3, 2e-3, 3e-3, 4e-3]),\n",
        "#     'reg': tune.choice([1e-4, 2e-4, 3e-4]),\n",
        "#     'embed_size': tune.choice([10, 20, 50, 75, 100])}\n",
        "\n",
        "# Bhob = TuneBOHB()\n",
        "# Bhob = tune.search.ConcurrencyLimiter(Bhob, max_concurrent=4)\n",
        "# scheduler = HyperBandForBOHB(\n",
        "#     time_attr=\"training_iteration\",\n",
        "#     max_t=100,\n",
        "#     reduction_factor=4,\n",
        "#     stop_last_trials=False,\n",
        "# )\n",
        "\n",
        "# svd_tuner = tune.Tuner(\n",
        "#     tune.with_resources(\n",
        "#         objective, resources={\"cpu\": 2, \"gpu\": 0.5}\n",
        "#     ),\n",
        "#     # objective,\n",
        "#     tune_config=tune.TuneConfig(\n",
        "#         metric=\"rmse\",\n",
        "#         mode=\"min\",\n",
        "#         search_alg=Bhob,\n",
        "#         num_samples=40,\n",
        "#         scheduler=scheduler,\n",
        "#     ),\n",
        "#         run_config=air.RunConfig(\n",
        "#         name=\"bohb_exp\",\n",
        "#         stop={\"training_iteration\": 100},\n",
        "#     ),\n",
        "#     param_space=search_space,\n",
        "# )\n",
        "# results = svd_tuner.fit()"
      ]
    },
    {
      "cell_type": "code",
      "execution_count": null,
      "metadata": {
        "id": "2KfWJ8vvBVpk"
      },
      "outputs": [],
      "source": [
        "# svd_tuner.get_results().get_best_result()"
      ]
    },
    {
      "cell_type": "code",
      "execution_count": null,
      "metadata": {
        "id": "eg0K1kxX9i9t"
      },
      "outputs": [],
      "source": [
        "# def objective(config):\n",
        "#   tf.compat.v1.reset_default_graph()\n",
        "#   svdpp = SVDpp(\n",
        "#       \"rating\",\n",
        "#       data_info,\n",
        "#       loss_type=\"cross_entropy\",\n",
        "#       embed_size=config['embed_size'],\n",
        "#       n_epochs=config['n_epochs'],\n",
        "#       lr=config['lr'],\n",
        "#       reg=config['reg'],\n",
        "#       batch_size=256,\n",
        "#   )\n",
        "#   svdpp.fit(\n",
        "#     train_data,\n",
        "#     verbose=2,\n",
        "#     shuffle=True,\n",
        "#   )\n",
        "#   accuracy = evaluate(model=svdpp, data=eval_data, metrics=['rmse'])\n",
        "#   acc = accuracy['rmse']\n",
        "#   return {\"rmse\": acc}\n",
        "\n",
        "# search_space = {'n_epochs': tune.choice([10, 25, 50, 75, 100]),\n",
        "#     'lr': tune.choice([1e-3, 2e-3, 3e-3, 4e-3]),\n",
        "#     'reg': tune.choice([1e-4, 2e-4, 3e-4]),\n",
        "#     'embed_size': tune.choice([10, 20, 50, 75, 100])}\n",
        "\n",
        "# Bhob = TuneBOHB()\n",
        "# Bhob = tune.search.ConcurrencyLimiter(Bhob, max_concurrent=4)\n",
        "# scheduler = HyperBandForBOHB(\n",
        "#     time_attr=\"training_iteration\",\n",
        "#     max_t=100,\n",
        "#     reduction_factor=4,\n",
        "#     stop_last_trials=False,\n",
        "# )\n",
        "\n",
        "# svdpp_tuner = tune.Tuner(\n",
        "#     tune.with_resources(\n",
        "#         objective, resources={\"cpu\": 2, \"gpu\": 0.5}\n",
        "#     ),\n",
        "#     # objective,\n",
        "#     tune_config=tune.TuneConfig(\n",
        "#         metric=\"rmse\",\n",
        "#         mode=\"min\",\n",
        "#         search_alg=Bhob,\n",
        "#         num_samples=40,\n",
        "#         scheduler=scheduler,\n",
        "#     ),\n",
        "#         run_config=air.RunConfig(\n",
        "#         name=\"bohb_exp\",\n",
        "#         stop={\"training_iteration\": 100},\n",
        "#     ),\n",
        "#     param_space=search_space,\n",
        "# )\n",
        "# results = svdpp_tuner.fit()"
      ]
    },
    {
      "cell_type": "code",
      "execution_count": null,
      "metadata": {
        "id": "GJK2AlWU9yTG"
      },
      "outputs": [],
      "source": [
        "# svdpp_tuner.get_results().get_best_result()"
      ]
    },
    {
      "cell_type": "code",
      "execution_count": null,
      "metadata": {
        "id": "RzRgMUdb9zgI"
      },
      "outputs": [],
      "source": [
        "# def objective(config):\n",
        "#   tf.compat.v1.reset_default_graph()\n",
        "#   als = ALS(\n",
        "#       \"rating\",\n",
        "#       data_info,\n",
        "#       embed_size=config['embed_size'],\n",
        "#       n_epochs=config['n_epochs'],\n",
        "#       reg=config['reg'],\n",
        "#   )\n",
        "#   als.fit(\n",
        "#     train_data,\n",
        "#     verbose=2,\n",
        "#     shuffle=True,\n",
        "#   )\n",
        "#   accuracy = evaluate(model=als, data=eval_data, metrics=['rmse'])\n",
        "#   acc = accuracy['rmse']\n",
        "#   return {\"rmse\": acc}\n",
        "\n",
        "# search_space = {'n_epochs': tune.choice([10, 25, 50, 75, 100, 150, 200]),\n",
        "#     'reg': tune.quniform(0.0, 20.0, 1.0),\n",
        "#     'embed_size': tune.choice([10, 20, 50, 75, 100, 150, 200])}\n",
        "\n",
        "# Bhob = TuneBOHB()\n",
        "# Bhob = tune.search.ConcurrencyLimiter(Bhob, max_concurrent=4)\n",
        "# scheduler = HyperBandForBOHB(\n",
        "#     time_attr=\"training_iteration\",\n",
        "#     max_t=100,\n",
        "#     reduction_factor=4,\n",
        "#     stop_last_trials=False,\n",
        "# )\n",
        "\n",
        "# als_tuner = tune.Tuner(\n",
        "#     tune.with_resources(\n",
        "#         objective, resources={\"cpu\": 2, \"gpu\": 0.5}\n",
        "#     ),\n",
        "#     # objective,\n",
        "#     tune_config=tune.TuneConfig(\n",
        "#         metric=\"rmse\",\n",
        "#         mode=\"min\",\n",
        "#         search_alg=Bhob,\n",
        "#         num_samples=40,\n",
        "#         scheduler=scheduler,\n",
        "#     ),\n",
        "#         run_config=air.RunConfig(\n",
        "#         name=\"bohb_exp\",\n",
        "#         stop={\"training_iteration\": 100},\n",
        "#     ),\n",
        "#     param_space=search_space,\n",
        "# )\n",
        "# results = als_tuner.fit()"
      ]
    },
    {
      "cell_type": "code",
      "execution_count": null,
      "metadata": {
        "id": "7FAadE9gAcq4"
      },
      "outputs": [],
      "source": [
        "# als_tuner.get_results().get_best_result()"
      ]
    },
    {
      "cell_type": "code",
      "execution_count": null,
      "metadata": {
        "id": "j-5p1qvHzeqB"
      },
      "outputs": [],
      "source": [
        "# tf.compat.v1.reset_default_graph()\n",
        "# als = ALS(\n",
        "#     \"rating\",\n",
        "#     data_info,\n",
        "#     embed_size=10,\n",
        "#     n_epochs=100,\n",
        "#     reg=5.0,\n",
        "# )\n",
        "# als.fit(\n",
        "#   train_data,\n",
        "#   verbose=2,\n",
        "#   shuffle=True,\n",
        "# )\n",
        "# accuracy = evaluate(model=als, data=eval_data, metrics=['rmse'])\n",
        "\n",
        "# print(accuracy)"
      ]
    },
    {
      "cell_type": "code",
      "execution_count": null,
      "metadata": {
        "id": "S6ZkHLD2JrE4"
      },
      "outputs": [],
      "source": [
        "# tf.compat.v1.reset_default_graph()\n",
        "# user_cf = UserCF(\n",
        "#     \"rating\",\n",
        "#     data_info,\n",
        "#     sim_type='cosine',\n",
        "#     k_sim=25,\n",
        "# )\n",
        "# user_cf.fit(\n",
        "#   train_data,\n",
        "#   verbose=0,\n",
        "# )\n",
        "# accuracy = evaluate(model=user_cf, data=eval_data, metrics=['rmse'])\n",
        "# acc = accuracy['rmse']"
      ]
    },
    {
      "cell_type": "code",
      "execution_count": null,
      "metadata": {
        "id": "QtlrrKRSJ04u"
      },
      "outputs": [],
      "source": [
        "# print(acc)"
      ]
    },
    {
      "cell_type": "code",
      "execution_count": null,
      "metadata": {
        "id": "r0zhPAIkBWPa"
      },
      "outputs": [],
      "source": [
        "# def objective(config):\n",
        "#   tf.compat.v1.reset_default_graph()\n",
        "#   item_cf = ItemCF(\n",
        "#       \"rating\",\n",
        "#       data_info,\n",
        "#       sim_type=config['sim_type'],\n",
        "#       k_sim=config['k_sim'],\n",
        "#   )\n",
        "#   item_cf.fit(\n",
        "#     train_data,\n",
        "#     verbose=0,\n",
        "#   )\n",
        "#   accuracy = evaluate(model=item_cf, data=eval_data, metrics=['rmse'])\n",
        "#   acc = accuracy['rmse']\n",
        "#   return {\"rmse\": acc}\n",
        "\n",
        "# search_space = {'sim_type': tune.choice(['pearson', 'cosine']),\n",
        "#                 'k_sim': tune.choice([10, 25, 50, 75, 100])}\n",
        "\n",
        "# Bhob = TuneBOHB()\n",
        "# Bhob = tune.search.ConcurrencyLimiter(Bhob, max_concurrent=4)\n",
        "# scheduler = HyperBandForBOHB(\n",
        "#     time_attr=\"training_iteration\",\n",
        "#     max_t=100,\n",
        "#     reduction_factor=4,\n",
        "#     stop_last_trials=False,\n",
        "# )\n",
        "\n",
        "# item_cf_tuner = tune.Tuner(\n",
        "#     tune.with_resources(\n",
        "#         objective, resources={\"cpu\": 2, \"gpu\": 0.5}\n",
        "#     ),\n",
        "#     # objective,\n",
        "#     tune_config=tune.TuneConfig(\n",
        "#         metric=\"rmse\",\n",
        "#         mode=\"min\",\n",
        "#         search_alg=Bhob,\n",
        "#         num_samples=20,\n",
        "#         scheduler=scheduler,\n",
        "#     ),\n",
        "#         run_config=air.RunConfig(\n",
        "#         name=\"bohb_exp\",\n",
        "#         stop={\"training_iteration\": 100},\n",
        "#     ),\n",
        "#     param_space=search_space,\n",
        "# )\n",
        "# item_cf_results = item_cf_tuner.fit()"
      ]
    },
    {
      "cell_type": "code",
      "execution_count": null,
      "metadata": {
        "id": "Am47kKuGDdAF"
      },
      "outputs": [],
      "source": [
        "# print(\"Best hyperparameters found were: \", item_cf_results.get_best_result().config)\n",
        "# item_cf_tuner.get_results().get_best_result()"
      ]
    },
    {
      "cell_type": "code",
      "execution_count": null,
      "metadata": {
        "id": "yOCWnBDvGplc"
      },
      "outputs": [],
      "source": [
        "# def objective(config):\n",
        "#   tf.compat.v1.reset_default_graph()\n",
        "#   user_cf = UserCF(\n",
        "#       \"rating\",\n",
        "#       data_info,\n",
        "#       sim_type=config['sim_type'],\n",
        "#       k_sim=config['k_sim'],\n",
        "#   )\n",
        "#   user_cf.fit(\n",
        "#     train_data,\n",
        "#     verbose=0,\n",
        "#   )\n",
        "#   accuracy = evaluate(model=user_cf, data=eval_data, metrics=['rmse'])\n",
        "#   acc = accuracy['rmse']\n",
        "#   return {\"rmse\": acc}\n",
        "\n",
        "# search_space = {'sim_type': tune.choice(['pearson', 'cosine']),\n",
        "#                 'k_sim': tune.choice([10, 25, 50, 75, 100])}\n",
        "\n",
        "# Bhob = TuneBOHB()\n",
        "# Bhob = tune.search.ConcurrencyLimiter(Bhob, max_concurrent=4)\n",
        "# scheduler = HyperBandForBOHB(\n",
        "#     time_attr=\"training_iteration\",\n",
        "#     max_t=100,\n",
        "#     reduction_factor=4,\n",
        "#     stop_last_trials=False,\n",
        "# )\n",
        "\n",
        "# user_cf_tuner = tune.Tuner(\n",
        "#     tune.with_resources(\n",
        "#         objective, resources={\"cpu\": 2, \"gpu\": 0.5}\n",
        "#     ),\n",
        "#     # objective,\n",
        "#     tune_config=tune.TuneConfig(\n",
        "#         metric=\"rmse\",\n",
        "#         mode=\"min\",\n",
        "#         search_alg=Bhob,\n",
        "#         num_samples=20,\n",
        "#         scheduler=scheduler,\n",
        "#     ),\n",
        "#         run_config=air.RunConfig(\n",
        "#         name=\"bohb_exp\",\n",
        "#         stop={\"training_iteration\": 100},\n",
        "#     ),\n",
        "#     param_space=search_space,\n",
        "# )\n",
        "# user_cf_results = user_cf_tuner.fit()"
      ]
    },
    {
      "cell_type": "code",
      "execution_count": null,
      "metadata": {
        "id": "Z_eI8l0pHN23"
      },
      "outputs": [],
      "source": [
        "# print(\"Best hyperparameters found were: \", user_cf_results.get_best_result().config)\n",
        "# user_cf_tuner.get_results().get_best_result()"
      ]
    },
    {
      "cell_type": "code",
      "execution_count": null,
      "metadata": {
        "id": "FDELRASduxpU"
      },
      "outputs": [],
      "source": []
    },
    {
      "cell_type": "code",
      "execution_count": null,
      "metadata": {
        "id": "9iQizubW09tK"
      },
      "outputs": [],
      "source": [
        "# tf.compat.v1.reset_default_graph()\n",
        "\n",
        "# model_1 = ALS(\n",
        "#     task=\"rating\",\n",
        "#     data_info=data_info,\n",
        "#     embed_size = 10,\n",
        "#     n_epochs=200,\n",
        "#     reg = 7.0,\n",
        "#     lower_upper_bound = (0,5)\n",
        "# )\n",
        "\n",
        "# model_1.fit(\n",
        "#     train_data,\n",
        "#     verbose=0,\n",
        "#     shuffle=False,\n",
        "#     eval_data=eval_data,\n",
        "#     metrics=[\"msre\"],\n",
        "# )\n",
        "\n",
        "# accuracy_m1 = evaluate(model=model_1, data=test_data, metrics=['rmse'])"
      ]
    },
    {
      "cell_type": "code",
      "execution_count": null,
      "metadata": {
        "id": "xW_ljf-F1taR"
      },
      "outputs": [],
      "source": [
        "# tf.compat.v1.reset_default_graph()\n",
        "\n",
        "# model_2 = ALS(\n",
        "#     task=\"rating\",\n",
        "#     data_info=data_info,\n",
        "#     embed_size = 10,\n",
        "#     n_epochs=200,\n",
        "#     reg = 7.0,\n",
        "# )\n",
        "\n",
        "# model_2.fit(\n",
        "#     train_data,\n",
        "#     verbose=0,\n",
        "#     shuffle=False,\n",
        "#     eval_data=eval_data,\n",
        "#     metrics=[\"msre\"],\n",
        "# )\n",
        "# accuracy_m2 = evaluate(model=model_2, data=test_data, metrics=['rmse'])"
      ]
    },
    {
      "cell_type": "code",
      "execution_count": null,
      "metadata": {
        "id": "_T5KS5NQ11Cl"
      },
      "outputs": [],
      "source": [
        "# print(accuracy_m1, accuracy_m2)"
      ]
    },
    {
      "cell_type": "code",
      "execution_count": null,
      "metadata": {
        "id": "RM9Y1Gdx4ijK"
      },
      "outputs": [],
      "source": []
    },
    {
      "cell_type": "code",
      "execution_count": null,
      "metadata": {
        "id": "L9yGxKQj0X7b"
      },
      "outputs": [],
      "source": [
        "# !zip -r root.zip /root/ "
      ]
    },
    {
      "cell_type": "code",
      "execution_count": null,
      "metadata": {
        "id": "CKYaim1DJrAb"
      },
      "outputs": [],
      "source": [
        "# def objective(config):\n",
        "#   tf.compat.v1.reset_default_graph()\n",
        "#   svdpp = SVDpp(\n",
        "#       \"rating\",\n",
        "#       data_info,\n",
        "#       loss_type=\"cross_entropy\",\n",
        "#       embed_size=config['embed_size'],\n",
        "#       n_epochs=config['n_epochs'],\n",
        "#       lr=config['lr'],\n",
        "#       reg=config['reg'],\n",
        "#       batch_size=256,\n",
        "#   )\n",
        "#   svdpp.fit(\n",
        "#     train_data,\n",
        "#     verbose=2,\n",
        "#     shuffle=True,\n",
        "#   )\n",
        "#   accuracy = evaluate(model=svdpp, data=eval_data, metrics=['rmse'])\n",
        "#   acc = accuracy['rmse']\n",
        "#   return {\"rmse\": acc}\n",
        "\n",
        "# search_space = {'n_epochs': tune.choice([10, 25, 50, 75, 100]),\n",
        "#     'lr': tune.choice([1e-3, 2e-3, 3e-3, 4e-3]),\n",
        "#     'reg': tune.choice([None, 1e-4, 2e-4, 3e-4]),\n",
        "#     'embed_size': tune.choice([10, 20, 50, 75, 100])}\n",
        "\n",
        "# algo = HyperOptSearch()\n",
        "\n",
        "# svdpp_tuner = tune.Tuner(\n",
        "#     objective,\n",
        "#     tune_config=tune.TuneConfig(\n",
        "#         metric=\"rmse\",\n",
        "#         mode=\"min\",\n",
        "#         search_alg=algo,\n",
        "#         num_samples=20,\n",
        "#     ),\n",
        "#     param_space=search_space,\n",
        "# )\n",
        "# results = svdpp_tuner.fit()\n",
        "\n",
        "# svdpp_tuner.get_results().get_best_result()"
      ]
    },
    {
      "cell_type": "code",
      "execution_count": null,
      "metadata": {
        "id": "BT6ne0c1mmQw"
      },
      "outputs": [],
      "source": [
        "# tf.compat.v1.reset_default_graph()\n",
        "\n",
        "# param_grid = {\n",
        "#     'n_epochs': [10, 25, 50, 75, 100],\n",
        "#     'lr': [1e-3, 2e-3, 3e-3, 4e-3],\n",
        "#     'regs': [0.03, 0.04, 0.05],\n",
        "#     'embed_size': [10, 20, 50, 75, 100]\n",
        "# }\n",
        "\n",
        "# param_grid2 = {\n",
        "#     'n_epochs': [10, 25, 50],\n",
        "#     'lr': [1e-3, 2e-3, 3e-3, 4e-3],\n",
        "#     'regs': [0.03, 0.04, 0.05],\n",
        "#     'embed_size': [10, 20, 50, 75, 100]\n",
        "# }\n",
        "\n",
        "# defaults = {'task': 'rating',\n",
        "#             'data_info':data_info, \n",
        "#             'loss_type': \"cross_entropy\", \n",
        "#             'lr':1e-04, \n",
        "#             'batch_size':2048}\n",
        "\n",
        "# performance = []\n",
        "\n",
        "\n",
        "# config, eval = gridsearch(SVD, param_grid, task=\"rating\",\n",
        "#       data_info=data_info)\n",
        "# print(f'Finished {model}')\n",
        "# result = ('SVD', config, eval)\n",
        "# performance.append(result)\n",
        "# print('Fully finished!')"
      ]
    },
    {
      "cell_type": "code",
      "execution_count": null,
      "metadata": {
        "id": "8dOCsj8BG2N_"
      },
      "outputs": [],
      "source": [
        "# print(performance)"
      ]
    },
    {
      "cell_type": "code",
      "execution_count": null,
      "metadata": {
        "colab": {
          "base_uri": "https://localhost:8080/",
          "height": 404
        },
        "id": "alCjy6a-Csf3",
        "outputId": "db913598-fa8b-447e-9edf-1c8547478d1d"
      },
      "outputs": [
        {
          "output_type": "execute_result",
          "data": {
            "text/plain": [
              "   user  item  label       time  age gender     occupation zip code  \\\n",
              "0     1    55      5  875072688   24      M     technician    85711   \n",
              "1     8    55      5  879362286   36      M  administrator    05201   \n",
              "2    16    55      5  877717956   21      M  entertainment    10309   \n",
              "3    23    55      4  874785624   30      F         artist    48197   \n",
              "4    24    55      5  875323308   21      F         artist    94533   \n",
              "\n",
              "                 movieTitle  releaseDate  ...  Fantasy Film-Noir  Horror  \\\n",
              "0  Professional, The (1994)  01-Jan-1994  ...        0         0       0   \n",
              "1  Professional, The (1994)  01-Jan-1994  ...        0         0       0   \n",
              "2  Professional, The (1994)  01-Jan-1994  ...        0         0       0   \n",
              "3  Professional, The (1994)  01-Jan-1994  ...        0         0       0   \n",
              "4  Professional, The (1994)  01-Jan-1994  ...        0         0       0   \n",
              "\n",
              "   Musical  Mystery  Romance  Sci-Fi  Thriller  War  Western  \n",
              "0        0        0        1       0         1    0        0  \n",
              "1        0        0        1       0         1    0        0  \n",
              "2        0        0        1       0         1    0        0  \n",
              "3        0        0        1       0         1    0        0  \n",
              "4        0        0        1       0         1    0        0  \n",
              "\n",
              "[5 rows x 31 columns]"
            ],
            "text/html": [
              "\n",
              "  <div id=\"df-63ce30a7-2def-421f-8111-1013cdf0ae40\">\n",
              "    <div class=\"colab-df-container\">\n",
              "      <div>\n",
              "<style scoped>\n",
              "    .dataframe tbody tr th:only-of-type {\n",
              "        vertical-align: middle;\n",
              "    }\n",
              "\n",
              "    .dataframe tbody tr th {\n",
              "        vertical-align: top;\n",
              "    }\n",
              "\n",
              "    .dataframe thead th {\n",
              "        text-align: right;\n",
              "    }\n",
              "</style>\n",
              "<table border=\"1\" class=\"dataframe\">\n",
              "  <thead>\n",
              "    <tr style=\"text-align: right;\">\n",
              "      <th></th>\n",
              "      <th>user</th>\n",
              "      <th>item</th>\n",
              "      <th>label</th>\n",
              "      <th>time</th>\n",
              "      <th>age</th>\n",
              "      <th>gender</th>\n",
              "      <th>occupation</th>\n",
              "      <th>zip code</th>\n",
              "      <th>movieTitle</th>\n",
              "      <th>releaseDate</th>\n",
              "      <th>...</th>\n",
              "      <th>Fantasy</th>\n",
              "      <th>Film-Noir</th>\n",
              "      <th>Horror</th>\n",
              "      <th>Musical</th>\n",
              "      <th>Mystery</th>\n",
              "      <th>Romance</th>\n",
              "      <th>Sci-Fi</th>\n",
              "      <th>Thriller</th>\n",
              "      <th>War</th>\n",
              "      <th>Western</th>\n",
              "    </tr>\n",
              "  </thead>\n",
              "  <tbody>\n",
              "    <tr>\n",
              "      <th>0</th>\n",
              "      <td>1</td>\n",
              "      <td>55</td>\n",
              "      <td>5</td>\n",
              "      <td>875072688</td>\n",
              "      <td>24</td>\n",
              "      <td>M</td>\n",
              "      <td>technician</td>\n",
              "      <td>85711</td>\n",
              "      <td>Professional, The (1994)</td>\n",
              "      <td>01-Jan-1994</td>\n",
              "      <td>...</td>\n",
              "      <td>0</td>\n",
              "      <td>0</td>\n",
              "      <td>0</td>\n",
              "      <td>0</td>\n",
              "      <td>0</td>\n",
              "      <td>1</td>\n",
              "      <td>0</td>\n",
              "      <td>1</td>\n",
              "      <td>0</td>\n",
              "      <td>0</td>\n",
              "    </tr>\n",
              "    <tr>\n",
              "      <th>1</th>\n",
              "      <td>8</td>\n",
              "      <td>55</td>\n",
              "      <td>5</td>\n",
              "      <td>879362286</td>\n",
              "      <td>36</td>\n",
              "      <td>M</td>\n",
              "      <td>administrator</td>\n",
              "      <td>05201</td>\n",
              "      <td>Professional, The (1994)</td>\n",
              "      <td>01-Jan-1994</td>\n",
              "      <td>...</td>\n",
              "      <td>0</td>\n",
              "      <td>0</td>\n",
              "      <td>0</td>\n",
              "      <td>0</td>\n",
              "      <td>0</td>\n",
              "      <td>1</td>\n",
              "      <td>0</td>\n",
              "      <td>1</td>\n",
              "      <td>0</td>\n",
              "      <td>0</td>\n",
              "    </tr>\n",
              "    <tr>\n",
              "      <th>2</th>\n",
              "      <td>16</td>\n",
              "      <td>55</td>\n",
              "      <td>5</td>\n",
              "      <td>877717956</td>\n",
              "      <td>21</td>\n",
              "      <td>M</td>\n",
              "      <td>entertainment</td>\n",
              "      <td>10309</td>\n",
              "      <td>Professional, The (1994)</td>\n",
              "      <td>01-Jan-1994</td>\n",
              "      <td>...</td>\n",
              "      <td>0</td>\n",
              "      <td>0</td>\n",
              "      <td>0</td>\n",
              "      <td>0</td>\n",
              "      <td>0</td>\n",
              "      <td>1</td>\n",
              "      <td>0</td>\n",
              "      <td>1</td>\n",
              "      <td>0</td>\n",
              "      <td>0</td>\n",
              "    </tr>\n",
              "    <tr>\n",
              "      <th>3</th>\n",
              "      <td>23</td>\n",
              "      <td>55</td>\n",
              "      <td>4</td>\n",
              "      <td>874785624</td>\n",
              "      <td>30</td>\n",
              "      <td>F</td>\n",
              "      <td>artist</td>\n",
              "      <td>48197</td>\n",
              "      <td>Professional, The (1994)</td>\n",
              "      <td>01-Jan-1994</td>\n",
              "      <td>...</td>\n",
              "      <td>0</td>\n",
              "      <td>0</td>\n",
              "      <td>0</td>\n",
              "      <td>0</td>\n",
              "      <td>0</td>\n",
              "      <td>1</td>\n",
              "      <td>0</td>\n",
              "      <td>1</td>\n",
              "      <td>0</td>\n",
              "      <td>0</td>\n",
              "    </tr>\n",
              "    <tr>\n",
              "      <th>4</th>\n",
              "      <td>24</td>\n",
              "      <td>55</td>\n",
              "      <td>5</td>\n",
              "      <td>875323308</td>\n",
              "      <td>21</td>\n",
              "      <td>F</td>\n",
              "      <td>artist</td>\n",
              "      <td>94533</td>\n",
              "      <td>Professional, The (1994)</td>\n",
              "      <td>01-Jan-1994</td>\n",
              "      <td>...</td>\n",
              "      <td>0</td>\n",
              "      <td>0</td>\n",
              "      <td>0</td>\n",
              "      <td>0</td>\n",
              "      <td>0</td>\n",
              "      <td>1</td>\n",
              "      <td>0</td>\n",
              "      <td>1</td>\n",
              "      <td>0</td>\n",
              "      <td>0</td>\n",
              "    </tr>\n",
              "  </tbody>\n",
              "</table>\n",
              "<p>5 rows × 31 columns</p>\n",
              "</div>\n",
              "      <button class=\"colab-df-convert\" onclick=\"convertToInteractive('df-63ce30a7-2def-421f-8111-1013cdf0ae40')\"\n",
              "              title=\"Convert this dataframe to an interactive table.\"\n",
              "              style=\"display:none;\">\n",
              "        \n",
              "  <svg xmlns=\"http://www.w3.org/2000/svg\" height=\"24px\"viewBox=\"0 0 24 24\"\n",
              "       width=\"24px\">\n",
              "    <path d=\"M0 0h24v24H0V0z\" fill=\"none\"/>\n",
              "    <path d=\"M18.56 5.44l.94 2.06.94-2.06 2.06-.94-2.06-.94-.94-2.06-.94 2.06-2.06.94zm-11 1L8.5 8.5l.94-2.06 2.06-.94-2.06-.94L8.5 2.5l-.94 2.06-2.06.94zm10 10l.94 2.06.94-2.06 2.06-.94-2.06-.94-.94-2.06-.94 2.06-2.06.94z\"/><path d=\"M17.41 7.96l-1.37-1.37c-.4-.4-.92-.59-1.43-.59-.52 0-1.04.2-1.43.59L10.3 9.45l-7.72 7.72c-.78.78-.78 2.05 0 2.83L4 21.41c.39.39.9.59 1.41.59.51 0 1.02-.2 1.41-.59l7.78-7.78 2.81-2.81c.8-.78.8-2.07 0-2.86zM5.41 20L4 18.59l7.72-7.72 1.47 1.35L5.41 20z\"/>\n",
              "  </svg>\n",
              "      </button>\n",
              "      \n",
              "  <style>\n",
              "    .colab-df-container {\n",
              "      display:flex;\n",
              "      flex-wrap:wrap;\n",
              "      gap: 12px;\n",
              "    }\n",
              "\n",
              "    .colab-df-convert {\n",
              "      background-color: #E8F0FE;\n",
              "      border: none;\n",
              "      border-radius: 50%;\n",
              "      cursor: pointer;\n",
              "      display: none;\n",
              "      fill: #1967D2;\n",
              "      height: 32px;\n",
              "      padding: 0 0 0 0;\n",
              "      width: 32px;\n",
              "    }\n",
              "\n",
              "    .colab-df-convert:hover {\n",
              "      background-color: #E2EBFA;\n",
              "      box-shadow: 0px 1px 2px rgba(60, 64, 67, 0.3), 0px 1px 3px 1px rgba(60, 64, 67, 0.15);\n",
              "      fill: #174EA6;\n",
              "    }\n",
              "\n",
              "    [theme=dark] .colab-df-convert {\n",
              "      background-color: #3B4455;\n",
              "      fill: #D2E3FC;\n",
              "    }\n",
              "\n",
              "    [theme=dark] .colab-df-convert:hover {\n",
              "      background-color: #434B5C;\n",
              "      box-shadow: 0px 1px 3px 1px rgba(0, 0, 0, 0.15);\n",
              "      filter: drop-shadow(0px 1px 2px rgba(0, 0, 0, 0.3));\n",
              "      fill: #FFFFFF;\n",
              "    }\n",
              "  </style>\n",
              "\n",
              "      <script>\n",
              "        const buttonEl =\n",
              "          document.querySelector('#df-63ce30a7-2def-421f-8111-1013cdf0ae40 button.colab-df-convert');\n",
              "        buttonEl.style.display =\n",
              "          google.colab.kernel.accessAllowed ? 'block' : 'none';\n",
              "\n",
              "        async function convertToInteractive(key) {\n",
              "          const element = document.querySelector('#df-63ce30a7-2def-421f-8111-1013cdf0ae40');\n",
              "          const dataTable =\n",
              "            await google.colab.kernel.invokeFunction('convertToInteractive',\n",
              "                                                     [key], {});\n",
              "          if (!dataTable) return;\n",
              "\n",
              "          const docLinkHtml = 'Like what you see? Visit the ' +\n",
              "            '<a target=\"_blank\" href=https://colab.research.google.com/notebooks/data_table.ipynb>data table notebook</a>'\n",
              "            + ' to learn more about interactive tables.';\n",
              "          element.innerHTML = '';\n",
              "          dataTable['output_type'] = 'display_data';\n",
              "          await google.colab.output.renderOutput(dataTable, element);\n",
              "          const docLink = document.createElement('div');\n",
              "          docLink.innerHTML = docLinkHtml;\n",
              "          element.appendChild(docLink);\n",
              "        }\n",
              "      </script>\n",
              "    </div>\n",
              "  </div>\n",
              "  "
            ]
          },
          "metadata": {},
          "execution_count": 49
        }
      ],
      "source": [
        "df_data.head()"
      ]
    },
    {
      "cell_type": "code",
      "execution_count": null,
      "metadata": {
        "id": "GGFuoU3ZKjNw"
      },
      "outputs": [],
      "source": [
        "from libreco.data import split_by_num_chrono\n",
        "\n",
        "def create_timesets(data, increments = 1, test_num = 1, stop = None, ignore_remainder = True):\n",
        "\n",
        "  train_days = df_data.time.min()\n",
        "  day_split = 86400 # day in seconds\n",
        "  train_sets = [] # list of train_set datasets\n",
        "  test_sets = [] # list of test_sets\n",
        "  temporal_data = [] # keep track of how many days have been trained on.\n",
        "\n",
        "  if stop == None:\n",
        "    stop = df_data.time.max()\n",
        "  else:\n",
        "    stop = train_days + day_split * increments * stop\n",
        "\n",
        "  while train_days < stop:\n",
        "    train_days = train_days + day_split * increments\n",
        "\n",
        "    temp_data = data.loc[data['time'] <= train_days]\n",
        "\n",
        "    train_set, test_set = split_by_num_chrono(temp_data, test_size=test_num)\n",
        "\n",
        "    test_set = test_set.loc[test_set['user'].isin(train_set['user'])]\n",
        "    train_set = train_set.loc[train_set['user'].isin(test_set['user'])]\n",
        "\n",
        "    train_sets.append(train_set)\n",
        "    test_sets.append(test_set)\n",
        "\n",
        "    temp_time = train_days - df_data.time.min()\n",
        "    temporal_data.append(temp_time)\n",
        "\n",
        "  return train_sets, test_sets, temporal_data"
      ]
    },
    {
      "cell_type": "code",
      "execution_count": null,
      "metadata": {
        "id": "VRuCQ-PgfuUU"
      },
      "outputs": [],
      "source": [
        "def create_timesets2(data, increments = 1, test_days = 1, stop = None, ignore_remainder = True):\n",
        "\n",
        "  train_days = df_data.time.min()\n",
        "  day_split = 86400 # day in seconds\n",
        "  train_sets = [] # list of train_set datasets\n",
        "  test_sets = [] # list of test_sets\n",
        "  temporal_data = [] # keep track of how many days have been trained on.\n",
        "\n",
        "  if stop == None:\n",
        "    stop = df_data.time.max()\n",
        "  else:\n",
        "    stop = train_days + day_split * increments * stop\n",
        "\n",
        "  while train_days < stop:\n",
        "    train_days = train_days + day_split * increments\n",
        "\n",
        "    train_set = data.loc[data['time'] <= train_days]\n",
        "    test_set = data.loc[(data['time'] > train_days) & (data['time'] <= train_days + day_split * test_days)]\n",
        "\n",
        "    test_set = test_set.loc[test_set['user'].isin(train_set['user'])]\n",
        "    train_set = train_set.loc[train_set['user'].isin(test_set['user'])]\n",
        "\n",
        "    train_sets.append(train_set)\n",
        "    test_sets.append(test_set)\n",
        "\n",
        "    temp_time = train_days - df_data.time.min()\n",
        "    temporal_data.append(temp_time)\n",
        "\n",
        "  return train_sets, test_sets, temporal_data"
      ]
    },
    {
      "cell_type": "code",
      "execution_count": null,
      "metadata": {
        "colab": {
          "base_uri": "https://localhost:8080/",
          "height": 800
        },
        "id": "mpYrUCVMCVn6",
        "outputId": "860ecc45-4a6f-4b27-a29e-1b323e3125dc"
      },
      "outputs": [
        {
          "output_type": "execute_result",
          "data": {
            "text/plain": [
              "       user  item  label       time  age gender  occupation zip code  \\\n",
              "3        23    55      4  874785624   30      F      artist    48197   \n",
              "49      276    55      4  874792366   21      M     student    95064   \n",
              "51      291    55      4  874834735   19      M     student    44106   \n",
              "63      346    55      5  874948639   34      M       other    76059   \n",
              "94      506    55      4  874873287   46      M  programmer    03869   \n",
              "...     ...   ...    ...        ...  ...    ...         ...      ...   \n",
              "99590   291  1505      4  874868647   19      M     student    44106   \n",
              "99667   543  1524      4  874866319   33      M   scientist    95123   \n",
              "99827   543  1555      3  874863155   33      M   scientist    95123   \n",
              "99901   543  1619      3  874865635   33      M   scientist    95123   \n",
              "99960   756  1652      1  874828198   30      F        none    90247   \n",
              "\n",
              "                                       movieTitle  releaseDate  ...  Fantasy  \\\n",
              "3                        Professional, The (1994)  01-Jan-1994  ...        0   \n",
              "49                       Professional, The (1994)  01-Jan-1994  ...        0   \n",
              "51                       Professional, The (1994)  01-Jan-1994  ...        0   \n",
              "63                       Professional, The (1994)  01-Jan-1994  ...        0   \n",
              "94                       Professional, The (1994)  01-Jan-1994  ...        0   \n",
              "...                                           ...          ...  ...      ...   \n",
              "99590          Killer: A Journal of Murder (1995)  06-Sep-1996  ...        0   \n",
              "99667                        Kaspar Hauser (1993)  07-Jun-1996  ...        0   \n",
              "99827  Secret Adventures of Tom Thumb, The (1993)  01-Jan-1993  ...        0   \n",
              "99901                      All Things Fair (1996)  08-Mar-1996  ...        0   \n",
              "99960            Temptress Moon (Feng Yue) (1996)  13-Jun-1997  ...        0   \n",
              "\n",
              "      Film-Noir  Horror  Musical  Mystery  Romance  Sci-Fi  Thriller  War  \\\n",
              "3             0       0        0        0        1       0         1    0   \n",
              "49            0       0        0        0        1       0         1    0   \n",
              "51            0       0        0        0        1       0         1    0   \n",
              "63            0       0        0        0        1       0         1    0   \n",
              "94            0       0        0        0        1       0         1    0   \n",
              "...         ...     ...      ...      ...      ...     ...       ...  ...   \n",
              "99590         0       0        0        0        0       0         0    0   \n",
              "99667         0       0        0        0        0       0         0    0   \n",
              "99827         0       0        0        0        0       0         0    0   \n",
              "99901         0       0        0        0        0       0         0    0   \n",
              "99960         0       0        0        0        1       0         0    0   \n",
              "\n",
              "       Western  \n",
              "3            0  \n",
              "49           0  \n",
              "51           0  \n",
              "63           0  \n",
              "94           0  \n",
              "...        ...  \n",
              "99590        0  \n",
              "99667        0  \n",
              "99827        0  \n",
              "99901        0  \n",
              "99960        0  \n",
              "\n",
              "[2924 rows x 31 columns]"
            ],
            "text/html": [
              "\n",
              "  <div id=\"df-26c2dc81-2ed4-4da9-8208-ddc04b1d3a25\">\n",
              "    <div class=\"colab-df-container\">\n",
              "      <div>\n",
              "<style scoped>\n",
              "    .dataframe tbody tr th:only-of-type {\n",
              "        vertical-align: middle;\n",
              "    }\n",
              "\n",
              "    .dataframe tbody tr th {\n",
              "        vertical-align: top;\n",
              "    }\n",
              "\n",
              "    .dataframe thead th {\n",
              "        text-align: right;\n",
              "    }\n",
              "</style>\n",
              "<table border=\"1\" class=\"dataframe\">\n",
              "  <thead>\n",
              "    <tr style=\"text-align: right;\">\n",
              "      <th></th>\n",
              "      <th>user</th>\n",
              "      <th>item</th>\n",
              "      <th>label</th>\n",
              "      <th>time</th>\n",
              "      <th>age</th>\n",
              "      <th>gender</th>\n",
              "      <th>occupation</th>\n",
              "      <th>zip code</th>\n",
              "      <th>movieTitle</th>\n",
              "      <th>releaseDate</th>\n",
              "      <th>...</th>\n",
              "      <th>Fantasy</th>\n",
              "      <th>Film-Noir</th>\n",
              "      <th>Horror</th>\n",
              "      <th>Musical</th>\n",
              "      <th>Mystery</th>\n",
              "      <th>Romance</th>\n",
              "      <th>Sci-Fi</th>\n",
              "      <th>Thriller</th>\n",
              "      <th>War</th>\n",
              "      <th>Western</th>\n",
              "    </tr>\n",
              "  </thead>\n",
              "  <tbody>\n",
              "    <tr>\n",
              "      <th>3</th>\n",
              "      <td>23</td>\n",
              "      <td>55</td>\n",
              "      <td>4</td>\n",
              "      <td>874785624</td>\n",
              "      <td>30</td>\n",
              "      <td>F</td>\n",
              "      <td>artist</td>\n",
              "      <td>48197</td>\n",
              "      <td>Professional, The (1994)</td>\n",
              "      <td>01-Jan-1994</td>\n",
              "      <td>...</td>\n",
              "      <td>0</td>\n",
              "      <td>0</td>\n",
              "      <td>0</td>\n",
              "      <td>0</td>\n",
              "      <td>0</td>\n",
              "      <td>1</td>\n",
              "      <td>0</td>\n",
              "      <td>1</td>\n",
              "      <td>0</td>\n",
              "      <td>0</td>\n",
              "    </tr>\n",
              "    <tr>\n",
              "      <th>49</th>\n",
              "      <td>276</td>\n",
              "      <td>55</td>\n",
              "      <td>4</td>\n",
              "      <td>874792366</td>\n",
              "      <td>21</td>\n",
              "      <td>M</td>\n",
              "      <td>student</td>\n",
              "      <td>95064</td>\n",
              "      <td>Professional, The (1994)</td>\n",
              "      <td>01-Jan-1994</td>\n",
              "      <td>...</td>\n",
              "      <td>0</td>\n",
              "      <td>0</td>\n",
              "      <td>0</td>\n",
              "      <td>0</td>\n",
              "      <td>0</td>\n",
              "      <td>1</td>\n",
              "      <td>0</td>\n",
              "      <td>1</td>\n",
              "      <td>0</td>\n",
              "      <td>0</td>\n",
              "    </tr>\n",
              "    <tr>\n",
              "      <th>51</th>\n",
              "      <td>291</td>\n",
              "      <td>55</td>\n",
              "      <td>4</td>\n",
              "      <td>874834735</td>\n",
              "      <td>19</td>\n",
              "      <td>M</td>\n",
              "      <td>student</td>\n",
              "      <td>44106</td>\n",
              "      <td>Professional, The (1994)</td>\n",
              "      <td>01-Jan-1994</td>\n",
              "      <td>...</td>\n",
              "      <td>0</td>\n",
              "      <td>0</td>\n",
              "      <td>0</td>\n",
              "      <td>0</td>\n",
              "      <td>0</td>\n",
              "      <td>1</td>\n",
              "      <td>0</td>\n",
              "      <td>1</td>\n",
              "      <td>0</td>\n",
              "      <td>0</td>\n",
              "    </tr>\n",
              "    <tr>\n",
              "      <th>63</th>\n",
              "      <td>346</td>\n",
              "      <td>55</td>\n",
              "      <td>5</td>\n",
              "      <td>874948639</td>\n",
              "      <td>34</td>\n",
              "      <td>M</td>\n",
              "      <td>other</td>\n",
              "      <td>76059</td>\n",
              "      <td>Professional, The (1994)</td>\n",
              "      <td>01-Jan-1994</td>\n",
              "      <td>...</td>\n",
              "      <td>0</td>\n",
              "      <td>0</td>\n",
              "      <td>0</td>\n",
              "      <td>0</td>\n",
              "      <td>0</td>\n",
              "      <td>1</td>\n",
              "      <td>0</td>\n",
              "      <td>1</td>\n",
              "      <td>0</td>\n",
              "      <td>0</td>\n",
              "    </tr>\n",
              "    <tr>\n",
              "      <th>94</th>\n",
              "      <td>506</td>\n",
              "      <td>55</td>\n",
              "      <td>4</td>\n",
              "      <td>874873287</td>\n",
              "      <td>46</td>\n",
              "      <td>M</td>\n",
              "      <td>programmer</td>\n",
              "      <td>03869</td>\n",
              "      <td>Professional, The (1994)</td>\n",
              "      <td>01-Jan-1994</td>\n",
              "      <td>...</td>\n",
              "      <td>0</td>\n",
              "      <td>0</td>\n",
              "      <td>0</td>\n",
              "      <td>0</td>\n",
              "      <td>0</td>\n",
              "      <td>1</td>\n",
              "      <td>0</td>\n",
              "      <td>1</td>\n",
              "      <td>0</td>\n",
              "      <td>0</td>\n",
              "    </tr>\n",
              "    <tr>\n",
              "      <th>...</th>\n",
              "      <td>...</td>\n",
              "      <td>...</td>\n",
              "      <td>...</td>\n",
              "      <td>...</td>\n",
              "      <td>...</td>\n",
              "      <td>...</td>\n",
              "      <td>...</td>\n",
              "      <td>...</td>\n",
              "      <td>...</td>\n",
              "      <td>...</td>\n",
              "      <td>...</td>\n",
              "      <td>...</td>\n",
              "      <td>...</td>\n",
              "      <td>...</td>\n",
              "      <td>...</td>\n",
              "      <td>...</td>\n",
              "      <td>...</td>\n",
              "      <td>...</td>\n",
              "      <td>...</td>\n",
              "      <td>...</td>\n",
              "      <td>...</td>\n",
              "    </tr>\n",
              "    <tr>\n",
              "      <th>99590</th>\n",
              "      <td>291</td>\n",
              "      <td>1505</td>\n",
              "      <td>4</td>\n",
              "      <td>874868647</td>\n",
              "      <td>19</td>\n",
              "      <td>M</td>\n",
              "      <td>student</td>\n",
              "      <td>44106</td>\n",
              "      <td>Killer: A Journal of Murder (1995)</td>\n",
              "      <td>06-Sep-1996</td>\n",
              "      <td>...</td>\n",
              "      <td>0</td>\n",
              "      <td>0</td>\n",
              "      <td>0</td>\n",
              "      <td>0</td>\n",
              "      <td>0</td>\n",
              "      <td>0</td>\n",
              "      <td>0</td>\n",
              "      <td>0</td>\n",
              "      <td>0</td>\n",
              "      <td>0</td>\n",
              "    </tr>\n",
              "    <tr>\n",
              "      <th>99667</th>\n",
              "      <td>543</td>\n",
              "      <td>1524</td>\n",
              "      <td>4</td>\n",
              "      <td>874866319</td>\n",
              "      <td>33</td>\n",
              "      <td>M</td>\n",
              "      <td>scientist</td>\n",
              "      <td>95123</td>\n",
              "      <td>Kaspar Hauser (1993)</td>\n",
              "      <td>07-Jun-1996</td>\n",
              "      <td>...</td>\n",
              "      <td>0</td>\n",
              "      <td>0</td>\n",
              "      <td>0</td>\n",
              "      <td>0</td>\n",
              "      <td>0</td>\n",
              "      <td>0</td>\n",
              "      <td>0</td>\n",
              "      <td>0</td>\n",
              "      <td>0</td>\n",
              "      <td>0</td>\n",
              "    </tr>\n",
              "    <tr>\n",
              "      <th>99827</th>\n",
              "      <td>543</td>\n",
              "      <td>1555</td>\n",
              "      <td>3</td>\n",
              "      <td>874863155</td>\n",
              "      <td>33</td>\n",
              "      <td>M</td>\n",
              "      <td>scientist</td>\n",
              "      <td>95123</td>\n",
              "      <td>Secret Adventures of Tom Thumb, The (1993)</td>\n",
              "      <td>01-Jan-1993</td>\n",
              "      <td>...</td>\n",
              "      <td>0</td>\n",
              "      <td>0</td>\n",
              "      <td>0</td>\n",
              "      <td>0</td>\n",
              "      <td>0</td>\n",
              "      <td>0</td>\n",
              "      <td>0</td>\n",
              "      <td>0</td>\n",
              "      <td>0</td>\n",
              "      <td>0</td>\n",
              "    </tr>\n",
              "    <tr>\n",
              "      <th>99901</th>\n",
              "      <td>543</td>\n",
              "      <td>1619</td>\n",
              "      <td>3</td>\n",
              "      <td>874865635</td>\n",
              "      <td>33</td>\n",
              "      <td>M</td>\n",
              "      <td>scientist</td>\n",
              "      <td>95123</td>\n",
              "      <td>All Things Fair (1996)</td>\n",
              "      <td>08-Mar-1996</td>\n",
              "      <td>...</td>\n",
              "      <td>0</td>\n",
              "      <td>0</td>\n",
              "      <td>0</td>\n",
              "      <td>0</td>\n",
              "      <td>0</td>\n",
              "      <td>0</td>\n",
              "      <td>0</td>\n",
              "      <td>0</td>\n",
              "      <td>0</td>\n",
              "      <td>0</td>\n",
              "    </tr>\n",
              "    <tr>\n",
              "      <th>99960</th>\n",
              "      <td>756</td>\n",
              "      <td>1652</td>\n",
              "      <td>1</td>\n",
              "      <td>874828198</td>\n",
              "      <td>30</td>\n",
              "      <td>F</td>\n",
              "      <td>none</td>\n",
              "      <td>90247</td>\n",
              "      <td>Temptress Moon (Feng Yue) (1996)</td>\n",
              "      <td>13-Jun-1997</td>\n",
              "      <td>...</td>\n",
              "      <td>0</td>\n",
              "      <td>0</td>\n",
              "      <td>0</td>\n",
              "      <td>0</td>\n",
              "      <td>0</td>\n",
              "      <td>1</td>\n",
              "      <td>0</td>\n",
              "      <td>0</td>\n",
              "      <td>0</td>\n",
              "      <td>0</td>\n",
              "    </tr>\n",
              "  </tbody>\n",
              "</table>\n",
              "<p>2924 rows × 31 columns</p>\n",
              "</div>\n",
              "      <button class=\"colab-df-convert\" onclick=\"convertToInteractive('df-26c2dc81-2ed4-4da9-8208-ddc04b1d3a25')\"\n",
              "              title=\"Convert this dataframe to an interactive table.\"\n",
              "              style=\"display:none;\">\n",
              "        \n",
              "  <svg xmlns=\"http://www.w3.org/2000/svg\" height=\"24px\"viewBox=\"0 0 24 24\"\n",
              "       width=\"24px\">\n",
              "    <path d=\"M0 0h24v24H0V0z\" fill=\"none\"/>\n",
              "    <path d=\"M18.56 5.44l.94 2.06.94-2.06 2.06-.94-2.06-.94-.94-2.06-.94 2.06-2.06.94zm-11 1L8.5 8.5l.94-2.06 2.06-.94-2.06-.94L8.5 2.5l-.94 2.06-2.06.94zm10 10l.94 2.06.94-2.06 2.06-.94-2.06-.94-.94-2.06-.94 2.06-2.06.94z\"/><path d=\"M17.41 7.96l-1.37-1.37c-.4-.4-.92-.59-1.43-.59-.52 0-1.04.2-1.43.59L10.3 9.45l-7.72 7.72c-.78.78-.78 2.05 0 2.83L4 21.41c.39.39.9.59 1.41.59.51 0 1.02-.2 1.41-.59l7.78-7.78 2.81-2.81c.8-.78.8-2.07 0-2.86zM5.41 20L4 18.59l7.72-7.72 1.47 1.35L5.41 20z\"/>\n",
              "  </svg>\n",
              "      </button>\n",
              "      \n",
              "  <style>\n",
              "    .colab-df-container {\n",
              "      display:flex;\n",
              "      flex-wrap:wrap;\n",
              "      gap: 12px;\n",
              "    }\n",
              "\n",
              "    .colab-df-convert {\n",
              "      background-color: #E8F0FE;\n",
              "      border: none;\n",
              "      border-radius: 50%;\n",
              "      cursor: pointer;\n",
              "      display: none;\n",
              "      fill: #1967D2;\n",
              "      height: 32px;\n",
              "      padding: 0 0 0 0;\n",
              "      width: 32px;\n",
              "    }\n",
              "\n",
              "    .colab-df-convert:hover {\n",
              "      background-color: #E2EBFA;\n",
              "      box-shadow: 0px 1px 2px rgba(60, 64, 67, 0.3), 0px 1px 3px 1px rgba(60, 64, 67, 0.15);\n",
              "      fill: #174EA6;\n",
              "    }\n",
              "\n",
              "    [theme=dark] .colab-df-convert {\n",
              "      background-color: #3B4455;\n",
              "      fill: #D2E3FC;\n",
              "    }\n",
              "\n",
              "    [theme=dark] .colab-df-convert:hover {\n",
              "      background-color: #434B5C;\n",
              "      box-shadow: 0px 1px 3px 1px rgba(0, 0, 0, 0.15);\n",
              "      filter: drop-shadow(0px 1px 2px rgba(0, 0, 0, 0.3));\n",
              "      fill: #FFFFFF;\n",
              "    }\n",
              "  </style>\n",
              "\n",
              "      <script>\n",
              "        const buttonEl =\n",
              "          document.querySelector('#df-26c2dc81-2ed4-4da9-8208-ddc04b1d3a25 button.colab-df-convert');\n",
              "        buttonEl.style.display =\n",
              "          google.colab.kernel.accessAllowed ? 'block' : 'none';\n",
              "\n",
              "        async function convertToInteractive(key) {\n",
              "          const element = document.querySelector('#df-26c2dc81-2ed4-4da9-8208-ddc04b1d3a25');\n",
              "          const dataTable =\n",
              "            await google.colab.kernel.invokeFunction('convertToInteractive',\n",
              "                                                     [key], {});\n",
              "          if (!dataTable) return;\n",
              "\n",
              "          const docLinkHtml = 'Like what you see? Visit the ' +\n",
              "            '<a target=\"_blank\" href=https://colab.research.google.com/notebooks/data_table.ipynb>data table notebook</a>'\n",
              "            + ' to learn more about interactive tables.';\n",
              "          element.innerHTML = '';\n",
              "          dataTable['output_type'] = 'display_data';\n",
              "          await google.colab.output.renderOutput(dataTable, element);\n",
              "          const docLink = document.createElement('div');\n",
              "          docLink.innerHTML = docLinkHtml;\n",
              "          element.appendChild(docLink);\n",
              "        }\n",
              "      </script>\n",
              "    </div>\n",
              "  </div>\n",
              "  "
            ]
          },
          "metadata": {},
          "execution_count": 52
        }
      ],
      "source": [
        "test_df = df_data.loc[df_data['time'] < 875072688]\n",
        "\n",
        "test_df"
      ]
    },
    {
      "cell_type": "code",
      "execution_count": null,
      "metadata": {
        "colab": {
          "base_uri": "https://localhost:8080/"
        },
        "id": "NtRGtYoHMybA",
        "outputId": "1399d8f2-34cd-424c-8b2e-855862bc7000"
      },
      "outputs": [
        {
          "output_type": "stream",
          "name": "stdout",
          "text": [
            "10.0\n",
            "20.0\n",
            "30.0\n",
            "40.0\n",
            "50.0\n"
          ]
        }
      ],
      "source": [
        "train, test, temppp = create_timesets(df_data, increments=10, test_num = 1, stop = 5)\n",
        "\n",
        "for temp in temppp:\n",
        "  print(temp / 86400)"
      ]
    },
    {
      "cell_type": "code",
      "execution_count": null,
      "metadata": {
        "colab": {
          "base_uri": "https://localhost:8080/"
        },
        "id": "VgMcwYBicLmw",
        "outputId": "59cd5817-b9a8-4429-a3ee-1e5238174835"
      },
      "outputs": [
        {
          "output_type": "stream",
          "name": "stdout",
          "text": [
            "(6007, 31)\n",
            "(69, 31)\n",
            "(10083, 31)\n",
            "(110, 31)\n",
            "(13659, 31)\n",
            "(151, 31)\n",
            "(16041, 31)\n",
            "(181, 31)\n",
            "(20144, 31)\n",
            "(216, 31)\n"
          ]
        }
      ],
      "source": [
        "for tr, te in zip(train, test):\n",
        "  print(tr.shape)\n",
        "  print(te.shape)"
      ]
    },
    {
      "cell_type": "code",
      "execution_count": null,
      "metadata": {
        "id": "mmnopshaBYFQ"
      },
      "outputs": [],
      "source": []
    },
    {
      "cell_type": "code",
      "execution_count": null,
      "metadata": {
        "id": "aT7vko9ulHx8",
        "colab": {
          "base_uri": "https://localhost:8080/"
        },
        "outputId": "c9796ddc-9275-445a-bce3-4948351dd9af"
      },
      "outputs": [
        {
          "output_type": "stream",
          "name": "stdout",
          "text": [
            "333\n",
            "333\n",
            "333\n",
            "333\n",
            "333\n",
            "333\n",
            "333\n",
            "333\n",
            "333\n",
            "333\n",
            "333\n",
            "333\n",
            "333\n",
            "333\n",
            "333\n",
            "333\n",
            "333\n",
            "333\n",
            "333\n",
            "333\n",
            "333\n",
            "333\n",
            "333\n",
            "333\n",
            "333\n",
            "333\n",
            "333\n",
            "333\n",
            "333\n",
            "333\n",
            "333\n",
            "333\n",
            "333\n",
            "333\n",
            "333\n",
            "333\n",
            "333\n",
            "333\n",
            "333\n",
            "333\n",
            "333\n",
            "333\n",
            "333\n",
            "333\n",
            "333\n",
            "333\n",
            "333\n",
            "333\n",
            "333\n",
            "333\n",
            "333\n",
            "333\n",
            "333\n",
            "333\n",
            "333\n",
            "333\n",
            "333\n",
            "333\n",
            "333\n",
            "333\n",
            "333\n",
            "333\n",
            "333\n",
            "333\n",
            "333\n",
            "333\n",
            "333\n",
            "333\n",
            "333\n",
            "333\n",
            "333\n",
            "333\n",
            "333\n",
            "333\n",
            "333\n",
            "333\n",
            "333\n",
            "333\n",
            "333\n",
            "333\n",
            "333\n",
            "333\n",
            "333\n",
            "333\n",
            "333\n",
            "333\n",
            "333\n",
            "333\n",
            "333\n",
            "333\n",
            "333\n",
            "333\n",
            "333\n",
            "333\n",
            "333\n",
            "333\n",
            "333\n",
            "333\n",
            "333\n",
            "333\n",
            "333\n",
            "333\n",
            "333\n",
            "333\n",
            "333\n",
            "333\n",
            "333\n",
            "333\n",
            "333\n",
            "333\n",
            "333\n",
            "333\n",
            "333\n",
            "333\n",
            "333\n",
            "333\n",
            "333\n",
            "333\n",
            "333\n",
            "333\n",
            "333\n",
            "333\n",
            "333\n",
            "333\n",
            "333\n",
            "333\n",
            "333\n",
            "333\n",
            "333\n",
            "333\n",
            "333\n",
            "333\n",
            "333\n",
            "333\n",
            "333\n",
            "333\n",
            "333\n",
            "333\n",
            "333\n",
            "333\n",
            "333\n",
            "333\n",
            "333\n",
            "333\n",
            "333\n",
            "333\n",
            "333\n",
            "333\n",
            "333\n",
            "333\n",
            "333\n",
            "333\n",
            "333\n",
            "333\n",
            "333\n",
            "333\n",
            "333\n",
            "333\n",
            "333\n",
            "333\n",
            "333\n",
            "333\n",
            "333\n",
            "333\n",
            "333\n",
            "333\n",
            "333\n",
            "333\n",
            "333\n",
            "333\n",
            "333\n",
            "333\n",
            "333\n",
            "333\n",
            "333\n",
            "333\n",
            "333\n",
            "333\n",
            "333\n",
            "333\n",
            "333\n",
            "333\n",
            "333\n",
            "333\n",
            "333\n",
            "333\n",
            "333\n",
            "333\n",
            "333\n",
            "333\n",
            "333\n",
            "333\n",
            "333\n",
            "333\n",
            "333\n",
            "333\n",
            "333\n",
            "333\n",
            "333\n",
            "333\n",
            "333\n",
            "333\n",
            "333\n",
            "333\n",
            "333\n",
            "333\n",
            "333\n",
            "333\n",
            "333\n",
            "333\n",
            "333\n",
            "333\n",
            "333\n",
            "333\n",
            "333\n",
            "333\n",
            "333\n",
            "333\n",
            "333\n",
            "333\n",
            "333\n",
            "333\n",
            "333\n",
            "333\n",
            "333\n",
            "333\n",
            "333\n",
            "333\n",
            "333\n",
            "333\n",
            "333\n",
            "333\n",
            "333\n",
            "333\n",
            "333\n",
            "333\n",
            "333\n",
            "333\n",
            "333\n",
            "333\n",
            "333\n",
            "333\n",
            "333\n",
            "333\n",
            "333\n",
            "333\n",
            "333\n",
            "333\n",
            "333\n",
            "333\n",
            "333\n",
            "333\n",
            "333\n",
            "333\n",
            "333\n",
            "333\n",
            "333\n",
            "333\n",
            "333\n",
            "333\n",
            "333\n",
            "333\n",
            "333\n",
            "333\n",
            "333\n",
            "333\n",
            "333\n",
            "333\n",
            "333\n",
            "333\n",
            "333\n",
            "333\n",
            "333\n",
            "333\n",
            "333\n",
            "333\n",
            "333\n",
            "333\n",
            "333\n",
            "333\n",
            "333\n",
            "333\n",
            "333\n",
            "333\n",
            "333\n",
            "333\n",
            "333\n",
            "333\n",
            "333\n",
            "333\n",
            "333\n",
            "333\n",
            "333\n",
            "333\n",
            "333\n",
            "333\n",
            "333\n",
            "333\n",
            "333\n",
            "333\n",
            "333\n",
            "333\n",
            "333\n",
            "333\n",
            "333\n",
            "333\n",
            "333\n",
            "333\n",
            "333\n",
            "333\n",
            "333\n",
            "333\n",
            "333\n",
            "333\n",
            "333\n",
            "333\n",
            "333\n",
            "333\n",
            "333\n",
            "333\n",
            "333\n",
            "333\n",
            "333\n",
            "333\n",
            "333\n",
            "333\n",
            "333\n",
            "333\n",
            "333\n",
            "333\n",
            "333\n",
            "333\n",
            "586\n",
            "586\n",
            "586\n",
            "586\n",
            "586\n",
            "586\n",
            "586\n",
            "586\n",
            "586\n",
            "586\n",
            "586\n",
            "586\n",
            "586\n",
            "586\n",
            "586\n",
            "586\n",
            "586\n",
            "586\n",
            "586\n",
            "586\n",
            "586\n",
            "586\n",
            "586\n",
            "586\n",
            "586\n",
            "586\n",
            "586\n",
            "586\n",
            "586\n",
            "586\n",
            "586\n",
            "586\n",
            "586\n",
            "586\n",
            "586\n",
            "586\n",
            "586\n",
            "586\n",
            "586\n",
            "586\n",
            "586\n",
            "586\n",
            "586\n",
            "586\n",
            "586\n",
            "586\n",
            "586\n",
            "586\n",
            "586\n",
            "586\n",
            "586\n",
            "586\n",
            "586\n",
            "586\n",
            "586\n",
            "586\n",
            "586\n",
            "586\n",
            "586\n",
            "586\n",
            "586\n",
            "586\n",
            "586\n",
            "586\n",
            "586\n",
            "586\n",
            "586\n",
            "586\n",
            "586\n",
            "586\n",
            "586\n",
            "586\n",
            "586\n",
            "586\n",
            "586\n",
            "586\n",
            "586\n",
            "586\n",
            "586\n",
            "586\n",
            "586\n",
            "586\n",
            "586\n",
            "586\n",
            "586\n",
            "586\n",
            "586\n",
            "586\n",
            "586\n",
            "586\n",
            "586\n",
            "586\n",
            "586\n",
            "586\n",
            "586\n",
            "586\n",
            "586\n"
          ]
        }
      ],
      "source": [
        "kaas1, kaas2 = split_by_num_chrono(df_data, test_size = 1)\n",
        "kaas1, data_kaas = DatasetPure.build_trainset(kaas1)\n",
        "kaas2 = DatasetPure.build_testset(kaas2)\n",
        "\n",
        "for user in kaas1.user_indices:\n",
        "  if user not in kaas2.user_indices:\n",
        "    print(user)"
      ]
    },
    {
      "cell_type": "code",
      "execution_count": null,
      "metadata": {
        "id": "EGSY3NIyTtrW"
      },
      "outputs": [],
      "source": [
        "import matplotlib.pyplot as plt"
      ]
    },
    {
      "cell_type": "code",
      "execution_count": null,
      "metadata": {
        "id": "4p0AogLaVbhr"
      },
      "outputs": [],
      "source": [
        "test = {'Day 1': {'SVD': {'precision': 0.09759825327510918, 'recall': 0.11243680555691093, 'map': 0.2329821183082646, 'ndcg': 0.32328197069467746}, 'SVDpp': {'precision': 0.09574235807860262, 'recall': 0.11352322985020856, 'map': 0.23240755181257364, 'ndcg': 0.3232181370376707}, 'ItemCF': {'precision': 0.030895196506550218, 'recall': 0.04874355087375927, 'map': 0.0974498336452485, 'ndcg': 0.13003226035468538}, 'UserCF': {'precision': 0.0027292576419213977, 'recall': 0.0021887008976569536, 'map': 0.006925816177999584, 'ndcg': 0.011535077285933745}, 'ALS': {'precision': 0.12827510917030568, 'recall': 0.18282404703448726, 'map': 0.2724576243039671, 'ndcg': 0.38393204203985315}}}\n",
        "\n"
      ]
    },
    {
      "cell_type": "code",
      "execution_count": null,
      "metadata": {
        "id": "sY5yjlW9TvB0"
      },
      "outputs": [],
      "source": [
        "def model_results(results, metrics, nth_ticks=2):\n",
        "  time_iter = list(results.keys())\n",
        "  algorithms = list(results[time_iter[0]].keys())\n",
        "\n",
        "  plt.figure(figsize=(10,6))\n",
        "\n",
        "  for metric in metrics:\n",
        "\n",
        "    fig, ax = plt.subplots()\n",
        "    \n",
        "    for algo in algorithms:\n",
        "      value_list = []\n",
        "      for time in time_iter:\n",
        "        value_list.append(results[time][algo][metric])\n",
        "\n",
        "      ax.plot(time_iter, value_list, label=f'{algo}')\n",
        "\n",
        "    ax.set(xlabel='time (d)', ylabel=f'{metric}',\n",
        "          title=f'Comparison for {metric}')\n",
        "    ax.grid()\n",
        "    ax.set_xticks(ax.get_xticks()[::nth_ticks])\n",
        "\n",
        "    # fig.savefig(\"test.png\")\n",
        "    plt.legend()\n",
        "    plt.show()"
      ]
    },
    {
      "cell_type": "code",
      "execution_count": null,
      "metadata": {
        "id": "CuredEfq2ESp"
      },
      "outputs": [],
      "source": [
        "def check_sim(train, test):\n",
        "  print(train['user'].isin(test['user']).value_counts())\n",
        "  print(test['user'].isin(train['user']).value_counts())"
      ]
    },
    {
      "cell_type": "code",
      "execution_count": null,
      "metadata": {
        "id": "_WFMH9AQAbp-"
      },
      "outputs": [],
      "source": [
        "import time as t"
      ]
    },
    {
      "cell_type": "code",
      "execution_count": null,
      "metadata": {
        "id": "e4YjvwFAQRsl"
      },
      "outputs": [],
      "source": [
        "def reset_state(name):\n",
        "    tf.compat.v1.reset_default_graph()\n",
        "    print(\"\\n\", \"=\" * 30, name, \"=\" * 30)\n",
        "\n",
        "def create_results(algos, test_data, metrics):\n",
        "\n",
        "  results = {}\n",
        "\n",
        "  for algo in algos:\n",
        "    print(algo)\n",
        "    result = evaluate(model=algo, data=test_data, metrics=metrics)\n",
        "    results[algo.__class__.__name__] = result\n",
        "\n",
        "  return results\n",
        "\n",
        "def run_experiment(data, increments, test_days, stop, ignore_remainder = True, task = 'ranking'):\n",
        "\n",
        "  metrics_rating = [\n",
        "      \"rmse\"\n",
        "  ]\n",
        "\n",
        "  metrics_ranking = [\n",
        "    \"precision\",\n",
        "    \"recall\",\n",
        "    \"map\",\n",
        "    \"ndcg\",\n",
        "  ]\n",
        "\n",
        "  if task == 'ranking':\n",
        "    metrics = metrics_ranking\n",
        "  else:\n",
        "    metrics = metrics_rating\n",
        "\n",
        "  train, test, temporal_data = create_timesets(data, increments, test_days, stop, ignore_remainder)\n",
        "\n",
        "  temporal_results = {}\n",
        "\n",
        "  i = 0\n",
        "\n",
        "  for train, test in zip(train, test):\n",
        "\n",
        "    # print('testing')\n",
        "\n",
        "    # print('########## CHECKING SIM ###########')\n",
        "    # print('########## train users in test set ##########')\n",
        "    # print(train['user'].isin(test['user']).value_counts())\n",
        "    # print('########## test users in train set ##########')\n",
        "    # print(test['user'].isin(train['user']).value_counts())\n",
        "\n",
        "    train_data, data_info = DatasetPure.build_trainset(train)\n",
        "    test_data = DatasetPure.build_testset(test)\n",
        "\n",
        "    start = t.perf_counter()\n",
        "\n",
        "    reset_state(\"SVD\")\n",
        "    svd = SVD(\n",
        "        task,\n",
        "        data_info,\n",
        "        embed_size=20,\n",
        "        n_epochs=50,\n",
        "        lr=0.001,\n",
        "        reg=0.0001,\n",
        "    )\n",
        "\n",
        "    svd.fit(\n",
        "        train_data,\n",
        "        verbose=0,\n",
        "        shuffle=False,\n",
        "    )\n",
        "\n",
        "    svd_time = t.perf_counter() - start\n",
        "\n",
        "    start = t.perf_counter()\n",
        "\n",
        "    reset_state(\"SVD++\")\n",
        "    svdpp = SVDpp(\n",
        "        task,\n",
        "        data_info,\n",
        "        loss_type=\"cross_entropy\",\n",
        "        embed_size=50,\n",
        "        n_epochs=25,\n",
        "        lr=0.001,\n",
        "        reg=0.0001,\n",
        "    )\n",
        "\n",
        "    svdpp.fit(\n",
        "        train_data,\n",
        "        verbose=0,\n",
        "    )\n",
        "\n",
        "    svdpp_time = t.perf_counter() - start\n",
        "\n",
        "    start = t.perf_counter()\n",
        "\n",
        "    reset_state(\"item_cf\")\n",
        "    item_cf = ItemCF(\n",
        "        task,\n",
        "        data_info=data_info,\n",
        "        k_sim=25,\n",
        "        sim_type=\"cosine\",\n",
        "    )\n",
        "\n",
        "    item_cf.fit(\n",
        "        train_data,\n",
        "        verbose=0\n",
        "    )\n",
        "\n",
        "    item_cf_time = t.perf_counter() - start\n",
        "\n",
        "    start = t.perf_counter()\n",
        "\n",
        "    reset_state(\"user_cf\")\n",
        "    user_cf = UserCF(\n",
        "        task,\n",
        "        data_info=data_info,\n",
        "        k_sim=50,\n",
        "        sim_type=\"cosine\",\n",
        "    )\n",
        "\n",
        "    user_cf.fit(\n",
        "        train_data,\n",
        "        verbose=0,\n",
        "    )\n",
        "\n",
        "    user_cf_time = t.perf_counter() - start\n",
        "\n",
        "    start = t.perf_counter()\n",
        "\n",
        "    reset_state(\"ALS\")\n",
        "    als = ALS(\n",
        "        task,\n",
        "        data_info,\n",
        "        embed_size=10,\n",
        "        n_epochs=200,\n",
        "        reg=5.0\n",
        "    )\n",
        "\n",
        "    als.fit(\n",
        "        train_data,\n",
        "        verbose=0,\n",
        "    )\n",
        "\n",
        "    als_time = t.perf_counter() - start\n",
        "\n",
        "    timers = [('SVD', svd_time), ('SVDpp',svdpp_time), ('ItemCF', item_cf_time), ('UserCF',user_cf_time), ('ALS',als_time)]\n",
        "\n",
        "    algos = [svd, svdpp, item_cf, user_cf, als]\n",
        "\n",
        "    time = int(temporal_data[i] / 86400)\n",
        "\n",
        "    temporal_results[str(time)] = create_results(algos, test_data, metrics)\n",
        "\n",
        "    for times in timers:\n",
        "      temporal_results[str(time)][times[0]]['train_time'] = times[1]\n",
        "\n",
        "    i+=1\n",
        "\n",
        "  return temporal_results\n"
      ]
    },
    {
      "cell_type": "code",
      "execution_count": null,
      "metadata": {
        "colab": {
          "base_uri": "https://localhost:8080/"
        },
        "id": "5P0f4wwlE78v",
        "outputId": "bd4b8b57-9eda-4eaa-aecd-cb7ebaff476c"
      },
      "outputs": [
        {
          "name": "stdout",
          "output_type": "stream",
          "text": [
            "\n",
            " ============================== SVD ==============================\n",
            "Training start time: \u001b[35m2023-04-03 21:51:56\u001b[0m\n"
          ]
        },
        {
          "name": "stderr",
          "output_type": "stream",
          "text": [
            "train: 100%|██████████| 24/24 [00:00<00:00, 304.91it/s]\n",
            "train: 100%|██████████| 24/24 [00:00<00:00, 1173.92it/s]\n",
            "train: 100%|██████████| 24/24 [00:00<00:00, 1122.42it/s]\n",
            "train: 100%|██████████| 24/24 [00:00<00:00, 1213.75it/s]\n",
            "train: 100%|██████████| 24/24 [00:00<00:00, 1223.53it/s]\n",
            "train: 100%|██████████| 24/24 [00:00<00:00, 1201.32it/s]\n",
            "train: 100%|██████████| 24/24 [00:00<00:00, 1093.04it/s]\n",
            "train: 100%|██████████| 24/24 [00:00<00:00, 902.82it/s]\n",
            "train: 100%|██████████| 24/24 [00:00<00:00, 761.28it/s]\n",
            "train: 100%|██████████| 24/24 [00:00<00:00, 1089.38it/s]\n",
            "train: 100%|██████████| 24/24 [00:00<00:00, 1243.23it/s]\n",
            "train: 100%|██████████| 24/24 [00:00<00:00, 1049.99it/s]\n",
            "train: 100%|██████████| 24/24 [00:00<00:00, 1034.47it/s]\n",
            "train: 100%|██████████| 24/24 [00:00<00:00, 1146.43it/s]\n",
            "train: 100%|██████████| 24/24 [00:00<00:00, 1176.23it/s]\n",
            "train: 100%|██████████| 24/24 [00:00<00:00, 1196.81it/s]\n",
            "train: 100%|██████████| 24/24 [00:00<00:00, 1119.63it/s]\n",
            "train: 100%|██████████| 24/24 [00:00<00:00, 568.62it/s]\n",
            "train: 100%|██████████| 24/24 [00:00<00:00, 1116.82it/s]\n",
            "train: 100%|██████████| 24/24 [00:00<00:00, 944.53it/s]\n",
            "train: 100%|██████████| 24/24 [00:00<00:00, 938.00it/s]\n",
            "train: 100%|██████████| 24/24 [00:00<00:00, 1109.52it/s]\n",
            "train: 100%|██████████| 24/24 [00:00<00:00, 1286.28it/s]\n",
            "train: 100%|██████████| 24/24 [00:00<00:00, 1083.04it/s]\n",
            "train: 100%|██████████| 24/24 [00:00<00:00, 1107.21it/s]\n",
            "train: 100%|██████████| 24/24 [00:00<00:00, 1091.70it/s]\n",
            "train: 100%|██████████| 24/24 [00:00<00:00, 1067.97it/s]\n",
            "train: 100%|██████████| 24/24 [00:00<00:00, 1104.93it/s]\n",
            "train: 100%|██████████| 24/24 [00:00<00:00, 1111.64it/s]\n",
            "train: 100%|██████████| 24/24 [00:00<00:00, 1154.86it/s]\n",
            "train: 100%|██████████| 24/24 [00:00<00:00, 941.27it/s]\n",
            "train: 100%|██████████| 24/24 [00:00<00:00, 853.43it/s]\n",
            "train: 100%|██████████| 24/24 [00:00<00:00, 1011.57it/s]\n",
            "train: 100%|██████████| 24/24 [00:00<00:00, 1129.80it/s]\n",
            "train: 100%|██████████| 24/24 [00:00<00:00, 1209.65it/s]\n",
            "train: 100%|██████████| 24/24 [00:00<00:00, 1000.56it/s]\n",
            "train: 100%|██████████| 24/24 [00:00<00:00, 767.76it/s]\n",
            "train: 100%|██████████| 24/24 [00:00<00:00, 1165.49it/s]\n",
            "train: 100%|██████████| 24/24 [00:00<00:00, 1115.88it/s]\n",
            "train: 100%|██████████| 24/24 [00:00<00:00, 1185.59it/s]\n",
            "train: 100%|██████████| 24/24 [00:00<00:00, 1118.53it/s]\n",
            "train: 100%|██████████| 24/24 [00:00<00:00, 1013.72it/s]\n",
            "train: 100%|██████████| 24/24 [00:00<00:00, 1140.20it/s]\n",
            "train: 100%|██████████| 24/24 [00:00<00:00, 1054.57it/s]\n",
            "train: 100%|██████████| 24/24 [00:00<00:00, 942.67it/s]\n",
            "train: 100%|██████████| 24/24 [00:00<00:00, 784.73it/s]\n",
            "train: 100%|██████████| 24/24 [00:00<00:00, 1172.49it/s]\n",
            "train: 100%|██████████| 24/24 [00:00<00:00, 1054.49it/s]\n",
            "train: 100%|██████████| 24/24 [00:00<00:00, 1144.73it/s]\n",
            "train: 100%|██████████| 24/24 [00:00<00:00, 911.67it/s]\n"
          ]
        },
        {
          "name": "stdout",
          "output_type": "stream",
          "text": [
            "\n",
            " ============================== SVD++ ==============================\n",
            "Training start time: \u001b[35m2023-04-03 21:51:58\u001b[0m\n"
          ]
        },
        {
          "name": "stderr",
          "output_type": "stream",
          "text": [
            "train: 100%|██████████| 24/24 [00:00<00:00, 207.46it/s]\n",
            "train: 100%|██████████| 24/24 [00:00<00:00, 749.08it/s]\n",
            "train: 100%|██████████| 24/24 [00:00<00:00, 855.16it/s]\n",
            "train: 100%|██████████| 24/24 [00:00<00:00, 673.46it/s]\n",
            "train: 100%|██████████| 24/24 [00:00<00:00, 889.15it/s]\n",
            "train: 100%|██████████| 24/24 [00:00<00:00, 783.34it/s]\n",
            "train: 100%|██████████| 24/24 [00:00<00:00, 775.26it/s]\n",
            "train: 100%|██████████| 24/24 [00:00<00:00, 750.32it/s]\n",
            "train: 100%|██████████| 24/24 [00:00<00:00, 658.00it/s]\n",
            "train: 100%|██████████| 24/24 [00:00<00:00, 475.77it/s]\n",
            "train: 100%|██████████| 24/24 [00:00<00:00, 420.73it/s]\n",
            "train: 100%|██████████| 24/24 [00:00<00:00, 485.65it/s]\n",
            "train: 100%|██████████| 24/24 [00:00<00:00, 426.09it/s]\n",
            "train: 100%|██████████| 24/24 [00:00<00:00, 501.03it/s]\n",
            "train: 100%|██████████| 24/24 [00:00<00:00, 415.78it/s]\n",
            "train: 100%|██████████| 24/24 [00:00<00:00, 462.13it/s]\n",
            "train: 100%|██████████| 24/24 [00:00<00:00, 498.84it/s]\n",
            "train: 100%|██████████| 24/24 [00:00<00:00, 498.12it/s]\n",
            "train: 100%|██████████| 24/24 [00:00<00:00, 500.60it/s]\n",
            "train: 100%|██████████| 24/24 [00:00<00:00, 504.57it/s]\n",
            "train: 100%|██████████| 24/24 [00:00<00:00, 514.64it/s]\n",
            "train: 100%|██████████| 24/24 [00:00<00:00, 508.68it/s]\n",
            "train: 100%|██████████| 24/24 [00:00<00:00, 505.16it/s]\n",
            "train: 100%|██████████| 24/24 [00:00<00:00, 443.12it/s]\n",
            "train: 100%|██████████| 24/24 [00:00<00:00, 497.41it/s]\n"
          ]
        },
        {
          "name": "stdout",
          "output_type": "stream",
          "text": [
            "\n",
            " ============================== item_cf ==============================\n",
            "Training start time: \u001b[35m2023-04-03 21:52:00\u001b[0m\n",
            "Final block size and num: (1015, 1)\n",
            "sim_matrix elapsed: 0.018s\n",
            "sim_matrix, shape: (1015, 1015), num_elements: 450380, density: 9459.7774 %\n"
          ]
        },
        {
          "name": "stderr",
          "output_type": "stream",
          "text": [
            "top_k: 100%|██████████| 1015/1015 [00:00<00:00, 5912.02it/s]\n"
          ]
        },
        {
          "name": "stdout",
          "output_type": "stream",
          "text": [
            "\n",
            " ============================== user_cf ==============================\n",
            "Training start time: \u001b[35m2023-04-03 21:52:00\u001b[0m\n",
            "Final block size and num: (69, 1)\n",
            "sim_matrix elapsed: 0.002s\n",
            "sim_matrix, shape: (69, 69), num_elements: 4228, density: 88.8049 %\n"
          ]
        },
        {
          "name": "stderr",
          "output_type": "stream",
          "text": [
            "top_k: 100%|██████████| 69/69 [00:00<00:00, 27024.65it/s]\n"
          ]
        },
        {
          "name": "stdout",
          "output_type": "stream",
          "text": [
            "\n",
            " ============================== ALS ==============================\n",
            "Training start time: \u001b[35m2023-04-03 21:52:00\u001b[0m\n",
            "<libreco.algorithms.svd.SVD object at 0x7f0ff38df100>\n"
          ]
        },
        {
          "name": "stderr",
          "output_type": "stream",
          "text": [
            "eval_pointwise: 100%|██████████| 1/1 [00:00<00:00, 459.75it/s]\n"
          ]
        },
        {
          "name": "stdout",
          "output_type": "stream",
          "text": [
            "<libreco.algorithms.svdpp.SVDpp object at 0x7f0ff89ab7f0>\n"
          ]
        },
        {
          "name": "stderr",
          "output_type": "stream",
          "text": [
            "eval_pointwise: 100%|██████████| 1/1 [00:00<00:00, 3155.98it/s]\n"
          ]
        },
        {
          "name": "stdout",
          "output_type": "stream",
          "text": [
            "<libreco.algorithms.item_cf.ItemCF object at 0x7f0ff5515fd0>\n"
          ]
        },
        {
          "name": "stderr",
          "output_type": "stream",
          "text": [
            "eval_pointwise: 100%|██████████| 1/1 [00:00<00:00, 25.19it/s]\n"
          ]
        },
        {
          "name": "stdout",
          "output_type": "stream",
          "text": [
            "<libreco.algorithms.user_cf.UserCF object at 0x7f0ff4ba4ca0>\n"
          ]
        },
        {
          "name": "stderr",
          "output_type": "stream",
          "text": [
            "eval_pointwise: 100%|██████████| 1/1 [00:00<00:00, 29.14it/s]\n"
          ]
        },
        {
          "name": "stdout",
          "output_type": "stream",
          "text": [
            "<libreco.algorithms.als.ALS object at 0x7f0ff64c3d00>\n"
          ]
        },
        {
          "name": "stderr",
          "output_type": "stream",
          "text": [
            "eval_pointwise: 100%|██████████| 1/1 [00:00<00:00, 1790.91it/s]"
          ]
        },
        {
          "name": "stdout",
          "output_type": "stream",
          "text": [
            "{'10': {'SVD': {'rmse': 1.4489824568150056, 'train_time': 2.0070746669989603}, 'SVDpp': {'rmse': 1.1238212378066512, 'train_time': 1.7709560980001697}, 'ItemCF': {'rmse': 1.0861509138755618, 'train_time': 0.2016638499990222}, 'UserCF': {'rmse': 1.194787821434299, 'train_time': 0.014725460001500323}, 'ALS': {'rmse': 1.3254622525294142, 'train_time': 4.3617191779994755}}}\n"
          ]
        },
        {
          "name": "stderr",
          "output_type": "stream",
          "text": [
            "\n"
          ]
        }
      ],
      "source": [
        "test_run44 = run_experiment(df_data, 10, 1, 1, ignore_remainder = True, task = 'rating')\n",
        "\n",
        "print(test_run44)"
      ]
    },
    {
      "cell_type": "code",
      "execution_count": null,
      "metadata": {
        "colab": {
          "base_uri": "https://localhost:8080/"
        },
        "id": "-1B2k7toZ97G",
        "outputId": "c04b2251-6b48-46ce-d000-0dd753a65d3e"
      },
      "outputs": [
        {
          "name": "stdout",
          "output_type": "stream",
          "text": [
            "\n",
            " ============================== SVD ==============================\n",
            "Training start time: \u001b[35m2023-04-03 18:03:08\u001b[0m\n"
          ]
        },
        {
          "name": "stderr",
          "output_type": "stream",
          "text": [
            "train: 100%|██████████| 24/24 [00:00<00:00, 222.77it/s]\n",
            "train: 100%|██████████| 24/24 [00:00<00:00, 860.83it/s]\n",
            "train: 100%|██████████| 24/24 [00:00<00:00, 720.62it/s]\n",
            "train: 100%|██████████| 24/24 [00:00<00:00, 783.19it/s]\n",
            "train: 100%|██████████| 24/24 [00:00<00:00, 839.57it/s]\n",
            "train: 100%|██████████| 24/24 [00:00<00:00, 872.65it/s]\n",
            "train: 100%|██████████| 24/24 [00:00<00:00, 842.79it/s]\n",
            "train: 100%|██████████| 24/24 [00:00<00:00, 846.86it/s]\n",
            "train: 100%|██████████| 24/24 [00:00<00:00, 855.47it/s]\n",
            "train: 100%|██████████| 24/24 [00:00<00:00, 866.58it/s]\n",
            "train: 100%|██████████| 24/24 [00:00<00:00, 865.53it/s]\n",
            "train: 100%|██████████| 24/24 [00:00<00:00, 765.50it/s]\n",
            "train: 100%|██████████| 24/24 [00:00<00:00, 864.30it/s]\n",
            "train: 100%|██████████| 24/24 [00:00<00:00, 882.66it/s]\n",
            "train: 100%|██████████| 24/24 [00:00<00:00, 856.75it/s]\n",
            "train: 100%|██████████| 24/24 [00:00<00:00, 816.09it/s]\n",
            "train: 100%|██████████| 24/24 [00:00<00:00, 864.80it/s]\n",
            "train: 100%|██████████| 24/24 [00:00<00:00, 852.81it/s]\n",
            "train: 100%|██████████| 24/24 [00:00<00:00, 854.37it/s]\n",
            "train: 100%|██████████| 24/24 [00:00<00:00, 720.36it/s]\n",
            "train: 100%|██████████| 24/24 [00:00<00:00, 741.52it/s]\n",
            "train: 100%|██████████| 24/24 [00:00<00:00, 608.08it/s]\n",
            "train: 100%|██████████| 24/24 [00:00<00:00, 744.48it/s]\n",
            "train: 100%|██████████| 24/24 [00:00<00:00, 845.89it/s]\n",
            "train: 100%|██████████| 24/24 [00:00<00:00, 846.75it/s]\n",
            "train: 100%|██████████| 24/24 [00:00<00:00, 835.37it/s]\n",
            "train: 100%|██████████| 24/24 [00:00<00:00, 812.18it/s]\n",
            "train: 100%|██████████| 24/24 [00:00<00:00, 854.03it/s]\n",
            "train: 100%|██████████| 24/24 [00:00<00:00, 761.09it/s]\n",
            "train: 100%|██████████| 24/24 [00:00<00:00, 829.06it/s]\n",
            "train: 100%|██████████| 24/24 [00:00<00:00, 840.60it/s]\n",
            "train: 100%|██████████| 24/24 [00:00<00:00, 863.62it/s]\n",
            "train: 100%|██████████| 24/24 [00:00<00:00, 753.20it/s]\n",
            "train: 100%|██████████| 24/24 [00:00<00:00, 830.30it/s]\n",
            "train: 100%|██████████| 24/24 [00:00<00:00, 806.09it/s]\n",
            "train: 100%|██████████| 24/24 [00:00<00:00, 851.07it/s]\n",
            "train: 100%|██████████| 24/24 [00:00<00:00, 872.00it/s]\n",
            "train: 100%|██████████| 24/24 [00:00<00:00, 799.51it/s]\n",
            "train: 100%|██████████| 24/24 [00:00<00:00, 765.84it/s]\n",
            "train: 100%|██████████| 24/24 [00:00<00:00, 700.14it/s]\n",
            "train: 100%|██████████| 24/24 [00:00<00:00, 836.12it/s]\n",
            "train: 100%|██████████| 24/24 [00:00<00:00, 864.00it/s]\n",
            "train: 100%|██████████| 24/24 [00:00<00:00, 776.66it/s]\n",
            "train: 100%|██████████| 24/24 [00:00<00:00, 812.11it/s]\n",
            "train: 100%|██████████| 24/24 [00:00<00:00, 749.56it/s]\n",
            "train: 100%|██████████| 24/24 [00:00<00:00, 776.38it/s]\n",
            "train: 100%|██████████| 24/24 [00:00<00:00, 784.73it/s]\n",
            "train: 100%|██████████| 24/24 [00:00<00:00, 774.34it/s]\n",
            "train: 100%|██████████| 24/24 [00:00<00:00, 808.81it/s]\n",
            "train: 100%|██████████| 24/24 [00:00<00:00, 708.64it/s]\n"
          ]
        },
        {
          "name": "stdout",
          "output_type": "stream",
          "text": [
            "\n",
            " ============================== SVD++ ==============================\n",
            "Training start time: \u001b[35m2023-04-03 18:03:10\u001b[0m\n"
          ]
        },
        {
          "name": "stderr",
          "output_type": "stream",
          "text": [
            "train: 100%|██████████| 24/24 [00:00<00:00, 148.61it/s]\n",
            "train: 100%|██████████| 24/24 [00:00<00:00, 478.79it/s]\n",
            "train: 100%|██████████| 24/24 [00:00<00:00, 443.39it/s]\n",
            "train: 100%|██████████| 24/24 [00:00<00:00, 563.32it/s]\n",
            "train: 100%|██████████| 24/24 [00:00<00:00, 508.44it/s]\n",
            "train: 100%|██████████| 24/24 [00:00<00:00, 481.82it/s]\n",
            "train: 100%|██████████| 24/24 [00:00<00:00, 483.00it/s]\n",
            "train: 100%|██████████| 24/24 [00:00<00:00, 420.07it/s]\n",
            "train: 100%|██████████| 24/24 [00:00<00:00, 485.60it/s]\n",
            "train: 100%|██████████| 24/24 [00:00<00:00, 471.31it/s]\n",
            "train: 100%|██████████| 24/24 [00:00<00:00, 458.31it/s]\n",
            "train: 100%|██████████| 24/24 [00:00<00:00, 444.62it/s]\n",
            "train: 100%|██████████| 24/24 [00:00<00:00, 478.68it/s]\n",
            "train: 100%|██████████| 24/24 [00:00<00:00, 474.75it/s]\n",
            "train: 100%|██████████| 24/24 [00:00<00:00, 487.49it/s]\n",
            "train: 100%|██████████| 24/24 [00:00<00:00, 475.80it/s]\n",
            "train: 100%|██████████| 24/24 [00:00<00:00, 482.41it/s]\n",
            "train: 100%|██████████| 24/24 [00:00<00:00, 455.74it/s]\n",
            "train: 100%|██████████| 24/24 [00:00<00:00, 490.05it/s]\n",
            "train: 100%|██████████| 24/24 [00:00<00:00, 505.77it/s]\n",
            "train: 100%|██████████| 24/24 [00:00<00:00, 490.23it/s]\n",
            "train: 100%|██████████| 24/24 [00:00<00:00, 412.45it/s]\n",
            "train: 100%|██████████| 24/24 [00:00<00:00, 484.56it/s]\n",
            "train: 100%|██████████| 24/24 [00:00<00:00, 418.25it/s]\n",
            "train: 100%|██████████| 24/24 [00:00<00:00, 446.82it/s]\n"
          ]
        },
        {
          "name": "stdout",
          "output_type": "stream",
          "text": [
            "\n",
            " ============================== item_cf ==============================\n",
            "Training start time: \u001b[35m2023-04-03 18:03:12\u001b[0m\n",
            "Final block size and num: (1015, 1)\n",
            "sim_matrix elapsed: 0.012s\n",
            "sim_matrix, shape: (1015, 1015), num_elements: 450380, density: 9459.7774 %\n"
          ]
        },
        {
          "name": "stderr",
          "output_type": "stream",
          "text": [
            "top_k: 100%|██████████| 1015/1015 [00:00<00:00, 6332.88it/s]\n"
          ]
        },
        {
          "name": "stdout",
          "output_type": "stream",
          "text": [
            "\n",
            " ============================== user_cf ==============================\n",
            "Training start time: \u001b[35m2023-04-03 18:03:12\u001b[0m\n",
            "Final block size and num: (69, 1)\n",
            "sim_matrix elapsed: 0.003s\n",
            "sim_matrix, shape: (69, 69), num_elements: 4228, density: 88.8049 %\n"
          ]
        },
        {
          "name": "stderr",
          "output_type": "stream",
          "text": [
            "top_k: 100%|██████████| 69/69 [00:00<00:00, 20865.68it/s]\n"
          ]
        },
        {
          "name": "stdout",
          "output_type": "stream",
          "text": [
            "\n",
            " ============================== ALS ==============================\n",
            "Training start time: \u001b[35m2023-04-03 18:03:12\u001b[0m\n",
            "0\n",
            "######## 10 ########\n",
            "<libreco.algorithms.svd.SVD object at 0x7f0ff2b323a0>\n"
          ]
        },
        {
          "name": "stderr",
          "output_type": "stream",
          "text": [
            "eval_pointwise: 100%|██████████| 1/1 [00:00<00:00, 1187.85it/s]\n"
          ]
        },
        {
          "name": "stdout",
          "output_type": "stream",
          "text": [
            "<libreco.algorithms.svdpp.SVDpp object at 0x7f0ff9b2c0d0>\n"
          ]
        },
        {
          "name": "stderr",
          "output_type": "stream",
          "text": [
            "eval_pointwise: 100%|██████████| 1/1 [00:00<00:00, 2737.80it/s]\n"
          ]
        },
        {
          "name": "stdout",
          "output_type": "stream",
          "text": [
            "<libreco.algorithms.item_cf.ItemCF object at 0x7f0ff2984af0>\n"
          ]
        },
        {
          "name": "stderr",
          "output_type": "stream",
          "text": [
            "eval_pointwise: 100%|██████████| 1/1 [00:00<00:00, 29.41it/s]\n"
          ]
        },
        {
          "name": "stdout",
          "output_type": "stream",
          "text": [
            "<libreco.algorithms.user_cf.UserCF object at 0x7f0ff25ead60>\n"
          ]
        },
        {
          "name": "stderr",
          "output_type": "stream",
          "text": [
            "eval_pointwise: 100%|██████████| 1/1 [00:00<00:00, 73.52it/s]\n"
          ]
        },
        {
          "name": "stdout",
          "output_type": "stream",
          "text": [
            "<libreco.algorithms.als.ALS object at 0x7f0ff2a71b50>\n"
          ]
        },
        {
          "name": "stderr",
          "output_type": "stream",
          "text": [
            "eval_pointwise: 100%|██████████| 1/1 [00:00<00:00, 2511.56it/s]"
          ]
        },
        {
          "name": "stdout",
          "output_type": "stream",
          "text": [
            "\n",
            " ============================== SVD ==============================\n",
            "Training start time: \u001b[35m2023-04-03 18:03:14\u001b[0m\n"
          ]
        },
        {
          "name": "stderr",
          "output_type": "stream",
          "text": [
            "\n",
            "train: 100%|██████████| 40/40 [00:00<00:00, 424.95it/s]\n",
            "train: 100%|██████████| 40/40 [00:00<00:00, 1138.01it/s]\n",
            "train: 100%|██████████| 40/40 [00:00<00:00, 1202.02it/s]\n",
            "train: 100%|██████████| 40/40 [00:00<00:00, 1006.96it/s]\n",
            "train: 100%|██████████| 40/40 [00:00<00:00, 1214.92it/s]\n",
            "train: 100%|██████████| 40/40 [00:00<00:00, 1176.18it/s]\n",
            "train: 100%|██████████| 40/40 [00:00<00:00, 1190.19it/s]\n",
            "train: 100%|██████████| 40/40 [00:00<00:00, 1131.19it/s]\n",
            "train: 100%|██████████| 40/40 [00:00<00:00, 1198.76it/s]\n",
            "train: 100%|██████████| 40/40 [00:00<00:00, 1270.71it/s]\n",
            "train: 100%|██████████| 40/40 [00:00<00:00, 863.51it/s]\n",
            "train: 100%|██████████| 40/40 [00:00<00:00, 1052.45it/s]\n",
            "train: 100%|██████████| 40/40 [00:00<00:00, 1212.79it/s]\n",
            "train: 100%|██████████| 40/40 [00:00<00:00, 1182.65it/s]\n",
            "train: 100%|██████████| 40/40 [00:00<00:00, 797.07it/s]\n",
            "train: 100%|██████████| 40/40 [00:00<00:00, 921.21it/s]\n",
            "train: 100%|██████████| 40/40 [00:00<00:00, 1116.89it/s]\n",
            "train: 100%|██████████| 40/40 [00:00<00:00, 1209.87it/s]\n",
            "train: 100%|██████████| 40/40 [00:00<00:00, 1225.32it/s]\n",
            "train: 100%|██████████| 40/40 [00:00<00:00, 1095.36it/s]\n",
            "train: 100%|██████████| 40/40 [00:00<00:00, 1213.29it/s]\n",
            "train: 100%|██████████| 40/40 [00:00<00:00, 1213.52it/s]\n",
            "train: 100%|██████████| 40/40 [00:00<00:00, 1146.64it/s]\n",
            "train: 100%|██████████| 40/40 [00:00<00:00, 1246.39it/s]\n",
            "train: 100%|██████████| 40/40 [00:00<00:00, 1246.23it/s]\n",
            "train: 100%|██████████| 40/40 [00:00<00:00, 988.98it/s]\n",
            "train: 100%|██████████| 40/40 [00:00<00:00, 1204.43it/s]\n",
            "train: 100%|██████████| 40/40 [00:00<00:00, 1003.20it/s]\n",
            "train: 100%|██████████| 40/40 [00:00<00:00, 1248.37it/s]\n",
            "train: 100%|██████████| 40/40 [00:00<00:00, 1182.29it/s]\n",
            "train: 100%|██████████| 40/40 [00:00<00:00, 1113.46it/s]\n",
            "train: 100%|██████████| 40/40 [00:00<00:00, 1010.66it/s]\n",
            "train: 100%|██████████| 40/40 [00:00<00:00, 1230.90it/s]\n",
            "train: 100%|██████████| 40/40 [00:00<00:00, 1143.29it/s]\n",
            "train: 100%|██████████| 40/40 [00:00<00:00, 992.39it/s]\n",
            "train: 100%|██████████| 40/40 [00:00<00:00, 1097.99it/s]\n",
            "train: 100%|██████████| 40/40 [00:00<00:00, 1133.72it/s]\n",
            "train: 100%|██████████| 40/40 [00:00<00:00, 981.96it/s]\n",
            "train: 100%|██████████| 40/40 [00:00<00:00, 980.85it/s]\n",
            "train: 100%|██████████| 40/40 [00:00<00:00, 1166.77it/s]\n",
            "train: 100%|██████████| 40/40 [00:00<00:00, 1097.68it/s]\n",
            "train: 100%|██████████| 40/40 [00:00<00:00, 1089.51it/s]\n",
            "train: 100%|██████████| 40/40 [00:00<00:00, 1258.39it/s]\n",
            "train: 100%|██████████| 40/40 [00:00<00:00, 1171.72it/s]\n",
            "train: 100%|██████████| 40/40 [00:00<00:00, 1140.69it/s]\n",
            "train: 100%|██████████| 40/40 [00:00<00:00, 1198.50it/s]\n",
            "train: 100%|██████████| 40/40 [00:00<00:00, 1090.46it/s]\n",
            "train: 100%|██████████| 40/40 [00:00<00:00, 1140.59it/s]\n",
            "train: 100%|██████████| 40/40 [00:00<00:00, 1060.57it/s]\n",
            "train: 100%|██████████| 40/40 [00:00<00:00, 1086.61it/s]\n"
          ]
        },
        {
          "name": "stdout",
          "output_type": "stream",
          "text": [
            "\n",
            " ============================== SVD++ ==============================\n",
            "Training start time: \u001b[35m2023-04-03 18:03:17\u001b[0m\n"
          ]
        },
        {
          "name": "stderr",
          "output_type": "stream",
          "text": [
            "train: 100%|██████████| 40/40 [00:00<00:00, 250.31it/s]\n",
            "train: 100%|██████████| 40/40 [00:00<00:00, 664.25it/s]\n",
            "train: 100%|██████████| 40/40 [00:00<00:00, 679.70it/s]\n",
            "train: 100%|██████████| 40/40 [00:00<00:00, 682.49it/s]\n",
            "train: 100%|██████████| 40/40 [00:00<00:00, 715.09it/s]\n",
            "train: 100%|██████████| 40/40 [00:00<00:00, 595.47it/s]\n",
            "train: 100%|██████████| 40/40 [00:00<00:00, 654.46it/s]\n",
            "train: 100%|██████████| 40/40 [00:00<00:00, 684.85it/s]\n",
            "train: 100%|██████████| 40/40 [00:00<00:00, 676.16it/s]\n",
            "train: 100%|██████████| 40/40 [00:00<00:00, 646.35it/s]\n",
            "train: 100%|██████████| 40/40 [00:00<00:00, 675.06it/s]\n",
            "train: 100%|██████████| 40/40 [00:00<00:00, 662.40it/s]\n",
            "train: 100%|██████████| 40/40 [00:00<00:00, 720.73it/s]\n",
            "train: 100%|██████████| 40/40 [00:00<00:00, 741.91it/s]\n",
            "train: 100%|██████████| 40/40 [00:00<00:00, 612.56it/s]\n",
            "train: 100%|██████████| 40/40 [00:00<00:00, 697.13it/s]\n",
            "train: 100%|██████████| 40/40 [00:00<00:00, 635.62it/s]\n",
            "train: 100%|██████████| 40/40 [00:00<00:00, 695.54it/s]\n",
            "train: 100%|██████████| 40/40 [00:00<00:00, 682.92it/s]\n",
            "train: 100%|██████████| 40/40 [00:00<00:00, 712.14it/s]\n",
            "train: 100%|██████████| 40/40 [00:00<00:00, 704.73it/s]\n",
            "train: 100%|██████████| 40/40 [00:00<00:00, 668.69it/s]\n",
            "train: 100%|██████████| 40/40 [00:00<00:00, 562.14it/s]\n",
            "train: 100%|██████████| 40/40 [00:00<00:00, 739.36it/s]\n",
            "train: 100%|██████████| 40/40 [00:00<00:00, 701.67it/s]\n"
          ]
        },
        {
          "name": "stdout",
          "output_type": "stream",
          "text": [
            "\n",
            " ============================== item_cf ==============================\n",
            "Training start time: \u001b[35m2023-04-03 18:03:19\u001b[0m\n",
            "Final block size and num: (1125, 1)\n",
            "sim_matrix elapsed: 0.018s\n",
            "sim_matrix, shape: (1125, 1125), num_elements: 609096, density: 5033.8512 %\n"
          ]
        },
        {
          "name": "stderr",
          "output_type": "stream",
          "text": [
            "top_k: 100%|██████████| 1125/1125 [00:00<00:00, 1511.35it/s]\n"
          ]
        },
        {
          "name": "stdout",
          "output_type": "stream",
          "text": [
            "\n",
            " ============================== user_cf ==============================\n",
            "Training start time: \u001b[35m2023-04-03 18:03:20\u001b[0m\n",
            "Final block size and num: (110, 1)\n",
            "sim_matrix elapsed: 0.002s\n",
            "sim_matrix, shape: (110, 110), num_elements: 10842, density: 89.6033 %\n"
          ]
        },
        {
          "name": "stderr",
          "output_type": "stream",
          "text": [
            "top_k: 100%|██████████| 110/110 [00:00<00:00, 20884.19it/s]\n"
          ]
        },
        {
          "name": "stdout",
          "output_type": "stream",
          "text": [
            "\n",
            " ============================== ALS ==============================\n",
            "Training start time: \u001b[35m2023-04-03 18:03:20\u001b[0m\n",
            "1\n",
            "######## 20 ########\n",
            "<libreco.algorithms.svd.SVD object at 0x7f0ff2224100>\n"
          ]
        },
        {
          "name": "stderr",
          "output_type": "stream",
          "text": [
            "eval_pointwise: 100%|██████████| 1/1 [00:00<00:00, 2181.13it/s]\n"
          ]
        },
        {
          "name": "stdout",
          "output_type": "stream",
          "text": [
            "<libreco.algorithms.svdpp.SVDpp object at 0x7f0ff2140640>\n"
          ]
        },
        {
          "name": "stderr",
          "output_type": "stream",
          "text": [
            "eval_pointwise: 100%|██████████| 1/1 [00:00<00:00, 2189.09it/s]\n"
          ]
        },
        {
          "name": "stdout",
          "output_type": "stream",
          "text": [
            "<libreco.algorithms.item_cf.ItemCF object at 0x7f0ff2a52b20>\n"
          ]
        },
        {
          "name": "stderr",
          "output_type": "stream",
          "text": [
            "eval_pointwise: 100%|██████████| 1/1 [00:00<00:00, 17.75it/s]\n"
          ]
        },
        {
          "name": "stdout",
          "output_type": "stream",
          "text": [
            "<libreco.algorithms.user_cf.UserCF object at 0x7f0ff2170160>\n"
          ]
        },
        {
          "name": "stderr",
          "output_type": "stream",
          "text": [
            "eval_pointwise: 100%|██████████| 1/1 [00:00<00:00, 41.89it/s]\n"
          ]
        },
        {
          "name": "stdout",
          "output_type": "stream",
          "text": [
            "<libreco.algorithms.als.ALS object at 0x7f0ff2232100>\n"
          ]
        },
        {
          "name": "stderr",
          "output_type": "stream",
          "text": [
            "eval_pointwise: 100%|██████████| 1/1 [00:00<00:00, 2695.57it/s]"
          ]
        },
        {
          "name": "stdout",
          "output_type": "stream",
          "text": [
            "\n",
            " ============================== SVD ==============================\n",
            "Training start time: \u001b[35m2023-04-03 18:03:21\u001b[0m\n"
          ]
        },
        {
          "name": "stderr",
          "output_type": "stream",
          "text": [
            "\n",
            "train: 100%|██████████| 54/54 [00:00<00:00, 461.67it/s]\n",
            "train: 100%|██████████| 54/54 [00:00<00:00, 1203.36it/s]\n",
            "train: 100%|██████████| 54/54 [00:00<00:00, 1023.26it/s]\n",
            "train: 100%|██████████| 54/54 [00:00<00:00, 992.03it/s]\n",
            "train: 100%|██████████| 54/54 [00:00<00:00, 1208.58it/s]\n",
            "train: 100%|██████████| 54/54 [00:00<00:00, 1140.11it/s]\n",
            "train: 100%|██████████| 54/54 [00:00<00:00, 1051.69it/s]\n",
            "train: 100%|██████████| 54/54 [00:00<00:00, 1057.98it/s]\n",
            "train: 100%|██████████| 54/54 [00:00<00:00, 1197.63it/s]\n",
            "train: 100%|██████████| 54/54 [00:00<00:00, 1187.77it/s]\n",
            "train: 100%|██████████| 54/54 [00:00<00:00, 1188.91it/s]\n",
            "train: 100%|██████████| 54/54 [00:00<00:00, 1175.41it/s]\n",
            "train: 100%|██████████| 54/54 [00:00<00:00, 1224.28it/s]\n",
            "train: 100%|██████████| 54/54 [00:00<00:00, 1032.15it/s]\n",
            "train: 100%|██████████| 54/54 [00:00<00:00, 996.35it/s]\n",
            "train: 100%|██████████| 54/54 [00:00<00:00, 1118.01it/s]\n",
            "train: 100%|██████████| 54/54 [00:00<00:00, 909.78it/s]\n",
            "train: 100%|██████████| 54/54 [00:00<00:00, 1119.93it/s]\n",
            "train: 100%|██████████| 54/54 [00:00<00:00, 1173.32it/s]\n",
            "train: 100%|██████████| 54/54 [00:00<00:00, 1099.05it/s]\n",
            "train: 100%|██████████| 54/54 [00:00<00:00, 1048.43it/s]\n",
            "train: 100%|██████████| 54/54 [00:00<00:00, 925.80it/s]\n",
            "train: 100%|██████████| 54/54 [00:00<00:00, 1007.60it/s]\n",
            "train: 100%|██████████| 54/54 [00:00<00:00, 885.69it/s]\n",
            "train: 100%|██████████| 54/54 [00:00<00:00, 783.29it/s]\n",
            "train: 100%|██████████| 54/54 [00:00<00:00, 756.36it/s]\n",
            "train: 100%|██████████| 54/54 [00:00<00:00, 692.19it/s]\n",
            "train: 100%|██████████| 54/54 [00:00<00:00, 714.33it/s]\n",
            "train: 100%|██████████| 54/54 [00:00<00:00, 727.12it/s]\n",
            "train: 100%|██████████| 54/54 [00:00<00:00, 782.00it/s]\n",
            "train: 100%|██████████| 54/54 [00:00<00:00, 744.08it/s]\n",
            "train: 100%|██████████| 54/54 [00:00<00:00, 748.59it/s]\n",
            "train: 100%|██████████| 54/54 [00:00<00:00, 807.58it/s]\n",
            "train: 100%|██████████| 54/54 [00:00<00:00, 730.82it/s]\n",
            "train: 100%|██████████| 54/54 [00:00<00:00, 798.48it/s]\n",
            "train: 100%|██████████| 54/54 [00:00<00:00, 760.18it/s]\n",
            "train: 100%|██████████| 54/54 [00:00<00:00, 647.23it/s]\n",
            "train: 100%|██████████| 54/54 [00:00<00:00, 706.00it/s]\n",
            "train: 100%|██████████| 54/54 [00:00<00:00, 770.94it/s]\n",
            "train: 100%|██████████| 54/54 [00:00<00:00, 741.72it/s]\n",
            "train: 100%|██████████| 54/54 [00:00<00:00, 625.95it/s]\n",
            "train: 100%|██████████| 54/54 [00:00<00:00, 717.67it/s]\n",
            "train: 100%|██████████| 54/54 [00:00<00:00, 658.56it/s]\n",
            "train: 100%|██████████| 54/54 [00:00<00:00, 739.10it/s]\n",
            "train: 100%|██████████| 54/54 [00:00<00:00, 761.29it/s]\n",
            "train: 100%|██████████| 54/54 [00:00<00:00, 743.96it/s]\n",
            "train: 100%|██████████| 54/54 [00:00<00:00, 742.82it/s]\n",
            "train: 100%|██████████| 54/54 [00:00<00:00, 753.70it/s]\n",
            "train: 100%|██████████| 54/54 [00:00<00:00, 761.09it/s]\n",
            "train: 100%|██████████| 54/54 [00:00<00:00, 728.78it/s]\n"
          ]
        },
        {
          "name": "stdout",
          "output_type": "stream",
          "text": [
            "\n",
            " ============================== SVD++ ==============================\n",
            "Training start time: \u001b[35m2023-04-03 18:03:25\u001b[0m\n"
          ]
        },
        {
          "name": "stderr",
          "output_type": "stream",
          "text": [
            "train: 100%|██████████| 54/54 [00:00<00:00, 203.21it/s]\n",
            "train: 100%|██████████| 54/54 [00:00<00:00, 358.56it/s]\n",
            "train: 100%|██████████| 54/54 [00:00<00:00, 340.76it/s]\n",
            "train: 100%|██████████| 54/54 [00:00<00:00, 377.77it/s]\n",
            "train: 100%|██████████| 54/54 [00:00<00:00, 325.00it/s]\n",
            "train: 100%|██████████| 54/54 [00:00<00:00, 378.79it/s]\n",
            "train: 100%|██████████| 54/54 [00:00<00:00, 371.69it/s]\n",
            "train: 100%|██████████| 54/54 [00:00<00:00, 385.57it/s]\n",
            "train: 100%|██████████| 54/54 [00:00<00:00, 343.20it/s]\n",
            "train: 100%|██████████| 54/54 [00:00<00:00, 319.04it/s]\n",
            "train: 100%|██████████| 54/54 [00:00<00:00, 325.02it/s]\n",
            "train: 100%|██████████| 54/54 [00:00<00:00, 375.25it/s]\n",
            "train: 100%|██████████| 54/54 [00:00<00:00, 389.94it/s]\n",
            "train: 100%|██████████| 54/54 [00:00<00:00, 594.37it/s]\n",
            "train: 100%|██████████| 54/54 [00:00<00:00, 525.04it/s]\n",
            "train: 100%|██████████| 54/54 [00:00<00:00, 580.89it/s]\n",
            "train: 100%|██████████| 54/54 [00:00<00:00, 571.63it/s]\n",
            "train: 100%|██████████| 54/54 [00:00<00:00, 611.60it/s]\n",
            "train: 100%|██████████| 54/54 [00:00<00:00, 418.18it/s]\n",
            "train: 100%|██████████| 54/54 [00:00<00:00, 256.32it/s]\n",
            "train: 100%|██████████| 54/54 [00:00<00:00, 235.77it/s]\n",
            "train: 100%|██████████| 54/54 [00:00<00:00, 344.89it/s]\n",
            "train: 100%|██████████| 54/54 [00:00<00:00, 282.96it/s]\n",
            "train: 100%|██████████| 54/54 [00:00<00:00, 322.14it/s]\n",
            "train: 100%|██████████| 54/54 [00:00<00:00, 306.41it/s]\n"
          ]
        },
        {
          "name": "stdout",
          "output_type": "stream",
          "text": [
            "\n",
            " ============================== item_cf ==============================\n",
            "Training start time: \u001b[35m2023-04-03 18:03:30\u001b[0m\n",
            "Final block size and num: (1183, 1)\n",
            "sim_matrix elapsed: 0.019s\n",
            "sim_matrix, shape: (1183, 1183), num_elements: 677422, density: 2971.0188 %\n"
          ]
        },
        {
          "name": "stderr",
          "output_type": "stream",
          "text": [
            "top_k: 100%|██████████| 1183/1183 [00:00<00:00, 5374.60it/s]\n"
          ]
        },
        {
          "name": "stdout",
          "output_type": "stream",
          "text": [
            "\n",
            " ============================== user_cf ==============================\n",
            "Training start time: \u001b[35m2023-04-03 18:03:30\u001b[0m\n",
            "Final block size and num: (151, 1)\n",
            "sim_matrix elapsed: 0.003s\n",
            "sim_matrix, shape: (151, 151), num_elements: 20994, density: 92.0749 %\n"
          ]
        },
        {
          "name": "stderr",
          "output_type": "stream",
          "text": [
            "top_k: 100%|██████████| 151/151 [00:00<00:00, 19514.40it/s]\n"
          ]
        },
        {
          "name": "stdout",
          "output_type": "stream",
          "text": [
            "\n",
            " ============================== ALS ==============================\n",
            "Training start time: \u001b[35m2023-04-03 18:03:30\u001b[0m\n",
            "2\n",
            "######## 30 ########\n",
            "<libreco.algorithms.svd.SVD object at 0x7f0ff2d0b610>\n"
          ]
        },
        {
          "name": "stderr",
          "output_type": "stream",
          "text": [
            "eval_pointwise: 100%|██████████| 1/1 [00:00<00:00, 1861.65it/s]\n"
          ]
        },
        {
          "name": "stdout",
          "output_type": "stream",
          "text": [
            "<libreco.algorithms.svdpp.SVDpp object at 0x7f0ff9c075e0>\n"
          ]
        },
        {
          "name": "stderr",
          "output_type": "stream",
          "text": [
            "eval_pointwise: 100%|██████████| 1/1 [00:00<00:00, 1264.49it/s]\n"
          ]
        },
        {
          "name": "stdout",
          "output_type": "stream",
          "text": [
            "<libreco.algorithms.item_cf.ItemCF object at 0x7f0ff31a6f10>\n"
          ]
        },
        {
          "name": "stderr",
          "output_type": "stream",
          "text": [
            "eval_pointwise: 100%|██████████| 1/1 [00:00<00:00, 13.33it/s]\n"
          ]
        },
        {
          "name": "stdout",
          "output_type": "stream",
          "text": [
            "<libreco.algorithms.user_cf.UserCF object at 0x7f1089e84880>\n"
          ]
        },
        {
          "name": "stderr",
          "output_type": "stream",
          "text": [
            "eval_pointwise: 100%|██████████| 1/1 [00:00<00:00, 39.21it/s]\n"
          ]
        },
        {
          "name": "stdout",
          "output_type": "stream",
          "text": [
            "<libreco.algorithms.als.ALS object at 0x7f1089b871f0>\n"
          ]
        },
        {
          "name": "stderr",
          "output_type": "stream",
          "text": [
            "eval_pointwise: 100%|██████████| 1/1 [00:00<00:00, 1274.09it/s]"
          ]
        },
        {
          "name": "stdout",
          "output_type": "stream",
          "text": [
            "\n",
            " ============================== SVD ==============================\n",
            "Training start time: \u001b[35m2023-04-03 18:03:34\u001b[0m\n"
          ]
        },
        {
          "name": "stderr",
          "output_type": "stream",
          "text": [
            "\n",
            "train: 100%|██████████| 63/63 [00:00<00:00, 553.05it/s]\n",
            "train: 100%|██████████| 63/63 [00:00<00:00, 1317.39it/s]\n",
            "train: 100%|██████████| 63/63 [00:00<00:00, 1019.94it/s]\n",
            "train: 100%|██████████| 63/63 [00:00<00:00, 1090.08it/s]\n",
            "train: 100%|██████████| 63/63 [00:00<00:00, 1099.36it/s]\n",
            "train: 100%|██████████| 63/63 [00:00<00:00, 1155.42it/s]\n",
            "train: 100%|██████████| 63/63 [00:00<00:00, 957.00it/s]\n",
            "train: 100%|██████████| 63/63 [00:00<00:00, 1214.89it/s]\n",
            "train: 100%|██████████| 63/63 [00:00<00:00, 1235.90it/s]\n",
            "train: 100%|██████████| 63/63 [00:00<00:00, 1154.20it/s]\n",
            "train: 100%|██████████| 63/63 [00:00<00:00, 830.74it/s]\n",
            "train: 100%|██████████| 63/63 [00:00<00:00, 1229.95it/s]\n",
            "train: 100%|██████████| 63/63 [00:00<00:00, 1032.50it/s]\n",
            "train: 100%|██████████| 63/63 [00:00<00:00, 1216.76it/s]\n",
            "train: 100%|██████████| 63/63 [00:00<00:00, 1097.55it/s]\n",
            "train: 100%|██████████| 63/63 [00:00<00:00, 1055.64it/s]\n",
            "train: 100%|██████████| 63/63 [00:00<00:00, 1105.74it/s]\n",
            "train: 100%|██████████| 63/63 [00:00<00:00, 1048.04it/s]\n",
            "train: 100%|██████████| 63/63 [00:00<00:00, 1011.01it/s]\n",
            "train: 100%|██████████| 63/63 [00:00<00:00, 894.48it/s]\n",
            "train: 100%|██████████| 63/63 [00:00<00:00, 1135.77it/s]\n",
            "train: 100%|██████████| 63/63 [00:00<00:00, 1084.60it/s]\n",
            "train: 100%|██████████| 63/63 [00:00<00:00, 1087.56it/s]\n",
            "train: 100%|██████████| 63/63 [00:00<00:00, 1215.07it/s]\n",
            "train: 100%|██████████| 63/63 [00:00<00:00, 1147.82it/s]\n",
            "train: 100%|██████████| 63/63 [00:00<00:00, 981.31it/s]\n",
            "train: 100%|██████████| 63/63 [00:00<00:00, 1036.88it/s]\n",
            "train: 100%|██████████| 63/63 [00:00<00:00, 1203.20it/s]\n",
            "train: 100%|██████████| 63/63 [00:00<00:00, 1123.16it/s]\n",
            "train: 100%|██████████| 63/63 [00:00<00:00, 1146.20it/s]\n",
            "train: 100%|██████████| 63/63 [00:00<00:00, 1097.36it/s]\n",
            "train: 100%|██████████| 63/63 [00:00<00:00, 876.47it/s]\n",
            "train: 100%|██████████| 63/63 [00:00<00:00, 1231.63it/s]\n",
            "train: 100%|██████████| 63/63 [00:00<00:00, 1058.25it/s]\n",
            "train: 100%|██████████| 63/63 [00:00<00:00, 1197.75it/s]\n",
            "train: 100%|██████████| 63/63 [00:00<00:00, 1054.12it/s]\n",
            "train: 100%|██████████| 63/63 [00:00<00:00, 1161.39it/s]\n",
            "train: 100%|██████████| 63/63 [00:00<00:00, 1089.43it/s]\n",
            "train: 100%|██████████| 63/63 [00:00<00:00, 1203.05it/s]\n",
            "train: 100%|██████████| 63/63 [00:00<00:00, 1128.07it/s]\n",
            "train: 100%|██████████| 63/63 [00:00<00:00, 1199.29it/s]\n",
            "train: 100%|██████████| 63/63 [00:00<00:00, 1096.47it/s]\n",
            "train: 100%|██████████| 63/63 [00:00<00:00, 1024.27it/s]\n",
            "train: 100%|██████████| 63/63 [00:00<00:00, 998.52it/s]\n",
            "train: 100%|██████████| 63/63 [00:00<00:00, 1151.91it/s]\n",
            "train: 100%|██████████| 63/63 [00:00<00:00, 1220.45it/s]\n",
            "train: 100%|██████████| 63/63 [00:00<00:00, 1142.10it/s]\n",
            "train: 100%|██████████| 63/63 [00:00<00:00, 1177.35it/s]\n",
            "train: 100%|██████████| 63/63 [00:00<00:00, 698.77it/s]\n",
            "train: 100%|██████████| 63/63 [00:00<00:00, 607.98it/s]\n"
          ]
        },
        {
          "name": "stdout",
          "output_type": "stream",
          "text": [
            "\n",
            " ============================== SVD++ ==============================\n",
            "Training start time: \u001b[35m2023-04-03 18:03:38\u001b[0m\n"
          ]
        },
        {
          "name": "stderr",
          "output_type": "stream",
          "text": [
            "train: 100%|██████████| 63/63 [00:00<00:00, 208.65it/s]\n",
            "train: 100%|██████████| 63/63 [00:00<00:00, 392.06it/s]\n",
            "train: 100%|██████████| 63/63 [00:00<00:00, 375.57it/s]\n",
            "train: 100%|██████████| 63/63 [00:00<00:00, 393.26it/s]\n",
            "train: 100%|██████████| 63/63 [00:00<00:00, 386.44it/s]\n",
            "train: 100%|██████████| 63/63 [00:00<00:00, 404.52it/s]\n",
            "train: 100%|██████████| 63/63 [00:00<00:00, 401.47it/s]\n",
            "train: 100%|██████████| 63/63 [00:00<00:00, 397.84it/s]\n",
            "train: 100%|██████████| 63/63 [00:00<00:00, 394.55it/s]\n",
            "train: 100%|██████████| 63/63 [00:00<00:00, 413.38it/s]\n",
            "train: 100%|██████████| 63/63 [00:00<00:00, 398.96it/s]\n",
            "train: 100%|██████████| 63/63 [00:00<00:00, 368.85it/s]\n",
            "train: 100%|██████████| 63/63 [00:00<00:00, 416.69it/s]\n",
            "train: 100%|██████████| 63/63 [00:00<00:00, 363.89it/s]\n",
            "train: 100%|██████████| 63/63 [00:00<00:00, 344.63it/s]\n",
            "train: 100%|██████████| 63/63 [00:00<00:00, 353.53it/s]\n",
            "train: 100%|██████████| 63/63 [00:00<00:00, 361.97it/s]\n",
            "train: 100%|██████████| 63/63 [00:00<00:00, 366.10it/s]\n",
            "train: 100%|██████████| 63/63 [00:00<00:00, 371.66it/s]\n",
            "train: 100%|██████████| 63/63 [00:00<00:00, 375.24it/s]\n",
            "train: 100%|██████████| 63/63 [00:00<00:00, 326.82it/s]\n",
            "train: 100%|██████████| 63/63 [00:00<00:00, 348.22it/s]\n",
            "train: 100%|██████████| 63/63 [00:00<00:00, 508.79it/s]\n",
            "train: 100%|██████████| 63/63 [00:00<00:00, 488.69it/s]\n",
            "train: 100%|██████████| 63/63 [00:00<00:00, 528.03it/s]\n"
          ]
        },
        {
          "name": "stdout",
          "output_type": "stream",
          "text": [
            "\n",
            " ============================== item_cf ==============================\n",
            "Training start time: \u001b[35m2023-04-03 18:03:43\u001b[0m\n",
            "Final block size and num: (1221, 1)\n",
            "sim_matrix elapsed: 0.026s\n",
            "sim_matrix, shape: (1221, 1221), num_elements: 730688, density: 2230.3593 %\n"
          ]
        },
        {
          "name": "stderr",
          "output_type": "stream",
          "text": [
            "top_k: 100%|██████████| 1221/1221 [00:00<00:00, 7005.27it/s]\n"
          ]
        },
        {
          "name": "stdout",
          "output_type": "stream",
          "text": [
            "\n",
            " ============================== user_cf ==============================\n",
            "Training start time: \u001b[35m2023-04-03 18:03:43\u001b[0m\n",
            "Final block size and num: (181, 1)\n",
            "sim_matrix elapsed: 0.002s\n",
            "sim_matrix, shape: (181, 181), num_elements: 30380, density: 92.7322 %\n"
          ]
        },
        {
          "name": "stderr",
          "output_type": "stream",
          "text": [
            "top_k: 100%|██████████| 181/181 [00:00<00:00, 20147.80it/s]\n"
          ]
        },
        {
          "name": "stdout",
          "output_type": "stream",
          "text": [
            "\n",
            " ============================== ALS ==============================\n",
            "Training start time: \u001b[35m2023-04-03 18:03:43\u001b[0m\n",
            "3\n",
            "######## 40 ########\n",
            "<libreco.algorithms.svd.SVD object at 0x7f108a044760>\n"
          ]
        },
        {
          "name": "stderr",
          "output_type": "stream",
          "text": [
            "eval_pointwise: 100%|██████████| 1/1 [00:00<00:00, 1177.51it/s]\n"
          ]
        },
        {
          "name": "stdout",
          "output_type": "stream",
          "text": [
            "<libreco.algorithms.svdpp.SVDpp object at 0x7f1089b39430>\n"
          ]
        },
        {
          "name": "stderr",
          "output_type": "stream",
          "text": [
            "eval_pointwise: 100%|██████████| 1/1 [00:00<00:00, 665.13it/s]\n"
          ]
        },
        {
          "name": "stdout",
          "output_type": "stream",
          "text": [
            "<libreco.algorithms.item_cf.ItemCF object at 0x7f1089ad1a90>\n"
          ]
        },
        {
          "name": "stderr",
          "output_type": "stream",
          "text": [
            "eval_pointwise: 100%|██████████| 1/1 [00:00<00:00, 11.89it/s]\n"
          ]
        },
        {
          "name": "stdout",
          "output_type": "stream",
          "text": [
            "<libreco.algorithms.user_cf.UserCF object at 0x7f1089ad1130>\n"
          ]
        },
        {
          "name": "stderr",
          "output_type": "stream",
          "text": [
            "eval_pointwise: 100%|██████████| 1/1 [00:00<00:00, 27.35it/s]\n"
          ]
        },
        {
          "name": "stdout",
          "output_type": "stream",
          "text": [
            "<libreco.algorithms.als.ALS object at 0x7f108957ddf0>\n"
          ]
        },
        {
          "name": "stderr",
          "output_type": "stream",
          "text": [
            "eval_pointwise: 100%|██████████| 1/1 [00:00<00:00, 2470.14it/s]\n"
          ]
        },
        {
          "name": "stdout",
          "output_type": "stream",
          "text": [
            "\n",
            " ============================== SVD ==============================\n",
            "Training start time: \u001b[35m2023-04-03 18:03:46\u001b[0m\n"
          ]
        },
        {
          "name": "stderr",
          "output_type": "stream",
          "text": [
            "train: 100%|██████████| 79/79 [00:00<00:00, 633.14it/s]\n",
            "train: 100%|██████████| 79/79 [00:00<00:00, 1293.32it/s]\n",
            "train: 100%|██████████| 79/79 [00:00<00:00, 1279.64it/s]\n",
            "train: 100%|██████████| 79/79 [00:00<00:00, 1169.04it/s]\n",
            "train: 100%|██████████| 79/79 [00:00<00:00, 1296.99it/s]\n",
            "train: 100%|██████████| 79/79 [00:00<00:00, 1191.48it/s]\n",
            "train: 100%|██████████| 79/79 [00:00<00:00, 1265.89it/s]\n",
            "train: 100%|██████████| 79/79 [00:00<00:00, 1095.41it/s]\n",
            "train: 100%|██████████| 79/79 [00:00<00:00, 1133.02it/s]\n",
            "train: 100%|██████████| 79/79 [00:00<00:00, 1206.23it/s]\n",
            "train: 100%|██████████| 79/79 [00:00<00:00, 1248.25it/s]\n",
            "train: 100%|██████████| 79/79 [00:00<00:00, 1136.33it/s]\n",
            "train: 100%|██████████| 79/79 [00:00<00:00, 1054.50it/s]\n",
            "train: 100%|██████████| 79/79 [00:00<00:00, 1206.72it/s]\n",
            "train: 100%|██████████| 79/79 [00:00<00:00, 1189.45it/s]\n",
            "train: 100%|██████████| 79/79 [00:00<00:00, 1255.23it/s]\n",
            "train: 100%|██████████| 79/79 [00:00<00:00, 1132.99it/s]\n",
            "train: 100%|██████████| 79/79 [00:00<00:00, 1216.46it/s]\n",
            "train: 100%|██████████| 79/79 [00:00<00:00, 1127.95it/s]\n",
            "train: 100%|██████████| 79/79 [00:00<00:00, 1200.68it/s]\n",
            "train: 100%|██████████| 79/79 [00:00<00:00, 1167.98it/s]\n",
            "train: 100%|██████████| 79/79 [00:00<00:00, 1038.08it/s]\n",
            "train: 100%|██████████| 79/79 [00:00<00:00, 1221.72it/s]\n",
            "train: 100%|██████████| 79/79 [00:00<00:00, 1234.45it/s]\n",
            "train: 100%|██████████| 79/79 [00:00<00:00, 1124.44it/s]\n",
            "train: 100%|██████████| 79/79 [00:00<00:00, 1113.62it/s]\n",
            "train: 100%|██████████| 79/79 [00:00<00:00, 1123.58it/s]\n",
            "train: 100%|██████████| 79/79 [00:00<00:00, 1234.11it/s]\n",
            "train: 100%|██████████| 79/79 [00:00<00:00, 1148.72it/s]\n",
            "train: 100%|██████████| 79/79 [00:00<00:00, 1163.36it/s]\n",
            "train: 100%|██████████| 79/79 [00:00<00:00, 1155.97it/s]\n",
            "train: 100%|██████████| 79/79 [00:00<00:00, 1109.71it/s]\n",
            "train: 100%|██████████| 79/79 [00:00<00:00, 1290.12it/s]\n",
            "train: 100%|██████████| 79/79 [00:00<00:00, 1215.59it/s]\n",
            "train: 100%|██████████| 79/79 [00:00<00:00, 1093.65it/s]\n",
            "train: 100%|██████████| 79/79 [00:00<00:00, 894.47it/s]\n",
            "train: 100%|██████████| 79/79 [00:00<00:00, 1022.06it/s]\n",
            "train: 100%|██████████| 79/79 [00:00<00:00, 1191.67it/s]\n",
            "train: 100%|██████████| 79/79 [00:00<00:00, 1185.66it/s]\n",
            "train: 100%|██████████| 79/79 [00:00<00:00, 1110.48it/s]\n",
            "train: 100%|██████████| 79/79 [00:00<00:00, 1285.10it/s]\n",
            "train: 100%|██████████| 79/79 [00:00<00:00, 1286.19it/s]\n",
            "train: 100%|██████████| 79/79 [00:00<00:00, 1234.31it/s]\n",
            "train: 100%|██████████| 79/79 [00:00<00:00, 1165.25it/s]\n",
            "train: 100%|██████████| 79/79 [00:00<00:00, 1193.29it/s]\n",
            "train: 100%|██████████| 79/79 [00:00<00:00, 1250.51it/s]\n",
            "train: 100%|██████████| 79/79 [00:00<00:00, 1152.92it/s]\n",
            "train: 100%|██████████| 79/79 [00:00<00:00, 1141.67it/s]\n",
            "train: 100%|██████████| 79/79 [00:00<00:00, 981.39it/s]\n",
            "train: 100%|██████████| 79/79 [00:00<00:00, 1148.80it/s]\n"
          ]
        },
        {
          "name": "stdout",
          "output_type": "stream",
          "text": [
            "\n",
            " ============================== SVD++ ==============================\n",
            "Training start time: \u001b[35m2023-04-03 18:03:50\u001b[0m\n"
          ]
        },
        {
          "name": "stderr",
          "output_type": "stream",
          "text": [
            "train: 100%|██████████| 79/79 [00:00<00:00, 328.05it/s]\n",
            "train: 100%|██████████| 79/79 [00:00<00:00, 515.07it/s]\n",
            "train: 100%|██████████| 79/79 [00:00<00:00, 503.56it/s]\n",
            "train: 100%|██████████| 79/79 [00:00<00:00, 473.98it/s]\n",
            "train: 100%|██████████| 79/79 [00:00<00:00, 512.63it/s]\n",
            "train: 100%|██████████| 79/79 [00:00<00:00, 498.58it/s]\n",
            "train: 100%|██████████| 79/79 [00:00<00:00, 529.12it/s]\n",
            "train: 100%|██████████| 79/79 [00:00<00:00, 492.22it/s]\n",
            "train: 100%|██████████| 79/79 [00:00<00:00, 431.87it/s]\n",
            "train: 100%|██████████| 79/79 [00:00<00:00, 507.14it/s]\n",
            "train: 100%|██████████| 79/79 [00:00<00:00, 469.37it/s]\n",
            "train: 100%|██████████| 79/79 [00:00<00:00, 515.67it/s]\n",
            "train: 100%|██████████| 79/79 [00:00<00:00, 514.37it/s]\n",
            "train: 100%|██████████| 79/79 [00:00<00:00, 335.46it/s]\n",
            "train: 100%|██████████| 79/79 [00:00<00:00, 322.79it/s]\n",
            "train: 100%|██████████| 79/79 [00:00<00:00, 325.16it/s]\n",
            "train: 100%|██████████| 79/79 [00:00<00:00, 322.49it/s]\n",
            "train: 100%|██████████| 79/79 [00:00<00:00, 346.34it/s]\n",
            "train: 100%|██████████| 79/79 [00:00<00:00, 344.60it/s]\n",
            "train: 100%|██████████| 79/79 [00:00<00:00, 375.56it/s]\n",
            "train: 100%|██████████| 79/79 [00:00<00:00, 373.37it/s]\n",
            "train: 100%|██████████| 79/79 [00:00<00:00, 354.72it/s]\n",
            "train: 100%|██████████| 79/79 [00:00<00:00, 362.09it/s]\n",
            "train: 100%|██████████| 79/79 [00:00<00:00, 317.30it/s]\n",
            "train: 100%|██████████| 79/79 [00:00<00:00, 347.37it/s]\n"
          ]
        },
        {
          "name": "stdout",
          "output_type": "stream",
          "text": [
            "\n",
            " ============================== item_cf ==============================\n",
            "Training start time: \u001b[35m2023-04-03 18:03:56\u001b[0m\n",
            "Final block size and num: (1329, 1)\n",
            "sim_matrix elapsed: 0.052s\n",
            "sim_matrix, shape: (1329, 1329), num_elements: 906228, density: 1942.3611 %\n"
          ]
        },
        {
          "name": "stderr",
          "output_type": "stream",
          "text": [
            "top_k: 100%|██████████| 1329/1329 [00:00<00:00, 4025.35it/s]\n"
          ]
        },
        {
          "name": "stdout",
          "output_type": "stream",
          "text": [
            "\n",
            " ============================== user_cf ==============================\n",
            "Training start time: \u001b[35m2023-04-03 18:03:56\u001b[0m\n",
            "Final block size and num: (216, 1)\n",
            "sim_matrix elapsed: 0.004s\n",
            "sim_matrix, shape: (216, 216), num_elements: 43664, density: 93.5871 %\n"
          ]
        },
        {
          "name": "stderr",
          "output_type": "stream",
          "text": [
            "top_k: 100%|██████████| 216/216 [00:00<00:00, 16918.52it/s]\n"
          ]
        },
        {
          "name": "stdout",
          "output_type": "stream",
          "text": [
            "\n",
            " ============================== ALS ==============================\n",
            "Training start time: \u001b[35m2023-04-03 18:03:56\u001b[0m\n",
            "4\n",
            "######## 50 ########\n",
            "<libreco.algorithms.svd.SVD object at 0x7f100166abb0>\n"
          ]
        },
        {
          "name": "stderr",
          "output_type": "stream",
          "text": [
            "eval_pointwise: 100%|██████████| 1/1 [00:00<00:00, 972.48it/s]\n"
          ]
        },
        {
          "name": "stdout",
          "output_type": "stream",
          "text": [
            "<libreco.algorithms.svdpp.SVDpp object at 0x7f1010156c10>\n"
          ]
        },
        {
          "name": "stderr",
          "output_type": "stream",
          "text": [
            "eval_pointwise: 100%|██████████| 1/1 [00:00<00:00, 2036.07it/s]\n"
          ]
        },
        {
          "name": "stdout",
          "output_type": "stream",
          "text": [
            "<libreco.algorithms.item_cf.ItemCF object at 0x7f1089f13c10>\n"
          ]
        },
        {
          "name": "stderr",
          "output_type": "stream",
          "text": [
            "eval_pointwise: 100%|██████████| 1/1 [00:00<00:00, 14.34it/s]\n"
          ]
        },
        {
          "name": "stdout",
          "output_type": "stream",
          "text": [
            "<libreco.algorithms.user_cf.UserCF object at 0x7f0ff9e35a90>\n"
          ]
        },
        {
          "name": "stderr",
          "output_type": "stream",
          "text": [
            "eval_pointwise: 100%|██████████| 1/1 [00:00<00:00, 19.40it/s]\n"
          ]
        },
        {
          "name": "stdout",
          "output_type": "stream",
          "text": [
            "<libreco.algorithms.als.ALS object at 0x7f108953c700>\n"
          ]
        },
        {
          "name": "stderr",
          "output_type": "stream",
          "text": [
            "eval_pointwise: 100%|██████████| 1/1 [00:00<00:00, 1790.91it/s]\n"
          ]
        },
        {
          "name": "stdout",
          "output_type": "stream",
          "text": [
            "\n",
            " ============================== SVD ==============================\n",
            "Training start time: \u001b[35m2023-04-03 18:04:00\u001b[0m\n"
          ]
        },
        {
          "name": "stderr",
          "output_type": "stream",
          "text": [
            "train: 100%|██████████| 124/124 [00:00<00:00, 728.56it/s]\n",
            "train: 100%|██████████| 124/124 [00:00<00:00, 1127.52it/s]\n",
            "train: 100%|██████████| 124/124 [00:00<00:00, 1141.42it/s]\n",
            "train: 100%|██████████| 124/124 [00:00<00:00, 1236.84it/s]\n",
            "train: 100%|██████████| 124/124 [00:00<00:00, 1086.23it/s]\n",
            "train: 100%|██████████| 124/124 [00:00<00:00, 1243.37it/s]\n",
            "train: 100%|██████████| 124/124 [00:00<00:00, 1150.40it/s]\n",
            "train: 100%|██████████| 124/124 [00:00<00:00, 1077.89it/s]\n",
            "train: 100%|██████████| 124/124 [00:00<00:00, 993.78it/s]\n",
            "train: 100%|██████████| 124/124 [00:00<00:00, 1031.50it/s]\n",
            "train: 100%|██████████| 124/124 [00:00<00:00, 1178.55it/s]\n",
            "train: 100%|██████████| 124/124 [00:00<00:00, 1278.52it/s]\n",
            "train: 100%|██████████| 124/124 [00:00<00:00, 1154.43it/s]\n",
            "train: 100%|██████████| 124/124 [00:00<00:00, 1059.75it/s]\n",
            "train: 100%|██████████| 124/124 [00:00<00:00, 1141.94it/s]\n",
            "train: 100%|██████████| 124/124 [00:00<00:00, 1112.47it/s]\n",
            "train: 100%|██████████| 124/124 [00:00<00:00, 1025.82it/s]\n",
            "train: 100%|██████████| 124/124 [00:00<00:00, 944.25it/s]\n",
            "train: 100%|██████████| 124/124 [00:00<00:00, 1088.08it/s]\n",
            "train: 100%|██████████| 124/124 [00:00<00:00, 994.39it/s] \n",
            "train: 100%|██████████| 124/124 [00:00<00:00, 1101.24it/s]\n",
            "train: 100%|██████████| 124/124 [00:00<00:00, 1140.39it/s]\n",
            "train: 100%|██████████| 124/124 [00:00<00:00, 1100.23it/s]\n",
            "train: 100%|██████████| 124/124 [00:00<00:00, 1156.74it/s]\n",
            "train: 100%|██████████| 124/124 [00:00<00:00, 1075.81it/s]\n",
            "train: 100%|██████████| 124/124 [00:00<00:00, 1127.09it/s]\n",
            "train: 100%|██████████| 124/124 [00:00<00:00, 972.34it/s]\n",
            "train: 100%|██████████| 124/124 [00:00<00:00, 1039.66it/s]\n",
            "train: 100%|██████████| 124/124 [00:00<00:00, 1146.33it/s]\n",
            "train: 100%|██████████| 124/124 [00:00<00:00, 1086.75it/s]\n",
            "train: 100%|██████████| 124/124 [00:00<00:00, 1154.53it/s]\n",
            "train: 100%|██████████| 124/124 [00:00<00:00, 1153.53it/s]\n",
            "train: 100%|██████████| 124/124 [00:00<00:00, 1041.91it/s]\n",
            "train: 100%|██████████| 124/124 [00:00<00:00, 1127.92it/s]\n",
            "train: 100%|██████████| 124/124 [00:00<00:00, 1094.71it/s]\n",
            "train: 100%|██████████| 124/124 [00:00<00:00, 1256.55it/s]\n",
            "train: 100%|██████████| 124/124 [00:00<00:00, 1128.44it/s]\n",
            "train: 100%|██████████| 124/124 [00:00<00:00, 1149.79it/s]\n",
            "train: 100%|██████████| 124/124 [00:00<00:00, 1168.40it/s]\n",
            "train: 100%|██████████| 124/124 [00:00<00:00, 1059.43it/s]\n",
            "train: 100%|██████████| 124/124 [00:00<00:00, 987.05it/s] \n",
            "train: 100%|██████████| 124/124 [00:00<00:00, 1235.28it/s]\n",
            "train: 100%|██████████| 124/124 [00:00<00:00, 974.46it/s]\n",
            "train: 100%|██████████| 124/124 [00:00<00:00, 995.38it/s]\n",
            "train: 100%|██████████| 124/124 [00:00<00:00, 1109.41it/s]\n",
            "train: 100%|██████████| 124/124 [00:00<00:00, 1132.76it/s]\n",
            "train: 100%|██████████| 124/124 [00:00<00:00, 1034.71it/s]\n",
            "train: 100%|██████████| 124/124 [00:00<00:00, 1171.17it/s]\n",
            "train: 100%|██████████| 124/124 [00:00<00:00, 1119.97it/s]\n",
            "train: 100%|██████████| 124/124 [00:00<00:00, 1236.41it/s]\n"
          ]
        },
        {
          "name": "stdout",
          "output_type": "stream",
          "text": [
            "\n",
            " ============================== SVD++ ==============================\n",
            "Training start time: \u001b[35m2023-04-03 18:04:06\u001b[0m\n"
          ]
        },
        {
          "name": "stderr",
          "output_type": "stream",
          "text": [
            "train: 100%|██████████| 124/124 [00:00<00:00, 304.80it/s]\n",
            "train: 100%|██████████| 124/124 [00:00<00:00, 379.61it/s]\n",
            "train: 100%|██████████| 124/124 [00:00<00:00, 283.28it/s]\n",
            "train: 100%|██████████| 124/124 [00:00<00:00, 277.50it/s]\n",
            "train: 100%|██████████| 124/124 [00:00<00:00, 288.78it/s]\n",
            "train: 100%|██████████| 124/124 [00:00<00:00, 295.66it/s]\n",
            "train: 100%|██████████| 124/124 [00:00<00:00, 292.61it/s]\n",
            "train: 100%|██████████| 124/124 [00:00<00:00, 270.42it/s]\n",
            "train: 100%|██████████| 124/124 [00:00<00:00, 263.98it/s]\n",
            "train: 100%|██████████| 124/124 [00:00<00:00, 275.54it/s]\n",
            "train: 100%|██████████| 124/124 [00:00<00:00, 273.48it/s]\n",
            "train: 100%|██████████| 124/124 [00:00<00:00, 316.25it/s]\n",
            "train: 100%|██████████| 124/124 [00:00<00:00, 423.06it/s]\n",
            "train: 100%|██████████| 124/124 [00:00<00:00, 416.46it/s]\n",
            "train: 100%|██████████| 124/124 [00:00<00:00, 416.45it/s]\n",
            "train: 100%|██████████| 124/124 [00:00<00:00, 434.75it/s]\n",
            "train: 100%|██████████| 124/124 [00:00<00:00, 404.09it/s]\n",
            "train: 100%|██████████| 124/124 [00:00<00:00, 413.81it/s]\n",
            "train: 100%|██████████| 124/124 [00:00<00:00, 415.16it/s]\n",
            "train: 100%|██████████| 124/124 [00:00<00:00, 446.45it/s]\n",
            "train: 100%|██████████| 124/124 [00:00<00:00, 392.66it/s]\n",
            "train: 100%|██████████| 124/124 [00:00<00:00, 407.16it/s]\n",
            "train: 100%|██████████| 124/124 [00:00<00:00, 435.10it/s]\n",
            "train: 100%|██████████| 124/124 [00:00<00:00, 377.76it/s]\n",
            "train: 100%|██████████| 124/124 [00:00<00:00, 401.04it/s]\n"
          ]
        },
        {
          "name": "stdout",
          "output_type": "stream",
          "text": [
            "\n",
            " ============================== item_cf ==============================\n",
            "Training start time: \u001b[35m2023-04-03 18:04:16\u001b[0m\n",
            "Final block size and num: (1391, 1)\n",
            "sim_matrix elapsed: 0.032s\n",
            "sim_matrix, shape: (1391, 1391), num_elements: 1054904, density: 881.1721 %\n"
          ]
        },
        {
          "name": "stderr",
          "output_type": "stream",
          "text": [
            "top_k: 100%|██████████| 1391/1391 [00:00<00:00, 5656.41it/s]\n"
          ]
        },
        {
          "name": "stdout",
          "output_type": "stream",
          "text": [
            "\n",
            " ============================== user_cf ==============================\n",
            "Training start time: \u001b[35m2023-04-03 18:04:16\u001b[0m\n",
            "Final block size and num: (346, 1)\n",
            "sim_matrix elapsed: 0.005s\n",
            "sim_matrix, shape: (346, 346), num_elements: 112728, density: 94.1629 %\n"
          ]
        },
        {
          "name": "stderr",
          "output_type": "stream",
          "text": [
            "top_k: 100%|██████████| 346/346 [00:00<00:00, 13122.01it/s]\n"
          ]
        },
        {
          "name": "stdout",
          "output_type": "stream",
          "text": [
            "\n",
            " ============================== ALS ==============================\n",
            "Training start time: \u001b[35m2023-04-03 18:04:16\u001b[0m\n",
            "5\n",
            "######## 60 ########\n",
            "<libreco.algorithms.svd.SVD object at 0x7f1009f6b1c0>\n"
          ]
        },
        {
          "name": "stderr",
          "output_type": "stream",
          "text": [
            "eval_pointwise: 100%|██████████| 1/1 [00:00<00:00, 727.93it/s]\n"
          ]
        },
        {
          "name": "stdout",
          "output_type": "stream",
          "text": [
            "<libreco.algorithms.svdpp.SVDpp object at 0x7f0ff976b1f0>\n"
          ]
        },
        {
          "name": "stderr",
          "output_type": "stream",
          "text": [
            "eval_pointwise: 100%|██████████| 1/1 [00:00<00:00, 1889.33it/s]\n"
          ]
        },
        {
          "name": "stdout",
          "output_type": "stream",
          "text": [
            "<libreco.algorithms.item_cf.ItemCF object at 0x7f0ff8687b50>\n"
          ]
        },
        {
          "name": "stderr",
          "output_type": "stream",
          "text": [
            "eval_pointwise: 100%|██████████| 1/1 [00:00<00:00, 10.10it/s]\n"
          ]
        },
        {
          "name": "stdout",
          "output_type": "stream",
          "text": [
            "<libreco.algorithms.user_cf.UserCF object at 0x7f0ff90147f0>\n"
          ]
        },
        {
          "name": "stderr",
          "output_type": "stream",
          "text": [
            "eval_pointwise: 100%|██████████| 1/1 [00:00<00:00, 12.60it/s]\n"
          ]
        },
        {
          "name": "stdout",
          "output_type": "stream",
          "text": [
            "<libreco.algorithms.als.ALS object at 0x7f0ff9ed50d0>\n"
          ]
        },
        {
          "name": "stderr",
          "output_type": "stream",
          "text": [
            "eval_pointwise: 100%|██████████| 1/1 [00:00<00:00, 1603.33it/s]\n"
          ]
        },
        {
          "name": "stdout",
          "output_type": "stream",
          "text": [
            "\n",
            " ============================== SVD ==============================\n",
            "Training start time: \u001b[35m2023-04-03 18:04:20\u001b[0m\n"
          ]
        },
        {
          "name": "stderr",
          "output_type": "stream",
          "text": [
            "train: 100%|██████████| 152/152 [00:00<00:00, 791.40it/s]\n",
            "train: 100%|██████████| 152/152 [00:00<00:00, 1080.06it/s]\n",
            "train: 100%|██████████| 152/152 [00:00<00:00, 1244.46it/s]\n",
            "train: 100%|██████████| 152/152 [00:00<00:00, 1161.35it/s]\n",
            "train: 100%|██████████| 152/152 [00:00<00:00, 1005.97it/s]\n",
            "train: 100%|██████████| 152/152 [00:00<00:00, 998.21it/s]\n",
            "train: 100%|██████████| 152/152 [00:00<00:00, 1130.70it/s]\n",
            "train: 100%|██████████| 152/152 [00:00<00:00, 719.68it/s]\n",
            "train: 100%|██████████| 152/152 [00:00<00:00, 720.90it/s]\n",
            "train: 100%|██████████| 152/152 [00:00<00:00, 726.12it/s]\n",
            "train: 100%|██████████| 152/152 [00:00<00:00, 740.23it/s]\n",
            "train: 100%|██████████| 152/152 [00:00<00:00, 766.29it/s]\n",
            "train: 100%|██████████| 152/152 [00:00<00:00, 794.56it/s]\n",
            "train: 100%|██████████| 152/152 [00:00<00:00, 691.38it/s]\n",
            "train: 100%|██████████| 152/152 [00:00<00:00, 816.52it/s]\n",
            "train: 100%|██████████| 152/152 [00:00<00:00, 732.93it/s]\n",
            "train: 100%|██████████| 152/152 [00:00<00:00, 796.74it/s]\n",
            "train: 100%|██████████| 152/152 [00:00<00:00, 779.15it/s]\n",
            "train: 100%|██████████| 152/152 [00:00<00:00, 777.58it/s]\n",
            "train: 100%|██████████| 152/152 [00:00<00:00, 746.82it/s]\n",
            "train: 100%|██████████| 152/152 [00:00<00:00, 749.50it/s]\n",
            "train: 100%|██████████| 152/152 [00:00<00:00, 775.47it/s]\n",
            "train: 100%|██████████| 152/152 [00:00<00:00, 645.50it/s]\n",
            "train: 100%|██████████| 152/152 [00:00<00:00, 732.57it/s]\n",
            "train: 100%|██████████| 152/152 [00:00<00:00, 681.94it/s]\n",
            "train: 100%|██████████| 152/152 [00:00<00:00, 662.36it/s]\n",
            "train: 100%|██████████| 152/152 [00:00<00:00, 746.19it/s]\n",
            "train: 100%|██████████| 152/152 [00:00<00:00, 718.94it/s]\n",
            "train: 100%|██████████| 152/152 [00:00<00:00, 726.09it/s]\n",
            "train: 100%|██████████| 152/152 [00:00<00:00, 948.32it/s]\n",
            "train: 100%|██████████| 152/152 [00:00<00:00, 990.78it/s] \n",
            "train: 100%|██████████| 152/152 [00:00<00:00, 1090.42it/s]\n",
            "train: 100%|██████████| 152/152 [00:00<00:00, 1103.17it/s]\n",
            "train: 100%|██████████| 152/152 [00:00<00:00, 1139.10it/s]\n",
            "train: 100%|██████████| 152/152 [00:00<00:00, 982.30it/s] \n",
            "train: 100%|██████████| 152/152 [00:00<00:00, 1081.84it/s]\n",
            "train: 100%|██████████| 152/152 [00:00<00:00, 998.41it/s] \n",
            "train: 100%|██████████| 152/152 [00:00<00:00, 1038.15it/s]\n",
            "train: 100%|██████████| 152/152 [00:00<00:00, 1126.19it/s]\n",
            "train: 100%|██████████| 152/152 [00:00<00:00, 1092.96it/s]\n",
            "train: 100%|██████████| 152/152 [00:00<00:00, 1155.31it/s]\n",
            "train: 100%|██████████| 152/152 [00:00<00:00, 1137.07it/s]\n",
            "train: 100%|██████████| 152/152 [00:00<00:00, 1155.52it/s]\n",
            "train: 100%|██████████| 152/152 [00:00<00:00, 1088.49it/s]\n",
            "train: 100%|██████████| 152/152 [00:00<00:00, 1148.60it/s]\n",
            "train: 100%|██████████| 152/152 [00:00<00:00, 1105.82it/s]\n",
            "train: 100%|██████████| 152/152 [00:00<00:00, 1070.83it/s]\n",
            "train: 100%|██████████| 152/152 [00:00<00:00, 1136.02it/s]\n",
            "train: 100%|██████████| 152/152 [00:00<00:00, 1109.89it/s]\n",
            "train: 100%|██████████| 152/152 [00:00<00:00, 926.32it/s]\n"
          ]
        },
        {
          "name": "stdout",
          "output_type": "stream",
          "text": [
            "\n",
            " ============================== SVD++ ==============================\n",
            "Training start time: \u001b[35m2023-04-03 18:04:30\u001b[0m\n"
          ]
        },
        {
          "name": "stderr",
          "output_type": "stream",
          "text": [
            "train: 100%|██████████| 152/152 [00:00<00:00, 319.68it/s]\n",
            "train: 100%|██████████| 152/152 [00:00<00:00, 387.61it/s]\n",
            "train: 100%|██████████| 152/152 [00:00<00:00, 191.72it/s]\n",
            "train: 100%|██████████| 152/152 [00:00<00:00, 201.82it/s]\n",
            "train: 100%|██████████| 152/152 [00:00<00:00, 382.29it/s]\n",
            "train: 100%|██████████| 152/152 [00:00<00:00, 381.52it/s]\n",
            "train: 100%|██████████| 152/152 [00:00<00:00, 367.23it/s]\n",
            "train: 100%|██████████| 152/152 [00:00<00:00, 387.22it/s]\n",
            "train: 100%|██████████| 152/152 [00:00<00:00, 381.70it/s]\n",
            "train: 100%|██████████| 152/152 [00:00<00:00, 372.71it/s]\n",
            "train: 100%|██████████| 152/152 [00:00<00:00, 378.70it/s]\n",
            "train: 100%|██████████| 152/152 [00:00<00:00, 389.60it/s]\n",
            "train: 100%|██████████| 152/152 [00:00<00:00, 381.92it/s]\n",
            "train: 100%|██████████| 152/152 [00:00<00:00, 302.53it/s]\n",
            "train: 100%|██████████| 152/152 [00:00<00:00, 255.26it/s]\n",
            "train: 100%|██████████| 152/152 [00:00<00:00, 248.60it/s]\n",
            "train: 100%|██████████| 152/152 [00:00<00:00, 275.76it/s]\n",
            "train: 100%|██████████| 152/152 [00:00<00:00, 263.53it/s]\n",
            "train: 100%|██████████| 152/152 [00:00<00:00, 250.71it/s]\n",
            "train: 100%|██████████| 152/152 [00:00<00:00, 244.59it/s]\n",
            "train: 100%|██████████| 152/152 [00:00<00:00, 281.13it/s]\n",
            "train: 100%|██████████| 152/152 [00:00<00:00, 378.49it/s]\n",
            "train: 100%|██████████| 152/152 [00:00<00:00, 371.22it/s]\n",
            "train: 100%|██████████| 152/152 [00:00<00:00, 395.50it/s]\n",
            "train: 100%|██████████| 152/152 [00:00<00:00, 392.64it/s]\n"
          ]
        },
        {
          "name": "stdout",
          "output_type": "stream",
          "text": [
            "\n",
            " ============================== item_cf ==============================\n",
            "Training start time: \u001b[35m2023-04-03 18:04:43\u001b[0m\n",
            "Final block size and num: (1408, 1)\n",
            "sim_matrix elapsed: 0.035s\n",
            "sim_matrix, shape: (1408, 1408), num_elements: 1128898, density: 674.8513 %\n"
          ]
        },
        {
          "name": "stderr",
          "output_type": "stream",
          "text": [
            "top_k: 100%|██████████| 1408/1408 [00:00<00:00, 5354.18it/s]\n"
          ]
        },
        {
          "name": "stdout",
          "output_type": "stream",
          "text": [
            "\n",
            " ============================== user_cf ==============================\n",
            "Training start time: \u001b[35m2023-04-03 18:04:43\u001b[0m\n",
            "Final block size and num: (409, 1)\n",
            "sim_matrix elapsed: 0.013s\n",
            "sim_matrix, shape: (409, 409), num_elements: 159064, density: 95.0879 %\n"
          ]
        },
        {
          "name": "stderr",
          "output_type": "stream",
          "text": [
            "top_k: 100%|██████████| 409/409 [00:00<00:00, 10893.81it/s]\n"
          ]
        },
        {
          "name": "stdout",
          "output_type": "stream",
          "text": [
            "\n",
            " ============================== ALS ==============================\n",
            "Training start time: \u001b[35m2023-04-03 18:04:43\u001b[0m\n",
            "6\n",
            "######## 70 ########\n",
            "<libreco.algorithms.svd.SVD object at 0x7f0ff3e9b5b0>\n"
          ]
        },
        {
          "name": "stderr",
          "output_type": "stream",
          "text": [
            "eval_pointwise: 100%|██████████| 1/1 [00:00<00:00, 2420.26it/s]\n"
          ]
        },
        {
          "name": "stdout",
          "output_type": "stream",
          "text": [
            "<libreco.algorithms.svdpp.SVDpp object at 0x7f108c2948b0>\n"
          ]
        },
        {
          "name": "stderr",
          "output_type": "stream",
          "text": [
            "eval_pointwise: 100%|██████████| 1/1 [00:00<00:00, 1000.79it/s]\n"
          ]
        },
        {
          "name": "stdout",
          "output_type": "stream",
          "text": [
            "<libreco.algorithms.item_cf.ItemCF object at 0x7f0ff3086640>\n"
          ]
        },
        {
          "name": "stderr",
          "output_type": "stream",
          "text": [
            "eval_pointwise: 100%|██████████| 1/1 [00:00<00:00,  7.45it/s]\n"
          ]
        },
        {
          "name": "stdout",
          "output_type": "stream",
          "text": [
            "<libreco.algorithms.user_cf.UserCF object at 0x7f0ff6cc7be0>\n"
          ]
        },
        {
          "name": "stderr",
          "output_type": "stream",
          "text": [
            "eval_pointwise: 100%|██████████| 1/1 [00:00<00:00,  9.71it/s]\n"
          ]
        },
        {
          "name": "stdout",
          "output_type": "stream",
          "text": [
            "<libreco.algorithms.als.ALS object at 0x7f0ff3110ee0>\n"
          ]
        },
        {
          "name": "stderr",
          "output_type": "stream",
          "text": [
            "eval_pointwise: 100%|██████████| 1/1 [00:00<00:00, 1180.16it/s]\n"
          ]
        },
        {
          "name": "stdout",
          "output_type": "stream",
          "text": [
            "\n",
            " ============================== SVD ==============================\n",
            "Training start time: \u001b[35m2023-04-03 18:04:48\u001b[0m\n"
          ]
        },
        {
          "name": "stderr",
          "output_type": "stream",
          "text": [
            "train: 100%|██████████| 169/169 [00:00<00:00, 767.67it/s]\n",
            "train: 100%|██████████| 169/169 [00:00<00:00, 1088.30it/s]\n",
            "train: 100%|██████████| 169/169 [00:00<00:00, 1103.03it/s]\n",
            "train: 100%|██████████| 169/169 [00:00<00:00, 1138.96it/s]\n",
            "train: 100%|██████████| 169/169 [00:00<00:00, 1081.72it/s]\n",
            "train: 100%|██████████| 169/169 [00:00<00:00, 1072.89it/s]\n",
            "train: 100%|██████████| 169/169 [00:00<00:00, 1118.98it/s]\n",
            "train: 100%|██████████| 169/169 [00:00<00:00, 1156.59it/s]\n",
            "train: 100%|██████████| 169/169 [00:00<00:00, 1189.98it/s]\n",
            "train: 100%|██████████| 169/169 [00:00<00:00, 1151.39it/s]\n",
            "train: 100%|██████████| 169/169 [00:00<00:00, 1130.39it/s]\n",
            "train: 100%|██████████| 169/169 [00:00<00:00, 1135.28it/s]\n",
            "train: 100%|██████████| 169/169 [00:00<00:00, 1135.28it/s]\n",
            "train: 100%|██████████| 169/169 [00:00<00:00, 1077.40it/s]\n",
            "train: 100%|██████████| 169/169 [00:00<00:00, 1224.75it/s]\n",
            "train: 100%|██████████| 169/169 [00:00<00:00, 1067.99it/s]\n",
            "train: 100%|██████████| 169/169 [00:00<00:00, 751.12it/s]\n",
            "train: 100%|██████████| 169/169 [00:00<00:00, 682.67it/s]\n",
            "train: 100%|██████████| 169/169 [00:00<00:00, 814.72it/s]\n",
            "train: 100%|██████████| 169/169 [00:00<00:00, 817.94it/s]\n",
            "train: 100%|██████████| 169/169 [00:00<00:00, 759.11it/s]\n",
            "train: 100%|██████████| 169/169 [00:00<00:00, 741.94it/s]\n",
            "train: 100%|██████████| 169/169 [00:00<00:00, 724.49it/s]\n",
            "train: 100%|██████████| 169/169 [00:00<00:00, 804.59it/s]\n",
            "train: 100%|██████████| 169/169 [00:00<00:00, 711.65it/s]\n",
            "train: 100%|██████████| 169/169 [00:00<00:00, 754.78it/s]\n",
            "train: 100%|██████████| 169/169 [00:00<00:00, 761.32it/s]\n",
            "train: 100%|██████████| 169/169 [00:00<00:00, 752.97it/s]\n",
            "train: 100%|██████████| 169/169 [00:00<00:00, 744.30it/s]\n",
            "train: 100%|██████████| 169/169 [00:00<00:00, 707.05it/s]\n",
            "train: 100%|██████████| 169/169 [00:00<00:00, 659.01it/s]\n",
            "train: 100%|██████████| 169/169 [00:00<00:00, 705.22it/s]\n",
            "train: 100%|██████████| 169/169 [00:00<00:00, 719.03it/s]\n",
            "train: 100%|██████████| 169/169 [00:00<00:00, 701.83it/s]\n",
            "train: 100%|██████████| 169/169 [00:00<00:00, 728.48it/s]\n",
            "train: 100%|██████████| 169/169 [00:00<00:00, 722.29it/s]\n",
            "train: 100%|██████████| 169/169 [00:00<00:00, 712.25it/s]\n",
            "train: 100%|██████████| 169/169 [00:00<00:00, 1057.90it/s]\n",
            "train: 100%|██████████| 169/169 [00:00<00:00, 1049.02it/s]\n",
            "train: 100%|██████████| 169/169 [00:00<00:00, 934.43it/s] \n",
            "train: 100%|██████████| 169/169 [00:00<00:00, 1105.42it/s]\n",
            "train: 100%|██████████| 169/169 [00:00<00:00, 1159.37it/s]\n",
            "train: 100%|██████████| 169/169 [00:00<00:00, 1054.33it/s]\n",
            "train: 100%|██████████| 169/169 [00:00<00:00, 1111.03it/s]\n",
            "train: 100%|██████████| 169/169 [00:00<00:00, 1164.22it/s]\n",
            "train: 100%|██████████| 169/169 [00:00<00:00, 975.96it/s] \n",
            "train: 100%|██████████| 169/169 [00:00<00:00, 1106.16it/s]\n",
            "train: 100%|██████████| 169/169 [00:00<00:00, 1153.78it/s]\n",
            "train: 100%|██████████| 169/169 [00:00<00:00, 1095.82it/s]\n",
            "train: 100%|██████████| 169/169 [00:00<00:00, 1110.67it/s]\n"
          ]
        },
        {
          "name": "stdout",
          "output_type": "stream",
          "text": [
            "\n",
            " ============================== SVD++ ==============================\n",
            "Training start time: \u001b[35m2023-04-03 18:04:58\u001b[0m\n"
          ]
        },
        {
          "name": "stderr",
          "output_type": "stream",
          "text": [
            "train: 100%|██████████| 169/169 [00:00<00:00, 308.58it/s]\n",
            "train: 100%|██████████| 169/169 [00:00<00:00, 413.10it/s]\n",
            "train: 100%|██████████| 169/169 [00:00<00:00, 387.12it/s]\n",
            "train: 100%|██████████| 169/169 [00:00<00:00, 380.03it/s]\n",
            "train: 100%|██████████| 169/169 [00:00<00:00, 355.63it/s]\n",
            "train: 100%|██████████| 169/169 [00:00<00:00, 356.37it/s]\n",
            "train: 100%|██████████| 169/169 [00:00<00:00, 363.25it/s]\n",
            "train: 100%|██████████| 169/169 [00:00<00:00, 352.82it/s]\n",
            "train: 100%|██████████| 169/169 [00:00<00:00, 343.96it/s]\n",
            "train: 100%|██████████| 169/169 [00:00<00:00, 370.41it/s]\n",
            "train: 100%|██████████| 169/169 [00:00<00:00, 362.17it/s]\n",
            "train: 100%|██████████| 169/169 [00:00<00:00, 368.19it/s]\n",
            "train: 100%|██████████| 169/169 [00:00<00:00, 367.55it/s]\n",
            "train: 100%|██████████| 169/169 [00:00<00:00, 357.44it/s]\n",
            "train: 100%|██████████| 169/169 [00:00<00:00, 365.85it/s]\n",
            "train: 100%|██████████| 169/169 [00:00<00:00, 260.45it/s]\n",
            "train: 100%|██████████| 169/169 [00:00<00:00, 238.99it/s]\n",
            "train: 100%|██████████| 169/169 [00:00<00:00, 243.13it/s]\n",
            "train: 100%|██████████| 169/169 [00:00<00:00, 261.41it/s]\n",
            "train: 100%|██████████| 169/169 [00:00<00:00, 244.18it/s]\n",
            "train: 100%|██████████| 169/169 [00:00<00:00, 243.95it/s]\n",
            "train: 100%|██████████| 169/169 [00:00<00:00, 297.87it/s]\n",
            "train: 100%|██████████| 169/169 [00:00<00:00, 352.29it/s]\n",
            "train: 100%|██████████| 169/169 [00:00<00:00, 378.87it/s]\n",
            "train: 100%|██████████| 169/169 [00:00<00:00, 351.43it/s]\n"
          ]
        },
        {
          "name": "stdout",
          "output_type": "stream",
          "text": [
            "\n",
            " ============================== item_cf ==============================\n",
            "Training start time: \u001b[35m2023-04-03 18:05:12\u001b[0m\n",
            "Final block size and num: (1429, 1)\n",
            "sim_matrix elapsed: 0.046s\n",
            "sim_matrix, shape: (1429, 1429), num_elements: 1179974, density: 580.1220 %\n"
          ]
        },
        {
          "name": "stderr",
          "output_type": "stream",
          "text": [
            "top_k: 100%|██████████| 1429/1429 [00:00<00:00, 5434.92it/s]\n"
          ]
        },
        {
          "name": "stdout",
          "output_type": "stream",
          "text": [
            "\n",
            " ============================== user_cf ==============================\n",
            "Training start time: \u001b[35m2023-04-03 18:05:12\u001b[0m\n",
            "Final block size and num: (451, 1)\n",
            "sim_matrix elapsed: 0.008s\n",
            "sim_matrix, shape: (451, 451), num_elements: 194708, density: 95.7262 %\n"
          ]
        },
        {
          "name": "stderr",
          "output_type": "stream",
          "text": [
            "top_k: 100%|██████████| 451/451 [00:00<00:00, 10403.24it/s]\n"
          ]
        },
        {
          "name": "stdout",
          "output_type": "stream",
          "text": [
            "\n",
            " ============================== ALS ==============================\n",
            "Training start time: \u001b[35m2023-04-03 18:05:12\u001b[0m\n",
            "7\n",
            "######## 80 ########\n",
            "<libreco.algorithms.svd.SVD object at 0x7f0ff2d22310>\n"
          ]
        },
        {
          "name": "stderr",
          "output_type": "stream",
          "text": [
            "eval_pointwise: 100%|██████████| 1/1 [00:00<00:00, 1959.04it/s]\n"
          ]
        },
        {
          "name": "stdout",
          "output_type": "stream",
          "text": [
            "<libreco.algorithms.svdpp.SVDpp object at 0x7f0ff1ee2be0>\n"
          ]
        },
        {
          "name": "stderr",
          "output_type": "stream",
          "text": [
            "eval_pointwise: 100%|██████████| 1/1 [00:00<00:00, 453.98it/s]\n"
          ]
        },
        {
          "name": "stdout",
          "output_type": "stream",
          "text": [
            "<libreco.algorithms.item_cf.ItemCF object at 0x7f0ff8e49fd0>\n"
          ]
        },
        {
          "name": "stderr",
          "output_type": "stream",
          "text": [
            "eval_pointwise: 100%|██████████| 1/1 [00:00<00:00,  7.06it/s]\n"
          ]
        },
        {
          "name": "stdout",
          "output_type": "stream",
          "text": [
            "<libreco.algorithms.user_cf.UserCF object at 0x7f1089706340>\n"
          ]
        },
        {
          "name": "stderr",
          "output_type": "stream",
          "text": [
            "eval_pointwise: 100%|██████████| 1/1 [00:00<00:00,  8.55it/s]\n"
          ]
        },
        {
          "name": "stdout",
          "output_type": "stream",
          "text": [
            "<libreco.algorithms.als.ALS object at 0x7f0ff8e49ca0>\n"
          ]
        },
        {
          "name": "stderr",
          "output_type": "stream",
          "text": [
            "eval_pointwise: 100%|██████████| 1/1 [00:00<00:00, 1923.11it/s]\n"
          ]
        },
        {
          "name": "stdout",
          "output_type": "stream",
          "text": [
            "\n",
            " ============================== SVD ==============================\n",
            "Training start time: \u001b[35m2023-04-03 18:05:17\u001b[0m\n"
          ]
        },
        {
          "name": "stderr",
          "output_type": "stream",
          "text": [
            "train: 100%|██████████| 188/188 [00:00<00:00, 801.26it/s]\n",
            "train: 100%|██████████| 188/188 [00:00<00:00, 1179.49it/s]\n",
            "train: 100%|██████████| 188/188 [00:00<00:00, 1146.92it/s]\n",
            "train: 100%|██████████| 188/188 [00:00<00:00, 1095.29it/s]\n",
            "train: 100%|██████████| 188/188 [00:00<00:00, 1089.51it/s]\n",
            "train: 100%|██████████| 188/188 [00:00<00:00, 1172.72it/s]\n",
            "train: 100%|██████████| 188/188 [00:00<00:00, 1059.11it/s]\n",
            "train: 100%|██████████| 188/188 [00:00<00:00, 1099.40it/s]\n",
            "train: 100%|██████████| 188/188 [00:00<00:00, 1214.03it/s]\n",
            "train: 100%|██████████| 188/188 [00:00<00:00, 1093.54it/s]\n",
            "train: 100%|██████████| 188/188 [00:00<00:00, 1063.94it/s]\n",
            "train: 100%|██████████| 188/188 [00:00<00:00, 1032.55it/s]\n",
            "train: 100%|██████████| 188/188 [00:00<00:00, 1269.39it/s]\n",
            "train: 100%|██████████| 188/188 [00:00<00:00, 895.15it/s] \n",
            "train: 100%|██████████| 188/188 [00:00<00:00, 697.98it/s]\n",
            "train: 100%|██████████| 188/188 [00:00<00:00, 768.10it/s]\n",
            "train: 100%|██████████| 188/188 [00:00<00:00, 773.07it/s]\n",
            "train: 100%|██████████| 188/188 [00:00<00:00, 797.32it/s]\n",
            "train: 100%|██████████| 188/188 [00:00<00:00, 770.15it/s]\n",
            "train: 100%|██████████| 188/188 [00:00<00:00, 735.11it/s]\n",
            "train: 100%|██████████| 188/188 [00:00<00:00, 777.87it/s]\n",
            "train: 100%|██████████| 188/188 [00:00<00:00, 771.81it/s]\n",
            "train: 100%|██████████| 188/188 [00:00<00:00, 744.86it/s]\n",
            "train: 100%|██████████| 188/188 [00:00<00:00, 745.42it/s]\n",
            "train: 100%|██████████| 188/188 [00:00<00:00, 738.57it/s]\n",
            "train: 100%|██████████| 188/188 [00:00<00:00, 751.25it/s]\n",
            "train: 100%|██████████| 188/188 [00:00<00:00, 383.79it/s]\n",
            "train: 100%|██████████| 188/188 [00:00<00:00, 483.28it/s]\n",
            "train: 100%|██████████| 188/188 [00:00<00:00, 422.04it/s]\n",
            "train: 100%|██████████| 188/188 [00:00<00:00, 364.72it/s]\n",
            "train: 100%|██████████| 188/188 [00:00<00:00, 506.95it/s]\n",
            "train: 100%|██████████| 188/188 [00:00<00:00, 515.16it/s]\n",
            "train: 100%|██████████| 188/188 [00:00<00:00, 532.38it/s]\n",
            "train: 100%|██████████| 188/188 [00:00<00:00, 517.09it/s]\n",
            "train: 100%|██████████| 188/188 [00:00<00:00, 621.84it/s]\n",
            "train: 100%|██████████| 188/188 [00:00<00:00, 509.92it/s]\n",
            "train: 100%|██████████| 188/188 [00:00<00:00, 562.32it/s]\n",
            "train: 100%|██████████| 188/188 [00:00<00:00, 595.01it/s]\n",
            "train: 100%|██████████| 188/188 [00:00<00:00, 661.86it/s]\n",
            "train: 100%|██████████| 188/188 [00:00<00:00, 625.81it/s]\n",
            "train: 100%|██████████| 188/188 [00:00<00:00, 522.33it/s]\n",
            "train: 100%|██████████| 188/188 [00:00<00:00, 579.67it/s]\n",
            "train: 100%|██████████| 188/188 [00:00<00:00, 576.25it/s]\n",
            "train: 100%|██████████| 188/188 [00:00<00:00, 1067.41it/s]\n",
            "train: 100%|██████████| 188/188 [00:00<00:00, 1060.30it/s]\n",
            "train: 100%|██████████| 188/188 [00:00<00:00, 1171.92it/s]\n",
            "train: 100%|██████████| 188/188 [00:00<00:00, 1089.49it/s]\n",
            "train: 100%|██████████| 188/188 [00:00<00:00, 976.03it/s]\n",
            "train: 100%|██████████| 188/188 [00:00<00:00, 1043.05it/s]\n",
            "train: 100%|██████████| 188/188 [00:00<00:00, 976.78it/s] \n"
          ]
        },
        {
          "name": "stdout",
          "output_type": "stream",
          "text": [
            "\n",
            " ============================== SVD++ ==============================\n",
            "Training start time: \u001b[35m2023-04-03 18:05:31\u001b[0m\n"
          ]
        },
        {
          "name": "stderr",
          "output_type": "stream",
          "text": [
            "train: 100%|██████████| 188/188 [00:00<00:00, 302.88it/s]\n",
            "train: 100%|██████████| 188/188 [00:00<00:00, 371.70it/s]\n",
            "train: 100%|██████████| 188/188 [00:00<00:00, 355.26it/s]\n",
            "train: 100%|██████████| 188/188 [00:00<00:00, 349.02it/s]\n",
            "train: 100%|██████████| 188/188 [00:00<00:00, 343.60it/s]\n",
            "train: 100%|██████████| 188/188 [00:00<00:00, 343.36it/s]\n",
            "train: 100%|██████████| 188/188 [00:00<00:00, 347.29it/s]\n",
            "train: 100%|██████████| 188/188 [00:00<00:00, 267.52it/s]\n",
            "train: 100%|██████████| 188/188 [00:00<00:00, 259.81it/s]\n",
            "train: 100%|██████████| 188/188 [00:00<00:00, 245.34it/s]\n",
            "train: 100%|██████████| 188/188 [00:00<00:00, 245.21it/s]\n",
            "train: 100%|██████████| 188/188 [00:00<00:00, 235.26it/s]\n",
            "train: 100%|██████████| 188/188 [00:00<00:00, 256.83it/s]\n",
            "train: 100%|██████████| 188/188 [00:00<00:00, 349.49it/s]\n",
            "train: 100%|██████████| 188/188 [00:00<00:00, 360.85it/s]\n",
            "train: 100%|██████████| 188/188 [00:00<00:00, 338.59it/s]\n",
            "train: 100%|██████████| 188/188 [00:00<00:00, 349.28it/s]\n",
            "train: 100%|██████████| 188/188 [00:00<00:00, 361.77it/s]\n",
            "train: 100%|██████████| 188/188 [00:00<00:00, 337.37it/s]\n",
            "train: 100%|██████████| 188/188 [00:00<00:00, 326.82it/s]\n",
            "train: 100%|██████████| 188/188 [00:00<00:00, 354.92it/s]\n",
            "train: 100%|██████████| 188/188 [00:00<00:00, 342.07it/s]\n",
            "train: 100%|██████████| 188/188 [00:00<00:00, 352.80it/s]\n",
            "train: 100%|██████████| 188/188 [00:00<00:00, 347.73it/s]\n",
            "train: 100%|██████████| 188/188 [00:00<00:00, 333.64it/s]\n"
          ]
        },
        {
          "name": "stdout",
          "output_type": "stream",
          "text": [
            "\n",
            " ============================== item_cf ==============================\n",
            "Training start time: \u001b[35m2023-04-03 18:05:47\u001b[0m\n",
            "Final block size and num: (1449, 1)\n",
            "sim_matrix elapsed: 0.045s\n",
            "sim_matrix, shape: (1449, 1449), num_elements: 1276264, density: 563.2830 %\n"
          ]
        },
        {
          "name": "stderr",
          "output_type": "stream",
          "text": [
            "top_k: 100%|██████████| 1449/1449 [00:00<00:00, 4930.31it/s]\n"
          ]
        },
        {
          "name": "stdout",
          "output_type": "stream",
          "text": [
            "\n",
            " ============================== user_cf ==============================\n",
            "Training start time: \u001b[35m2023-04-03 18:05:47\u001b[0m\n",
            "Final block size and num: (476, 1)\n",
            "sim_matrix elapsed: 0.018s\n",
            "sim_matrix, shape: (476, 476), num_elements: 217416, density: 95.9572 %\n"
          ]
        },
        {
          "name": "stderr",
          "output_type": "stream",
          "text": [
            "top_k: 100%|██████████| 476/476 [00:00<00:00, 10392.32it/s]\n"
          ]
        },
        {
          "name": "stdout",
          "output_type": "stream",
          "text": [
            "\n",
            " ============================== ALS ==============================\n",
            "Training start time: \u001b[35m2023-04-03 18:05:47\u001b[0m\n",
            "8\n",
            "######## 90 ########\n",
            "<libreco.algorithms.svd.SVD object at 0x7f0ff9325ee0>\n"
          ]
        },
        {
          "name": "stderr",
          "output_type": "stream",
          "text": [
            "eval_pointwise: 100%|██████████| 1/1 [00:00<00:00, 573.70it/s]\n"
          ]
        },
        {
          "name": "stdout",
          "output_type": "stream",
          "text": [
            "<libreco.algorithms.svdpp.SVDpp object at 0x7f0ff8a52a30>\n"
          ]
        },
        {
          "name": "stderr",
          "output_type": "stream",
          "text": [
            "eval_pointwise: 100%|██████████| 1/1 [00:00<00:00, 1713.36it/s]\n"
          ]
        },
        {
          "name": "stdout",
          "output_type": "stream",
          "text": [
            "<libreco.algorithms.item_cf.ItemCF object at 0x7f1000108fa0>\n"
          ]
        },
        {
          "name": "stderr",
          "output_type": "stream",
          "text": [
            "eval_pointwise: 100%|██████████| 1/1 [00:00<00:00,  7.76it/s]\n"
          ]
        },
        {
          "name": "stdout",
          "output_type": "stream",
          "text": [
            "<libreco.algorithms.user_cf.UserCF object at 0x7f0ff8c2e520>\n"
          ]
        },
        {
          "name": "stderr",
          "output_type": "stream",
          "text": [
            "eval_pointwise: 100%|██████████| 1/1 [00:00<00:00,  7.94it/s]\n"
          ]
        },
        {
          "name": "stdout",
          "output_type": "stream",
          "text": [
            "<libreco.algorithms.als.ALS object at 0x7f0ff5d03b20>\n"
          ]
        },
        {
          "name": "stderr",
          "output_type": "stream",
          "text": [
            "eval_pointwise: 100%|██████████| 1/1 [00:00<00:00, 2075.36it/s]\n"
          ]
        },
        {
          "name": "stdout",
          "output_type": "stream",
          "text": [
            "\n",
            " ============================== SVD ==============================\n",
            "Training start time: \u001b[35m2023-04-03 18:05:55\u001b[0m\n"
          ]
        },
        {
          "name": "stderr",
          "output_type": "stream",
          "text": [
            "train: 100%|██████████| 199/199 [00:00<00:00, 818.46it/s]\n",
            "train: 100%|██████████| 199/199 [00:00<00:00, 1132.42it/s]\n",
            "train: 100%|██████████| 199/199 [00:00<00:00, 1241.04it/s]\n",
            "train: 100%|██████████| 199/199 [00:00<00:00, 1202.29it/s]\n",
            "train: 100%|██████████| 199/199 [00:00<00:00, 943.24it/s]\n",
            "train: 100%|██████████| 199/199 [00:00<00:00, 1237.99it/s]\n",
            "train: 100%|██████████| 199/199 [00:00<00:00, 1207.87it/s]\n",
            "train: 100%|██████████| 199/199 [00:00<00:00, 1133.09it/s]\n",
            "train: 100%|██████████| 199/199 [00:00<00:00, 1224.56it/s]\n",
            "train: 100%|██████████| 199/199 [00:00<00:00, 1154.96it/s]\n",
            "train: 100%|██████████| 199/199 [00:00<00:00, 1076.66it/s]\n",
            "train: 100%|██████████| 199/199 [00:00<00:00, 1181.63it/s]\n",
            "train: 100%|██████████| 199/199 [00:00<00:00, 1192.39it/s]\n",
            "train: 100%|██████████| 199/199 [00:00<00:00, 1213.23it/s]\n",
            "train: 100%|██████████| 199/199 [00:00<00:00, 1229.93it/s]\n",
            "train: 100%|██████████| 199/199 [00:00<00:00, 1065.87it/s]\n",
            "train: 100%|██████████| 199/199 [00:00<00:00, 1089.84it/s]\n",
            "train: 100%|██████████| 199/199 [00:00<00:00, 1206.45it/s]\n",
            "train: 100%|██████████| 199/199 [00:00<00:00, 1172.12it/s]\n",
            "train: 100%|██████████| 199/199 [00:00<00:00, 1225.85it/s]\n",
            "train: 100%|██████████| 199/199 [00:00<00:00, 1009.68it/s]\n",
            "train: 100%|██████████| 199/199 [00:00<00:00, 1049.79it/s]\n",
            "train: 100%|██████████| 199/199 [00:00<00:00, 1222.80it/s]\n",
            "train: 100%|██████████| 199/199 [00:00<00:00, 1216.30it/s]\n",
            "train: 100%|██████████| 199/199 [00:00<00:00, 1108.31it/s]\n",
            "train: 100%|██████████| 199/199 [00:00<00:00, 1227.09it/s]\n",
            "train: 100%|██████████| 199/199 [00:00<00:00, 915.73it/s]\n",
            "train: 100%|██████████| 199/199 [00:00<00:00, 1234.18it/s]\n",
            "train: 100%|██████████| 199/199 [00:00<00:00, 1134.26it/s]\n",
            "train: 100%|██████████| 199/199 [00:00<00:00, 1234.96it/s]\n",
            "train: 100%|██████████| 199/199 [00:00<00:00, 1104.29it/s]\n",
            "train: 100%|██████████| 199/199 [00:00<00:00, 1138.83it/s]\n",
            "train: 100%|██████████| 199/199 [00:00<00:00, 1137.86it/s]\n",
            "train: 100%|██████████| 199/199 [00:00<00:00, 1201.60it/s]\n",
            "train: 100%|██████████| 199/199 [00:00<00:00, 1241.88it/s]\n",
            "train: 100%|██████████| 199/199 [00:00<00:00, 1196.72it/s]\n",
            "train: 100%|██████████| 199/199 [00:00<00:00, 1100.18it/s]\n",
            "train: 100%|██████████| 199/199 [00:00<00:00, 1003.52it/s]\n",
            "train: 100%|██████████| 199/199 [00:00<00:00, 1098.09it/s]\n",
            "train: 100%|██████████| 199/199 [00:00<00:00, 1205.64it/s]\n",
            "train: 100%|██████████| 199/199 [00:00<00:00, 1104.66it/s]\n",
            "train: 100%|██████████| 199/199 [00:00<00:00, 1199.08it/s]\n",
            "train: 100%|██████████| 199/199 [00:00<00:00, 1068.20it/s]\n",
            "train: 100%|██████████| 199/199 [00:00<00:00, 1126.99it/s]\n",
            "train: 100%|██████████| 199/199 [00:00<00:00, 1152.03it/s]\n",
            "train: 100%|██████████| 199/199 [00:00<00:00, 1224.99it/s]\n",
            "train: 100%|██████████| 199/199 [00:00<00:00, 1252.61it/s]\n",
            "train: 100%|██████████| 199/199 [00:00<00:00, 862.18it/s] \n",
            "train: 100%|██████████| 199/199 [00:00<00:00, 797.88it/s]\n",
            "train: 100%|██████████| 199/199 [00:00<00:00, 787.17it/s]\n"
          ]
        },
        {
          "name": "stdout",
          "output_type": "stream",
          "text": [
            "\n",
            " ============================== SVD++ ==============================\n",
            "Training start time: \u001b[35m2023-04-03 18:06:05\u001b[0m\n"
          ]
        },
        {
          "name": "stderr",
          "output_type": "stream",
          "text": [
            "train: 100%|██████████| 199/199 [00:00<00:00, 206.34it/s]\n",
            "train: 100%|██████████| 199/199 [00:00<00:00, 230.94it/s]\n",
            "train: 100%|██████████| 199/199 [00:00<00:00, 229.12it/s]\n",
            "train: 100%|██████████| 199/199 [00:00<00:00, 253.42it/s]\n",
            "train: 100%|██████████| 199/199 [00:00<00:00, 350.56it/s]\n",
            "train: 100%|██████████| 199/199 [00:00<00:00, 357.88it/s]\n",
            "train: 100%|██████████| 199/199 [00:00<00:00, 351.00it/s]\n",
            "train: 100%|██████████| 199/199 [00:00<00:00, 333.04it/s]\n",
            "train: 100%|██████████| 199/199 [00:00<00:00, 340.23it/s]\n",
            "train: 100%|██████████| 199/199 [00:00<00:00, 334.89it/s]\n",
            "train: 100%|██████████| 199/199 [00:00<00:00, 330.38it/s]\n",
            "train: 100%|██████████| 199/199 [00:00<00:00, 342.29it/s]\n",
            "train: 100%|██████████| 199/199 [00:00<00:00, 339.54it/s]\n",
            "train: 100%|██████████| 199/199 [00:00<00:00, 348.20it/s]\n",
            "train: 100%|██████████| 199/199 [00:00<00:00, 341.53it/s]\n",
            "train: 100%|██████████| 199/199 [00:00<00:00, 364.95it/s]\n",
            "train: 100%|██████████| 199/199 [00:00<00:00, 340.42it/s]\n",
            "train: 100%|██████████| 199/199 [00:00<00:00, 357.32it/s]\n",
            "train: 100%|██████████| 199/199 [00:00<00:00, 344.41it/s]\n",
            "train: 100%|██████████| 199/199 [00:01<00:00, 191.33it/s]\n",
            "train: 100%|██████████| 199/199 [00:01<00:00, 144.64it/s]\n",
            "train: 100%|██████████| 199/199 [00:00<00:00, 245.14it/s]\n",
            "train: 100%|██████████| 199/199 [00:00<00:00, 240.03it/s]\n",
            "train: 100%|██████████| 199/199 [00:00<00:00, 233.70it/s]\n",
            "train: 100%|██████████| 199/199 [00:00<00:00, 263.99it/s]\n"
          ]
        },
        {
          "name": "stdout",
          "output_type": "stream",
          "text": [
            "\n",
            " ============================== item_cf ==============================\n",
            "Training start time: \u001b[35m2023-04-03 18:06:24\u001b[0m\n",
            "Final block size and num: (1471, 1)\n",
            "sim_matrix elapsed: 0.044s\n",
            "sim_matrix, shape: (1471, 1471), num_elements: 1313070, density: 512.8458 %\n"
          ]
        },
        {
          "name": "stderr",
          "output_type": "stream",
          "text": [
            "top_k: 100%|██████████| 1471/1471 [00:00<00:00, 4902.06it/s]\n"
          ]
        },
        {
          "name": "stdout",
          "output_type": "stream",
          "text": [
            "\n",
            " ============================== user_cf ==============================\n",
            "Training start time: \u001b[35m2023-04-03 18:06:24\u001b[0m\n",
            "Final block size and num: (506, 1)\n",
            "sim_matrix elapsed: 0.012s\n",
            "sim_matrix, shape: (506, 506), num_elements: 246024, density: 96.0896 %\n"
          ]
        },
        {
          "name": "stderr",
          "output_type": "stream",
          "text": [
            "top_k: 100%|██████████| 506/506 [00:00<00:00, 9054.72it/s]\n"
          ]
        },
        {
          "name": "stdout",
          "output_type": "stream",
          "text": [
            "\n",
            " ============================== ALS ==============================\n",
            "Training start time: \u001b[35m2023-04-03 18:06:24\u001b[0m\n",
            "9\n",
            "######## 100 ########\n",
            "<libreco.algorithms.svd.SVD object at 0x7f0ff62b0310>\n"
          ]
        },
        {
          "name": "stderr",
          "output_type": "stream",
          "text": [
            "eval_pointwise: 100%|██████████| 1/1 [00:00<00:00, 324.34it/s]\n"
          ]
        },
        {
          "name": "stdout",
          "output_type": "stream",
          "text": [
            "\u001b[31mDetect 1 unknown interaction(s), position: [402]\u001b[0m\n",
            "<libreco.algorithms.svdpp.SVDpp object at 0x7f0ff6261820>\n"
          ]
        },
        {
          "name": "stderr",
          "output_type": "stream",
          "text": [
            "eval_pointwise: 100%|██████████| 1/1 [00:00<00:00, 1909.97it/s]\n"
          ]
        },
        {
          "name": "stdout",
          "output_type": "stream",
          "text": [
            "\u001b[31mDetect 1 unknown interaction(s), position: [402]\u001b[0m\n",
            "<libreco.algorithms.item_cf.ItemCF object at 0x7f0ff4872a30>\n"
          ]
        },
        {
          "name": "stderr",
          "output_type": "stream",
          "text": [
            "eval_pointwise: 100%|██████████| 1/1 [00:00<00:00,  5.84it/s]"
          ]
        },
        {
          "name": "stdout",
          "output_type": "stream",
          "text": [
            "\u001b[31mDetect 1 unknown interaction(s), position: [402]\u001b[0m\n"
          ]
        },
        {
          "name": "stderr",
          "output_type": "stream",
          "text": [
            "\n"
          ]
        },
        {
          "name": "stdout",
          "output_type": "stream",
          "text": [
            "<libreco.algorithms.user_cf.UserCF object at 0x7f0ff4bd2d60>\n"
          ]
        },
        {
          "name": "stderr",
          "output_type": "stream",
          "text": [
            "\reval_pointwise:   0%|          | 0/1 [00:00<?, ?it/s]"
          ]
        },
        {
          "name": "stdout",
          "output_type": "stream",
          "text": [
            "\u001b[31mDetect 1 unknown interaction(s), position: [402]\u001b[0m\n"
          ]
        },
        {
          "name": "stderr",
          "output_type": "stream",
          "text": [
            "eval_pointwise: 100%|██████████| 1/1 [00:00<00:00,  7.33it/s]\n"
          ]
        },
        {
          "name": "stdout",
          "output_type": "stream",
          "text": [
            "<libreco.algorithms.als.ALS object at 0x7f0ff941d2e0>\n"
          ]
        },
        {
          "name": "stderr",
          "output_type": "stream",
          "text": [
            "eval_pointwise: 100%|██████████| 1/1 [00:00<00:00, 1488.93it/s]\n"
          ]
        },
        {
          "name": "stdout",
          "output_type": "stream",
          "text": [
            "\u001b[31mDetect 1 unknown interaction(s), position: [402]\u001b[0m\n",
            "\n",
            " ============================== SVD ==============================\n",
            "Training start time: \u001b[35m2023-04-03 18:06:30\u001b[0m\n"
          ]
        },
        {
          "name": "stderr",
          "output_type": "stream",
          "text": [
            "train: 100%|██████████| 221/221 [00:00<00:00, 833.11it/s]\n",
            "train: 100%|██████████| 221/221 [00:00<00:00, 1233.67it/s]\n",
            "train: 100%|██████████| 221/221 [00:00<00:00, 1142.46it/s]\n",
            "train: 100%|██████████| 221/221 [00:00<00:00, 1119.46it/s]\n",
            "train: 100%|██████████| 221/221 [00:00<00:00, 1153.62it/s]\n",
            "train: 100%|██████████| 221/221 [00:00<00:00, 1072.39it/s]\n",
            "train: 100%|██████████| 221/221 [00:00<00:00, 1163.14it/s]\n",
            "train: 100%|██████████| 221/221 [00:00<00:00, 1102.78it/s]\n",
            "train: 100%|██████████| 221/221 [00:00<00:00, 1108.53it/s]\n",
            "train: 100%|██████████| 221/221 [00:00<00:00, 1221.03it/s]\n",
            "train: 100%|██████████| 221/221 [00:00<00:00, 1169.38it/s]\n",
            "train: 100%|██████████| 221/221 [00:00<00:00, 1099.14it/s]\n",
            "train: 100%|██████████| 221/221 [00:00<00:00, 1079.13it/s]\n",
            "train: 100%|██████████| 221/221 [00:00<00:00, 1215.41it/s]\n",
            "train: 100%|██████████| 221/221 [00:00<00:00, 1048.12it/s]\n",
            "train: 100%|██████████| 221/221 [00:00<00:00, 776.60it/s]\n",
            "train: 100%|██████████| 221/221 [00:00<00:00, 763.40it/s]\n",
            "train: 100%|██████████| 221/221 [00:00<00:00, 716.05it/s]\n",
            "train: 100%|██████████| 221/221 [00:00<00:00, 838.03it/s]\n",
            "train: 100%|██████████| 221/221 [00:00<00:00, 669.58it/s]\n",
            "train: 100%|██████████| 221/221 [00:00<00:00, 775.41it/s]\n",
            "train: 100%|██████████| 221/221 [00:00<00:00, 796.61it/s]\n",
            "train: 100%|██████████| 221/221 [00:00<00:00, 735.98it/s]\n",
            "train: 100%|██████████| 221/221 [00:00<00:00, 795.26it/s]\n",
            "train: 100%|██████████| 221/221 [00:00<00:00, 686.01it/s]\n",
            "train: 100%|██████████| 221/221 [00:00<00:00, 731.80it/s]\n",
            "train: 100%|██████████| 221/221 [00:00<00:00, 745.15it/s]\n",
            "train: 100%|██████████| 221/221 [00:00<00:00, 733.81it/s]\n",
            "train: 100%|██████████| 221/221 [00:00<00:00, 714.24it/s]\n",
            "train: 100%|██████████| 221/221 [00:00<00:00, 791.53it/s]\n",
            "train: 100%|██████████| 221/221 [00:00<00:00, 710.88it/s]\n",
            "train: 100%|██████████| 221/221 [00:00<00:00, 869.17it/s]\n",
            "train: 100%|██████████| 221/221 [00:00<00:00, 1212.73it/s]\n",
            "train: 100%|██████████| 221/221 [00:00<00:00, 1104.19it/s]\n",
            "train: 100%|██████████| 221/221 [00:00<00:00, 1129.30it/s]\n",
            "train: 100%|██████████| 221/221 [00:00<00:00, 995.81it/s] \n",
            "train: 100%|██████████| 221/221 [00:00<00:00, 1051.59it/s]\n",
            "train: 100%|██████████| 221/221 [00:00<00:00, 1044.53it/s]\n",
            "train: 100%|██████████| 221/221 [00:00<00:00, 1155.28it/s]\n",
            "train: 100%|██████████| 221/221 [00:00<00:00, 1004.46it/s]\n",
            "train: 100%|██████████| 221/221 [00:00<00:00, 1044.09it/s]\n",
            "train: 100%|██████████| 221/221 [00:00<00:00, 1063.51it/s]\n",
            "train: 100%|██████████| 221/221 [00:00<00:00, 1105.09it/s]\n",
            "train: 100%|██████████| 221/221 [00:00<00:00, 1174.83it/s]\n",
            "train: 100%|██████████| 221/221 [00:00<00:00, 1048.60it/s]\n",
            "train: 100%|██████████| 221/221 [00:00<00:00, 1057.93it/s]\n",
            "train: 100%|██████████| 221/221 [00:00<00:00, 1192.87it/s]\n",
            "train: 100%|██████████| 221/221 [00:00<00:00, 1190.83it/s]\n",
            "train: 100%|██████████| 221/221 [00:00<00:00, 1151.84it/s]\n",
            "train: 100%|██████████| 221/221 [00:00<00:00, 1104.07it/s]\n"
          ]
        },
        {
          "name": "stdout",
          "output_type": "stream",
          "text": [
            "\n",
            " ============================== SVD++ ==============================\n",
            "Training start time: \u001b[35m2023-04-03 18:06:43\u001b[0m\n"
          ]
        },
        {
          "name": "stderr",
          "output_type": "stream",
          "text": [
            "train: 100%|██████████| 221/221 [00:00<00:00, 296.24it/s]\n",
            "train: 100%|██████████| 221/221 [00:00<00:00, 309.55it/s]\n",
            "train: 100%|██████████| 221/221 [00:00<00:00, 315.03it/s]\n",
            "train: 100%|██████████| 221/221 [00:00<00:00, 320.99it/s]\n",
            "train: 100%|██████████| 221/221 [00:00<00:00, 316.22it/s]\n",
            "train: 100%|██████████| 221/221 [00:00<00:00, 324.16it/s]\n",
            "train: 100%|██████████| 221/221 [00:00<00:00, 325.95it/s]\n",
            "train: 100%|██████████| 221/221 [00:00<00:00, 323.05it/s]\n",
            "train: 100%|██████████| 221/221 [00:00<00:00, 224.14it/s]\n",
            "train: 100%|██████████| 221/221 [00:00<00:00, 239.59it/s]\n",
            "train: 100%|██████████| 221/221 [00:00<00:00, 225.14it/s]\n",
            "train: 100%|██████████| 221/221 [00:01<00:00, 215.66it/s]\n",
            "train: 100%|██████████| 221/221 [00:00<00:00, 297.77it/s]\n",
            "train: 100%|██████████| 221/221 [00:00<00:00, 322.99it/s]\n",
            "train: 100%|██████████| 221/221 [00:00<00:00, 315.94it/s]\n",
            "train: 100%|██████████| 221/221 [00:00<00:00, 330.29it/s]\n",
            "train: 100%|██████████| 221/221 [00:00<00:00, 315.62it/s]\n",
            "train: 100%|██████████| 221/221 [00:00<00:00, 329.92it/s]\n",
            "train: 100%|██████████| 221/221 [00:00<00:00, 345.86it/s]\n",
            "train: 100%|██████████| 221/221 [00:00<00:00, 328.28it/s]\n",
            "train: 100%|██████████| 221/221 [00:00<00:00, 323.39it/s]\n",
            "train: 100%|██████████| 221/221 [00:00<00:00, 316.35it/s]\n",
            "train: 100%|██████████| 221/221 [00:00<00:00, 314.43it/s]\n",
            "train: 100%|██████████| 221/221 [00:00<00:00, 326.93it/s]\n",
            "train: 100%|██████████| 221/221 [00:00<00:00, 327.39it/s]\n"
          ]
        },
        {
          "name": "stdout",
          "output_type": "stream",
          "text": [
            "\n",
            " ============================== item_cf ==============================\n",
            "Training start time: \u001b[35m2023-04-03 18:07:02\u001b[0m\n",
            "Final block size and num: (1502, 1)\n",
            "sim_matrix elapsed: 0.057s\n",
            "sim_matrix, shape: (1502, 1502), num_elements: 1369432, density: 436.6811 %\n"
          ]
        },
        {
          "name": "stderr",
          "output_type": "stream",
          "text": [
            "top_k: 100%|██████████| 1502/1502 [00:00<00:00, 4960.26it/s]\n"
          ]
        },
        {
          "name": "stdout",
          "output_type": "stream",
          "text": [
            "\n",
            " ============================== user_cf ==============================\n",
            "Training start time: \u001b[35m2023-04-03 18:07:02\u001b[0m\n",
            "Final block size and num: (560, 1)\n",
            "sim_matrix elapsed: 0.013s\n",
            "sim_matrix, shape: (560, 560), num_elements: 300864, density: 95.9388 %\n"
          ]
        },
        {
          "name": "stderr",
          "output_type": "stream",
          "text": [
            "top_k: 100%|██████████| 560/560 [00:00<00:00, 8763.96it/s]\n"
          ]
        },
        {
          "name": "stdout",
          "output_type": "stream",
          "text": [
            "\n",
            " ============================== ALS ==============================\n",
            "Training start time: \u001b[35m2023-04-03 18:07:03\u001b[0m\n",
            "10\n",
            "######## 110 ########\n",
            "<libreco.algorithms.svd.SVD object at 0x7f0ff27f8400>\n"
          ]
        },
        {
          "name": "stderr",
          "output_type": "stream",
          "text": [
            "eval_pointwise: 100%|██████████| 1/1 [00:00<00:00, 1446.81it/s]\n"
          ]
        },
        {
          "name": "stdout",
          "output_type": "stream",
          "text": [
            "<libreco.algorithms.svdpp.SVDpp object at 0x7f0ff5aef070>\n"
          ]
        },
        {
          "name": "stderr",
          "output_type": "stream",
          "text": [
            "eval_pointwise: 100%|██████████| 1/1 [00:00<00:00, 1497.97it/s]\n"
          ]
        },
        {
          "name": "stdout",
          "output_type": "stream",
          "text": [
            "<libreco.algorithms.item_cf.ItemCF object at 0x7f0ff941df70>\n"
          ]
        },
        {
          "name": "stderr",
          "output_type": "stream",
          "text": [
            "eval_pointwise: 100%|██████████| 1/1 [00:00<00:00,  6.62it/s]\n"
          ]
        },
        {
          "name": "stdout",
          "output_type": "stream",
          "text": [
            "<libreco.algorithms.user_cf.UserCF object at 0x7f0ff48280d0>\n"
          ]
        },
        {
          "name": "stderr",
          "output_type": "stream",
          "text": [
            "eval_pointwise: 100%|██████████| 1/1 [00:00<00:00,  6.65it/s]\n"
          ]
        },
        {
          "name": "stdout",
          "output_type": "stream",
          "text": [
            "<libreco.algorithms.als.ALS object at 0x7f0ff8d88b20>\n"
          ]
        },
        {
          "name": "stderr",
          "output_type": "stream",
          "text": [
            "eval_pointwise: 100%|██████████| 1/1 [00:00<00:00, 2032.12it/s]\n"
          ]
        },
        {
          "name": "stdout",
          "output_type": "stream",
          "text": [
            "\n",
            " ============================== SVD ==============================\n",
            "Training start time: \u001b[35m2023-04-03 18:07:12\u001b[0m\n"
          ]
        },
        {
          "name": "stderr",
          "output_type": "stream",
          "text": [
            "train: 100%|██████████| 238/238 [00:00<00:00, 827.16it/s]\n",
            "train: 100%|██████████| 238/238 [00:00<00:00, 1123.66it/s]\n",
            "train: 100%|██████████| 238/238 [00:00<00:00, 1084.58it/s]\n",
            "train: 100%|██████████| 238/238 [00:00<00:00, 1081.59it/s]\n",
            "train: 100%|██████████| 238/238 [00:00<00:00, 1119.09it/s]\n",
            "train: 100%|██████████| 238/238 [00:00<00:00, 1130.21it/s]\n",
            "train: 100%|██████████| 238/238 [00:00<00:00, 1241.81it/s]\n",
            "train: 100%|██████████| 238/238 [00:00<00:00, 1082.71it/s]\n",
            "train: 100%|██████████| 238/238 [00:00<00:00, 1066.86it/s]\n",
            "train: 100%|██████████| 238/238 [00:00<00:00, 1134.86it/s]\n",
            "train: 100%|██████████| 238/238 [00:00<00:00, 1033.43it/s]\n",
            "train: 100%|██████████| 238/238 [00:00<00:00, 1088.52it/s]\n",
            "train: 100%|██████████| 238/238 [00:00<00:00, 1110.06it/s]\n",
            "train: 100%|██████████| 238/238 [00:00<00:00, 1036.88it/s]\n",
            "train: 100%|██████████| 238/238 [00:00<00:00, 1134.74it/s]\n",
            "train: 100%|██████████| 238/238 [00:00<00:00, 1190.73it/s]\n",
            "train: 100%|██████████| 238/238 [00:00<00:00, 1175.46it/s]\n",
            "train: 100%|██████████| 238/238 [00:00<00:00, 1097.92it/s]\n",
            "train: 100%|██████████| 238/238 [00:00<00:00, 1088.00it/s]\n",
            "train: 100%|██████████| 238/238 [00:00<00:00, 1132.59it/s]\n",
            "train: 100%|██████████| 238/238 [00:00<00:00, 1187.19it/s]\n",
            "train: 100%|██████████| 238/238 [00:00<00:00, 1144.69it/s]\n",
            "train: 100%|██████████| 238/238 [00:00<00:00, 1078.43it/s]\n",
            "train: 100%|██████████| 238/238 [00:00<00:00, 1051.96it/s]\n",
            "train: 100%|██████████| 238/238 [00:00<00:00, 1211.04it/s]\n",
            "train: 100%|██████████| 238/238 [00:00<00:00, 1083.37it/s]\n",
            "train: 100%|██████████| 238/238 [00:00<00:00, 670.26it/s]\n",
            "train: 100%|██████████| 238/238 [00:00<00:00, 757.66it/s]\n",
            "train: 100%|██████████| 238/238 [00:00<00:00, 730.13it/s]\n",
            "train: 100%|██████████| 238/238 [00:00<00:00, 707.69it/s]\n",
            "train: 100%|██████████| 238/238 [00:00<00:00, 768.99it/s]\n",
            "train: 100%|██████████| 238/238 [00:00<00:00, 800.40it/s]\n",
            "train: 100%|██████████| 238/238 [00:00<00:00, 743.53it/s]\n",
            "train: 100%|██████████| 238/238 [00:00<00:00, 740.06it/s]\n",
            "train: 100%|██████████| 238/238 [00:00<00:00, 766.56it/s]\n",
            "train: 100%|██████████| 238/238 [00:00<00:00, 741.60it/s]\n",
            "train: 100%|██████████| 238/238 [00:00<00:00, 718.78it/s]\n",
            "train: 100%|██████████| 238/238 [00:00<00:00, 684.94it/s]\n",
            "train: 100%|██████████| 238/238 [00:00<00:00, 674.86it/s]\n",
            "train: 100%|██████████| 238/238 [00:00<00:00, 665.07it/s]\n",
            "train: 100%|██████████| 238/238 [00:00<00:00, 836.12it/s]\n",
            "train: 100%|██████████| 238/238 [00:00<00:00, 1041.10it/s]\n",
            "train: 100%|██████████| 238/238 [00:00<00:00, 1141.16it/s]\n",
            "train: 100%|██████████| 238/238 [00:00<00:00, 1198.21it/s]\n",
            "train: 100%|██████████| 238/238 [00:00<00:00, 1092.01it/s]\n",
            "train: 100%|██████████| 238/238 [00:00<00:00, 1088.46it/s]\n",
            "train: 100%|██████████| 238/238 [00:00<00:00, 1081.67it/s]\n",
            "train: 100%|██████████| 238/238 [00:00<00:00, 1132.91it/s]\n",
            "train: 100%|██████████| 238/238 [00:00<00:00, 1106.60it/s]\n",
            "train: 100%|██████████| 238/238 [00:00<00:00, 1132.98it/s]\n"
          ]
        },
        {
          "name": "stdout",
          "output_type": "stream",
          "text": [
            "\n",
            " ============================== SVD++ ==============================\n",
            "Training start time: \u001b[35m2023-04-03 18:07:25\u001b[0m\n"
          ]
        },
        {
          "name": "stderr",
          "output_type": "stream",
          "text": [
            "train: 100%|██████████| 238/238 [00:00<00:00, 277.50it/s]\n",
            "train: 100%|██████████| 238/238 [00:00<00:00, 304.77it/s]\n",
            "train: 100%|██████████| 238/238 [00:00<00:00, 310.68it/s]\n",
            "train: 100%|██████████| 238/238 [00:00<00:00, 312.19it/s]\n",
            "train: 100%|██████████| 238/238 [00:00<00:00, 307.58it/s]\n",
            "train: 100%|██████████| 238/238 [00:00<00:00, 306.47it/s]\n",
            "train: 100%|██████████| 238/238 [00:00<00:00, 320.30it/s]\n",
            "train: 100%|██████████| 238/238 [00:00<00:00, 305.62it/s]\n",
            "train: 100%|██████████| 238/238 [00:00<00:00, 301.42it/s]\n",
            "train: 100%|██████████| 238/238 [00:01<00:00, 237.99it/s]\n",
            "train: 100%|██████████| 238/238 [00:01<00:00, 210.37it/s]\n",
            "train: 100%|██████████| 238/238 [00:01<00:00, 212.51it/s]\n",
            "train: 100%|██████████| 238/238 [00:01<00:00, 201.60it/s]\n",
            "train: 100%|██████████| 238/238 [00:00<00:00, 303.09it/s]\n",
            "train: 100%|██████████| 238/238 [00:00<00:00, 301.58it/s]\n",
            "train: 100%|██████████| 238/238 [00:00<00:00, 302.44it/s]\n",
            "train: 100%|██████████| 238/238 [00:00<00:00, 292.68it/s]\n",
            "train: 100%|██████████| 238/238 [00:00<00:00, 314.68it/s]\n",
            "train: 100%|██████████| 238/238 [00:00<00:00, 298.54it/s]\n",
            "train: 100%|██████████| 238/238 [00:00<00:00, 293.62it/s]\n",
            "train: 100%|██████████| 238/238 [00:00<00:00, 313.81it/s]\n",
            "train: 100%|██████████| 238/238 [00:00<00:00, 290.30it/s]\n",
            "train: 100%|██████████| 238/238 [00:00<00:00, 307.72it/s]\n",
            "train: 100%|██████████| 238/238 [00:00<00:00, 304.78it/s]\n",
            "train: 100%|██████████| 238/238 [00:00<00:00, 301.83it/s]\n"
          ]
        },
        {
          "name": "stdout",
          "output_type": "stream",
          "text": [
            "\n",
            " ============================== item_cf ==============================\n",
            "Training start time: \u001b[35m2023-04-03 18:07:47\u001b[0m\n",
            "Final block size and num: (1511, 1)\n",
            "sim_matrix elapsed: 0.054s\n",
            "sim_matrix, shape: (1511, 1511), num_elements: 1400390, density: 383.8620 %\n"
          ]
        },
        {
          "name": "stderr",
          "output_type": "stream",
          "text": [
            "top_k: 100%|██████████| 1511/1511 [00:00<00:00, 4267.84it/s]\n"
          ]
        },
        {
          "name": "stdout",
          "output_type": "stream",
          "text": [
            "\n",
            " ============================== user_cf ==============================\n",
            "Training start time: \u001b[35m2023-04-03 18:07:47\u001b[0m\n",
            "Final block size and num: (604, 1)\n",
            "sim_matrix elapsed: 0.018s\n",
            "sim_matrix, shape: (604, 604), num_elements: 350112, density: 95.9695 %\n"
          ]
        },
        {
          "name": "stderr",
          "output_type": "stream",
          "text": [
            "top_k: 100%|██████████| 604/604 [00:00<00:00, 5181.15it/s]\n"
          ]
        },
        {
          "name": "stdout",
          "output_type": "stream",
          "text": [
            "\n",
            " ============================== ALS ==============================\n",
            "Training start time: \u001b[35m2023-04-03 18:07:47\u001b[0m\n",
            "11\n",
            "######## 120 ########\n",
            "<libreco.algorithms.svd.SVD object at 0x7f0ff45bf220>\n"
          ]
        },
        {
          "name": "stderr",
          "output_type": "stream",
          "text": [
            "eval_pointwise: 100%|██████████| 1/1 [00:00<00:00, 1110.78it/s]\n"
          ]
        },
        {
          "name": "stdout",
          "output_type": "stream",
          "text": [
            "<libreco.algorithms.svdpp.SVDpp object at 0x7f0ff31fff70>\n"
          ]
        },
        {
          "name": "stderr",
          "output_type": "stream",
          "text": [
            "eval_pointwise: 100%|██████████| 1/1 [00:00<00:00, 1421.32it/s]\n"
          ]
        },
        {
          "name": "stdout",
          "output_type": "stream",
          "text": [
            "<libreco.algorithms.item_cf.ItemCF object at 0x7f0ff9a50700>\n"
          ]
        },
        {
          "name": "stderr",
          "output_type": "stream",
          "text": [
            "eval_pointwise: 100%|██████████| 1/1 [00:00<00:00,  5.27it/s]\n"
          ]
        },
        {
          "name": "stdout",
          "output_type": "stream",
          "text": [
            "<libreco.algorithms.user_cf.UserCF object at 0x7f0ff9a6f700>\n"
          ]
        },
        {
          "name": "stderr",
          "output_type": "stream",
          "text": [
            "eval_pointwise: 100%|██████████| 1/1 [00:00<00:00,  5.90it/s]\n"
          ]
        },
        {
          "name": "stdout",
          "output_type": "stream",
          "text": [
            "<libreco.algorithms.als.ALS object at 0x7f0ff844c130>\n"
          ]
        },
        {
          "name": "stderr",
          "output_type": "stream",
          "text": [
            "eval_pointwise: 100%|██████████| 1/1 [00:00<00:00, 2280.75it/s]\n"
          ]
        },
        {
          "name": "stdout",
          "output_type": "stream",
          "text": [
            "\n",
            " ============================== SVD ==============================\n",
            "Training start time: \u001b[35m2023-04-03 18:07:57\u001b[0m\n"
          ]
        },
        {
          "name": "stderr",
          "output_type": "stream",
          "text": [
            "train: 100%|██████████| 252/252 [00:00<00:00, 859.29it/s]\n",
            "train: 100%|██████████| 252/252 [00:00<00:00, 1083.21it/s]\n",
            "train: 100%|██████████| 252/252 [00:00<00:00, 1175.38it/s]\n",
            "train: 100%|██████████| 252/252 [00:00<00:00, 1126.34it/s]\n",
            "train: 100%|██████████| 252/252 [00:00<00:00, 992.62it/s]\n",
            "train: 100%|██████████| 252/252 [00:00<00:00, 1167.99it/s]\n",
            "train: 100%|██████████| 252/252 [00:00<00:00, 1095.80it/s]\n",
            "train: 100%|██████████| 252/252 [00:00<00:00, 1135.89it/s]\n",
            "train: 100%|██████████| 252/252 [00:00<00:00, 1077.01it/s]\n",
            "train: 100%|██████████| 252/252 [00:00<00:00, 1157.12it/s]\n",
            "train: 100%|██████████| 252/252 [00:00<00:00, 1132.91it/s]\n",
            "train: 100%|██████████| 252/252 [00:00<00:00, 1056.20it/s]\n",
            "train: 100%|██████████| 252/252 [00:00<00:00, 1031.24it/s]\n",
            "train: 100%|██████████| 252/252 [00:00<00:00, 1076.44it/s]\n",
            "train: 100%|██████████| 252/252 [00:00<00:00, 1146.85it/s]\n",
            "train: 100%|██████████| 252/252 [00:00<00:00, 1043.89it/s]\n",
            "train: 100%|██████████| 252/252 [00:00<00:00, 1110.82it/s]\n",
            "train: 100%|██████████| 252/252 [00:00<00:00, 1088.55it/s]\n",
            "train: 100%|██████████| 252/252 [00:00<00:00, 1202.58it/s]\n",
            "train: 100%|██████████| 252/252 [00:00<00:00, 853.12it/s]\n",
            "train: 100%|██████████| 252/252 [00:00<00:00, 724.80it/s]\n",
            "train: 100%|██████████| 252/252 [00:00<00:00, 735.48it/s]\n",
            "train: 100%|██████████| 252/252 [00:00<00:00, 753.33it/s]\n",
            "train: 100%|██████████| 252/252 [00:00<00:00, 794.00it/s]\n",
            "train: 100%|██████████| 252/252 [00:00<00:00, 673.67it/s]\n",
            "train: 100%|██████████| 252/252 [00:00<00:00, 755.86it/s]\n",
            "train: 100%|██████████| 252/252 [00:00<00:00, 663.88it/s]\n",
            "train: 100%|██████████| 252/252 [00:00<00:00, 714.32it/s]\n",
            "train: 100%|██████████| 252/252 [00:00<00:00, 737.88it/s]\n",
            "train: 100%|██████████| 252/252 [00:00<00:00, 735.39it/s]\n",
            "train: 100%|██████████| 252/252 [00:00<00:00, 728.27it/s]\n",
            "train: 100%|██████████| 252/252 [00:00<00:00, 720.44it/s]\n",
            "train: 100%|██████████| 252/252 [00:00<00:00, 692.07it/s]\n",
            "train: 100%|██████████| 252/252 [00:00<00:00, 717.51it/s]\n",
            "train: 100%|██████████| 252/252 [00:00<00:00, 1088.29it/s]\n",
            "train: 100%|██████████| 252/252 [00:00<00:00, 1076.78it/s]\n",
            "train: 100%|██████████| 252/252 [00:00<00:00, 977.80it/s]\n",
            "train: 100%|██████████| 252/252 [00:00<00:00, 1039.43it/s]\n",
            "train: 100%|██████████| 252/252 [00:00<00:00, 1048.57it/s]\n",
            "train: 100%|██████████| 252/252 [00:00<00:00, 1079.54it/s]\n",
            "train: 100%|██████████| 252/252 [00:00<00:00, 1116.14it/s]\n",
            "train: 100%|██████████| 252/252 [00:00<00:00, 1079.85it/s]\n",
            "train: 100%|██████████| 252/252 [00:00<00:00, 1166.35it/s]\n",
            "train: 100%|██████████| 252/252 [00:00<00:00, 1119.21it/s]\n",
            "train: 100%|██████████| 252/252 [00:00<00:00, 1128.33it/s]\n",
            "train: 100%|██████████| 252/252 [00:00<00:00, 1204.25it/s]\n",
            "train: 100%|██████████| 252/252 [00:00<00:00, 1116.57it/s]\n",
            "train: 100%|██████████| 252/252 [00:00<00:00, 1097.72it/s]\n",
            "train: 100%|██████████| 252/252 [00:00<00:00, 1098.57it/s]\n",
            "train: 100%|██████████| 252/252 [00:00<00:00, 1044.45it/s]\n"
          ]
        },
        {
          "name": "stdout",
          "output_type": "stream",
          "text": [
            "\n",
            " ============================== SVD++ ==============================\n",
            "Training start time: \u001b[35m2023-04-03 18:08:11\u001b[0m\n"
          ]
        },
        {
          "name": "stderr",
          "output_type": "stream",
          "text": [
            "train: 100%|██████████| 252/252 [00:00<00:00, 271.56it/s]\n",
            "train: 100%|██████████| 252/252 [00:00<00:00, 289.16it/s]\n",
            "train: 100%|██████████| 252/252 [00:00<00:00, 296.45it/s]\n",
            "train: 100%|██████████| 252/252 [00:00<00:00, 284.75it/s]\n",
            "train: 100%|██████████| 252/252 [00:00<00:00, 298.39it/s]\n",
            "train: 100%|██████████| 252/252 [00:00<00:00, 297.64it/s]\n",
            "train: 100%|██████████| 252/252 [00:01<00:00, 240.10it/s]\n",
            "train: 100%|██████████| 252/252 [00:01<00:00, 209.41it/s]\n",
            "train: 100%|██████████| 252/252 [00:01<00:00, 208.76it/s]\n",
            "train: 100%|██████████| 252/252 [00:01<00:00, 200.35it/s]\n",
            "train: 100%|██████████| 252/252 [00:00<00:00, 291.68it/s]\n",
            "train: 100%|██████████| 252/252 [00:00<00:00, 294.40it/s]\n",
            "train: 100%|██████████| 252/252 [00:00<00:00, 289.93it/s]\n",
            "train: 100%|██████████| 252/252 [00:00<00:00, 288.83it/s]\n",
            "train: 100%|██████████| 252/252 [00:00<00:00, 305.28it/s]\n",
            "train: 100%|██████████| 252/252 [00:00<00:00, 300.45it/s]\n",
            "train: 100%|██████████| 252/252 [00:00<00:00, 294.37it/s]\n",
            "train: 100%|██████████| 252/252 [00:00<00:00, 287.05it/s]\n",
            "train: 100%|██████████| 252/252 [00:00<00:00, 300.63it/s]\n",
            "train: 100%|██████████| 252/252 [00:00<00:00, 284.72it/s]\n",
            "train: 100%|██████████| 252/252 [00:00<00:00, 305.36it/s]\n",
            "train: 100%|██████████| 252/252 [00:01<00:00, 245.17it/s]\n",
            "train: 100%|██████████| 252/252 [00:01<00:00, 210.72it/s]\n",
            "train: 100%|██████████| 252/252 [00:01<00:00, 205.06it/s]\n",
            "train: 100%|██████████| 252/252 [00:01<00:00, 203.22it/s]\n"
          ]
        },
        {
          "name": "stdout",
          "output_type": "stream",
          "text": [
            "\n",
            " ============================== item_cf ==============================\n",
            "Training start time: \u001b[35m2023-04-03 18:08:36\u001b[0m\n",
            "Final block size and num: (1559, 1)\n",
            "sim_matrix elapsed: 0.055s\n",
            "sim_matrix, shape: (1559, 1559), num_elements: 1598384, density: 393.9148 %\n"
          ]
        },
        {
          "name": "stderr",
          "output_type": "stream",
          "text": [
            "top_k: 100%|██████████| 1559/1559 [00:00<00:00, 4215.23it/s]\n"
          ]
        },
        {
          "name": "stdout",
          "output_type": "stream",
          "text": [
            "\n",
            " ============================== user_cf ==============================\n",
            "Training start time: \u001b[35m2023-04-03 18:08:36\u001b[0m\n",
            "Final block size and num: (637, 1)\n",
            "sim_matrix elapsed: 0.019s\n",
            "sim_matrix, shape: (637, 637), num_elements: 389794, density: 96.0630 %\n"
          ]
        },
        {
          "name": "stderr",
          "output_type": "stream",
          "text": [
            "top_k: 100%|██████████| 637/637 [00:00<00:00, 7430.84it/s]\n"
          ]
        },
        {
          "name": "stdout",
          "output_type": "stream",
          "text": [
            "\n",
            " ============================== ALS ==============================\n",
            "Training start time: \u001b[35m2023-04-03 18:08:36\u001b[0m\n",
            "12\n",
            "######## 130 ########\n",
            "<libreco.algorithms.svd.SVD object at 0x7f0ff7d3d190>\n"
          ]
        },
        {
          "name": "stderr",
          "output_type": "stream",
          "text": [
            "eval_pointwise: 100%|██████████| 1/1 [00:00<00:00, 735.71it/s]\n"
          ]
        },
        {
          "name": "stdout",
          "output_type": "stream",
          "text": [
            "<libreco.algorithms.svdpp.SVDpp object at 0x7f0ff7d3db50>\n"
          ]
        },
        {
          "name": "stderr",
          "output_type": "stream",
          "text": [
            "eval_pointwise: 100%|██████████| 1/1 [00:00<00:00, 1927.53it/s]\n"
          ]
        },
        {
          "name": "stdout",
          "output_type": "stream",
          "text": [
            "<libreco.algorithms.item_cf.ItemCF object at 0x7f0ff12b1c70>\n"
          ]
        },
        {
          "name": "stderr",
          "output_type": "stream",
          "text": [
            "eval_pointwise: 100%|██████████| 1/1 [00:00<00:00,  4.87it/s]\n"
          ]
        },
        {
          "name": "stdout",
          "output_type": "stream",
          "text": [
            "<libreco.algorithms.user_cf.UserCF object at 0x7f0ff8c92940>\n"
          ]
        },
        {
          "name": "stderr",
          "output_type": "stream",
          "text": [
            "eval_pointwise: 100%|██████████| 1/1 [00:00<00:00,  5.89it/s]\n"
          ]
        },
        {
          "name": "stdout",
          "output_type": "stream",
          "text": [
            "<libreco.algorithms.als.ALS object at 0x7f0ff729fd60>\n"
          ]
        },
        {
          "name": "stderr",
          "output_type": "stream",
          "text": [
            "eval_pointwise: 100%|██████████| 1/1 [00:00<00:00, 2172.09it/s]\n"
          ]
        },
        {
          "name": "stdout",
          "output_type": "stream",
          "text": [
            "\n",
            " ============================== SVD ==============================\n",
            "Training start time: \u001b[35m2023-04-03 18:08:44\u001b[0m\n"
          ]
        },
        {
          "name": "stderr",
          "output_type": "stream",
          "text": [
            "train: 100%|██████████| 268/268 [00:00<00:00, 861.16it/s]\n",
            "train: 100%|██████████| 268/268 [00:00<00:00, 1085.81it/s]\n",
            "train: 100%|██████████| 268/268 [00:00<00:00, 1066.53it/s]\n",
            "train: 100%|██████████| 268/268 [00:00<00:00, 1079.66it/s]\n",
            "train: 100%|██████████| 268/268 [00:00<00:00, 1094.02it/s]\n",
            "train: 100%|██████████| 268/268 [00:00<00:00, 1028.49it/s]\n",
            "train: 100%|██████████| 268/268 [00:00<00:00, 1046.92it/s]\n",
            "train: 100%|██████████| 268/268 [00:00<00:00, 727.27it/s]\n",
            "train: 100%|██████████| 268/268 [00:00<00:00, 750.42it/s]\n",
            "train: 100%|██████████| 268/268 [00:00<00:00, 780.52it/s]\n",
            "train: 100%|██████████| 268/268 [00:00<00:00, 778.84it/s]\n",
            "train: 100%|██████████| 268/268 [00:00<00:00, 747.61it/s]\n",
            "train: 100%|██████████| 268/268 [00:00<00:00, 724.41it/s]\n",
            "train: 100%|██████████| 268/268 [00:00<00:00, 752.32it/s]\n",
            "train: 100%|██████████| 268/268 [00:00<00:00, 719.79it/s]\n",
            "train: 100%|██████████| 268/268 [00:00<00:00, 753.58it/s]\n",
            "train: 100%|██████████| 268/268 [00:00<00:00, 702.94it/s]\n",
            "train: 100%|██████████| 268/268 [00:00<00:00, 710.74it/s]\n",
            "train: 100%|██████████| 268/268 [00:00<00:00, 740.75it/s]\n",
            "train: 100%|██████████| 268/268 [00:00<00:00, 684.36it/s]\n",
            "train: 100%|██████████| 268/268 [00:00<00:00, 798.54it/s]\n",
            "train: 100%|██████████| 268/268 [00:00<00:00, 1105.85it/s]\n",
            "train: 100%|██████████| 268/268 [00:00<00:00, 1051.04it/s]\n",
            "train: 100%|██████████| 268/268 [00:00<00:00, 1095.77it/s]\n",
            "train: 100%|██████████| 268/268 [00:00<00:00, 1096.08it/s]\n",
            "train: 100%|██████████| 268/268 [00:00<00:00, 1092.25it/s]\n",
            "train: 100%|██████████| 268/268 [00:00<00:00, 1047.49it/s]\n",
            "train: 100%|██████████| 268/268 [00:00<00:00, 1160.03it/s]\n",
            "train: 100%|██████████| 268/268 [00:00<00:00, 1165.23it/s]\n",
            "train: 100%|██████████| 268/268 [00:00<00:00, 1024.16it/s]\n",
            "train: 100%|██████████| 268/268 [00:00<00:00, 1067.59it/s]\n",
            "train: 100%|██████████| 268/268 [00:00<00:00, 1099.72it/s]\n",
            "train: 100%|██████████| 268/268 [00:00<00:00, 1109.53it/s]\n",
            "train: 100%|██████████| 268/268 [00:00<00:00, 1103.12it/s]\n",
            "train: 100%|██████████| 268/268 [00:00<00:00, 1029.77it/s]\n",
            "train: 100%|██████████| 268/268 [00:00<00:00, 1109.93it/s]\n",
            "train: 100%|██████████| 268/268 [00:00<00:00, 1112.07it/s]\n",
            "train: 100%|██████████| 268/268 [00:00<00:00, 1112.74it/s]\n",
            "train: 100%|██████████| 268/268 [00:00<00:00, 992.30it/s]\n",
            "train: 100%|██████████| 268/268 [00:00<00:00, 1050.42it/s]\n",
            "train: 100%|██████████| 268/268 [00:00<00:00, 1094.35it/s]\n",
            "train: 100%|██████████| 268/268 [00:00<00:00, 1158.49it/s]\n",
            "train: 100%|██████████| 268/268 [00:00<00:00, 954.49it/s]\n",
            "train: 100%|██████████| 268/268 [00:00<00:00, 1203.25it/s]\n",
            "train: 100%|██████████| 268/268 [00:00<00:00, 1050.96it/s]\n",
            "train: 100%|██████████| 268/268 [00:00<00:00, 1141.35it/s]\n",
            "train: 100%|██████████| 268/268 [00:00<00:00, 1022.80it/s]\n",
            "train: 100%|██████████| 268/268 [00:00<00:00, 1110.51it/s]\n",
            "train: 100%|██████████| 268/268 [00:00<00:00, 1048.25it/s]\n",
            "train: 100%|██████████| 268/268 [00:00<00:00, 1120.36it/s]\n"
          ]
        },
        {
          "name": "stdout",
          "output_type": "stream",
          "text": [
            "\n",
            " ============================== SVD++ ==============================\n",
            "Training start time: \u001b[35m2023-04-03 18:08:58\u001b[0m\n"
          ]
        },
        {
          "name": "stderr",
          "output_type": "stream",
          "text": [
            "train: 100%|██████████| 268/268 [00:01<00:00, 253.26it/s]\n",
            "train: 100%|██████████| 268/268 [00:01<00:00, 225.19it/s]\n",
            "train: 100%|██████████| 268/268 [00:01<00:00, 189.97it/s]\n",
            "train: 100%|██████████| 268/268 [00:01<00:00, 193.22it/s]\n",
            "train: 100%|██████████| 268/268 [00:01<00:00, 221.63it/s]\n",
            "train: 100%|██████████| 268/268 [00:00<00:00, 270.45it/s]\n",
            "train: 100%|██████████| 268/268 [00:00<00:00, 273.87it/s]\n",
            "train: 100%|██████████| 268/268 [00:00<00:00, 284.85it/s]\n",
            "train: 100%|██████████| 268/268 [00:00<00:00, 299.79it/s]\n",
            "train: 100%|██████████| 268/268 [00:00<00:00, 270.88it/s]\n",
            "train: 100%|██████████| 268/268 [00:00<00:00, 284.45it/s]\n",
            "train: 100%|██████████| 268/268 [00:00<00:00, 280.11it/s]\n",
            "train: 100%|██████████| 268/268 [00:00<00:00, 295.68it/s]\n",
            "train: 100%|██████████| 268/268 [00:00<00:00, 272.61it/s]\n",
            "train: 100%|██████████| 268/268 [00:01<00:00, 240.79it/s]\n",
            "train: 100%|██████████| 268/268 [00:01<00:00, 197.13it/s]\n",
            "train: 100%|██████████| 268/268 [00:01<00:00, 197.87it/s]\n",
            "train: 100%|██████████| 268/268 [00:01<00:00, 197.82it/s]\n",
            "train: 100%|██████████| 268/268 [00:00<00:00, 269.88it/s]\n",
            "train: 100%|██████████| 268/268 [00:00<00:00, 274.14it/s]\n",
            "train: 100%|██████████| 268/268 [00:00<00:00, 270.28it/s]\n",
            "train: 100%|██████████| 268/268 [00:00<00:00, 272.75it/s]\n",
            "train: 100%|██████████| 268/268 [00:00<00:00, 270.51it/s]\n",
            "train: 100%|██████████| 268/268 [00:00<00:00, 275.79it/s]\n",
            "train: 100%|██████████| 268/268 [00:00<00:00, 280.89it/s]\n"
          ]
        },
        {
          "name": "stdout",
          "output_type": "stream",
          "text": [
            "\n",
            " ============================== item_cf ==============================\n",
            "Training start time: \u001b[35m2023-04-03 18:09:27\u001b[0m\n",
            "Final block size and num: (1568, 1)\n",
            "sim_matrix elapsed: 0.060s\n",
            "sim_matrix, shape: (1568, 1568), num_elements: 1653772, density: 375.0934 %\n"
          ]
        },
        {
          "name": "stderr",
          "output_type": "stream",
          "text": [
            "top_k: 100%|██████████| 1568/1568 [00:00<00:00, 3947.18it/s]\n"
          ]
        },
        {
          "name": "stdout",
          "output_type": "stream",
          "text": [
            "\n",
            " ============================== user_cf ==============================\n",
            "Training start time: \u001b[35m2023-04-03 18:09:27\u001b[0m\n",
            "Final block size and num: (664, 1)\n",
            "sim_matrix elapsed: 0.022s\n",
            "sim_matrix, shape: (664, 664), num_elements: 424132, density: 96.1977 %\n"
          ]
        },
        {
          "name": "stderr",
          "output_type": "stream",
          "text": [
            "top_k: 100%|██████████| 664/664 [00:00<00:00, 7384.24it/s]\n"
          ]
        },
        {
          "name": "stdout",
          "output_type": "stream",
          "text": [
            "\n",
            " ============================== ALS ==============================\n",
            "Training start time: \u001b[35m2023-04-03 18:09:27\u001b[0m\n",
            "13\n",
            "######## 140 ########\n",
            "<libreco.algorithms.svd.SVD object at 0x7f0ff61bf070>\n"
          ]
        },
        {
          "name": "stderr",
          "output_type": "stream",
          "text": [
            "eval_pointwise: 100%|██████████| 1/1 [00:00<00:00, 308.88it/s]\n"
          ]
        },
        {
          "name": "stdout",
          "output_type": "stream",
          "text": [
            "<libreco.algorithms.svdpp.SVDpp object at 0x7f0ff8c92ac0>\n"
          ]
        },
        {
          "name": "stderr",
          "output_type": "stream",
          "text": [
            "eval_pointwise: 100%|██████████| 1/1 [00:00<00:00, 1942.71it/s]\n"
          ]
        },
        {
          "name": "stdout",
          "output_type": "stream",
          "text": [
            "<libreco.algorithms.item_cf.ItemCF object at 0x7f0ff12d5970>\n"
          ]
        },
        {
          "name": "stderr",
          "output_type": "stream",
          "text": [
            "eval_pointwise: 100%|██████████| 1/1 [00:00<00:00,  5.07it/s]\n"
          ]
        },
        {
          "name": "stdout",
          "output_type": "stream",
          "text": [
            "<libreco.algorithms.user_cf.UserCF object at 0x7f0ff8d88070>\n"
          ]
        },
        {
          "name": "stderr",
          "output_type": "stream",
          "text": [
            "eval_pointwise: 100%|██████████| 1/1 [00:00<00:00,  5.12it/s]\n"
          ]
        },
        {
          "name": "stdout",
          "output_type": "stream",
          "text": [
            "<libreco.algorithms.als.ALS object at 0x7f0ff31ff700>\n"
          ]
        },
        {
          "name": "stderr",
          "output_type": "stream",
          "text": [
            "eval_pointwise: 100%|██████████| 1/1 [00:00<00:00, 1618.17it/s]\n"
          ]
        },
        {
          "name": "stdout",
          "output_type": "stream",
          "text": [
            "\n",
            " ============================== SVD ==============================\n",
            "Training start time: \u001b[35m2023-04-03 18:09:38\u001b[0m\n"
          ]
        },
        {
          "name": "stderr",
          "output_type": "stream",
          "text": [
            "train: 100%|██████████| 276/276 [00:00<00:00, 828.03it/s]\n",
            "train: 100%|██████████| 276/276 [00:00<00:00, 1014.68it/s]\n",
            "train: 100%|██████████| 276/276 [00:00<00:00, 1100.39it/s]\n",
            "train: 100%|██████████| 276/276 [00:00<00:00, 1027.15it/s]\n",
            "train: 100%|██████████| 276/276 [00:00<00:00, 1097.51it/s]\n",
            "train: 100%|██████████| 276/276 [00:00<00:00, 991.36it/s]\n",
            "train: 100%|██████████| 276/276 [00:00<00:00, 1067.41it/s]\n",
            "train: 100%|██████████| 276/276 [00:00<00:00, 1030.77it/s]\n",
            "train: 100%|██████████| 276/276 [00:00<00:00, 999.58it/s]\n",
            "train: 100%|██████████| 276/276 [00:00<00:00, 1075.68it/s]\n",
            "train: 100%|██████████| 276/276 [00:00<00:00, 1037.24it/s]\n",
            "train: 100%|██████████| 276/276 [00:00<00:00, 1065.67it/s]\n",
            "train: 100%|██████████| 276/276 [00:00<00:00, 925.50it/s]\n",
            "train: 100%|██████████| 276/276 [00:00<00:00, 1063.13it/s]\n",
            "train: 100%|██████████| 276/276 [00:00<00:00, 1056.88it/s]\n",
            "train: 100%|██████████| 276/276 [00:00<00:00, 1058.88it/s]\n",
            "train: 100%|██████████| 276/276 [00:00<00:00, 1008.96it/s]\n",
            "train: 100%|██████████| 276/276 [00:00<00:00, 1060.61it/s]\n",
            "train: 100%|██████████| 276/276 [00:00<00:00, 1083.03it/s]\n",
            "train: 100%|██████████| 276/276 [00:00<00:00, 954.12it/s] \n",
            "train: 100%|██████████| 276/276 [00:00<00:00, 1092.97it/s]\n",
            "train: 100%|██████████| 276/276 [00:00<00:00, 1108.40it/s]\n",
            "train: 100%|██████████| 276/276 [00:00<00:00, 982.81it/s] \n",
            "train: 100%|██████████| 276/276 [00:00<00:00, 716.74it/s]\n",
            "train: 100%|██████████| 276/276 [00:00<00:00, 705.11it/s]\n",
            "train: 100%|██████████| 276/276 [00:00<00:00, 689.66it/s]\n",
            "train: 100%|██████████| 276/276 [00:00<00:00, 696.71it/s]\n",
            "train: 100%|██████████| 276/276 [00:00<00:00, 716.39it/s]\n",
            "train: 100%|██████████| 276/276 [00:00<00:00, 655.68it/s]\n",
            "train: 100%|██████████| 276/276 [00:00<00:00, 712.72it/s]\n",
            "train: 100%|██████████| 276/276 [00:00<00:00, 718.39it/s]\n",
            "train: 100%|██████████| 276/276 [00:00<00:00, 615.27it/s]\n",
            "train: 100%|██████████| 276/276 [00:00<00:00, 628.71it/s]\n",
            "train: 100%|██████████| 276/276 [00:00<00:00, 675.04it/s]\n",
            "train: 100%|██████████| 276/276 [00:00<00:00, 669.77it/s]\n",
            "train: 100%|██████████| 276/276 [00:00<00:00, 1035.11it/s]\n",
            "train: 100%|██████████| 276/276 [00:00<00:00, 955.36it/s]\n",
            "train: 100%|██████████| 276/276 [00:00<00:00, 1003.67it/s]\n",
            "train: 100%|██████████| 276/276 [00:00<00:00, 971.77it/s]\n",
            "train: 100%|██████████| 276/276 [00:00<00:00, 1037.77it/s]\n",
            "train: 100%|██████████| 276/276 [00:00<00:00, 1003.73it/s]\n",
            "train: 100%|██████████| 276/276 [00:00<00:00, 1074.01it/s]\n",
            "train: 100%|██████████| 276/276 [00:00<00:00, 1061.42it/s]\n",
            "train: 100%|██████████| 276/276 [00:00<00:00, 980.53it/s]\n",
            "train: 100%|██████████| 276/276 [00:00<00:00, 1032.52it/s]\n",
            "train: 100%|██████████| 276/276 [00:00<00:00, 1041.76it/s]\n",
            "train: 100%|██████████| 276/276 [00:00<00:00, 986.97it/s]\n",
            "train: 100%|██████████| 276/276 [00:00<00:00, 1018.81it/s]\n",
            "train: 100%|██████████| 276/276 [00:00<00:00, 1070.59it/s]\n",
            "train: 100%|██████████| 276/276 [00:00<00:00, 1052.04it/s]\n"
          ]
        },
        {
          "name": "stdout",
          "output_type": "stream",
          "text": [
            "\n",
            " ============================== SVD++ ==============================\n",
            "Training start time: \u001b[35m2023-04-03 18:09:53\u001b[0m\n"
          ]
        },
        {
          "name": "stderr",
          "output_type": "stream",
          "text": [
            "train: 100%|██████████| 276/276 [00:01<00:00, 258.16it/s]\n",
            "train: 100%|██████████| 276/276 [00:01<00:00, 269.43it/s]\n",
            "train: 100%|██████████| 276/276 [00:00<00:00, 276.06it/s]\n",
            "train: 100%|██████████| 276/276 [00:01<00:00, 270.25it/s]\n",
            "train: 100%|██████████| 276/276 [00:00<00:00, 279.59it/s]\n",
            "train: 100%|██████████| 276/276 [00:01<00:00, 208.36it/s]\n",
            "train: 100%|██████████| 276/276 [00:01<00:00, 200.42it/s]\n",
            "train: 100%|██████████| 276/276 [00:01<00:00, 184.57it/s]\n",
            "train: 100%|██████████| 276/276 [00:01<00:00, 238.19it/s]\n",
            "train: 100%|██████████| 276/276 [00:01<00:00, 266.48it/s]\n",
            "train: 100%|██████████| 276/276 [00:01<00:00, 259.36it/s]\n",
            "train: 100%|██████████| 276/276 [00:01<00:00, 262.45it/s]\n",
            "train: 100%|██████████| 276/276 [00:01<00:00, 275.88it/s]\n",
            "train: 100%|██████████| 276/276 [00:00<00:00, 281.20it/s]\n",
            "train: 100%|██████████| 276/276 [00:00<00:00, 283.52it/s]\n",
            "train: 100%|██████████| 276/276 [00:01<00:00, 269.63it/s]\n",
            "train: 100%|██████████| 276/276 [00:01<00:00, 271.18it/s]\n",
            "train: 100%|██████████| 276/276 [00:01<00:00, 249.51it/s]\n",
            "train: 100%|██████████| 276/276 [00:01<00:00, 198.47it/s]\n",
            "train: 100%|██████████| 276/276 [00:01<00:00, 198.58it/s]\n",
            "train: 100%|██████████| 276/276 [00:01<00:00, 193.63it/s]\n",
            "train: 100%|██████████| 276/276 [00:01<00:00, 272.03it/s]\n",
            "train: 100%|██████████| 276/276 [00:01<00:00, 265.86it/s]\n",
            "train: 100%|██████████| 276/276 [00:00<00:00, 280.94it/s]\n",
            "train: 100%|██████████| 276/276 [00:01<00:00, 274.48it/s]\n"
          ]
        },
        {
          "name": "stdout",
          "output_type": "stream",
          "text": [
            "\n",
            " ============================== item_cf ==============================\n",
            "Training start time: \u001b[35m2023-04-03 18:10:22\u001b[0m\n",
            "Final block size and num: (1587, 1)\n",
            "sim_matrix elapsed: 0.069s\n",
            "sim_matrix, shape: (1587, 1587), num_elements: 1704870, density: 364.4006 %\n"
          ]
        },
        {
          "name": "stderr",
          "output_type": "stream",
          "text": [
            "top_k: 100%|██████████| 1587/1587 [00:00<00:00, 4002.44it/s]\n"
          ]
        },
        {
          "name": "stdout",
          "output_type": "stream",
          "text": [
            "\n",
            " ============================== user_cf ==============================\n",
            "Training start time: \u001b[35m2023-04-03 18:10:23\u001b[0m\n",
            "Final block size and num: (684, 1)\n",
            "sim_matrix elapsed: 0.028s\n",
            "sim_matrix, shape: (684, 684), num_elements: 450266, density: 96.2403 %\n"
          ]
        },
        {
          "name": "stderr",
          "output_type": "stream",
          "text": [
            "top_k: 100%|██████████| 684/684 [00:00<00:00, 6497.04it/s]\n"
          ]
        },
        {
          "name": "stdout",
          "output_type": "stream",
          "text": [
            "\n",
            " ============================== ALS ==============================\n",
            "Training start time: \u001b[35m2023-04-03 18:10:23\u001b[0m\n",
            "14\n",
            "######## 150 ########\n",
            "<libreco.algorithms.svd.SVD object at 0x7f0ff8d8cd60>\n"
          ]
        },
        {
          "name": "stderr",
          "output_type": "stream",
          "text": [
            "eval_pointwise: 100%|██████████| 1/1 [00:00<00:00, 880.23it/s]\n"
          ]
        },
        {
          "name": "stdout",
          "output_type": "stream",
          "text": [
            "<libreco.algorithms.svdpp.SVDpp object at 0x7f0ff31ff1c0>\n"
          ]
        },
        {
          "name": "stderr",
          "output_type": "stream",
          "text": [
            "eval_pointwise: 100%|██████████| 1/1 [00:00<00:00, 1164.76it/s]\n"
          ]
        },
        {
          "name": "stdout",
          "output_type": "stream",
          "text": [
            "<libreco.algorithms.item_cf.ItemCF object at 0x7f0ff9708af0>\n"
          ]
        },
        {
          "name": "stderr",
          "output_type": "stream",
          "text": [
            "eval_pointwise: 100%|██████████| 1/1 [00:00<00:00,  4.76it/s]\n"
          ]
        },
        {
          "name": "stdout",
          "output_type": "stream",
          "text": [
            "<libreco.algorithms.user_cf.UserCF object at 0x7f0ff9437ca0>\n"
          ]
        },
        {
          "name": "stderr",
          "output_type": "stream",
          "text": [
            "eval_pointwise: 100%|██████████| 1/1 [00:00<00:00,  5.01it/s]\n"
          ]
        },
        {
          "name": "stdout",
          "output_type": "stream",
          "text": [
            "<libreco.algorithms.als.ALS object at 0x7f0ff9706b20>\n"
          ]
        },
        {
          "name": "stderr",
          "output_type": "stream",
          "text": [
            "eval_pointwise: 100%|██████████| 1/1 [00:00<00:00, 2031.14it/s]\n"
          ]
        },
        {
          "name": "stdout",
          "output_type": "stream",
          "text": [
            "\n",
            " ============================== SVD ==============================\n",
            "Training start time: \u001b[35m2023-04-03 18:10:34\u001b[0m\n"
          ]
        },
        {
          "name": "stderr",
          "output_type": "stream",
          "text": [
            "train: 100%|██████████| 296/296 [00:00<00:00, 899.54it/s]\n",
            "train: 100%|██████████| 296/296 [00:00<00:00, 1101.37it/s]\n",
            "train: 100%|██████████| 296/296 [00:00<00:00, 1115.44it/s]\n",
            "train: 100%|██████████| 296/296 [00:00<00:00, 1082.35it/s]\n",
            "train: 100%|██████████| 296/296 [00:00<00:00, 993.30it/s] \n",
            "train: 100%|██████████| 296/296 [00:00<00:00, 982.63it/s]\n",
            "train: 100%|██████████| 296/296 [00:00<00:00, 1006.47it/s]\n",
            "train: 100%|██████████| 296/296 [00:00<00:00, 1095.96it/s]\n",
            "train: 100%|██████████| 296/296 [00:00<00:00, 971.09it/s] \n",
            "train: 100%|██████████| 296/296 [00:00<00:00, 1089.28it/s]\n",
            "train: 100%|██████████| 296/296 [00:00<00:00, 1099.66it/s]\n",
            "train: 100%|██████████| 296/296 [00:00<00:00, 1047.55it/s]\n",
            "train: 100%|██████████| 296/296 [00:00<00:00, 1125.83it/s]\n",
            "train: 100%|██████████| 296/296 [00:00<00:00, 1082.87it/s]\n",
            "train: 100%|██████████| 296/296 [00:00<00:00, 1085.06it/s]\n",
            "train: 100%|██████████| 296/296 [00:00<00:00, 1190.11it/s]\n",
            "train: 100%|██████████| 296/296 [00:00<00:00, 1062.91it/s]\n",
            "train: 100%|██████████| 296/296 [00:00<00:00, 1107.83it/s]\n",
            "train: 100%|██████████| 296/296 [00:00<00:00, 1055.50it/s]\n",
            "train: 100%|██████████| 296/296 [00:00<00:00, 1075.43it/s]\n",
            "train: 100%|██████████| 296/296 [00:00<00:00, 1017.71it/s]\n",
            "train: 100%|██████████| 296/296 [00:00<00:00, 1033.46it/s]\n",
            "train: 100%|██████████| 296/296 [00:00<00:00, 1132.25it/s]\n",
            "train: 100%|██████████| 296/296 [00:00<00:00, 1079.01it/s]\n",
            "train: 100%|██████████| 296/296 [00:00<00:00, 1104.11it/s]\n",
            "train: 100%|██████████| 296/296 [00:00<00:00, 1055.29it/s]\n",
            "train: 100%|██████████| 296/296 [00:00<00:00, 1122.72it/s]\n",
            "train: 100%|██████████| 296/296 [00:00<00:00, 1015.53it/s]\n",
            "train: 100%|██████████| 296/296 [00:00<00:00, 1090.97it/s]\n",
            "train: 100%|██████████| 296/296 [00:00<00:00, 1107.63it/s]\n",
            "train: 100%|██████████| 296/296 [00:00<00:00, 1131.27it/s]\n",
            "train: 100%|██████████| 296/296 [00:00<00:00, 686.75it/s]\n",
            "train: 100%|██████████| 296/296 [00:00<00:00, 757.75it/s]\n",
            "train: 100%|██████████| 296/296 [00:00<00:00, 710.99it/s]\n",
            "train: 100%|██████████| 296/296 [00:00<00:00, 691.45it/s]\n",
            "train: 100%|██████████| 296/296 [00:00<00:00, 710.41it/s]\n",
            "train: 100%|██████████| 296/296 [00:00<00:00, 716.02it/s]\n",
            "train: 100%|██████████| 296/296 [00:00<00:00, 725.68it/s]\n",
            "train: 100%|██████████| 296/296 [00:00<00:00, 723.12it/s]\n",
            "train: 100%|██████████| 296/296 [00:00<00:00, 680.42it/s]\n",
            "train: 100%|██████████| 296/296 [00:00<00:00, 628.34it/s]\n",
            "train: 100%|██████████| 296/296 [00:00<00:00, 761.02it/s]\n",
            "train: 100%|██████████| 296/296 [00:00<00:00, 679.81it/s]\n",
            "train: 100%|██████████| 296/296 [00:00<00:00, 907.58it/s]\n",
            "train: 100%|██████████| 296/296 [00:00<00:00, 1063.03it/s]\n",
            "train: 100%|██████████| 296/296 [00:00<00:00, 1106.08it/s]\n",
            "train: 100%|██████████| 296/296 [00:00<00:00, 1001.33it/s]\n",
            "train: 100%|██████████| 296/296 [00:00<00:00, 1009.53it/s]\n",
            "train: 100%|██████████| 296/296 [00:00<00:00, 1092.93it/s]\n",
            "train: 100%|██████████| 296/296 [00:00<00:00, 1059.53it/s]\n"
          ]
        },
        {
          "name": "stdout",
          "output_type": "stream",
          "text": [
            "\n",
            " ============================== SVD++ ==============================\n",
            "Training start time: \u001b[35m2023-04-03 18:10:50\u001b[0m\n"
          ]
        },
        {
          "name": "stderr",
          "output_type": "stream",
          "text": [
            "train: 100%|██████████| 296/296 [00:01<00:00, 244.41it/s]\n",
            "train: 100%|██████████| 296/296 [00:01<00:00, 271.33it/s]\n",
            "train: 100%|██████████| 296/296 [00:01<00:00, 272.11it/s]\n",
            "train: 100%|██████████| 296/296 [00:01<00:00, 263.22it/s]\n",
            "train: 100%|██████████| 296/296 [00:01<00:00, 263.86it/s]\n",
            "train: 100%|██████████| 296/296 [00:01<00:00, 266.06it/s]\n",
            "train: 100%|██████████| 296/296 [00:01<00:00, 216.96it/s]\n",
            "train: 100%|██████████| 296/296 [00:01<00:00, 185.30it/s]\n",
            "train: 100%|██████████| 296/296 [00:01<00:00, 190.67it/s]\n",
            "train: 100%|██████████| 296/296 [00:01<00:00, 234.62it/s]\n",
            "train: 100%|██████████| 296/296 [00:01<00:00, 254.82it/s]\n",
            "train: 100%|██████████| 296/296 [00:01<00:00, 260.99it/s]\n",
            "train: 100%|██████████| 296/296 [00:01<00:00, 259.37it/s]\n",
            "train: 100%|██████████| 296/296 [00:01<00:00, 253.86it/s]\n",
            "train: 100%|██████████| 296/296 [00:01<00:00, 261.50it/s]\n",
            "train: 100%|██████████| 296/296 [00:01<00:00, 267.41it/s]\n",
            "train: 100%|██████████| 296/296 [00:01<00:00, 266.10it/s]\n",
            "train: 100%|██████████| 296/296 [00:01<00:00, 256.88it/s]\n",
            "train: 100%|██████████| 296/296 [00:01<00:00, 190.09it/s]\n",
            "train: 100%|██████████| 296/296 [00:01<00:00, 189.31it/s]\n",
            "train: 100%|██████████| 296/296 [00:01<00:00, 198.59it/s]\n",
            "train: 100%|██████████| 296/296 [00:01<00:00, 251.68it/s]\n",
            "train: 100%|██████████| 296/296 [00:01<00:00, 267.81it/s]\n",
            "train: 100%|██████████| 296/296 [00:01<00:00, 260.13it/s]\n",
            "train: 100%|██████████| 296/296 [00:01<00:00, 270.02it/s]\n"
          ]
        },
        {
          "name": "stdout",
          "output_type": "stream",
          "text": [
            "\n",
            " ============================== item_cf ==============================\n",
            "Training start time: \u001b[35m2023-04-03 18:11:22\u001b[0m\n",
            "Final block size and num: (1603, 1)\n",
            "sim_matrix elapsed: 0.067s\n",
            "sim_matrix, shape: (1603, 1603), num_elements: 1757662, density: 339.0552 %\n"
          ]
        },
        {
          "name": "stderr",
          "output_type": "stream",
          "text": [
            "top_k: 100%|██████████| 1603/1603 [00:00<00:00, 4187.92it/s]\n"
          ]
        },
        {
          "name": "stdout",
          "output_type": "stream",
          "text": [
            "\n",
            " ============================== user_cf ==============================\n",
            "Training start time: \u001b[35m2023-04-03 18:11:22\u001b[0m\n",
            "Final block size and num: (720, 1)\n",
            "sim_matrix elapsed: 0.028s\n",
            "sim_matrix, shape: (720, 720), num_elements: 498862, density: 96.2311 %\n"
          ]
        },
        {
          "name": "stderr",
          "output_type": "stream",
          "text": [
            "top_k: 100%|██████████| 720/720 [00:00<00:00, 6437.62it/s]\n"
          ]
        },
        {
          "name": "stdout",
          "output_type": "stream",
          "text": [
            "\n",
            " ============================== ALS ==============================\n",
            "Training start time: \u001b[35m2023-04-03 18:11:22\u001b[0m\n",
            "15\n",
            "######## 160 ########\n",
            "<libreco.algorithms.svd.SVD object at 0x7f0ff8d8cb80>\n"
          ]
        },
        {
          "name": "stderr",
          "output_type": "stream",
          "text": [
            "eval_pointwise: 100%|██████████| 1/1 [00:00<00:00, 612.93it/s]\n"
          ]
        },
        {
          "name": "stdout",
          "output_type": "stream",
          "text": [
            "<libreco.algorithms.svdpp.SVDpp object at 0x7f0ff1f914c0>\n"
          ]
        },
        {
          "name": "stderr",
          "output_type": "stream",
          "text": [
            "eval_pointwise: 100%|██████████| 1/1 [00:00<00:00, 1679.06it/s]\n"
          ]
        },
        {
          "name": "stdout",
          "output_type": "stream",
          "text": [
            "<libreco.algorithms.item_cf.ItemCF object at 0x7f0ff8329340>\n"
          ]
        },
        {
          "name": "stderr",
          "output_type": "stream",
          "text": [
            "eval_pointwise: 100%|██████████| 1/1 [00:00<00:00,  4.90it/s]\n"
          ]
        },
        {
          "name": "stdout",
          "output_type": "stream",
          "text": [
            "<libreco.algorithms.user_cf.UserCF object at 0x7f10897ed6a0>\n"
          ]
        },
        {
          "name": "stderr",
          "output_type": "stream",
          "text": [
            "eval_pointwise: 100%|██████████| 1/1 [00:00<00:00,  4.96it/s]\n"
          ]
        },
        {
          "name": "stdout",
          "output_type": "stream",
          "text": [
            "<libreco.algorithms.als.ALS object at 0x7f0ff93286d0>\n"
          ]
        },
        {
          "name": "stderr",
          "output_type": "stream",
          "text": [
            "eval_pointwise: 100%|██████████| 1/1 [00:00<00:00, 1689.89it/s]\n"
          ]
        },
        {
          "name": "stdout",
          "output_type": "stream",
          "text": [
            "\n",
            " ============================== SVD ==============================\n",
            "Training start time: \u001b[35m2023-04-03 18:11:33\u001b[0m\n"
          ]
        },
        {
          "name": "stderr",
          "output_type": "stream",
          "text": [
            "train: 100%|██████████| 309/309 [00:00<00:00, 885.59it/s]\n",
            "train: 100%|██████████| 309/309 [00:00<00:00, 1047.31it/s]\n",
            "train: 100%|██████████| 309/309 [00:00<00:00, 1026.58it/s]\n",
            "train: 100%|██████████| 309/309 [00:00<00:00, 1121.16it/s]\n",
            "train: 100%|██████████| 309/309 [00:00<00:00, 1106.01it/s]\n",
            "train: 100%|██████████| 309/309 [00:00<00:00, 1058.18it/s]\n",
            "train: 100%|██████████| 309/309 [00:00<00:00, 1110.40it/s]\n",
            "train: 100%|██████████| 309/309 [00:00<00:00, 1098.27it/s]\n",
            "train: 100%|██████████| 309/309 [00:00<00:00, 1068.92it/s]\n",
            "train: 100%|██████████| 309/309 [00:00<00:00, 1075.63it/s]\n",
            "train: 100%|██████████| 309/309 [00:00<00:00, 1052.39it/s]\n",
            "train: 100%|██████████| 309/309 [00:00<00:00, 1049.00it/s]\n",
            "train: 100%|██████████| 309/309 [00:00<00:00, 1086.66it/s]\n",
            "train: 100%|██████████| 309/309 [00:00<00:00, 1060.75it/s]\n",
            "train: 100%|██████████| 309/309 [00:00<00:00, 1046.66it/s]\n",
            "train: 100%|██████████| 309/309 [00:00<00:00, 1003.40it/s]\n",
            "train: 100%|██████████| 309/309 [00:00<00:00, 1133.46it/s]\n",
            "train: 100%|██████████| 309/309 [00:00<00:00, 1044.55it/s]\n",
            "train: 100%|██████████| 309/309 [00:00<00:00, 973.82it/s] \n",
            "train: 100%|██████████| 309/309 [00:00<00:00, 1031.82it/s]\n",
            "train: 100%|██████████| 309/309 [00:00<00:00, 1127.00it/s]\n",
            "train: 100%|██████████| 309/309 [00:00<00:00, 1032.85it/s]\n",
            "train: 100%|██████████| 309/309 [00:00<00:00, 1102.77it/s]\n",
            "train: 100%|██████████| 309/309 [00:00<00:00, 1160.44it/s]\n",
            "train: 100%|██████████| 309/309 [00:00<00:00, 1041.54it/s]\n",
            "train: 100%|██████████| 309/309 [00:00<00:00, 1045.29it/s]\n",
            "train: 100%|██████████| 309/309 [00:00<00:00, 757.77it/s]\n",
            "train: 100%|██████████| 309/309 [00:00<00:00, 694.37it/s]\n",
            "train: 100%|██████████| 309/309 [00:00<00:00, 688.80it/s]\n",
            "train: 100%|██████████| 309/309 [00:00<00:00, 693.87it/s]\n",
            "train: 100%|██████████| 309/309 [00:00<00:00, 766.22it/s]\n",
            "train: 100%|██████████| 309/309 [00:00<00:00, 697.85it/s]\n",
            "train: 100%|██████████| 309/309 [00:00<00:00, 708.28it/s]\n",
            "train: 100%|██████████| 309/309 [00:00<00:00, 690.42it/s]\n",
            "train: 100%|██████████| 309/309 [00:00<00:00, 690.77it/s]\n",
            "train: 100%|██████████| 309/309 [00:00<00:00, 689.93it/s]\n",
            "train: 100%|██████████| 309/309 [00:00<00:00, 678.68it/s]\n",
            "train: 100%|██████████| 309/309 [00:00<00:00, 1086.63it/s]\n",
            "train: 100%|██████████| 309/309 [00:00<00:00, 1065.65it/s]\n",
            "train: 100%|██████████| 309/309 [00:00<00:00, 935.30it/s]\n",
            "train: 100%|██████████| 309/309 [00:00<00:00, 1008.11it/s]\n",
            "train: 100%|██████████| 309/309 [00:00<00:00, 1069.69it/s]\n",
            "train: 100%|██████████| 309/309 [00:00<00:00, 1035.12it/s]\n",
            "train: 100%|██████████| 309/309 [00:00<00:00, 1082.30it/s]\n",
            "train: 100%|██████████| 309/309 [00:00<00:00, 1084.65it/s]\n",
            "train: 100%|██████████| 309/309 [00:00<00:00, 1094.30it/s]\n",
            "train: 100%|██████████| 309/309 [00:00<00:00, 1019.84it/s]\n",
            "train: 100%|██████████| 309/309 [00:00<00:00, 1154.19it/s]\n",
            "train: 100%|██████████| 309/309 [00:00<00:00, 1067.27it/s]\n",
            "train: 100%|██████████| 309/309 [00:00<00:00, 1038.11it/s]\n"
          ]
        },
        {
          "name": "stdout",
          "output_type": "stream",
          "text": [
            "\n",
            " ============================== SVD++ ==============================\n",
            "Training start time: \u001b[35m2023-04-03 18:11:50\u001b[0m\n"
          ]
        },
        {
          "name": "stderr",
          "output_type": "stream",
          "text": [
            "train: 100%|██████████| 309/309 [00:01<00:00, 242.09it/s]\n",
            "train: 100%|██████████| 309/309 [00:01<00:00, 261.01it/s]\n",
            "train: 100%|██████████| 309/309 [00:01<00:00, 247.53it/s]\n",
            "train: 100%|██████████| 309/309 [00:01<00:00, 257.11it/s]\n",
            "train: 100%|██████████| 309/309 [00:01<00:00, 213.26it/s]\n",
            "train: 100%|██████████| 309/309 [00:01<00:00, 187.80it/s]\n",
            "train: 100%|██████████| 309/309 [00:01<00:00, 180.67it/s]\n",
            "train: 100%|██████████| 309/309 [00:01<00:00, 248.04it/s]\n",
            "train: 100%|██████████| 309/309 [00:01<00:00, 264.03it/s]\n",
            "train: 100%|██████████| 309/309 [00:01<00:00, 246.59it/s]\n",
            "train: 100%|██████████| 309/309 [00:01<00:00, 245.30it/s]\n",
            "train: 100%|██████████| 309/309 [00:01<00:00, 249.48it/s]\n",
            "train: 100%|██████████| 309/309 [00:01<00:00, 252.98it/s]\n",
            "train: 100%|██████████| 309/309 [00:01<00:00, 249.25it/s]\n",
            "train: 100%|██████████| 309/309 [00:01<00:00, 256.71it/s]\n",
            "train: 100%|██████████| 309/309 [00:01<00:00, 188.48it/s]\n",
            "train: 100%|██████████| 309/309 [00:01<00:00, 190.61it/s]\n",
            "train: 100%|██████████| 309/309 [00:01<00:00, 187.48it/s]\n",
            "train: 100%|██████████| 309/309 [00:01<00:00, 263.40it/s]\n",
            "train: 100%|██████████| 309/309 [00:01<00:00, 250.43it/s]\n",
            "train: 100%|██████████| 309/309 [00:01<00:00, 265.13it/s]\n",
            "train: 100%|██████████| 309/309 [00:01<00:00, 259.81it/s]\n",
            "train: 100%|██████████| 309/309 [00:01<00:00, 265.91it/s]\n",
            "train: 100%|██████████| 309/309 [00:01<00:00, 255.37it/s]\n",
            "train: 100%|██████████| 309/309 [00:01<00:00, 262.16it/s]\n"
          ]
        },
        {
          "name": "stdout",
          "output_type": "stream",
          "text": [
            "\n",
            " ============================== item_cf ==============================\n",
            "Training start time: \u001b[35m2023-04-03 18:12:24\u001b[0m\n",
            "Final block size and num: (1606, 1)\n",
            "sim_matrix elapsed: 0.084s\n",
            "sim_matrix, shape: (1606, 1606), num_elements: 1728492, density: 304.8438 %\n"
          ]
        },
        {
          "name": "stderr",
          "output_type": "stream",
          "text": [
            "top_k: 100%|██████████| 1606/1606 [00:00<00:00, 4220.22it/s]\n"
          ]
        },
        {
          "name": "stdout",
          "output_type": "stream",
          "text": [
            "\n",
            " ============================== user_cf ==============================\n",
            "Training start time: \u001b[35m2023-04-03 18:12:25\u001b[0m\n",
            "Final block size and num: (753, 1)\n",
            "sim_matrix elapsed: 0.030s\n",
            "sim_matrix, shape: (753, 753), num_elements: 547096, density: 96.4881 %\n"
          ]
        },
        {
          "name": "stderr",
          "output_type": "stream",
          "text": [
            "top_k: 100%|██████████| 753/753 [00:00<00:00, 6024.94it/s]\n"
          ]
        },
        {
          "name": "stdout",
          "output_type": "stream",
          "text": [
            "\n",
            " ============================== ALS ==============================\n",
            "Training start time: \u001b[35m2023-04-03 18:12:25\u001b[0m\n",
            "16\n",
            "######## 170 ########\n",
            "<libreco.algorithms.svd.SVD object at 0x7f0ff39b6b50>\n"
          ]
        },
        {
          "name": "stderr",
          "output_type": "stream",
          "text": [
            "eval_pointwise: 100%|██████████| 1/1 [00:00<00:00, 236.22it/s]\n"
          ]
        },
        {
          "name": "stdout",
          "output_type": "stream",
          "text": [
            "<libreco.algorithms.svdpp.SVDpp object at 0x7f0ff841bf70>\n"
          ]
        },
        {
          "name": "stderr",
          "output_type": "stream",
          "text": [
            "eval_pointwise: 100%|██████████| 1/1 [00:00<00:00, 627.23it/s]\n"
          ]
        },
        {
          "name": "stdout",
          "output_type": "stream",
          "text": [
            "<libreco.algorithms.item_cf.ItemCF object at 0x7f108c2947c0>\n"
          ]
        },
        {
          "name": "stderr",
          "output_type": "stream",
          "text": [
            "eval_pointwise: 100%|██████████| 1/1 [00:00<00:00,  4.50it/s]\n"
          ]
        },
        {
          "name": "stdout",
          "output_type": "stream",
          "text": [
            "<libreco.algorithms.user_cf.UserCF object at 0x7f0ff8656b20>\n"
          ]
        },
        {
          "name": "stderr",
          "output_type": "stream",
          "text": [
            "eval_pointwise: 100%|██████████| 1/1 [00:00<00:00,  4.50it/s]\n"
          ]
        },
        {
          "name": "stdout",
          "output_type": "stream",
          "text": [
            "<libreco.algorithms.als.ALS object at 0x7f0ff5fe1eb0>\n"
          ]
        },
        {
          "name": "stderr",
          "output_type": "stream",
          "text": [
            "eval_pointwise: 100%|██████████| 1/1 [00:00<00:00, 1662.43it/s]\n"
          ]
        },
        {
          "name": "stdout",
          "output_type": "stream",
          "text": [
            "\n",
            " ============================== SVD ==============================\n",
            "Training start time: \u001b[35m2023-04-03 18:12:36\u001b[0m\n"
          ]
        },
        {
          "name": "stderr",
          "output_type": "stream",
          "text": [
            "train: 100%|██████████| 320/320 [00:00<00:00, 910.75it/s]\n",
            "train: 100%|██████████| 320/320 [00:00<00:00, 1127.61it/s]\n",
            "train: 100%|██████████| 320/320 [00:00<00:00, 1082.36it/s]\n",
            "train: 100%|██████████| 320/320 [00:00<00:00, 1012.30it/s]\n",
            "train: 100%|██████████| 320/320 [00:00<00:00, 1143.24it/s]\n",
            "train: 100%|██████████| 320/320 [00:00<00:00, 1085.64it/s]\n",
            "train: 100%|██████████| 320/320 [00:00<00:00, 1064.33it/s]\n",
            "train: 100%|██████████| 320/320 [00:00<00:00, 1115.62it/s]\n",
            "train: 100%|██████████| 320/320 [00:00<00:00, 1119.99it/s]\n",
            "train: 100%|██████████| 320/320 [00:00<00:00, 1071.74it/s]\n",
            "train: 100%|██████████| 320/320 [00:00<00:00, 1070.42it/s]\n",
            "train: 100%|██████████| 320/320 [00:00<00:00, 960.08it/s] \n",
            "train: 100%|██████████| 320/320 [00:00<00:00, 729.85it/s]\n",
            "train: 100%|██████████| 320/320 [00:00<00:00, 763.91it/s]\n",
            "train: 100%|██████████| 320/320 [00:00<00:00, 719.74it/s]\n",
            "train: 100%|██████████| 320/320 [00:00<00:00, 705.01it/s]\n",
            "train: 100%|██████████| 320/320 [00:00<00:00, 688.64it/s]\n",
            "train: 100%|██████████| 320/320 [00:00<00:00, 695.26it/s]\n",
            "train: 100%|██████████| 320/320 [00:00<00:00, 724.97it/s]\n",
            "train: 100%|██████████| 320/320 [00:00<00:00, 667.40it/s]\n",
            "train: 100%|██████████| 320/320 [00:00<00:00, 698.99it/s]\n",
            "train: 100%|██████████| 320/320 [00:00<00:00, 655.41it/s]\n",
            "train: 100%|██████████| 320/320 [00:00<00:00, 816.86it/s]\n",
            "train: 100%|██████████| 320/320 [00:00<00:00, 1018.28it/s]\n",
            "train: 100%|██████████| 320/320 [00:00<00:00, 1020.04it/s]\n",
            "train: 100%|██████████| 320/320 [00:00<00:00, 1113.96it/s]\n",
            "train: 100%|██████████| 320/320 [00:00<00:00, 1006.93it/s]\n",
            "train: 100%|██████████| 320/320 [00:00<00:00, 1004.94it/s]\n",
            "train: 100%|██████████| 320/320 [00:00<00:00, 1071.09it/s]\n",
            "train: 100%|██████████| 320/320 [00:00<00:00, 1126.66it/s]\n",
            "train: 100%|██████████| 320/320 [00:00<00:00, 1083.96it/s]\n",
            "train: 100%|██████████| 320/320 [00:00<00:00, 1079.40it/s]\n",
            "train: 100%|██████████| 320/320 [00:00<00:00, 1004.41it/s]\n",
            "train: 100%|██████████| 320/320 [00:00<00:00, 952.32it/s]\n",
            "train: 100%|██████████| 320/320 [00:00<00:00, 1119.11it/s]\n",
            "train: 100%|██████████| 320/320 [00:00<00:00, 1156.32it/s]\n",
            "train: 100%|██████████| 320/320 [00:00<00:00, 1104.74it/s]\n",
            "train: 100%|██████████| 320/320 [00:00<00:00, 1021.43it/s]\n",
            "train: 100%|██████████| 320/320 [00:00<00:00, 1129.89it/s]\n",
            "train: 100%|██████████| 320/320 [00:00<00:00, 1158.63it/s]\n",
            "train: 100%|██████████| 320/320 [00:00<00:00, 1068.23it/s]\n",
            "train: 100%|██████████| 320/320 [00:00<00:00, 1127.20it/s]\n",
            "train: 100%|██████████| 320/320 [00:00<00:00, 1071.82it/s]\n",
            "train: 100%|██████████| 320/320 [00:00<00:00, 1103.11it/s]\n",
            "train: 100%|██████████| 320/320 [00:00<00:00, 1054.78it/s]\n",
            "train: 100%|██████████| 320/320 [00:00<00:00, 1105.25it/s]\n",
            "train: 100%|██████████| 320/320 [00:00<00:00, 1053.55it/s]\n",
            "train: 100%|██████████| 320/320 [00:00<00:00, 1091.53it/s]\n",
            "train: 100%|██████████| 320/320 [00:00<00:00, 1120.83it/s]\n",
            "train: 100%|██████████| 320/320 [00:00<00:00, 1026.65it/s]\n"
          ]
        },
        {
          "name": "stdout",
          "output_type": "stream",
          "text": [
            "\n",
            " ============================== SVD++ ==============================\n",
            "Training start time: \u001b[35m2023-04-03 18:12:54\u001b[0m\n"
          ]
        },
        {
          "name": "stderr",
          "output_type": "stream",
          "text": [
            "train: 100%|██████████| 320/320 [00:01<00:00, 219.81it/s]\n",
            "train: 100%|██████████| 320/320 [00:01<00:00, 184.40it/s]\n",
            "train: 100%|██████████| 320/320 [00:01<00:00, 179.65it/s]\n",
            "train: 100%|██████████| 320/320 [00:01<00:00, 211.89it/s]\n",
            "train: 100%|██████████| 320/320 [00:01<00:00, 256.60it/s]\n",
            "train: 100%|██████████| 320/320 [00:01<00:00, 248.25it/s]\n",
            "train: 100%|██████████| 320/320 [00:01<00:00, 256.81it/s]\n",
            "train: 100%|██████████| 320/320 [00:01<00:00, 259.76it/s]\n",
            "train: 100%|██████████| 320/320 [00:01<00:00, 247.95it/s]\n",
            "train: 100%|██████████| 320/320 [00:01<00:00, 249.89it/s]\n",
            "train: 100%|██████████| 320/320 [00:01<00:00, 240.75it/s]\n",
            "train: 100%|██████████| 320/320 [00:01<00:00, 181.14it/s]\n",
            "train: 100%|██████████| 320/320 [00:01<00:00, 180.05it/s]\n",
            "train: 100%|██████████| 320/320 [00:01<00:00, 222.69it/s]\n",
            "train: 100%|██████████| 320/320 [00:01<00:00, 257.76it/s]\n",
            "train: 100%|██████████| 320/320 [00:01<00:00, 250.23it/s]\n",
            "train: 100%|██████████| 320/320 [00:01<00:00, 260.55it/s]\n",
            "train: 100%|██████████| 320/320 [00:01<00:00, 260.86it/s]\n",
            "train: 100%|██████████| 320/320 [00:01<00:00, 260.68it/s]\n",
            "train: 100%|██████████| 320/320 [00:01<00:00, 262.96it/s]\n",
            "train: 100%|██████████| 320/320 [00:01<00:00, 262.58it/s]\n",
            "train: 100%|██████████| 320/320 [00:01<00:00, 202.01it/s]\n",
            "train: 100%|██████████| 320/320 [00:01<00:00, 180.40it/s]\n",
            "train: 100%|██████████| 320/320 [00:01<00:00, 188.94it/s]\n",
            "train: 100%|██████████| 320/320 [00:01<00:00, 263.94it/s]\n"
          ]
        },
        {
          "name": "stdout",
          "output_type": "stream",
          "text": [
            "\n",
            " ============================== item_cf ==============================\n",
            "Training start time: \u001b[35m2023-04-03 18:13:30\u001b[0m\n",
            "Final block size and num: (1625, 1)\n",
            "sim_matrix elapsed: 0.064s\n",
            "sim_matrix, shape: (1625, 1625), num_elements: 1817148, density: 305.6902 %\n"
          ]
        },
        {
          "name": "stderr",
          "output_type": "stream",
          "text": [
            "top_k: 100%|██████████| 1625/1625 [00:00<00:00, 4014.55it/s]\n"
          ]
        },
        {
          "name": "stdout",
          "output_type": "stream",
          "text": [
            "\n",
            " ============================== user_cf ==============================\n",
            "Training start time: \u001b[35m2023-04-03 18:13:30\u001b[0m\n",
            "Final block size and num: (771, 1)\n",
            "sim_matrix elapsed: 0.029s\n",
            "sim_matrix, shape: (771, 771), num_elements: 573686, density: 96.5085 %\n"
          ]
        },
        {
          "name": "stderr",
          "output_type": "stream",
          "text": [
            "top_k: 100%|██████████| 771/771 [00:00<00:00, 5626.63it/s]\n"
          ]
        },
        {
          "name": "stdout",
          "output_type": "stream",
          "text": [
            "\n",
            " ============================== ALS ==============================\n",
            "Training start time: \u001b[35m2023-04-03 18:13:31\u001b[0m\n",
            "17\n",
            "######## 180 ########\n",
            "<libreco.algorithms.svd.SVD object at 0x7f1089387100>\n"
          ]
        },
        {
          "name": "stderr",
          "output_type": "stream",
          "text": [
            "eval_pointwise: 100%|██████████| 1/1 [00:00<00:00, 598.67it/s]\n"
          ]
        },
        {
          "name": "stdout",
          "output_type": "stream",
          "text": [
            "<libreco.algorithms.svdpp.SVDpp object at 0x7f0ff99f41f0>\n"
          ]
        },
        {
          "name": "stderr",
          "output_type": "stream",
          "text": [
            "eval_pointwise: 100%|██████████| 1/1 [00:00<00:00, 424.10it/s]\n"
          ]
        },
        {
          "name": "stdout",
          "output_type": "stream",
          "text": [
            "<libreco.algorithms.item_cf.ItemCF object at 0x7f0ff976bfd0>\n"
          ]
        },
        {
          "name": "stderr",
          "output_type": "stream",
          "text": [
            "eval_pointwise: 100%|██████████| 1/1 [00:00<00:00,  3.51it/s]\n"
          ]
        },
        {
          "name": "stdout",
          "output_type": "stream",
          "text": [
            "<libreco.algorithms.user_cf.UserCF object at 0x7f100010ba90>\n"
          ]
        },
        {
          "name": "stderr",
          "output_type": "stream",
          "text": [
            "eval_pointwise: 100%|██████████| 1/1 [00:00<00:00,  3.35it/s]\n"
          ]
        },
        {
          "name": "stdout",
          "output_type": "stream",
          "text": [
            "<libreco.algorithms.als.ALS object at 0x7f108c29d5b0>\n"
          ]
        },
        {
          "name": "stderr",
          "output_type": "stream",
          "text": [
            "eval_pointwise: 100%|██████████| 1/1 [00:00<00:00, 1130.24it/s]\n"
          ]
        },
        {
          "name": "stdout",
          "output_type": "stream",
          "text": [
            "\n",
            " ============================== SVD ==============================\n",
            "Training start time: \u001b[35m2023-04-03 18:13:40\u001b[0m\n"
          ]
        },
        {
          "name": "stderr",
          "output_type": "stream",
          "text": [
            "train: 100%|██████████| 331/331 [00:00<00:00, 605.87it/s]\n",
            "train: 100%|██████████| 331/331 [00:00<00:00, 723.47it/s]\n",
            "train: 100%|██████████| 331/331 [00:00<00:00, 712.36it/s]\n",
            "train: 100%|██████████| 331/331 [00:00<00:00, 714.70it/s]\n",
            "train: 100%|██████████| 331/331 [00:00<00:00, 701.17it/s]\n",
            "train: 100%|██████████| 331/331 [00:00<00:00, 730.92it/s]\n",
            "train: 100%|██████████| 331/331 [00:00<00:00, 1095.06it/s]\n",
            "train: 100%|██████████| 331/331 [00:00<00:00, 952.40it/s]\n",
            "train: 100%|██████████| 331/331 [00:00<00:00, 1006.91it/s]\n",
            "train: 100%|██████████| 331/331 [00:00<00:00, 1057.33it/s]\n",
            "train: 100%|██████████| 331/331 [00:00<00:00, 1037.19it/s]\n",
            "train: 100%|██████████| 331/331 [00:00<00:00, 1092.75it/s]\n",
            "train: 100%|██████████| 331/331 [00:00<00:00, 1177.86it/s]\n",
            "train: 100%|██████████| 331/331 [00:00<00:00, 1125.20it/s]\n",
            "train: 100%|██████████| 331/331 [00:00<00:00, 1097.11it/s]\n",
            "train: 100%|██████████| 331/331 [00:00<00:00, 1142.36it/s]\n",
            "train: 100%|██████████| 331/331 [00:00<00:00, 1079.72it/s]\n",
            "train: 100%|██████████| 331/331 [00:00<00:00, 1055.48it/s]\n",
            "train: 100%|██████████| 331/331 [00:00<00:00, 1164.82it/s]\n",
            "train: 100%|██████████| 331/331 [00:00<00:00, 1122.58it/s]\n",
            "train: 100%|██████████| 331/331 [00:00<00:00, 1110.17it/s]\n",
            "train: 100%|██████████| 331/331 [00:00<00:00, 1014.40it/s]\n",
            "train: 100%|██████████| 331/331 [00:00<00:00, 1005.49it/s]\n",
            "train: 100%|██████████| 331/331 [00:00<00:00, 1049.23it/s]\n",
            "train: 100%|██████████| 331/331 [00:00<00:00, 1011.85it/s]\n",
            "train: 100%|██████████| 331/331 [00:00<00:00, 1117.77it/s]\n",
            "train: 100%|██████████| 331/331 [00:00<00:00, 1075.91it/s]\n",
            "train: 100%|██████████| 331/331 [00:00<00:00, 1125.33it/s]\n",
            "train: 100%|██████████| 331/331 [00:00<00:00, 1139.88it/s]\n",
            "train: 100%|██████████| 331/331 [00:00<00:00, 980.73it/s]\n",
            "train: 100%|██████████| 331/331 [00:00<00:00, 1149.90it/s]\n",
            "train: 100%|██████████| 331/331 [00:00<00:00, 1147.74it/s]\n",
            "train: 100%|██████████| 331/331 [00:00<00:00, 1119.36it/s]\n",
            "train: 100%|██████████| 331/331 [00:00<00:00, 1015.63it/s]\n",
            "train: 100%|██████████| 331/331 [00:00<00:00, 1046.12it/s]\n",
            "train: 100%|██████████| 331/331 [00:00<00:00, 1085.62it/s]\n",
            "train: 100%|██████████| 331/331 [00:00<00:00, 1062.23it/s]\n",
            "train: 100%|██████████| 331/331 [00:00<00:00, 943.49it/s] \n",
            "train: 100%|██████████| 331/331 [00:00<00:00, 784.86it/s]\n",
            "train: 100%|██████████| 331/331 [00:00<00:00, 697.59it/s]\n",
            "train: 100%|██████████| 331/331 [00:00<00:00, 740.37it/s]\n",
            "train: 100%|██████████| 331/331 [00:00<00:00, 742.87it/s]\n",
            "train: 100%|██████████| 331/331 [00:00<00:00, 713.98it/s]\n",
            "train: 100%|██████████| 331/331 [00:00<00:00, 734.51it/s]\n",
            "train: 100%|██████████| 331/331 [00:00<00:00, 720.83it/s]\n",
            "train: 100%|██████████| 331/331 [00:00<00:00, 708.91it/s]\n",
            "train: 100%|██████████| 331/331 [00:00<00:00, 683.29it/s]\n",
            "train: 100%|██████████| 331/331 [00:00<00:00, 704.31it/s]\n",
            "train: 100%|██████████| 331/331 [00:00<00:00, 881.21it/s]\n",
            "train: 100%|██████████| 331/331 [00:00<00:00, 1060.72it/s]\n"
          ]
        },
        {
          "name": "stdout",
          "output_type": "stream",
          "text": [
            "\n",
            " ============================== SVD++ ==============================\n",
            "Training start time: \u001b[35m2023-04-03 18:13:59\u001b[0m\n"
          ]
        },
        {
          "name": "stderr",
          "output_type": "stream",
          "text": [
            "train: 100%|██████████| 331/331 [00:01<00:00, 233.00it/s]\n",
            "train: 100%|██████████| 331/331 [00:01<00:00, 252.27it/s]\n",
            "train: 100%|██████████| 331/331 [00:01<00:00, 242.79it/s]\n",
            "train: 100%|██████████| 331/331 [00:01<00:00, 240.99it/s]\n",
            "train: 100%|██████████| 331/331 [00:01<00:00, 247.75it/s]\n",
            "train: 100%|██████████| 331/331 [00:01<00:00, 241.60it/s]\n",
            "train: 100%|██████████| 331/331 [00:01<00:00, 213.07it/s]\n",
            "train: 100%|██████████| 331/331 [00:01<00:00, 178.44it/s]\n",
            "train: 100%|██████████| 331/331 [00:01<00:00, 182.10it/s]\n",
            "train: 100%|██████████| 331/331 [00:01<00:00, 248.74it/s]\n",
            "train: 100%|██████████| 331/331 [00:01<00:00, 247.92it/s]\n",
            "train: 100%|██████████| 331/331 [00:01<00:00, 249.22it/s]\n",
            "train: 100%|██████████| 331/331 [00:01<00:00, 248.13it/s]\n",
            "train: 100%|██████████| 331/331 [00:01<00:00, 248.64it/s]\n",
            "train: 100%|██████████| 331/331 [00:01<00:00, 254.54it/s]\n",
            "train: 100%|██████████| 331/331 [00:01<00:00, 248.52it/s]\n",
            "train: 100%|██████████| 331/331 [00:01<00:00, 187.23it/s]\n",
            "train: 100%|██████████| 331/331 [00:01<00:00, 176.90it/s]\n",
            "train: 100%|██████████| 331/331 [00:01<00:00, 200.70it/s]\n",
            "train: 100%|██████████| 331/331 [00:01<00:00, 244.16it/s]\n",
            "train: 100%|██████████| 331/331 [00:01<00:00, 253.63it/s]\n",
            "train: 100%|██████████| 331/331 [00:01<00:00, 247.81it/s]\n",
            "train: 100%|██████████| 331/331 [00:01<00:00, 255.00it/s]\n",
            "train: 100%|██████████| 331/331 [00:01<00:00, 258.55it/s]\n",
            "train: 100%|██████████| 331/331 [00:01<00:00, 240.55it/s]\n"
          ]
        },
        {
          "name": "stdout",
          "output_type": "stream",
          "text": [
            "\n",
            " ============================== item_cf ==============================\n",
            "Training start time: \u001b[35m2023-04-03 18:14:36\u001b[0m\n",
            "Final block size and num: (1627, 1)\n",
            "sim_matrix elapsed: 0.069s\n",
            "sim_matrix, shape: (1627, 1627), num_elements: 1831744, density: 277.1301 %\n"
          ]
        },
        {
          "name": "stderr",
          "output_type": "stream",
          "text": [
            "top_k: 100%|██████████| 1627/1627 [00:00<00:00, 3865.56it/s]\n"
          ]
        },
        {
          "name": "stdout",
          "output_type": "stream",
          "text": [
            "\n",
            " ============================== user_cf ==============================\n",
            "Training start time: \u001b[35m2023-04-03 18:14:37\u001b[0m\n",
            "Final block size and num: (813, 1)\n",
            "sim_matrix elapsed: 0.027s\n",
            "sim_matrix, shape: (813, 813), num_elements: 636306, density: 96.2687 %\n"
          ]
        },
        {
          "name": "stderr",
          "output_type": "stream",
          "text": [
            "top_k: 100%|██████████| 813/813 [00:00<00:00, 5500.90it/s]\n"
          ]
        },
        {
          "name": "stdout",
          "output_type": "stream",
          "text": [
            "\n",
            " ============================== ALS ==============================\n",
            "Training start time: \u001b[35m2023-04-03 18:14:37\u001b[0m\n",
            "18\n",
            "######## 190 ########\n",
            "<libreco.algorithms.svd.SVD object at 0x7f10893874f0>\n"
          ]
        },
        {
          "name": "stderr",
          "output_type": "stream",
          "text": [
            "eval_pointwise: 100%|██████████| 1/1 [00:00<00:00, 463.51it/s]\n"
          ]
        },
        {
          "name": "stdout",
          "output_type": "stream",
          "text": [
            "<libreco.algorithms.svdpp.SVDpp object at 0x7f0ff90130d0>\n"
          ]
        },
        {
          "name": "stderr",
          "output_type": "stream",
          "text": [
            "eval_pointwise: 100%|██████████| 1/1 [00:00<00:00, 430.19it/s]\n"
          ]
        },
        {
          "name": "stdout",
          "output_type": "stream",
          "text": [
            "<libreco.algorithms.item_cf.ItemCF object at 0x7f1009fce130>\n"
          ]
        },
        {
          "name": "stderr",
          "output_type": "stream",
          "text": [
            "eval_pointwise: 100%|██████████| 1/1 [00:00<00:00,  4.35it/s]\n"
          ]
        },
        {
          "name": "stdout",
          "output_type": "stream",
          "text": [
            "<libreco.algorithms.user_cf.UserCF object at 0x7f10897c3e80>\n"
          ]
        },
        {
          "name": "stderr",
          "output_type": "stream",
          "text": [
            "eval_pointwise: 100%|██████████| 1/1 [00:00<00:00,  4.22it/s]\n"
          ]
        },
        {
          "name": "stdout",
          "output_type": "stream",
          "text": [
            "<libreco.algorithms.als.ALS object at 0x7f1089f49bb0>\n"
          ]
        },
        {
          "name": "stderr",
          "output_type": "stream",
          "text": [
            "eval_pointwise: 100%|██████████| 1/1 [00:00<00:00, 1689.21it/s]\n"
          ]
        },
        {
          "name": "stdout",
          "output_type": "stream",
          "text": [
            "\n",
            " ============================== SVD ==============================\n",
            "Training start time: \u001b[35m2023-04-03 18:14:49\u001b[0m\n"
          ]
        },
        {
          "name": "stderr",
          "output_type": "stream",
          "text": [
            "train: 100%|██████████| 371/371 [00:00<00:00, 842.50it/s]\n",
            "train: 100%|██████████| 371/371 [00:00<00:00, 1038.69it/s]\n",
            "train: 100%|██████████| 371/371 [00:00<00:00, 1057.56it/s]\n",
            "train: 100%|██████████| 371/371 [00:00<00:00, 1089.67it/s]\n",
            "train: 100%|██████████| 371/371 [00:00<00:00, 1013.64it/s]\n",
            "train: 100%|██████████| 371/371 [00:00<00:00, 1035.48it/s]\n",
            "train: 100%|██████████| 371/371 [00:00<00:00, 1080.41it/s]\n",
            "train: 100%|██████████| 371/371 [00:00<00:00, 1126.81it/s]\n",
            "train: 100%|██████████| 371/371 [00:00<00:00, 700.68it/s]\n",
            "train: 100%|██████████| 371/371 [00:00<00:00, 733.26it/s]\n",
            "train: 100%|██████████| 371/371 [00:00<00:00, 697.41it/s]\n",
            "train: 100%|██████████| 371/371 [00:00<00:00, 754.05it/s]\n",
            "train: 100%|██████████| 371/371 [00:00<00:00, 760.17it/s]\n",
            "train: 100%|██████████| 371/371 [00:00<00:00, 726.28it/s]\n",
            "train: 100%|██████████| 371/371 [00:00<00:00, 754.20it/s]\n",
            "train: 100%|██████████| 371/371 [00:00<00:00, 703.76it/s]\n",
            "train: 100%|██████████| 371/371 [00:00<00:00, 751.48it/s]\n",
            "train: 100%|██████████| 371/371 [00:00<00:00, 755.12it/s]\n",
            "train: 100%|██████████| 371/371 [00:00<00:00, 1047.68it/s]\n",
            "train: 100%|██████████| 371/371 [00:00<00:00, 996.16it/s] \n",
            "train: 100%|██████████| 371/371 [00:00<00:00, 1016.74it/s]\n",
            "train: 100%|██████████| 371/371 [00:00<00:00, 1024.47it/s]\n",
            "train: 100%|██████████| 371/371 [00:00<00:00, 1052.69it/s]\n",
            "train: 100%|██████████| 371/371 [00:00<00:00, 1089.89it/s]\n",
            "train: 100%|██████████| 371/371 [00:00<00:00, 1098.88it/s]\n",
            "train: 100%|██████████| 371/371 [00:00<00:00, 1070.15it/s]\n",
            "train: 100%|██████████| 371/371 [00:00<00:00, 1018.21it/s]\n",
            "train: 100%|██████████| 371/371 [00:00<00:00, 954.63it/s]\n",
            "train: 100%|██████████| 371/371 [00:00<00:00, 1049.31it/s]\n",
            "train: 100%|██████████| 371/371 [00:00<00:00, 1019.18it/s]\n",
            "train: 100%|██████████| 371/371 [00:00<00:00, 1053.04it/s]\n",
            "train: 100%|██████████| 371/371 [00:00<00:00, 1112.53it/s]\n",
            "train: 100%|██████████| 371/371 [00:00<00:00, 1021.48it/s]\n",
            "train: 100%|██████████| 371/371 [00:00<00:00, 1073.92it/s]\n",
            "train: 100%|██████████| 371/371 [00:00<00:00, 1035.31it/s]\n",
            "train: 100%|██████████| 371/371 [00:00<00:00, 1066.09it/s]\n",
            "train: 100%|██████████| 371/371 [00:00<00:00, 1108.61it/s]\n",
            "train: 100%|██████████| 371/371 [00:00<00:00, 1049.95it/s]\n",
            "train: 100%|██████████| 371/371 [00:00<00:00, 1051.86it/s]\n",
            "train: 100%|██████████| 371/371 [00:00<00:00, 1036.37it/s]\n",
            "train: 100%|██████████| 371/371 [00:00<00:00, 1112.86it/s]\n",
            "train: 100%|██████████| 371/371 [00:00<00:00, 1020.49it/s]\n",
            "train: 100%|██████████| 371/371 [00:00<00:00, 1087.05it/s]\n",
            "train: 100%|██████████| 371/371 [00:00<00:00, 1099.50it/s]\n",
            "train: 100%|██████████| 371/371 [00:00<00:00, 1013.88it/s]\n",
            "train: 100%|██████████| 371/371 [00:00<00:00, 771.31it/s]\n",
            "train: 100%|██████████| 371/371 [00:00<00:00, 664.23it/s]\n",
            "train: 100%|██████████| 371/371 [00:00<00:00, 738.50it/s]\n",
            "train: 100%|██████████| 371/371 [00:00<00:00, 683.32it/s]\n",
            "train: 100%|██████████| 371/371 [00:00<00:00, 727.48it/s]\n"
          ]
        },
        {
          "name": "stdout",
          "output_type": "stream",
          "text": [
            "\n",
            " ============================== SVD++ ==============================\n",
            "Training start time: \u001b[35m2023-04-03 18:15:10\u001b[0m\n"
          ]
        },
        {
          "name": "stderr",
          "output_type": "stream",
          "text": [
            "train: 100%|██████████| 371/371 [00:02<00:00, 164.40it/s]\n",
            "train: 100%|██████████| 371/371 [00:01<00:00, 231.61it/s]\n",
            "train: 100%|██████████| 371/371 [00:01<00:00, 230.82it/s]\n",
            "train: 100%|██████████| 371/371 [00:01<00:00, 225.58it/s]\n",
            "train: 100%|██████████| 371/371 [00:01<00:00, 229.04it/s]\n",
            "train: 100%|██████████| 371/371 [00:01<00:00, 229.29it/s]\n",
            "train: 100%|██████████| 371/371 [00:01<00:00, 224.87it/s]\n",
            "train: 100%|██████████| 371/371 [00:02<00:00, 164.39it/s]\n",
            "train: 100%|██████████| 371/371 [00:02<00:00, 178.70it/s]\n",
            "train: 100%|██████████| 371/371 [00:01<00:00, 218.77it/s]\n",
            "train: 100%|██████████| 371/371 [00:01<00:00, 228.94it/s]\n",
            "train: 100%|██████████| 371/371 [00:01<00:00, 224.07it/s]\n",
            "train: 100%|██████████| 371/371 [00:01<00:00, 231.00it/s]\n",
            "train: 100%|██████████| 371/371 [00:01<00:00, 231.49it/s]\n",
            "train: 100%|██████████| 371/371 [00:01<00:00, 213.38it/s]\n",
            "train: 100%|██████████| 371/371 [00:02<00:00, 165.58it/s]\n",
            "train: 100%|██████████| 371/371 [00:02<00:00, 179.40it/s]\n",
            "train: 100%|██████████| 371/371 [00:01<00:00, 225.96it/s]\n",
            "train: 100%|██████████| 371/371 [00:01<00:00, 226.91it/s]\n",
            "train: 100%|██████████| 371/371 [00:01<00:00, 225.32it/s]\n",
            "train: 100%|██████████| 371/371 [00:01<00:00, 232.52it/s]\n",
            "train: 100%|██████████| 371/371 [00:01<00:00, 226.74it/s]\n",
            "train: 100%|██████████| 371/371 [00:01<00:00, 205.60it/s]\n",
            "train: 100%|██████████| 371/371 [00:02<00:00, 175.53it/s]\n",
            "train: 100%|██████████| 371/371 [00:02<00:00, 177.49it/s]\n"
          ]
        },
        {
          "name": "stdout",
          "output_type": "stream",
          "text": [
            "\n",
            " ============================== item_cf ==============================\n",
            "Training start time: \u001b[35m2023-04-03 18:15:56\u001b[0m\n",
            "Final block size and num: (1659, 1)\n",
            "sim_matrix elapsed: 0.072s\n",
            "sim_matrix, shape: (1659, 1659), num_elements: 1906084, density: 225.1990 %\n"
          ]
        },
        {
          "name": "stderr",
          "output_type": "stream",
          "text": [
            "top_k: 100%|██████████| 1659/1659 [00:00<00:00, 3668.01it/s]\n"
          ]
        },
        {
          "name": "stdout",
          "output_type": "stream",
          "text": [
            "\n",
            " ============================== user_cf ==============================\n",
            "Training start time: \u001b[35m2023-04-03 18:15:56\u001b[0m\n",
            "Final block size and num: (920, 1)\n",
            "sim_matrix elapsed: 0.035s\n",
            "sim_matrix, shape: (920, 920), num_elements: 813804, density: 96.1489 %\n"
          ]
        },
        {
          "name": "stderr",
          "output_type": "stream",
          "text": [
            "top_k: 100%|██████████| 920/920 [00:00<00:00, 5171.73it/s]\n"
          ]
        },
        {
          "name": "stdout",
          "output_type": "stream",
          "text": [
            "\n",
            " ============================== ALS ==============================\n",
            "Training start time: \u001b[35m2023-04-03 18:15:56\u001b[0m\n",
            "19\n",
            "######## 200 ########\n",
            "<libreco.algorithms.svd.SVD object at 0x7f1089e62df0>\n"
          ]
        },
        {
          "name": "stderr",
          "output_type": "stream",
          "text": [
            "eval_pointwise: 100%|██████████| 1/1 [00:00<00:00, 599.19it/s]\n"
          ]
        },
        {
          "name": "stdout",
          "output_type": "stream",
          "text": [
            "<libreco.algorithms.svdpp.SVDpp object at 0x7f1009f73340>\n"
          ]
        },
        {
          "name": "stderr",
          "output_type": "stream",
          "text": [
            "eval_pointwise: 100%|██████████| 1/1 [00:00<00:00, 403.76it/s]\n"
          ]
        },
        {
          "name": "stdout",
          "output_type": "stream",
          "text": [
            "<libreco.algorithms.item_cf.ItemCF object at 0x7f1089e84400>\n"
          ]
        },
        {
          "name": "stderr",
          "output_type": "stream",
          "text": [
            "eval_pointwise: 100%|██████████| 1/1 [00:00<00:00,  2.66it/s]\n"
          ]
        },
        {
          "name": "stdout",
          "output_type": "stream",
          "text": [
            "<libreco.algorithms.user_cf.UserCF object at 0x7f10001b2220>\n"
          ]
        },
        {
          "name": "stderr",
          "output_type": "stream",
          "text": [
            "eval_pointwise: 100%|██████████| 1/1 [00:00<00:00,  2.65it/s]\n"
          ]
        },
        {
          "name": "stdout",
          "output_type": "stream",
          "text": [
            "<libreco.algorithms.als.ALS object at 0x7f1009fc51c0>\n"
          ]
        },
        {
          "name": "stderr",
          "output_type": "stream",
          "text": [
            "eval_pointwise: 100%|██████████| 1/1 [00:00<00:00, 1696.04it/s]\n"
          ]
        },
        {
          "name": "stdout",
          "output_type": "stream",
          "text": [
            "\n",
            " ============================== SVD ==============================\n",
            "Training start time: \u001b[35m2023-04-03 18:16:08\u001b[0m\n"
          ]
        },
        {
          "name": "stderr",
          "output_type": "stream",
          "text": [
            "train: 100%|██████████| 376/376 [00:00<00:00, 618.06it/s]\n",
            "train: 100%|██████████| 376/376 [00:00<00:00, 635.79it/s]\n",
            "train: 100%|██████████| 376/376 [00:00<00:00, 698.42it/s]\n",
            "train: 100%|██████████| 376/376 [00:00<00:00, 812.64it/s]\n",
            "train: 100%|██████████| 376/376 [00:00<00:00, 998.51it/s] \n",
            "train: 100%|██████████| 376/376 [00:00<00:00, 1030.02it/s]\n",
            "train: 100%|██████████| 376/376 [00:00<00:00, 1074.66it/s]\n",
            "train: 100%|██████████| 376/376 [00:00<00:00, 1092.96it/s]\n",
            "train: 100%|██████████| 376/376 [00:00<00:00, 1004.91it/s]\n",
            "train: 100%|██████████| 376/376 [00:00<00:00, 1072.71it/s]\n",
            "train: 100%|██████████| 376/376 [00:00<00:00, 1049.73it/s]\n",
            "train: 100%|██████████| 376/376 [00:00<00:00, 1063.68it/s]\n",
            "train: 100%|██████████| 376/376 [00:00<00:00, 1063.17it/s]\n",
            "train: 100%|██████████| 376/376 [00:00<00:00, 1109.90it/s]\n",
            "train: 100%|██████████| 376/376 [00:00<00:00, 1081.55it/s]\n",
            "train: 100%|██████████| 376/376 [00:00<00:00, 1087.08it/s]\n",
            "train: 100%|██████████| 376/376 [00:00<00:00, 1063.58it/s]\n",
            "train: 100%|██████████| 376/376 [00:00<00:00, 1071.70it/s]\n",
            "train: 100%|██████████| 376/376 [00:00<00:00, 1025.23it/s]\n",
            "train: 100%|██████████| 376/376 [00:00<00:00, 1034.15it/s]\n",
            "train: 100%|██████████| 376/376 [00:00<00:00, 1092.52it/s]\n",
            "train: 100%|██████████| 376/376 [00:00<00:00, 1024.37it/s]\n",
            "train: 100%|██████████| 376/376 [00:00<00:00, 1080.84it/s]\n",
            "train: 100%|██████████| 376/376 [00:00<00:00, 1105.65it/s]\n",
            "train: 100%|██████████| 376/376 [00:00<00:00, 993.72it/s]\n",
            "train: 100%|██████████| 376/376 [00:00<00:00, 1043.58it/s]\n",
            "train: 100%|██████████| 376/376 [00:00<00:00, 1022.91it/s]\n",
            "train: 100%|██████████| 376/376 [00:00<00:00, 1055.10it/s]\n",
            "train: 100%|██████████| 376/376 [00:00<00:00, 1031.89it/s]\n",
            "train: 100%|██████████| 376/376 [00:00<00:00, 1039.83it/s]\n",
            "train: 100%|██████████| 376/376 [00:00<00:00, 915.06it/s]\n",
            "train: 100%|██████████| 376/376 [00:00<00:00, 735.18it/s]\n",
            "train: 100%|██████████| 376/376 [00:00<00:00, 706.85it/s]\n",
            "train: 100%|██████████| 376/376 [00:00<00:00, 745.29it/s]\n",
            "train: 100%|██████████| 376/376 [00:00<00:00, 716.99it/s]\n",
            "train: 100%|██████████| 376/376 [00:00<00:00, 765.44it/s]\n",
            "train: 100%|██████████| 376/376 [00:00<00:00, 703.59it/s]\n",
            "train: 100%|██████████| 376/376 [00:00<00:00, 726.45it/s]\n",
            "train: 100%|██████████| 376/376 [00:00<00:00, 674.63it/s]\n",
            "train: 100%|██████████| 376/376 [00:00<00:00, 695.93it/s]\n",
            "train: 100%|██████████| 376/376 [00:00<00:00, 890.40it/s]\n",
            "train: 100%|██████████| 376/376 [00:00<00:00, 1033.49it/s]\n",
            "train: 100%|██████████| 376/376 [00:00<00:00, 1041.38it/s]\n",
            "train: 100%|██████████| 376/376 [00:00<00:00, 1004.49it/s]\n",
            "train: 100%|██████████| 376/376 [00:00<00:00, 1030.97it/s]\n",
            "train: 100%|██████████| 376/376 [00:00<00:00, 1116.77it/s]\n",
            "train: 100%|██████████| 376/376 [00:00<00:00, 1104.74it/s]\n",
            "train: 100%|██████████| 376/376 [00:00<00:00, 1073.05it/s]\n",
            "train: 100%|██████████| 376/376 [00:00<00:00, 1034.62it/s]\n",
            "train: 100%|██████████| 376/376 [00:00<00:00, 945.56it/s]\n"
          ]
        },
        {
          "name": "stdout",
          "output_type": "stream",
          "text": [
            "\n",
            " ============================== SVD++ ==============================\n",
            "Training start time: \u001b[35m2023-04-03 18:16:29\u001b[0m\n"
          ]
        },
        {
          "name": "stderr",
          "output_type": "stream",
          "text": [
            "train: 100%|██████████| 376/376 [00:01<00:00, 212.48it/s]\n",
            "train: 100%|██████████| 376/376 [00:01<00:00, 229.46it/s]\n",
            "train: 100%|██████████| 376/376 [00:01<00:00, 226.35it/s]\n",
            "train: 100%|██████████| 376/376 [00:01<00:00, 189.70it/s]\n",
            "train: 100%|██████████| 376/376 [00:02<00:00, 163.50it/s]\n",
            "train: 100%|██████████| 376/376 [00:01<00:00, 195.33it/s]\n",
            "train: 100%|██████████| 376/376 [00:01<00:00, 226.61it/s]\n",
            "train: 100%|██████████| 376/376 [00:01<00:00, 227.70it/s]\n",
            "train: 100%|██████████| 376/376 [00:01<00:00, 225.22it/s]\n",
            "train: 100%|██████████| 376/376 [00:01<00:00, 225.73it/s]\n",
            "train: 100%|██████████| 376/376 [00:01<00:00, 223.23it/s]\n",
            "train: 100%|██████████| 376/376 [00:02<00:00, 175.90it/s]\n",
            "train: 100%|██████████| 376/376 [00:02<00:00, 162.80it/s]\n",
            "train: 100%|██████████| 376/376 [00:01<00:00, 214.11it/s]\n",
            "train: 100%|██████████| 376/376 [00:01<00:00, 222.57it/s]\n",
            "train: 100%|██████████| 376/376 [00:01<00:00, 229.46it/s]\n",
            "train: 100%|██████████| 376/376 [00:01<00:00, 230.99it/s]\n",
            "train: 100%|██████████| 376/376 [00:01<00:00, 226.25it/s]\n",
            "train: 100%|██████████| 376/376 [00:01<00:00, 232.13it/s]\n",
            "train: 100%|██████████| 376/376 [00:02<00:00, 175.47it/s]\n",
            "train: 100%|██████████| 376/376 [00:02<00:00, 160.79it/s]\n",
            "train: 100%|██████████| 376/376 [00:01<00:00, 228.65it/s]\n",
            "train: 100%|██████████| 376/376 [00:01<00:00, 223.14it/s]\n",
            "train: 100%|██████████| 376/376 [00:01<00:00, 227.67it/s]\n",
            "train: 100%|██████████| 376/376 [00:01<00:00, 221.50it/s]\n"
          ]
        },
        {
          "name": "stdout",
          "output_type": "stream",
          "text": [
            "\n",
            " ============================== item_cf ==============================\n",
            "Training start time: \u001b[35m2023-04-03 18:17:15\u001b[0m\n",
            "Final block size and num: (1654, 1)\n",
            "sim_matrix elapsed: 0.075s\n",
            "sim_matrix, shape: (1654, 1654), num_elements: 1817218, density: 208.3115 %\n"
          ]
        },
        {
          "name": "stderr",
          "output_type": "stream",
          "text": [
            "top_k: 100%|██████████| 1654/1654 [00:00<00:00, 4005.97it/s]\n"
          ]
        },
        {
          "name": "stdout",
          "output_type": "stream",
          "text": [
            "\n",
            " ============================== user_cf ==============================\n",
            "Training start time: \u001b[35m2023-04-03 18:17:16\u001b[0m\n",
            "Final block size and num: (934, 1)\n",
            "sim_matrix elapsed: 0.037s\n",
            "sim_matrix, shape: (934, 934), num_elements: 839872, density: 96.2763 %\n"
          ]
        },
        {
          "name": "stderr",
          "output_type": "stream",
          "text": [
            "top_k: 100%|██████████| 934/934 [00:00<00:00, 5066.44it/s]\n"
          ]
        },
        {
          "name": "stdout",
          "output_type": "stream",
          "text": [
            "\n",
            " ============================== ALS ==============================\n",
            "Training start time: \u001b[35m2023-04-03 18:17:16\u001b[0m\n",
            "20\n",
            "######## 210 ########\n",
            "<libreco.algorithms.svd.SVD object at 0x7f1089e62520>\n"
          ]
        },
        {
          "name": "stderr",
          "output_type": "stream",
          "text": [
            "eval_pointwise: 100%|██████████| 1/1 [00:00<00:00, 1020.76it/s]\n"
          ]
        },
        {
          "name": "stdout",
          "output_type": "stream",
          "text": [
            "<libreco.algorithms.svdpp.SVDpp object at 0x7f0ff8e8a790>\n"
          ]
        },
        {
          "name": "stderr",
          "output_type": "stream",
          "text": [
            "eval_pointwise: 100%|██████████| 1/1 [00:00<00:00, 1621.30it/s]\n"
          ]
        },
        {
          "name": "stdout",
          "output_type": "stream",
          "text": [
            "<libreco.algorithms.item_cf.ItemCF object at 0x7f108a0445e0>\n"
          ]
        },
        {
          "name": "stderr",
          "output_type": "stream",
          "text": [
            "eval_pointwise: 100%|██████████| 1/1 [00:00<00:00,  3.92it/s]\n"
          ]
        },
        {
          "name": "stdout",
          "output_type": "stream",
          "text": [
            "<libreco.algorithms.user_cf.UserCF object at 0x7f0ff9da7f70>\n"
          ]
        },
        {
          "name": "stderr",
          "output_type": "stream",
          "text": [
            "eval_pointwise: 100%|██████████| 1/1 [00:00<00:00,  3.49it/s]\n"
          ]
        },
        {
          "name": "stdout",
          "output_type": "stream",
          "text": [
            "<libreco.algorithms.als.ALS object at 0x7f0ff9c71f10>\n"
          ]
        },
        {
          "name": "stderr",
          "output_type": "stream",
          "text": [
            "eval_pointwise: 100%|██████████| 1/1 [00:00<00:00, 1570.90it/s]\n"
          ]
        },
        {
          "name": "stdout",
          "output_type": "stream",
          "text": [
            "\n",
            " ============================== SVD ==============================\n",
            "Training start time: \u001b[35m2023-04-03 18:17:29\u001b[0m\n"
          ]
        },
        {
          "name": "stderr",
          "output_type": "stream",
          "text": [
            "train: 100%|██████████| 386/386 [00:00<00:00, 897.19it/s]\n",
            "train: 100%|██████████| 386/386 [00:00<00:00, 1122.59it/s]\n",
            "train: 100%|██████████| 386/386 [00:00<00:00, 1210.23it/s]\n",
            "train: 100%|██████████| 386/386 [00:00<00:00, 995.17it/s] \n",
            "train: 100%|██████████| 386/386 [00:00<00:00, 1109.57it/s]\n",
            "train: 100%|██████████| 386/386 [00:00<00:00, 1039.12it/s]\n",
            "train: 100%|██████████| 386/386 [00:00<00:00, 1046.92it/s]\n",
            "train: 100%|██████████| 386/386 [00:00<00:00, 1114.89it/s]\n",
            "train: 100%|██████████| 386/386 [00:00<00:00, 1065.86it/s]\n",
            "train: 100%|██████████| 386/386 [00:00<00:00, 1152.54it/s]\n",
            "train: 100%|██████████| 386/386 [00:00<00:00, 1067.86it/s]\n",
            "train: 100%|██████████| 386/386 [00:00<00:00, 775.49it/s]\n",
            "train: 100%|██████████| 386/386 [00:00<00:00, 724.47it/s]\n",
            "train: 100%|██████████| 386/386 [00:00<00:00, 742.49it/s]\n",
            "train: 100%|██████████| 386/386 [00:00<00:00, 788.33it/s]\n",
            "train: 100%|██████████| 386/386 [00:00<00:00, 765.31it/s]\n",
            "train: 100%|██████████| 386/386 [00:00<00:00, 766.67it/s]\n",
            "train: 100%|██████████| 386/386 [00:00<00:00, 717.70it/s]\n",
            "train: 100%|██████████| 386/386 [00:00<00:00, 715.08it/s]\n",
            "train: 100%|██████████| 386/386 [00:00<00:00, 696.26it/s]\n",
            "train: 100%|██████████| 386/386 [00:00<00:00, 826.38it/s]\n",
            "train: 100%|██████████| 386/386 [00:00<00:00, 1052.38it/s]\n",
            "train: 100%|██████████| 386/386 [00:00<00:00, 1048.78it/s]\n",
            "train: 100%|██████████| 386/386 [00:00<00:00, 1073.69it/s]\n",
            "train: 100%|██████████| 386/386 [00:00<00:00, 1025.74it/s]\n",
            "train: 100%|██████████| 386/386 [00:00<00:00, 1079.17it/s]\n",
            "train: 100%|██████████| 386/386 [00:00<00:00, 1071.45it/s]\n",
            "train: 100%|██████████| 386/386 [00:00<00:00, 1087.81it/s]\n",
            "train: 100%|██████████| 386/386 [00:00<00:00, 1090.85it/s]\n",
            "train: 100%|██████████| 386/386 [00:00<00:00, 1041.74it/s]\n",
            "train: 100%|██████████| 386/386 [00:00<00:00, 1156.64it/s]\n",
            "train: 100%|██████████| 386/386 [00:00<00:00, 1001.77it/s]\n",
            "train: 100%|██████████| 386/386 [00:00<00:00, 1097.61it/s]\n",
            "train: 100%|██████████| 386/386 [00:00<00:00, 1078.79it/s]\n",
            "train: 100%|██████████| 386/386 [00:00<00:00, 1028.12it/s]\n",
            "train: 100%|██████████| 386/386 [00:00<00:00, 1028.37it/s]\n",
            "train: 100%|██████████| 386/386 [00:00<00:00, 1155.91it/s]\n",
            "train: 100%|██████████| 386/386 [00:00<00:00, 1068.79it/s]\n",
            "train: 100%|██████████| 386/386 [00:00<00:00, 1127.28it/s]\n",
            "train: 100%|██████████| 386/386 [00:00<00:00, 1002.03it/s]\n",
            "train: 100%|██████████| 386/386 [00:00<00:00, 1081.65it/s]\n",
            "train: 100%|██████████| 386/386 [00:00<00:00, 1100.90it/s]\n",
            "train: 100%|██████████| 386/386 [00:00<00:00, 1126.50it/s]\n",
            "train: 100%|██████████| 386/386 [00:00<00:00, 1053.79it/s]\n",
            "train: 100%|██████████| 386/386 [00:00<00:00, 1071.82it/s]\n",
            "train: 100%|██████████| 386/386 [00:00<00:00, 1081.32it/s]\n",
            "train: 100%|██████████| 386/386 [00:00<00:00, 1037.21it/s]\n",
            "train: 100%|██████████| 386/386 [00:00<00:00, 806.12it/s]\n",
            "train: 100%|██████████| 386/386 [00:00<00:00, 723.38it/s]\n",
            "train: 100%|██████████| 386/386 [00:00<00:00, 687.30it/s]\n"
          ]
        },
        {
          "name": "stdout",
          "output_type": "stream",
          "text": [
            "\n",
            " ============================== SVD++ ==============================\n",
            "Training start time: \u001b[35m2023-04-03 18:17:50\u001b[0m\n"
          ]
        },
        {
          "name": "stderr",
          "output_type": "stream",
          "text": [
            "train: 100%|██████████| 386/386 [00:02<00:00, 156.23it/s]\n",
            "train: 100%|██████████| 386/386 [00:01<00:00, 218.31it/s]\n",
            "train: 100%|██████████| 386/386 [00:01<00:00, 225.54it/s]\n",
            "train: 100%|██████████| 386/386 [00:01<00:00, 224.43it/s]\n",
            "train: 100%|██████████| 386/386 [00:01<00:00, 227.52it/s]\n",
            "train: 100%|██████████| 386/386 [00:01<00:00, 226.11it/s]\n",
            "train: 100%|██████████| 386/386 [00:01<00:00, 217.30it/s]\n",
            "train: 100%|██████████| 386/386 [00:02<00:00, 160.00it/s]\n",
            "train: 100%|██████████| 386/386 [00:02<00:00, 170.30it/s]\n",
            "train: 100%|██████████| 386/386 [00:01<00:00, 223.87it/s]\n",
            "train: 100%|██████████| 386/386 [00:01<00:00, 228.28it/s]\n",
            "train: 100%|██████████| 386/386 [00:01<00:00, 224.61it/s]\n",
            "train: 100%|██████████| 386/386 [00:01<00:00, 227.28it/s]\n",
            "train: 100%|██████████| 386/386 [00:01<00:00, 224.42it/s]\n",
            "train: 100%|██████████| 386/386 [00:02<00:00, 185.32it/s]\n",
            "train: 100%|██████████| 386/386 [00:02<00:00, 164.30it/s]\n",
            "train: 100%|██████████| 386/386 [00:02<00:00, 192.62it/s]\n",
            "train: 100%|██████████| 386/386 [00:01<00:00, 228.49it/s]\n",
            "train: 100%|██████████| 386/386 [00:01<00:00, 231.71it/s]\n",
            "train: 100%|██████████| 386/386 [00:01<00:00, 225.50it/s]\n",
            "train: 100%|██████████| 386/386 [00:01<00:00, 226.32it/s]\n",
            "train: 100%|██████████| 386/386 [00:01<00:00, 226.78it/s]\n",
            "train: 100%|██████████| 386/386 [00:02<00:00, 167.70it/s]\n",
            "train: 100%|██████████| 386/386 [00:02<00:00, 164.09it/s]\n",
            "train: 100%|██████████| 386/386 [00:01<00:00, 222.90it/s]\n"
          ]
        },
        {
          "name": "stdout",
          "output_type": "stream",
          "text": [
            "\n",
            " ============================== item_cf ==============================\n",
            "Training start time: \u001b[35m2023-04-03 18:18:39\u001b[0m\n",
            "Final block size and num: (1679, 1)\n",
            "sim_matrix elapsed: 0.085s\n",
            "sim_matrix, shape: (1679, 1679), num_elements: 1958358, density: 221.1632 %\n"
          ]
        },
        {
          "name": "stderr",
          "output_type": "stream",
          "text": [
            "top_k: 100%|██████████| 1679/1679 [00:00<00:00, 3796.24it/s]\n"
          ]
        },
        {
          "name": "stdout",
          "output_type": "stream",
          "text": [
            "\n",
            " ============================== user_cf ==============================\n",
            "Training start time: \u001b[35m2023-04-03 18:18:39\u001b[0m\n",
            "Final block size and num: (941, 1)\n",
            "sim_matrix elapsed: 0.037s\n",
            "sim_matrix, shape: (941, 941), num_elements: 852504, density: 96.2758 %\n"
          ]
        },
        {
          "name": "stderr",
          "output_type": "stream",
          "text": [
            "top_k: 100%|██████████| 941/941 [00:00<00:00, 4742.39it/s]\n"
          ]
        },
        {
          "name": "stdout",
          "output_type": "stream",
          "text": [
            "\n",
            " ============================== ALS ==============================\n",
            "Training start time: \u001b[35m2023-04-03 18:18:39\u001b[0m\n",
            "21\n",
            "######## 220 ########\n",
            "<libreco.algorithms.svd.SVD object at 0x7f0ff9b9d430>\n"
          ]
        },
        {
          "name": "stderr",
          "output_type": "stream",
          "text": [
            "eval_pointwise: 100%|██████████| 1/1 [00:00<00:00, 219.82it/s]\n"
          ]
        },
        {
          "name": "stdout",
          "output_type": "stream",
          "text": [
            "<libreco.algorithms.svdpp.SVDpp object at 0x7f1000160940>\n"
          ]
        },
        {
          "name": "stderr",
          "output_type": "stream",
          "text": [
            "eval_pointwise: 100%|██████████| 1/1 [00:00<00:00, 1436.41it/s]\n"
          ]
        },
        {
          "name": "stdout",
          "output_type": "stream",
          "text": [
            "<libreco.algorithms.item_cf.ItemCF object at 0x7f1089422d90>\n"
          ]
        },
        {
          "name": "stderr",
          "output_type": "stream",
          "text": [
            "eval_pointwise: 100%|██████████| 1/1 [00:00<00:00,  3.92it/s]\n"
          ]
        },
        {
          "name": "stdout",
          "output_type": "stream",
          "text": [
            "<libreco.algorithms.user_cf.UserCF object at 0x7f0ff3861b20>\n"
          ]
        },
        {
          "name": "stderr",
          "output_type": "stream",
          "text": [
            "eval_pointwise: 100%|██████████| 1/1 [00:00<00:00,  3.33it/s]\n"
          ]
        },
        {
          "name": "stdout",
          "output_type": "stream",
          "text": [
            "<libreco.algorithms.als.ALS object at 0x7f0ff37ae100>\n"
          ]
        },
        {
          "name": "stderr",
          "output_type": "stream",
          "text": [
            "eval_pointwise: 100%|██████████| 1/1 [00:00<00:00, 1836.39it/s]"
          ]
        },
        {
          "name": "stdout",
          "output_type": "stream",
          "text": [
            "{'10': {'SVD': {'rmse': 1.4423920024180537}, 'SVDpp': {'rmse': 1.1238212378066512}, 'ItemCF': {'rmse': 1.0861509138755618}, 'UserCF': {'rmse': 1.194787821434299}, 'ALS': {'rmse': 1.3254622525294142}}, '20': {'SVD': {'rmse': 1.2713940372460066}, 'SVDpp': {'rmse': 1.2169977392448446}, 'ItemCF': {'rmse': 0.9917797068429038}, 'UserCF': {'rmse': 1.2204584183597498}, 'ALS': {'rmse': 1.3859506604026373}}, '30': {'SVD': {'rmse': 1.177087628281646}, 'SVDpp': {'rmse': 1.1478099353087243}, 'ItemCF': {'rmse': 1.060002688153739}, 'UserCF': {'rmse': 1.1709541616715777}, 'ALS': {'rmse': 1.2784778369448462}}, '40': {'SVD': {'rmse': 1.1294227372014194}, 'SVDpp': {'rmse': 1.069736063618869}, 'ItemCF': {'rmse': 0.9893173292229657}, 'UserCF': {'rmse': 1.1194306763054884}, 'ALS': {'rmse': 1.2300496773528753}}, '50': {'SVD': {'rmse': 1.1091619379163389}, 'SVDpp': {'rmse': 1.0854066062161598}, 'ItemCF': {'rmse': 1.0264592749686123}, 'UserCF': {'rmse': 1.1934723169057184}, 'ALS': {'rmse': 1.1818712515910699}}, '60': {'SVD': {'rmse': 0.9453923586696809}, 'SVDpp': {'rmse': 0.9469646710058603}, 'ItemCF': {'rmse': 0.9575740103354891}, 'UserCF': {'rmse': 1.021064736560802}, 'ALS': {'rmse': 1.010684158887385}}, '70': {'SVD': {'rmse': 0.9825749177378165}, 'SVDpp': {'rmse': 0.9467578113752196}, 'ItemCF': {'rmse': 1.0545678615864018}, 'UserCF': {'rmse': 1.0532110756743394}, 'ALS': {'rmse': 1.0344633055005725}}, '80': {'SVD': {'rmse': 0.9759808162147319}, 'SVDpp': {'rmse': 0.9386332102960023}, 'ItemCF': {'rmse': 1.037996422218295}, 'UserCF': {'rmse': 1.0405958537303703}, 'ALS': {'rmse': 1.0432445012716887}}, '90': {'SVD': {'rmse': 0.9720806193816418}, 'SVDpp': {'rmse': 0.9407245624013448}, 'ItemCF': {'rmse': 1.0146893129530006}, 'UserCF': {'rmse': 1.0106610127890328}, 'ALS': {'rmse': 1.012152966328021}}, '100': {'SVD': {'rmse': 1.0052408071038326}, 'SVDpp': {'rmse': 0.9822537861967897}, 'ItemCF': {'rmse': 1.075142261494081}, 'UserCF': {'rmse': 1.0612570513778812}, 'ALS': {'rmse': 1.0550869517414405}}, '110': {'SVD': {'rmse': 1.061151419469528}, 'SVDpp': {'rmse': 1.0148067136496919}, 'ItemCF': {'rmse': 1.1236316463435114}, 'UserCF': {'rmse': 1.0954972468227577}, 'ALS': {'rmse': 1.0628868522814232}}, '120': {'SVD': {'rmse': 1.0572913293337132}, 'SVDpp': {'rmse': 1.0316797403461528}, 'ItemCF': {'rmse': 1.1164816116973062}, 'UserCF': {'rmse': 1.1110306526720954}, 'ALS': {'rmse': 1.0685311431950344}}, '130': {'SVD': {'rmse': 1.047448639001759}, 'SVDpp': {'rmse': 1.017993184931965}, 'ItemCF': {'rmse': 1.1372889431202748}, 'UserCF': {'rmse': 1.097396375962073}, 'ALS': {'rmse': 1.0510675964793175}}, '140': {'SVD': {'rmse': 1.0370497467981201}, 'SVDpp': {'rmse': 1.0090233256255}, 'ItemCF': {'rmse': 1.1311073879340507}, 'UserCF': {'rmse': 1.075865308366229}, 'ALS': {'rmse': 1.0411930693495774}}, '150': {'SVD': {'rmse': 1.0163551522997625}, 'SVDpp': {'rmse': 0.9947804575956285}, 'ItemCF': {'rmse': 1.1012023966744884}, 'UserCF': {'rmse': 1.0638980644716016}, 'ALS': {'rmse': 1.008501512812589}}, '160': {'SVD': {'rmse': 1.0535632313346246}, 'SVDpp': {'rmse': 0.9973446569953593}, 'ItemCF': {'rmse': 1.1206622120950065}, 'UserCF': {'rmse': 1.0820222204650236}, 'ALS': {'rmse': 1.0531826397580446}}, '170': {'SVD': {'rmse': 1.0391798434548545}, 'SVDpp': {'rmse': 0.9871419265855073}, 'ItemCF': {'rmse': 1.0891205644599193}, 'UserCF': {'rmse': 1.0616916807080694}, 'ALS': {'rmse': 1.0428843954993516}}, '180': {'SVD': {'rmse': 1.0494990052161215}, 'SVDpp': {'rmse': 1.0002138437890107}, 'ItemCF': {'rmse': 1.0984735485477406}, 'UserCF': {'rmse': 1.0827757071861903}, 'ALS': {'rmse': 1.0430456188347021}}, '190': {'SVD': {'rmse': 1.0587906554808195}, 'SVDpp': {'rmse': 0.993190939532491}, 'ItemCF': {'rmse': 1.1149038127060535}, 'UserCF': {'rmse': 1.0896915140371313}, 'ALS': {'rmse': 1.0581944054570795}}, '200': {'SVD': {'rmse': 1.0693421630884423}, 'SVDpp': {'rmse': 1.0093647271695243}, 'ItemCF': {'rmse': 1.1103233932327503}, 'UserCF': {'rmse': 1.091409867607625}, 'ALS': {'rmse': 1.0420188512865969}}, '210': {'SVD': {'rmse': 1.051701877126101}, 'SVDpp': {'rmse': 1.0003421962832082}, 'ItemCF': {'rmse': 1.129771457211746}, 'UserCF': {'rmse': 1.0803614160113595}, 'ALS': {'rmse': 1.057781880060963}}, '220': {'SVD': {'rmse': 1.0716597300137298}, 'SVDpp': {'rmse': 1.0306863385587939}, 'ItemCF': {'rmse': 1.1399668120571}, 'UserCF': {'rmse': 1.084420450201764}, 'ALS': {'rmse': 1.0646383884883064}}}\n"
          ]
        },
        {
          "name": "stderr",
          "output_type": "stream",
          "text": [
            "\n"
          ]
        }
      ],
      "source": [
        "test_run = run_experiment(df_data, 10, 1, None, ignore_remainder = True, task = 'rating')\n",
        "\n",
        "print(test_run)"
      ]
    },
    {
      "cell_type": "code",
      "execution_count": null,
      "metadata": {
        "id": "U_6o4EhwiOnr"
      },
      "outputs": [],
      "source": [
        "def model_results(results, metrics, nth_ticks=2, model_time=False):\n",
        "  time_iter = list(results.keys())\n",
        "  algorithms = list(results[time_iter[0]].keys())\n",
        "\n",
        "  plt.figure(figsize=(10,6))\n",
        "\n",
        "  if model_time:\n",
        "    metrics.append('train_time')\n",
        "\n",
        "  for metric in metrics:\n",
        "\n",
        "    fig, ax = plt.subplots()\n",
        "    \n",
        "    for algo in algorithms:\n",
        "      value_list = []\n",
        "      for time in time_iter:\n",
        "        value_list.append(results[time][algo][metric])\n",
        "\n",
        "      ax.plot(time_iter, value_list, label=f'{algo}')\n",
        "\n",
        "    ax.set(xlabel='time (d)', ylabel=f'{metric}',\n",
        "          title=f'Comparison for {metric}')\n",
        "    ax.grid()\n",
        "    ax.set_xticks(ax.get_xticks()[::nth_ticks])\n",
        "\n",
        "    # fig.savefig(\"test.png\")\n",
        "    plt.legend()\n",
        "    plt.show()"
      ]
    },
    {
      "cell_type": "code",
      "execution_count": null,
      "metadata": {
        "colab": {
          "base_uri": "https://localhost:8080/",
          "height": 490
        },
        "id": "ebySl5YNRhJf",
        "outputId": "6a5f7b7a-21d6-40b5-b0e6-3b713d271884"
      },
      "outputs": [
        {
          "data": {
            "text/plain": [
              "<Figure size 1000x600 with 0 Axes>"
            ]
          },
          "metadata": {},
          "output_type": "display_data"
        },
        {
          "data": {
            "image/png": "[encoded data removed]",
            "text/plain": [
              "<Figure size 640x480 with 1 Axes>"
            ]
          },
          "metadata": {},
          "output_type": "display_data"
        }
      ],
      "source": [
        "test_figures = model_results(test_run, ['rmse'])"
      ]
    },
    {
      "cell_type": "code",
      "execution_count": null,
      "metadata": {
        "colab": {
          "base_uri": "https://localhost:8080/"
        },
        "id": "CHANIjhdZjap",
        "outputId": "af422e42-54cd-4b16-8b1c-0b34b4e02fd0"
      },
      "outputs": [
        {
          "name": "stdout",
          "output_type": "stream",
          "text": [
            "{'test_6': {'test_3': {'test': 1, 'test2': 2}, 'test_5': {'test': 1, 'test2': 2}}}\n",
            "{'test_3': {'test': 1, 'test2': 2}, 'test_5': {'test': 1, 'test2': 2}}\n"
          ]
        }
      ],
      "source": [
        "# test_1 = {'test': 1, 'test2': 2}\n",
        "# test_12 = {'test': 1, 'test2': 2}\n",
        "\n",
        "# test_2 = {}\n",
        "# test_2['test_3'] = test_1\n",
        "# test_2['test_5'] = test_12\n",
        "\n",
        "# test_4 = {}\n",
        "\n",
        "# test_4['test_6'] = test_2\n",
        "\n",
        "# print(test_4)\n",
        "\n",
        "# for item in test_4.values():\n",
        "#   print(item)"
      ]
    },
    {
      "cell_type": "code",
      "execution_count": null,
      "metadata": {
        "colab": {
          "base_uri": "https://localhost:8080/",
          "height": 222
        },
        "id": "AFSGqluzo-UF",
        "outputId": "9f6d09f1-32e7-4883-86da-23563a5d8d97"
      },
      "outputs": [
        {
          "ename": "NameError",
          "evalue": "ignored",
          "output_type": "error",
          "traceback": [
            "\u001b[0;31m---------------------------------------------------------------------------\u001b[0m",
            "\u001b[0;31mNameError\u001b[0m                                 Traceback (most recent call last)",
            "\u001b[0;32m<ipython-input-58-150c2ce0eb2a>\u001b[0m in \u001b[0;36m<cell line: 8>\u001b[0;34m()\u001b[0m\n\u001b[1;32m      6\u001b[0m ]\n\u001b[1;32m      7\u001b[0m \u001b[0;34m\u001b[0m\u001b[0m\n\u001b[0;32m----> 8\u001b[0;31m \u001b[0mtest_run2\u001b[0m \u001b[0;34m=\u001b[0m \u001b[0mrun_experiment\u001b[0m\u001b[0;34m(\u001b[0m\u001b[0mdf_data\u001b[0m\u001b[0;34m,\u001b[0m \u001b[0;36m5\u001b[0m\u001b[0;34m,\u001b[0m \u001b[0;36m5\u001b[0m\u001b[0;34m,\u001b[0m \u001b[0;32mNone\u001b[0m\u001b[0;34m,\u001b[0m \u001b[0mignore_remainder\u001b[0m \u001b[0;34m=\u001b[0m \u001b[0;32mTrue\u001b[0m\u001b[0;34m,\u001b[0m \u001b[0mtask\u001b[0m \u001b[0;34m=\u001b[0m \u001b[0;34m'ranking'\u001b[0m\u001b[0;34m)\u001b[0m\u001b[0;34m\u001b[0m\u001b[0;34m\u001b[0m\u001b[0m\n\u001b[0m\u001b[1;32m      9\u001b[0m \u001b[0mtest_figures2\u001b[0m \u001b[0;34m=\u001b[0m \u001b[0mmodel_results\u001b[0m\u001b[0;34m(\u001b[0m\u001b[0mtest_run2\u001b[0m\u001b[0;34m,\u001b[0m \u001b[0mmetrics_ranking\u001b[0m\u001b[0;34m,\u001b[0m \u001b[0;36m4\u001b[0m\u001b[0;34m)\u001b[0m\u001b[0;34m\u001b[0m\u001b[0;34m\u001b[0m\u001b[0m\n",
            "\u001b[0;31mNameError\u001b[0m: name 'run_experiment' is not defined"
          ]
        }
      ],
      "source": [
        "  metrics_ranking = [\n",
        "    \"precision\",\n",
        "    \"recall\",\n",
        "    \"map\",\n",
        "    \"ndcg\",\n",
        "  ]\n",
        "\n",
        "test_run2 = run_experiment(df_data, 5, 5, None, ignore_remainder = True, task = 'ranking')\n",
        "test_figures2 = model_results(test_run2, metrics_ranking, 4)"
      ]
    },
    {
      "cell_type": "code",
      "execution_count": null,
      "metadata": {
        "id": "ZifMW5F60S7Z"
      },
      "outputs": [],
      "source": [
        "def model_results_regular(results, metrics):\n",
        "  algorithms = list(results[time_iter[0]].keys())\n",
        "\n",
        "  plt.figure(figsize=(10,6))\n",
        "\n",
        "  for metric in metrics:\n",
        "\n",
        "    fig, ax = plt.subplots()\n",
        "    \n",
        "    for algo in algorithms:\n",
        "      value_list = [results[algo][metric]]\n",
        "\n",
        "      ax.plot(time_iter, value_list, label=f'{algo}')\n",
        "\n",
        "    ax.set(xlabel='time (d)', ylabel=f'{metric}',\n",
        "          title=f'Comparison for {metric}')\n",
        "    ax.grid()\n",
        "    ax.set_xticks(ax.get_xticks()[::2])\n",
        "\n",
        "    # fig.savefig(\"test.png\")\n",
        "    plt.legend()\n",
        "    plt.show()"
      ]
    },
    {
      "cell_type": "code",
      "source": [
        "# def create_timesets3(train, test, increments = 1, test_days = 1, stop = None, ignore_remainder = True):\n",
        "\n",
        "#   train_days = df_data.time.min()\n",
        "#   day_split = 86400 # day in seconds\n",
        "#   train_sets = [] # list of train_set datasets\n",
        "#   test_sets = [] # list of test_sets\n",
        "#   temporal_data = [] # keep track of how many days have been trained on.\n",
        "\n",
        "#   if stop == None:\n",
        "#     stop = df_data.time.max()\n",
        "#   else:\n",
        "#     stop = train_days + day_split * increments * stop\n",
        "\n",
        "#   while train_days < stop:\n",
        "#     train_days = train_days + day_split * increments\n",
        "\n",
        "#     train_set = train.loc[train['time'] <= train_days]\n",
        "#     test_set = test.loc[(test['time'] > train_days) & (test['time'] <= train_days + day_split * test_days)]\n",
        "\n",
        "#     test_set = test_set.loc[test_set['user'].isin(train_set['user'])]\n",
        "#     train_set = train_set.loc[train_set['user'].isin(test_set['user'])]\n",
        "\n",
        "#     train_sets.append(train_set)\n",
        "#     test_sets.append(test_set)\n",
        "\n",
        "#     temp_time = train_days - df_data.time.min()\n",
        "#     temporal_data.append(temp_time)\n",
        "\n",
        "#   return train_sets, test_sets, temporal_data"
      ],
      "metadata": {
        "id": "VRgxmIplt3ir"
      },
      "execution_count": null,
      "outputs": []
    },
    {
      "cell_type": "code",
      "execution_count": null,
      "metadata": {
        "id": "_14snnCx-kKZ"
      },
      "outputs": [],
      "source": [
        "def reset_state(name):\n",
        "    tf.compat.v1.reset_default_graph()\n",
        "    print(\"\\n\", \"=\" * 30, name, \"=\" * 30)\n",
        "\n",
        "def create_results(algos, test_data, metrics):\n",
        "\n",
        "  results = {}\n",
        "\n",
        "  for algo in algos:\n",
        "    print(algo)\n",
        "    result = evaluate(model=algo, data=test_data, metrics=metrics)\n",
        "    results[algo.__class__.__name__] = result\n",
        "\n",
        "  return results\n",
        "\n",
        "def run_experiment_alt(data, increments, test_days, stop, ignore_remainder = True, task = 'ranking'):\n",
        "\n",
        "  metrics_rating = [\n",
        "      \"rmse\"\n",
        "  ]\n",
        "\n",
        "  metrics_ranking = [\n",
        "    \"precision\",\n",
        "    \"recall\",\n",
        "    \"map\",\n",
        "    \"ndcg\",\n",
        "  ]\n",
        "\n",
        "  if task == 'ranking':\n",
        "    metrics = metrics_ranking\n",
        "  else:\n",
        "    metrics = metrics_rating\n",
        "\n",
        "  train, test, temporal_data = create_timesets2(data, increments, test_days, stop, ignore_remainder)\n",
        "\n",
        "  temporal_results = {}\n",
        "\n",
        "  i = 0\n",
        "\n",
        "  for train, test in zip(train, test):\n",
        "\n",
        "    print('testing')\n",
        "\n",
        "    print('########## CHECKING SIM ###########')\n",
        "    print('########## train users in test set ##########')\n",
        "    print(train['user'].isin(test['user']).value_counts())\n",
        "    print('########## test users in train set ##########')\n",
        "    print(test['user'].isin(train['user']).value_counts())\n",
        "\n",
        "    train_data, data_info = DatasetPure.build_trainset(train)\n",
        "    test_data = DatasetPure.build_testset(test)\n",
        "\n",
        "    start = t.perf_counter()\n",
        "\n",
        "    reset_state(\"SVD\")\n",
        "    svd = SVD(\n",
        "        task,\n",
        "        data_info,\n",
        "        embed_size=20,\n",
        "        n_epochs=50,\n",
        "        lr=0.001,\n",
        "        reg=0.0001,\n",
        "    )\n",
        "\n",
        "    svd.fit(\n",
        "        train_data,\n",
        "        verbose=0,\n",
        "        shuffle=False,\n",
        "    )\n",
        "\n",
        "    svd_time = t.perf_counter() - start\n",
        "\n",
        "    start = t.perf_counter()\n",
        "\n",
        "    reset_state(\"SVD++\")\n",
        "    svdpp = SVDpp(\n",
        "        task,\n",
        "        data_info,\n",
        "        loss_type=\"cross_entropy\",\n",
        "        embed_size=50,\n",
        "        n_epochs=25,\n",
        "        lr=0.001,\n",
        "        reg=0.0001,\n",
        "    )\n",
        "\n",
        "    svdpp.fit(\n",
        "        train_data,\n",
        "        verbose=0,\n",
        "    )\n",
        "\n",
        "    svdpp_time = t.perf_counter() - start\n",
        "\n",
        "    start = t.perf_counter()\n",
        "\n",
        "    reset_state(\"item_cf\")\n",
        "    item_cf = ItemCF(\n",
        "        task,\n",
        "        data_info=data_info,\n",
        "        k_sim=25,\n",
        "        sim_type=\"cosine\",\n",
        "    )\n",
        "\n",
        "    item_cf.fit(\n",
        "        train_data,\n",
        "        verbose=0\n",
        "    )\n",
        "\n",
        "    item_cf_time = t.perf_counter() - start\n",
        "\n",
        "    start = t.perf_counter()\n",
        "\n",
        "    reset_state(\"user_cf\")\n",
        "    user_cf = UserCF(\n",
        "        task,\n",
        "        data_info=data_info,\n",
        "        k_sim=50,\n",
        "        sim_type=\"cosine\",\n",
        "    )\n",
        "\n",
        "    user_cf.fit(\n",
        "        train_data,\n",
        "        verbose=0,\n",
        "    )\n",
        "\n",
        "    user_cf_time = t.perf_counter() - start\n",
        "\n",
        "    start = t.perf_counter()\n",
        "\n",
        "    reset_state(\"ALS\")\n",
        "    als = ALS(\n",
        "        task,\n",
        "        data_info,\n",
        "        embed_size=10,\n",
        "        n_epochs=200,\n",
        "        reg=5.0\n",
        "    )\n",
        "\n",
        "    als.fit(\n",
        "        train_data,\n",
        "        verbose=0,\n",
        "    )\n",
        "\n",
        "    als_time = t.perf_counter() - start\n",
        "\n",
        "    timers = [('SVD', svd_time), ('SVDpp',svdpp_time), ('ItemCF', item_cf_time), ('UserCF',user_cf_time), ('ALS',als_time)]\n",
        "\n",
        "    algos = [svd, svdpp, item_cf, user_cf, als]\n",
        "\n",
        "    time = int(temporal_data[i] / 86400)\n",
        "\n",
        "    temporal_results[str(time)] = create_results(algos, test_data, metrics)\n",
        "\n",
        "    for times in timers:\n",
        "      temporal_results[str(time)][times[0]]['train_time'] = times[1]\n",
        "\n",
        "    i+=1\n",
        "\n",
        "  return temporal_results\n"
      ]
    },
    {
      "cell_type": "code",
      "execution_count": null,
      "metadata": {
        "colab": {
          "base_uri": "https://localhost:8080/",
          "height": 1000
        },
        "id": "4dsGkW32-tzE",
        "outputId": "87d671b4-a108-43a0-e1cb-845edac31a81"
      },
      "outputs": [
        {
          "output_type": "stream",
          "name": "stdout",
          "text": [
            "testing\n",
            "########## CHECKING SIM ###########\n",
            "########## train users in test set ##########\n",
            "True    649\n",
            "Name: user, dtype: int64\n",
            "########## test users in train set ##########\n",
            "True    125\n",
            "Name: user, dtype: int64\n",
            "\n",
            " ============================== SVD ==============================\n",
            "Training start time: \u001b[35m2023-04-04 15:31:44\u001b[0m\n"
          ]
        },
        {
          "output_type": "stream",
          "name": "stderr",
          "text": [
            "train: 100%|██████████| 3/3 [00:00<00:00, 44.41it/s]\n",
            "train: 100%|██████████| 3/3 [00:00<00:00, 617.45it/s]\n",
            "train: 100%|██████████| 3/3 [00:00<00:00, 456.50it/s]\n",
            "train: 100%|██████████| 3/3 [00:00<00:00, 460.47it/s]\n",
            "train: 100%|██████████| 3/3 [00:00<00:00, 591.72it/s]\n",
            "train: 100%|██████████| 3/3 [00:00<00:00, 491.39it/s]\n",
            "train: 100%|██████████| 3/3 [00:00<00:00, 680.56it/s]\n",
            "train: 100%|██████████| 3/3 [00:00<00:00, 596.21it/s]\n",
            "train: 100%|██████████| 3/3 [00:00<00:00, 492.75it/s]\n",
            "train: 100%|██████████| 3/3 [00:00<00:00, 681.26it/s]\n",
            "train: 100%|██████████| 3/3 [00:00<00:00, 520.86it/s]\n",
            "train: 100%|██████████| 3/3 [00:00<00:00, 371.09it/s]\n",
            "train: 100%|██████████| 3/3 [00:00<00:00, 370.78it/s]\n",
            "train: 100%|██████████| 3/3 [00:00<00:00, 424.25it/s]\n",
            "train: 100%|██████████| 3/3 [00:00<00:00, 380.11it/s]\n",
            "train: 100%|██████████| 3/3 [00:00<00:00, 470.76it/s]\n",
            "train: 100%|██████████| 3/3 [00:00<00:00, 399.72it/s]\n",
            "train: 100%|██████████| 3/3 [00:00<00:00, 386.03it/s]\n",
            "train: 100%|██████████| 3/3 [00:00<00:00, 403.08it/s]\n",
            "train: 100%|██████████| 3/3 [00:00<00:00, 676.14it/s]\n",
            "train: 100%|██████████| 3/3 [00:00<00:00, 371.68it/s]\n",
            "train: 100%|██████████| 3/3 [00:00<00:00, 486.07it/s]\n",
            "train: 100%|██████████| 3/3 [00:00<00:00, 475.81it/s]\n",
            "train: 100%|██████████| 3/3 [00:00<00:00, 290.97it/s]\n",
            "train: 100%|██████████| 3/3 [00:00<00:00, 471.91it/s]\n",
            "train: 100%|██████████| 3/3 [00:00<00:00, 441.83it/s]\n",
            "train: 100%|██████████| 3/3 [00:00<00:00, 500.89it/s]\n",
            "train: 100%|██████████| 3/3 [00:00<00:00, 515.36it/s]\n",
            "train: 100%|██████████| 3/3 [00:00<00:00, 526.99it/s]\n",
            "train: 100%|██████████| 3/3 [00:00<00:00, 480.19it/s]\n",
            "train: 100%|██████████| 3/3 [00:00<00:00, 393.20it/s]\n",
            "train: 100%|██████████| 3/3 [00:00<00:00, 254.26it/s]\n",
            "train: 100%|██████████| 3/3 [00:00<00:00, 413.03it/s]\n",
            "train: 100%|██████████| 3/3 [00:00<00:00, 354.91it/s]\n",
            "train: 100%|██████████| 3/3 [00:00<00:00, 438.46it/s]\n",
            "train: 100%|██████████| 3/3 [00:00<00:00, 269.72it/s]\n",
            "train: 100%|██████████| 3/3 [00:00<00:00, 479.53it/s]\n",
            "train: 100%|██████████| 3/3 [00:00<00:00, 499.58it/s]\n",
            "train: 100%|██████████| 3/3 [00:00<00:00, 446.27it/s]\n",
            "train: 100%|██████████| 3/3 [00:00<00:00, 466.07it/s]\n",
            "train: 100%|██████████| 3/3 [00:00<00:00, 416.23it/s]\n",
            "train: 100%|██████████| 3/3 [00:00<00:00, 390.17it/s]\n",
            "train: 100%|██████████| 3/3 [00:00<00:00, 169.08it/s]\n",
            "train: 100%|██████████| 3/3 [00:00<00:00, 405.78it/s]\n",
            "train: 100%|██████████| 3/3 [00:00<00:00, 357.66it/s]\n",
            "train: 100%|██████████| 3/3 [00:00<00:00, 344.12it/s]\n",
            "train: 100%|██████████| 3/3 [00:00<00:00, 509.39it/s]\n",
            "train: 100%|██████████| 3/3 [00:00<00:00, 380.97it/s]\n",
            "train: 100%|██████████| 3/3 [00:00<00:00, 449.36it/s]\n",
            "train: 100%|██████████| 3/3 [00:00<00:00, 486.24it/s]\n"
          ]
        },
        {
          "output_type": "stream",
          "name": "stdout",
          "text": [
            "\n",
            " ============================== SVD++ ==============================\n",
            "Training start time: \u001b[35m2023-04-04 15:31:45\u001b[0m\n"
          ]
        },
        {
          "output_type": "stream",
          "name": "stderr",
          "text": [
            "train: 100%|██████████| 3/3 [00:00<00:00, 19.31it/s]\n",
            "train: 100%|██████████| 3/3 [00:00<00:00, 254.47it/s]\n",
            "train: 100%|██████████| 3/3 [00:00<00:00, 236.29it/s]\n",
            "train: 100%|██████████| 3/3 [00:00<00:00, 272.56it/s]\n",
            "train: 100%|██████████| 3/3 [00:00<00:00, 268.79it/s]\n",
            "train: 100%|██████████| 3/3 [00:00<00:00, 313.00it/s]\n",
            "train: 100%|██████████| 3/3 [00:00<00:00, 256.64it/s]\n",
            "train: 100%|██████████| 3/3 [00:00<00:00, 256.28it/s]\n",
            "train: 100%|██████████| 3/3 [00:00<00:00, 229.83it/s]\n",
            "train: 100%|██████████| 3/3 [00:00<00:00, 203.86it/s]\n",
            "train: 100%|██████████| 3/3 [00:00<00:00, 247.79it/s]\n",
            "train: 100%|██████████| 3/3 [00:00<00:00, 262.25it/s]\n",
            "train: 100%|██████████| 3/3 [00:00<00:00, 233.28it/s]\n",
            "train: 100%|██████████| 3/3 [00:00<00:00, 264.52it/s]\n",
            "train: 100%|██████████| 3/3 [00:00<00:00, 239.01it/s]\n",
            "train: 100%|██████████| 3/3 [00:00<00:00, 245.78it/s]\n",
            "train: 100%|██████████| 3/3 [00:00<00:00, 137.19it/s]\n",
            "train: 100%|██████████| 3/3 [00:00<00:00, 191.71it/s]\n",
            "train: 100%|██████████| 3/3 [00:00<00:00, 221.17it/s]\n",
            "train: 100%|██████████| 3/3 [00:00<00:00, 129.13it/s]\n",
            "train: 100%|██████████| 3/3 [00:00<00:00, 163.71it/s]\n",
            "train: 100%|██████████| 3/3 [00:00<00:00, 275.02it/s]\n",
            "train: 100%|██████████| 3/3 [00:00<00:00, 310.53it/s]\n",
            "train: 100%|██████████| 3/3 [00:00<00:00, 266.79it/s]\n",
            "train: 100%|██████████| 3/3 [00:00<00:00, 304.94it/s]\n"
          ]
        },
        {
          "output_type": "stream",
          "name": "stdout",
          "text": [
            "\n",
            " ============================== item_cf ==============================\n",
            "Training start time: \u001b[35m2023-04-04 15:31:46\u001b[0m\n",
            "Final block size and num: (466, 1)\n",
            "sim_matrix elapsed: 0.005s\n",
            "sim_matrix, shape: (466, 466), num_elements: 106852, density: 427408.0000 %\n"
          ]
        },
        {
          "output_type": "stream",
          "name": "stderr",
          "text": [
            "top_k: 100%|██████████| 466/466 [00:00<00:00, 15081.25it/s]\n"
          ]
        },
        {
          "output_type": "stream",
          "name": "stdout",
          "text": [
            "\n",
            " ============================== user_cf ==============================\n",
            "Training start time: \u001b[35m2023-04-04 15:31:46\u001b[0m\n",
            "Final block size and num: (5, 1)\n",
            "sim_matrix elapsed: 0.002s\n",
            "sim_matrix, shape: (5, 5), num_elements: 20, density: 80.0000 %\n"
          ]
        },
        {
          "output_type": "stream",
          "name": "stderr",
          "text": [
            "top_k: 100%|██████████| 5/5 [00:00<00:00, 33825.03it/s]\n"
          ]
        },
        {
          "output_type": "stream",
          "name": "stdout",
          "text": [
            "\n",
            " ============================== ALS ==============================\n",
            "Training start time: \u001b[35m2023-04-04 15:31:46\u001b[0m\n",
            "<libreco.algorithms.svd.SVD object at 0x7fd9a8ad79d0>\n"
          ]
        },
        {
          "output_type": "stream",
          "name": "stderr",
          "text": [
            "eval_pointwise: 100%|██████████| 1/1 [00:00<00:00, 242.36it/s]\n"
          ]
        },
        {
          "output_type": "stream",
          "name": "stdout",
          "text": [
            "\u001b[31mDetect 74 unknown interaction(s), position: [2, 11, 12, 13, 14, 17, 21, 26, 29, 30, 32, 39, 40, 41, 43, 44, 46, 47, 48, 50, 51, 52, 53, 58, 60, 61, 64, 65, 67, 68, 69, 71, 73, 74, 75, 78, 80, 82, 84, 85, 86, 87, 88, 89, 91, 92, 93, 94, 95, 96, 97, 98, 99, 100, 103, 104, 105, 106, 107, 108, 109, 112, 113, 114, 115, 116, 117, 118, 119, 120, 121, 122, 123, 124]\u001b[0m\n",
            "<libreco.algorithms.svdpp.SVDpp object at 0x7fd9aae15a30>\n"
          ]
        },
        {
          "output_type": "stream",
          "name": "stderr",
          "text": [
            "eval_pointwise: 100%|██████████| 1/1 [00:00<00:00, 1786.33it/s]\n"
          ]
        },
        {
          "output_type": "stream",
          "name": "stdout",
          "text": [
            "\u001b[31mDetect 74 unknown interaction(s), position: [2, 11, 12, 13, 14, 17, 21, 26, 29, 30, 32, 39, 40, 41, 43, 44, 46, 47, 48, 50, 51, 52, 53, 58, 60, 61, 64, 65, 67, 68, 69, 71, 73, 74, 75, 78, 80, 82, 84, 85, 86, 87, 88, 89, 91, 92, 93, 94, 95, 96, 97, 98, 99, 100, 103, 104, 105, 106, 107, 108, 109, 112, 113, 114, 115, 116, 117, 118, 119, 120, 121, 122, 123, 124]\u001b[0m\n",
            "<libreco.algorithms.item_cf.ItemCF object at 0x7fd9a7013850>\n"
          ]
        },
        {
          "output_type": "stream",
          "name": "stderr",
          "text": [
            "eval_pointwise: 100%|██████████| 1/1 [00:00<00:00, 31.82it/s]\n"
          ]
        },
        {
          "output_type": "stream",
          "name": "stdout",
          "text": [
            "\u001b[31mDetect 74 unknown interaction(s), position: [2, 11, 12, 13, 14, 17, 21, 26, 29, 30, 32, 39, 40, 41, 43, 44, 46, 47, 48, 50, 51, 52, 53, 58, 60, 61, 64, 65, 67, 68, 69, 71, 73, 74, 75, 78, 80, 82, 84, 85, 86, 87, 88, 89, 91, 92, 93, 94, 95, 96, 97, 98, 99, 100, 103, 104, 105, 106, 107, 108, 109, 112, 113, 114, 115, 116, 117, 118, 119, 120, 121, 122, 123, 124]\u001b[0m\n",
            "<libreco.algorithms.user_cf.UserCF object at 0x7fd9bc98a040>\n"
          ]
        },
        {
          "output_type": "stream",
          "name": "stderr",
          "text": [
            "eval_pointwise: 100%|██████████| 1/1 [00:00<00:00, 41.86it/s]\n"
          ]
        },
        {
          "output_type": "stream",
          "name": "stdout",
          "text": [
            "\u001b[31mDetect 74 unknown interaction(s), position: [2, 11, 12, 13, 14, 17, 21, 26, 29, 30, 32, 39, 40, 41, 43, 44, 46, 47, 48, 50, 51, 52, 53, 58, 60, 61, 64, 65, 67, 68, 69, 71, 73, 74, 75, 78, 80, 82, 84, 85, 86, 87, 88, 89, 91, 92, 93, 94, 95, 96, 97, 98, 99, 100, 103, 104, 105, 106, 107, 108, 109, 112, 113, 114, 115, 116, 117, 118, 119, 120, 121, 122, 123, 124]\u001b[0m\n",
            "<libreco.algorithms.als.ALS object at 0x7fd9c8abe430>\n"
          ]
        },
        {
          "output_type": "stream",
          "name": "stderr",
          "text": [
            "eval_pointwise: 100%|██████████| 1/1 [00:00<00:00, 423.71it/s]"
          ]
        },
        {
          "output_type": "stream",
          "name": "stdout",
          "text": [
            "\u001b[31mDetect 74 unknown interaction(s), position: [2, 11, 12, 13, 14, 17, 21, 26, 29, 30, 32, 39, 40, 41, 43, 44, 46, 47, 48, 50, 51, 52, 53, 58, 60, 61, 64, 65, 67, 68, 69, 71, 73, 74, 75, 78, 80, 82, 84, 85, 86, 87, 88, 89, 91, 92, 93, 94, 95, 96, 97, 98, 99, 100, 103, 104, 105, 106, 107, 108, 109, 112, 113, 114, 115, 116, 117, 118, 119, 120, 121, 122, 123, 124]\u001b[0m\n",
            "testing\n",
            "########## CHECKING SIM ###########\n",
            "########## train users in test set ##########\n",
            "True    777\n",
            "Name: user, dtype: int64\n",
            "########## test users in train set ##########\n",
            "True    144\n",
            "Name: user, dtype: int64\n",
            "\n",
            " ============================== SVD ==============================\n",
            "Training start time: \u001b[35m2023-04-04 15:31:47\u001b[0m\n"
          ]
        },
        {
          "output_type": "stream",
          "name": "stderr",
          "text": [
            "\n",
            "train: 100%|██████████| 4/4 [00:00<00:00, 37.68it/s]\n",
            "train: 100%|██████████| 4/4 [00:00<00:00, 451.28it/s]\n",
            "train: 100%|██████████| 4/4 [00:00<00:00, 430.17it/s]\n",
            "train: 100%|██████████| 4/4 [00:00<00:00, 452.28it/s]\n",
            "train: 100%|██████████| 4/4 [00:00<00:00, 464.45it/s]\n",
            "train: 100%|██████████| 4/4 [00:00<00:00, 466.36it/s]\n",
            "train: 100%|██████████| 4/4 [00:00<00:00, 487.06it/s]\n",
            "train: 100%|██████████| 4/4 [00:00<00:00, 468.93it/s]\n",
            "train: 100%|██████████| 4/4 [00:00<00:00, 446.56it/s]\n",
            "train: 100%|██████████| 4/4 [00:00<00:00, 363.27it/s]\n",
            "train: 100%|██████████| 4/4 [00:00<00:00, 366.72it/s]\n",
            "train: 100%|██████████| 4/4 [00:00<00:00, 379.02it/s]\n",
            "train: 100%|██████████| 4/4 [00:00<00:00, 460.51it/s]\n",
            "train: 100%|██████████| 4/4 [00:00<00:00, 438.73it/s]\n",
            "train: 100%|██████████| 4/4 [00:00<00:00, 416.47it/s]\n",
            "train: 100%|██████████| 4/4 [00:00<00:00, 462.09it/s]\n",
            "train: 100%|██████████| 4/4 [00:00<00:00, 452.83it/s]\n",
            "train: 100%|██████████| 4/4 [00:00<00:00, 415.09it/s]\n",
            "train: 100%|██████████| 4/4 [00:00<00:00, 305.89it/s]\n",
            "train: 100%|██████████| 4/4 [00:00<00:00, 448.80it/s]\n",
            "train: 100%|██████████| 4/4 [00:00<00:00, 437.97it/s]\n",
            "train: 100%|██████████| 4/4 [00:00<00:00, 459.36it/s]\n",
            "train: 100%|██████████| 4/4 [00:00<00:00, 459.36it/s]\n",
            "train: 100%|██████████| 4/4 [00:00<00:00, 452.50it/s]\n",
            "train: 100%|██████████| 4/4 [00:00<00:00, 448.10it/s]\n",
            "train: 100%|██████████| 4/4 [00:00<00:00, 467.94it/s]\n",
            "train: 100%|██████████| 4/4 [00:00<00:00, 470.94it/s]\n",
            "train: 100%|██████████| 4/4 [00:00<00:00, 473.76it/s]\n",
            "train: 100%|██████████| 4/4 [00:00<00:00, 477.82it/s]\n",
            "train: 100%|██████████| 4/4 [00:00<00:00, 479.36it/s]\n",
            "train: 100%|██████████| 4/4 [00:00<00:00, 481.56it/s]\n",
            "train: 100%|██████████| 4/4 [00:00<00:00, 446.44it/s]\n",
            "train: 100%|██████████| 4/4 [00:00<00:00, 478.41it/s]\n",
            "train: 100%|██████████| 4/4 [00:00<00:00, 446.16it/s]\n",
            "train: 100%|██████████| 4/4 [00:00<00:00, 437.17it/s]\n",
            "train: 100%|██████████| 4/4 [00:00<00:00, 447.99it/s]\n",
            "train: 100%|██████████| 4/4 [00:00<00:00, 443.55it/s]\n",
            "train: 100%|██████████| 4/4 [00:00<00:00, 438.15it/s]\n",
            "train: 100%|██████████| 4/4 [00:00<00:00, 458.37it/s]\n",
            "train: 100%|██████████| 4/4 [00:00<00:00, 450.88it/s]\n",
            "train: 100%|██████████| 4/4 [00:00<00:00, 454.31it/s]\n",
            "train: 100%|██████████| 4/4 [00:00<00:00, 447.13it/s]\n",
            "train: 100%|██████████| 4/4 [00:00<00:00, 455.01it/s]\n",
            "train: 100%|██████████| 4/4 [00:00<00:00, 464.36it/s]\n",
            "train: 100%|██████████| 4/4 [00:00<00:00, 481.37it/s]\n",
            "train: 100%|██████████| 4/4 [00:00<00:00, 459.62it/s]\n",
            "train: 100%|██████████| 4/4 [00:00<00:00, 442.15it/s]\n",
            "train: 100%|██████████| 4/4 [00:00<00:00, 445.80it/s]\n",
            "train: 100%|██████████| 4/4 [00:00<00:00, 390.27it/s]\n",
            "train: 100%|██████████| 4/4 [00:00<00:00, 465.84it/s]\n"
          ]
        },
        {
          "output_type": "stream",
          "name": "stdout",
          "text": [
            "\n",
            " ============================== SVD++ ==============================\n",
            "Training start time: \u001b[35m2023-04-04 15:31:48\u001b[0m\n"
          ]
        },
        {
          "output_type": "stream",
          "name": "stderr",
          "text": [
            "train: 100%|██████████| 4/4 [00:00<00:00, 25.77it/s]\n",
            "train: 100%|██████████| 4/4 [00:00<00:00, 310.80it/s]\n",
            "train: 100%|██████████| 4/4 [00:00<00:00, 291.08it/s]\n",
            "train: 100%|██████████| 4/4 [00:00<00:00, 281.96it/s]\n",
            "train: 100%|██████████| 4/4 [00:00<00:00, 298.87it/s]\n",
            "train: 100%|██████████| 4/4 [00:00<00:00, 316.01it/s]\n",
            "train: 100%|██████████| 4/4 [00:00<00:00, 297.39it/s]\n",
            "train: 100%|██████████| 4/4 [00:00<00:00, 231.81it/s]\n",
            "train: 100%|██████████| 4/4 [00:00<00:00, 321.60it/s]\n",
            "train: 100%|██████████| 4/4 [00:00<00:00, 302.77it/s]\n",
            "train: 100%|██████████| 4/4 [00:00<00:00, 165.77it/s]\n",
            "train: 100%|██████████| 4/4 [00:00<00:00, 223.29it/s]\n",
            "train: 100%|██████████| 4/4 [00:00<00:00, 177.92it/s]\n",
            "train: 100%|██████████| 4/4 [00:00<00:00, 219.87it/s]\n",
            "train: 100%|██████████| 4/4 [00:00<00:00, 223.50it/s]\n",
            "train: 100%|██████████| 4/4 [00:00<00:00, 184.02it/s]\n",
            "train: 100%|██████████| 4/4 [00:00<00:00, 259.50it/s]\n",
            "train: 100%|██████████| 4/4 [00:00<00:00, 258.61it/s]\n",
            "train: 100%|██████████| 4/4 [00:00<00:00, 249.13it/s]\n",
            "train: 100%|██████████| 4/4 [00:00<00:00, 256.99it/s]\n",
            "train: 100%|██████████| 4/4 [00:00<00:00, 228.47it/s]\n",
            "train: 100%|██████████| 4/4 [00:00<00:00, 247.17it/s]\n",
            "train: 100%|██████████| 4/4 [00:00<00:00, 204.70it/s]\n",
            "train: 100%|██████████| 4/4 [00:00<00:00, 245.69it/s]\n",
            "train: 100%|██████████| 4/4 [00:00<00:00, 308.80it/s]\n"
          ]
        },
        {
          "output_type": "stream",
          "name": "stdout",
          "text": [
            "\n",
            " ============================== item_cf ==============================\n",
            "Training start time: \u001b[35m2023-04-04 15:31:49\u001b[0m\n",
            "Final block size and num: (480, 1)\n",
            "sim_matrix elapsed: 0.006s\n",
            "sim_matrix, shape: (480, 480), num_elements: 125312, density: 348088.8889 %\n"
          ]
        },
        {
          "output_type": "stream",
          "name": "stderr",
          "text": [
            "top_k: 100%|██████████| 480/480 [00:00<00:00, 10512.09it/s]\n"
          ]
        },
        {
          "output_type": "stream",
          "name": "stdout",
          "text": [
            "\n",
            " ============================== user_cf ==============================\n",
            "Training start time: \u001b[35m2023-04-04 15:31:49\u001b[0m\n",
            "Final block size and num: (6, 1)\n",
            "sim_matrix elapsed: 0.002s\n",
            "sim_matrix, shape: (6, 6), num_elements: 30, density: 83.3333 %\n"
          ]
        },
        {
          "output_type": "stream",
          "name": "stderr",
          "text": [
            "top_k: 100%|██████████| 6/6 [00:00<00:00, 39945.75it/s]\n"
          ]
        },
        {
          "output_type": "stream",
          "name": "stdout",
          "text": [
            "\n",
            " ============================== ALS ==============================\n",
            "Training start time: \u001b[35m2023-04-04 15:31:49\u001b[0m\n",
            "<libreco.algorithms.svd.SVD object at 0x7fd9a8ad71c0>\n"
          ]
        },
        {
          "output_type": "stream",
          "name": "stderr",
          "text": [
            "eval_pointwise: 100%|██████████| 1/1 [00:00<00:00, 582.30it/s]\n"
          ]
        },
        {
          "output_type": "stream",
          "name": "stdout",
          "text": [
            "\u001b[31mDetect 67 unknown interaction(s), position: [0, 1, 3, 4, 18, 19, 25, 31, 34, 43, 44, 45, 50, 52, 57, 58, 63, 70, 72, 73, 74, 75, 77, 79, 83, 84, 85, 86, 88, 91, 92, 95, 96, 97, 98, 101, 103, 104, 105, 108, 110, 112, 113, 115, 118, 119, 120, 122, 124, 125, 126, 128, 129, 130, 131, 132, 133, 134, 135, 136, 137, 138, 139, 140, 141, 142, 143]\u001b[0m\n",
            "<libreco.algorithms.svdpp.SVDpp object at 0x7fd9b0017970>\n"
          ]
        },
        {
          "output_type": "stream",
          "name": "stderr",
          "text": [
            "eval_pointwise: 100%|██████████| 1/1 [00:00<00:00, 2067.18it/s]\n"
          ]
        },
        {
          "output_type": "stream",
          "name": "stdout",
          "text": [
            "\u001b[31mDetect 67 unknown interaction(s), position: [0, 1, 3, 4, 18, 19, 25, 31, 34, 43, 44, 45, 50, 52, 57, 58, 63, 70, 72, 73, 74, 75, 77, 79, 83, 84, 85, 86, 88, 91, 92, 95, 96, 97, 98, 101, 103, 104, 105, 108, 110, 112, 113, 115, 118, 119, 120, 122, 124, 125, 126, 128, 129, 130, 131, 132, 133, 134, 135, 136, 137, 138, 139, 140, 141, 142, 143]\u001b[0m\n",
            "<libreco.algorithms.item_cf.ItemCF object at 0x7fd9b0901fa0>\n"
          ]
        },
        {
          "output_type": "stream",
          "name": "stderr",
          "text": [
            "eval_pointwise: 100%|██████████| 1/1 [00:00<00:00, 24.99it/s]\n"
          ]
        },
        {
          "output_type": "stream",
          "name": "stdout",
          "text": [
            "\u001b[31mDetect 67 unknown interaction(s), position: [0, 1, 3, 4, 18, 19, 25, 31, 34, 43, 44, 45, 50, 52, 57, 58, 63, 70, 72, 73, 74, 75, 77, 79, 83, 84, 85, 86, 88, 91, 92, 95, 96, 97, 98, 101, 103, 104, 105, 108, 110, 112, 113, 115, 118, 119, 120, 122, 124, 125, 126, 128, 129, 130, 131, 132, 133, 134, 135, 136, 137, 138, 139, 140, 141, 142, 143]\u001b[0m\n",
            "<libreco.algorithms.user_cf.UserCF object at 0x7fd9e00a2b50>\n"
          ]
        },
        {
          "output_type": "stream",
          "name": "stderr",
          "text": [
            "eval_pointwise: 100%|██████████| 1/1 [00:00<00:00, 49.25it/s]\n"
          ]
        },
        {
          "output_type": "stream",
          "name": "stdout",
          "text": [
            "\u001b[31mDetect 67 unknown interaction(s), position: [0, 1, 3, 4, 18, 19, 25, 31, 34, 43, 44, 45, 50, 52, 57, 58, 63, 70, 72, 73, 74, 75, 77, 79, 83, 84, 85, 86, 88, 91, 92, 95, 96, 97, 98, 101, 103, 104, 105, 108, 110, 112, 113, 115, 118, 119, 120, 122, 124, 125, 126, 128, 129, 130, 131, 132, 133, 134, 135, 136, 137, 138, 139, 140, 141, 142, 143]\u001b[0m\n",
            "<libreco.algorithms.als.ALS object at 0x7fd9e0099b20>\n"
          ]
        },
        {
          "output_type": "stream",
          "name": "stderr",
          "text": [
            "eval_pointwise: 100%|██████████| 1/1 [00:00<00:00, 2293.22it/s]"
          ]
        },
        {
          "output_type": "stream",
          "name": "stdout",
          "text": [
            "\u001b[31mDetect 67 unknown interaction(s), position: [0, 1, 3, 4, 18, 19, 25, 31, 34, 43, 44, 45, 50, 52, 57, 58, 63, 70, 72, 73, 74, 75, 77, 79, 83, 84, 85, 86, 88, 91, 92, 95, 96, 97, 98, 101, 103, 104, 105, 108, 110, 112, 113, 115, 118, 119, 120, 122, 124, 125, 126, 128, 129, 130, 131, 132, 133, 134, 135, 136, 137, 138, 139, 140, 141, 142, 143]\u001b[0m\n",
            "testing\n",
            "########## CHECKING SIM ###########\n",
            "########## train users in test set ##########\n",
            "True    784\n",
            "Name: user, dtype: int64\n",
            "########## test users in train set ##########\n",
            "True    73\n",
            "Name: user, dtype: int64\n",
            "\n",
            " ============================== SVD ==============================\n",
            "Training start time: \u001b[35m2023-04-04 15:31:50\u001b[0m\n"
          ]
        },
        {
          "output_type": "stream",
          "name": "stderr",
          "text": [
            "\n",
            "train: 100%|██████████| 4/4 [00:00<00:00, 33.18it/s]\n",
            "train: 100%|██████████| 4/4 [00:00<00:00, 374.49it/s]\n",
            "train: 100%|██████████| 4/4 [00:00<00:00, 335.18it/s]\n",
            "train: 100%|██████████| 4/4 [00:00<00:00, 383.82it/s]\n",
            "train: 100%|██████████| 4/4 [00:00<00:00, 244.93it/s]\n",
            "train: 100%|██████████| 4/4 [00:00<00:00, 295.03it/s]\n",
            "train: 100%|██████████| 4/4 [00:00<00:00, 280.68it/s]\n",
            "train: 100%|██████████| 4/4 [00:00<00:00, 269.85it/s]\n",
            "train: 100%|██████████| 4/4 [00:00<00:00, 397.41it/s]\n",
            "train: 100%|██████████| 4/4 [00:00<00:00, 404.97it/s]\n",
            "train: 100%|██████████| 4/4 [00:00<00:00, 344.54it/s]\n",
            "train: 100%|██████████| 4/4 [00:00<00:00, 355.49it/s]\n",
            "train: 100%|██████████| 4/4 [00:00<00:00, 306.93it/s]\n",
            "train: 100%|██████████| 4/4 [00:00<00:00, 322.03it/s]\n",
            "train: 100%|██████████| 4/4 [00:00<00:00, 395.27it/s]\n",
            "train: 100%|██████████| 4/4 [00:00<00:00, 379.17it/s]\n",
            "train: 100%|██████████| 4/4 [00:00<00:00, 406.40it/s]\n",
            "train: 100%|██████████| 4/4 [00:00<00:00, 566.34it/s]\n",
            "train: 100%|██████████| 4/4 [00:00<00:00, 456.35it/s]\n",
            "train: 100%|██████████| 4/4 [00:00<00:00, 223.85it/s]\n",
            "train: 100%|██████████| 4/4 [00:00<00:00, 311.38it/s]\n",
            "train: 100%|██████████| 4/4 [00:00<00:00, 265.79it/s]\n",
            "train: 100%|██████████| 4/4 [00:00<00:00, 313.34it/s]\n",
            "train: 100%|██████████| 4/4 [00:00<00:00, 316.25it/s]\n",
            "train: 100%|██████████| 4/4 [00:00<00:00, 255.26it/s]\n",
            "train: 100%|██████████| 4/4 [00:00<00:00, 290.06it/s]\n",
            "train: 100%|██████████| 4/4 [00:00<00:00, 398.72it/s]\n",
            "train: 100%|██████████| 4/4 [00:00<00:00, 387.17it/s]\n",
            "train: 100%|██████████| 4/4 [00:00<00:00, 411.09it/s]\n",
            "train: 100%|██████████| 4/4 [00:00<00:00, 327.75it/s]\n",
            "train: 100%|██████████| 4/4 [00:00<00:00, 346.94it/s]\n",
            "train: 100%|██████████| 4/4 [00:00<00:00, 401.95it/s]\n",
            "train: 100%|██████████| 4/4 [00:00<00:00, 405.68it/s]\n",
            "train: 100%|██████████| 4/4 [00:00<00:00, 389.83it/s]\n",
            "train: 100%|██████████| 4/4 [00:00<00:00, 386.02it/s]\n",
            "train: 100%|██████████| 4/4 [00:00<00:00, 395.54it/s]\n",
            "train: 100%|██████████| 4/4 [00:00<00:00, 456.91it/s]\n",
            "train: 100%|██████████| 4/4 [00:00<00:00, 336.39it/s]\n",
            "train: 100%|██████████| 4/4 [00:00<00:00, 392.17it/s]\n",
            "train: 100%|██████████| 4/4 [00:00<00:00, 333.97it/s]\n",
            "train: 100%|██████████| 4/4 [00:00<00:00, 423.12it/s]\n",
            "train: 100%|██████████| 4/4 [00:00<00:00, 430.11it/s]\n",
            "train: 100%|██████████| 4/4 [00:00<00:00, 426.81it/s]\n",
            "train: 100%|██████████| 4/4 [00:00<00:00, 323.48it/s]\n",
            "train: 100%|██████████| 4/4 [00:00<00:00, 432.69it/s]\n",
            "train: 100%|██████████| 4/4 [00:00<00:00, 431.57it/s]\n",
            "train: 100%|██████████| 4/4 [00:00<00:00, 435.16it/s]\n",
            "train: 100%|██████████| 4/4 [00:00<00:00, 414.54it/s]\n",
            "train: 100%|██████████| 4/4 [00:00<00:00, 510.29it/s]\n",
            "train: 100%|██████████| 4/4 [00:00<00:00, 445.13it/s]\n"
          ]
        },
        {
          "output_type": "stream",
          "name": "stdout",
          "text": [
            "\n",
            " ============================== SVD++ ==============================\n",
            "Training start time: \u001b[35m2023-04-04 15:31:52\u001b[0m\n"
          ]
        },
        {
          "output_type": "stream",
          "name": "stderr",
          "text": [
            "train: 100%|██████████| 4/4 [00:00<00:00, 28.10it/s]\n",
            "train: 100%|██████████| 4/4 [00:00<00:00, 273.94it/s]\n",
            "train: 100%|██████████| 4/4 [00:00<00:00, 297.89it/s]\n",
            "train: 100%|██████████| 4/4 [00:00<00:00, 293.68it/s]\n",
            "train: 100%|██████████| 4/4 [00:00<00:00, 239.97it/s]\n",
            "train: 100%|██████████| 4/4 [00:00<00:00, 201.73it/s]\n",
            "train: 100%|██████████| 4/4 [00:00<00:00, 255.33it/s]\n",
            "train: 100%|██████████| 4/4 [00:00<00:00, 231.49it/s]\n",
            "train: 100%|██████████| 4/4 [00:00<00:00, 285.68it/s]\n",
            "train: 100%|██████████| 4/4 [00:00<00:00, 228.99it/s]\n",
            "train: 100%|██████████| 4/4 [00:00<00:00, 313.95it/s]\n",
            "train: 100%|██████████| 4/4 [00:00<00:00, 285.87it/s]\n",
            "train: 100%|██████████| 4/4 [00:00<00:00, 281.96it/s]\n",
            "train: 100%|██████████| 4/4 [00:00<00:00, 333.01it/s]\n",
            "train: 100%|██████████| 4/4 [00:00<00:00, 367.46it/s]\n",
            "train: 100%|██████████| 4/4 [00:00<00:00, 340.52it/s]\n",
            "train: 100%|██████████| 4/4 [00:00<00:00, 351.92it/s]\n",
            "train: 100%|██████████| 4/4 [00:00<00:00, 354.41it/s]\n",
            "train: 100%|██████████| 4/4 [00:00<00:00, 347.15it/s]\n",
            "train: 100%|██████████| 4/4 [00:00<00:00, 247.32it/s]\n",
            "train: 100%|██████████| 4/4 [00:00<00:00, 353.46it/s]\n",
            "train: 100%|██████████| 4/4 [00:00<00:00, 353.41it/s]\n",
            "train: 100%|██████████| 4/4 [00:00<00:00, 390.61it/s]\n",
            "train: 100%|██████████| 4/4 [00:00<00:00, 376.92it/s]\n",
            "train: 100%|██████████| 4/4 [00:00<00:00, 364.86it/s]\n"
          ]
        },
        {
          "output_type": "stream",
          "name": "stdout",
          "text": [
            "\n",
            " ============================== item_cf ==============================\n",
            "Training start time: \u001b[35m2023-04-04 15:31:53\u001b[0m\n",
            "Final block size and num: (484, 1)\n",
            "sim_matrix elapsed: 0.006s\n",
            "sim_matrix, shape: (484, 484), num_elements: 132064, density: 269518.3673 %\n"
          ]
        },
        {
          "output_type": "stream",
          "name": "stderr",
          "text": [
            "top_k: 100%|██████████| 484/484 [00:00<00:00, 12452.04it/s]\n"
          ]
        },
        {
          "output_type": "stream",
          "name": "stdout",
          "text": [
            "\n",
            " ============================== user_cf ==============================\n",
            "Training start time: \u001b[35m2023-04-04 15:31:53\u001b[0m\n",
            "Final block size and num: (7, 1)\n",
            "sim_matrix elapsed: 0.002s\n",
            "sim_matrix, shape: (7, 7), num_elements: 42, density: 85.7143 %\n"
          ]
        },
        {
          "output_type": "stream",
          "name": "stderr",
          "text": [
            "top_k: 100%|██████████| 7/7 [00:00<00:00, 46309.35it/s]\n"
          ]
        },
        {
          "output_type": "stream",
          "name": "stdout",
          "text": [
            "\n",
            " ============================== ALS ==============================\n",
            "Training start time: \u001b[35m2023-04-04 15:31:53\u001b[0m\n",
            "<libreco.algorithms.svd.SVD object at 0x7fd9c40b5dc0>\n"
          ]
        },
        {
          "output_type": "stream",
          "name": "stderr",
          "text": [
            "eval_pointwise: 100%|██████████| 1/1 [00:00<00:00, 207.23it/s]\n"
          ]
        },
        {
          "output_type": "stream",
          "name": "stdout",
          "text": [
            "\u001b[31mDetect 23 unknown interaction(s), position: [0, 1, 64, 65, 66, 69, 72, 12, 15, 27, 32, 35, 36, 40, 41, 43, 44, 45, 51, 56, 59, 60, 63]\u001b[0m\n",
            "<libreco.algorithms.svdpp.SVDpp object at 0x7fd9e346f310>\n"
          ]
        },
        {
          "output_type": "stream",
          "name": "stderr",
          "text": [
            "eval_pointwise: 100%|██████████| 1/1 [00:00<00:00, 2430.07it/s]\n"
          ]
        },
        {
          "output_type": "stream",
          "name": "stdout",
          "text": [
            "\u001b[31mDetect 23 unknown interaction(s), position: [0, 1, 64, 65, 66, 69, 72, 12, 15, 27, 32, 35, 36, 40, 41, 43, 44, 45, 51, 56, 59, 60, 63]\u001b[0m\n",
            "<libreco.algorithms.item_cf.ItemCF object at 0x7fd9ae206d00>\n"
          ]
        },
        {
          "output_type": "stream",
          "name": "stderr",
          "text": [
            "eval_pointwise: 100%|██████████| 1/1 [00:00<00:00, 45.63it/s]\n"
          ]
        },
        {
          "output_type": "stream",
          "name": "stdout",
          "text": [
            "\u001b[31mDetect 23 unknown interaction(s), position: [0, 1, 64, 65, 66, 69, 72, 12, 15, 27, 32, 35, 36, 40, 41, 43, 44, 45, 51, 56, 59, 60, 63]\u001b[0m\n",
            "<libreco.algorithms.user_cf.UserCF object at 0x7fd9abf9ee80>\n"
          ]
        },
        {
          "output_type": "stream",
          "name": "stderr",
          "text": [
            "eval_pointwise: 100%|██████████| 1/1 [00:00<00:00, 50.83it/s]\n"
          ]
        },
        {
          "output_type": "stream",
          "name": "stdout",
          "text": [
            "\u001b[31mDetect 23 unknown interaction(s), position: [0, 1, 64, 65, 66, 69, 72, 12, 15, 27, 32, 35, 36, 40, 41, 43, 44, 45, 51, 56, 59, 60, 63]\u001b[0m\n",
            "<libreco.algorithms.als.ALS object at 0x7fd9a884bc10>\n"
          ]
        },
        {
          "output_type": "stream",
          "name": "stderr",
          "text": [
            "eval_pointwise: 100%|██████████| 1/1 [00:00<00:00, 1420.35it/s]"
          ]
        },
        {
          "output_type": "stream",
          "name": "stdout",
          "text": [
            "\u001b[31mDetect 23 unknown interaction(s), position: [0, 1, 64, 65, 66, 69, 72, 12, 15, 27, 32, 35, 36, 40, 41, 43, 44, 45, 51, 56, 59, 60, 63]\u001b[0m\n",
            "testing\n",
            "########## CHECKING SIM ###########\n",
            "########## train users in test set ##########\n",
            "True    710\n",
            "Name: user, dtype: int64\n",
            "########## test users in train set ##########\n",
            "True    294\n",
            "Name: user, dtype: int64\n",
            "\n",
            " ============================== SVD ==============================\n",
            "Training start time: \u001b[35m2023-04-04 15:31:54\u001b[0m\n"
          ]
        },
        {
          "output_type": "stream",
          "name": "stderr",
          "text": [
            "\n",
            "train: 100%|██████████| 3/3 [00:00<00:00, 42.51it/s]\n",
            "train: 100%|██████████| 3/3 [00:00<00:00, 577.14it/s]\n",
            "train: 100%|██████████| 3/3 [00:00<00:00, 463.42it/s]\n",
            "train: 100%|██████████| 3/3 [00:00<00:00, 536.58it/s]\n",
            "train: 100%|██████████| 3/3 [00:00<00:00, 450.53it/s]\n",
            "train: 100%|██████████| 3/3 [00:00<00:00, 503.12it/s]\n",
            "train: 100%|██████████| 3/3 [00:00<00:00, 532.50it/s]\n",
            "train: 100%|██████████| 3/3 [00:00<00:00, 320.89it/s]\n",
            "train: 100%|██████████| 3/3 [00:00<00:00, 299.88it/s]\n",
            "train: 100%|██████████| 3/3 [00:00<00:00, 458.09it/s]\n",
            "train: 100%|██████████| 3/3 [00:00<00:00, 477.73it/s]\n",
            "train: 100%|██████████| 3/3 [00:00<00:00, 458.14it/s]\n",
            "train: 100%|██████████| 3/3 [00:00<00:00, 467.25it/s]\n",
            "train: 100%|██████████| 3/3 [00:00<00:00, 455.06it/s]\n",
            "train: 100%|██████████| 3/3 [00:00<00:00, 483.18it/s]\n",
            "train: 100%|██████████| 3/3 [00:00<00:00, 491.14it/s]\n",
            "train: 100%|██████████| 3/3 [00:00<00:00, 467.84it/s]\n",
            "train: 100%|██████████| 3/3 [00:00<00:00, 391.36it/s]\n",
            "train: 100%|██████████| 3/3 [00:00<00:00, 496.99it/s]\n",
            "train: 100%|██████████| 3/3 [00:00<00:00, 504.24it/s]\n",
            "train: 100%|██████████| 3/3 [00:00<00:00, 394.81it/s]\n",
            "train: 100%|██████████| 3/3 [00:00<00:00, 468.04it/s]\n",
            "train: 100%|██████████| 3/3 [00:00<00:00, 416.20it/s]\n",
            "train: 100%|██████████| 3/3 [00:00<00:00, 508.75it/s]\n",
            "train: 100%|██████████| 3/3 [00:00<00:00, 475.69it/s]\n",
            "train: 100%|██████████| 3/3 [00:00<00:00, 402.25it/s]\n",
            "train: 100%|██████████| 3/3 [00:00<00:00, 454.70it/s]\n",
            "train: 100%|██████████| 3/3 [00:00<00:00, 355.75it/s]\n",
            "train: 100%|██████████| 3/3 [00:00<00:00, 275.48it/s]\n",
            "train: 100%|██████████| 3/3 [00:00<00:00, 286.16it/s]\n",
            "train: 100%|██████████| 3/3 [00:00<00:00, 231.28it/s]\n",
            "train: 100%|██████████| 3/3 [00:00<00:00, 315.33it/s]\n",
            "train: 100%|██████████| 3/3 [00:00<00:00, 362.63it/s]\n",
            "train: 100%|██████████| 3/3 [00:00<00:00, 105.94it/s]\n",
            "train: 100%|██████████| 3/3 [00:00<00:00, 421.23it/s]\n",
            "train: 100%|██████████| 3/3 [00:00<00:00, 343.35it/s]\n",
            "train: 100%|██████████| 3/3 [00:00<00:00, 294.93it/s]\n",
            "train: 100%|██████████| 3/3 [00:00<00:00, 321.44it/s]\n",
            "train: 100%|██████████| 3/3 [00:00<00:00, 373.29it/s]\n",
            "train: 100%|██████████| 3/3 [00:00<00:00, 490.91it/s]\n",
            "train: 100%|██████████| 3/3 [00:00<00:00, 316.75it/s]\n",
            "train: 100%|██████████| 3/3 [00:00<00:00, 368.88it/s]\n",
            "train: 100%|██████████| 3/3 [00:00<00:00, 396.77it/s]\n",
            "train: 100%|██████████| 3/3 [00:00<00:00, 340.22it/s]\n",
            "train: 100%|██████████| 3/3 [00:00<00:00, 327.71it/s]\n",
            "train: 100%|██████████| 3/3 [00:00<00:00, 320.18it/s]\n",
            "train: 100%|██████████| 3/3 [00:00<00:00, 356.03it/s]\n",
            "train: 100%|██████████| 3/3 [00:00<00:00, 271.86it/s]\n",
            "train: 100%|██████████| 3/3 [00:00<00:00, 381.40it/s]\n",
            "train: 100%|██████████| 3/3 [00:00<00:00, 262.74it/s]\n"
          ]
        },
        {
          "output_type": "stream",
          "name": "stdout",
          "text": [
            "\n",
            " ============================== SVD++ ==============================\n",
            "Training start time: \u001b[35m2023-04-04 15:31:55\u001b[0m\n"
          ]
        },
        {
          "output_type": "stream",
          "name": "stderr",
          "text": [
            "train: 100%|██████████| 3/3 [00:00<00:00, 35.66it/s]\n",
            "train: 100%|██████████| 3/3 [00:00<00:00, 378.58it/s]\n",
            "train: 100%|██████████| 3/3 [00:00<00:00, 440.16it/s]\n",
            "train: 100%|██████████| 3/3 [00:00<00:00, 402.63it/s]\n",
            "train: 100%|██████████| 3/3 [00:00<00:00, 413.84it/s]\n",
            "train: 100%|██████████| 3/3 [00:00<00:00, 352.99it/s]\n",
            "train: 100%|██████████| 3/3 [00:00<00:00, 274.12it/s]\n",
            "train: 100%|██████████| 3/3 [00:00<00:00, 220.94it/s]\n",
            "train: 100%|██████████| 3/3 [00:00<00:00, 263.25it/s]\n",
            "train: 100%|██████████| 3/3 [00:00<00:00, 291.58it/s]\n",
            "train: 100%|██████████| 3/3 [00:00<00:00, 220.14it/s]\n",
            "train: 100%|██████████| 3/3 [00:00<00:00, 336.18it/s]\n",
            "train: 100%|██████████| 3/3 [00:00<00:00, 329.57it/s]\n",
            "train: 100%|██████████| 3/3 [00:00<00:00, 352.93it/s]\n",
            "train: 100%|██████████| 3/3 [00:00<00:00, 355.53it/s]\n",
            "train: 100%|██████████| 3/3 [00:00<00:00, 242.48it/s]\n",
            "train: 100%|██████████| 3/3 [00:00<00:00, 326.50it/s]\n",
            "train: 100%|██████████| 3/3 [00:00<00:00, 341.78it/s]\n",
            "train: 100%|██████████| 3/3 [00:00<00:00, 285.50it/s]\n",
            "train: 100%|██████████| 3/3 [00:00<00:00, 307.52it/s]\n",
            "train: 100%|██████████| 3/3 [00:00<00:00, 336.85it/s]\n",
            "train: 100%|██████████| 3/3 [00:00<00:00, 258.13it/s]\n",
            "train: 100%|██████████| 3/3 [00:00<00:00, 248.81it/s]\n",
            "train: 100%|██████████| 3/3 [00:00<00:00, 275.45it/s]\n",
            "train: 100%|██████████| 3/3 [00:00<00:00, 377.68it/s]\n"
          ]
        },
        {
          "output_type": "stream",
          "name": "stdout",
          "text": [
            "\n",
            " ============================== item_cf ==============================\n",
            "Training start time: \u001b[35m2023-04-04 15:31:56\u001b[0m\n",
            "Final block size and num: (475, 1)\n",
            "sim_matrix elapsed: 0.007s\n",
            "sim_matrix, shape: (475, 475), num_elements: 110218, density: 306161.1111 %\n"
          ]
        },
        {
          "output_type": "stream",
          "name": "stderr",
          "text": [
            "top_k: 100%|██████████| 475/475 [00:00<00:00, 14987.66it/s]\n"
          ]
        },
        {
          "output_type": "stream",
          "name": "stdout",
          "text": [
            "\n",
            " ============================== user_cf ==============================\n",
            "Training start time: \u001b[35m2023-04-04 15:31:56\u001b[0m\n",
            "Final block size and num: (6, 1)\n",
            "sim_matrix elapsed: 0.001s\n",
            "sim_matrix, shape: (6, 6), num_elements: 30, density: 83.3333 %\n"
          ]
        },
        {
          "output_type": "stream",
          "name": "stderr",
          "text": [
            "top_k: 100%|██████████| 6/6 [00:00<00:00, 38836.15it/s]\n"
          ]
        },
        {
          "output_type": "stream",
          "name": "stdout",
          "text": [
            "\n",
            " ============================== ALS ==============================\n",
            "Training start time: \u001b[35m2023-04-04 15:31:56\u001b[0m\n",
            "<libreco.algorithms.svd.SVD object at 0x7fd9c4b50670>\n"
          ]
        },
        {
          "output_type": "stream",
          "name": "stderr",
          "text": [
            "eval_pointwise: 100%|██████████| 1/1 [00:00<00:00, 474.68it/s]\n"
          ]
        },
        {
          "output_type": "stream",
          "name": "stdout",
          "text": [
            "\u001b[31mDetect 157 unknown interaction(s), position: [2, 3, 4, 5, 8, 9, 10, 11, 12, 21, 24, 25, 34, 40, 46, 50, 51, 56, 58, 68, 70, 71, 73, 75, 76, 77, 80, 81, 82, 84, 91, 93, 94, 95, 97, 100, 101, 103, 105, 109, 110, 112, 113, 115, 116, 119, 120, 124, 125, 126, 135, 139, 147, 148, 151, 152, 154, 160, 161, 162, 168, 169, 171, 173, 174, 177, 178, 179, 180, 181, 182, 183, 186, 189, 191, 193, 195, 197, 198, 199, 200, 201, 203, 207, 208, 209, 210, 211, 212, 214, 215, 217, 219, 220, 222, 223, 224, 225, 226, 228, 229, 230, 232, 233, 235, 236, 238, 239, 240, 241, 242, 243, 244, 245, 247, 249, 250, 252, 253, 254, 255, 256, 257, 258, 259, 260, 261, 262, 264, 265, 266, 267, 268, 269, 270, 271, 272, 273, 274, 275, 276, 277, 278, 280, 281, 282, 283, 284, 285, 286, 287, 288, 289, 290, 291, 292, 293]\u001b[0m\n",
            "<libreco.algorithms.svdpp.SVDpp object at 0x7fd9b0479100>\n"
          ]
        },
        {
          "output_type": "stream",
          "name": "stderr",
          "text": [
            "eval_pointwise: 100%|██████████| 1/1 [00:00<00:00, 1563.29it/s]\n"
          ]
        },
        {
          "output_type": "stream",
          "name": "stdout",
          "text": [
            "\u001b[31mDetect 157 unknown interaction(s), position: [2, 3, 4, 5, 8, 9, 10, 11, 12, 21, 24, 25, 34, 40, 46, 50, 51, 56, 58, 68, 70, 71, 73, 75, 76, 77, 80, 81, 82, 84, 91, 93, 94, 95, 97, 100, 101, 103, 105, 109, 110, 112, 113, 115, 116, 119, 120, 124, 125, 126, 135, 139, 147, 148, 151, 152, 154, 160, 161, 162, 168, 169, 171, 173, 174, 177, 178, 179, 180, 181, 182, 183, 186, 189, 191, 193, 195, 197, 198, 199, 200, 201, 203, 207, 208, 209, 210, 211, 212, 214, 215, 217, 219, 220, 222, 223, 224, 225, 226, 228, 229, 230, 232, 233, 235, 236, 238, 239, 240, 241, 242, 243, 244, 245, 247, 249, 250, 252, 253, 254, 255, 256, 257, 258, 259, 260, 261, 262, 264, 265, 266, 267, 268, 269, 270, 271, 272, 273, 274, 275, 276, 277, 278, 280, 281, 282, 283, 284, 285, 286, 287, 288, 289, 290, 291, 292, 293]\u001b[0m\n",
            "<libreco.algorithms.item_cf.ItemCF object at 0x7fd9c4601d90>\n"
          ]
        },
        {
          "output_type": "stream",
          "name": "stderr",
          "text": [
            "eval_pointwise: 100%|██████████| 1/1 [00:00<00:00, 19.77it/s]\n"
          ]
        },
        {
          "output_type": "stream",
          "name": "stdout",
          "text": [
            "\u001b[31mDetect 157 unknown interaction(s), position: [2, 3, 4, 5, 8, 9, 10, 11, 12, 21, 24, 25, 34, 40, 46, 50, 51, 56, 58, 68, 70, 71, 73, 75, 76, 77, 80, 81, 82, 84, 91, 93, 94, 95, 97, 100, 101, 103, 105, 109, 110, 112, 113, 115, 116, 119, 120, 124, 125, 126, 135, 139, 147, 148, 151, 152, 154, 160, 161, 162, 168, 169, 171, 173, 174, 177, 178, 179, 180, 181, 182, 183, 186, 189, 191, 193, 195, 197, 198, 199, 200, 201, 203, 207, 208, 209, 210, 211, 212, 214, 215, 217, 219, 220, 222, 223, 224, 225, 226, 228, 229, 230, 232, 233, 235, 236, 238, 239, 240, 241, 242, 243, 244, 245, 247, 249, 250, 252, 253, 254, 255, 256, 257, 258, 259, 260, 261, 262, 264, 265, 266, 267, 268, 269, 270, 271, 272, 273, 274, 275, 276, 277, 278, 280, 281, 282, 283, 284, 285, 286, 287, 288, 289, 290, 291, 292, 293]\u001b[0m\n",
            "<libreco.algorithms.user_cf.UserCF object at 0x7fd9a884b5e0>\n"
          ]
        },
        {
          "output_type": "stream",
          "name": "stderr",
          "text": [
            "eval_pointwise: 100%|██████████| 1/1 [00:00<00:00, 26.41it/s]\n"
          ]
        },
        {
          "output_type": "stream",
          "name": "stdout",
          "text": [
            "\u001b[31mDetect 157 unknown interaction(s), position: [2, 3, 4, 5, 8, 9, 10, 11, 12, 21, 24, 25, 34, 40, 46, 50, 51, 56, 58, 68, 70, 71, 73, 75, 76, 77, 80, 81, 82, 84, 91, 93, 94, 95, 97, 100, 101, 103, 105, 109, 110, 112, 113, 115, 116, 119, 120, 124, 125, 126, 135, 139, 147, 148, 151, 152, 154, 160, 161, 162, 168, 169, 171, 173, 174, 177, 178, 179, 180, 181, 182, 183, 186, 189, 191, 193, 195, 197, 198, 199, 200, 201, 203, 207, 208, 209, 210, 211, 212, 214, 215, 217, 219, 220, 222, 223, 224, 225, 226, 228, 229, 230, 232, 233, 235, 236, 238, 239, 240, 241, 242, 243, 244, 245, 247, 249, 250, 252, 253, 254, 255, 256, 257, 258, 259, 260, 261, 262, 264, 265, 266, 267, 268, 269, 270, 271, 272, 273, 274, 275, 276, 277, 278, 280, 281, 282, 283, 284, 285, 286, 287, 288, 289, 290, 291, 292, 293]\u001b[0m\n",
            "<libreco.algorithms.als.ALS object at 0x7fd9a8c33280>\n"
          ]
        },
        {
          "output_type": "stream",
          "name": "stderr",
          "text": [
            "eval_pointwise: 100%|██████████| 1/1 [00:00<00:00, 1349.95it/s]"
          ]
        },
        {
          "output_type": "stream",
          "name": "stdout",
          "text": [
            "\u001b[31mDetect 157 unknown interaction(s), position: [2, 3, 4, 5, 8, 9, 10, 11, 12, 21, 24, 25, 34, 40, 46, 50, 51, 56, 58, 68, 70, 71, 73, 75, 76, 77, 80, 81, 82, 84, 91, 93, 94, 95, 97, 100, 101, 103, 105, 109, 110, 112, 113, 115, 116, 119, 120, 124, 125, 126, 135, 139, 147, 148, 151, 152, 154, 160, 161, 162, 168, 169, 171, 173, 174, 177, 178, 179, 180, 181, 182, 183, 186, 189, 191, 193, 195, 197, 198, 199, 200, 201, 203, 207, 208, 209, 210, 211, 212, 214, 215, 217, 219, 220, 222, 223, 224, 225, 226, 228, 229, 230, 232, 233, 235, 236, 238, 239, 240, 241, 242, 243, 244, 245, 247, 249, 250, 252, 253, 254, 255, 256, 257, 258, 259, 260, 261, 262, 264, 265, 266, 267, 268, 269, 270, 271, 272, 273, 274, 275, 276, 277, 278, 280, 281, 282, 283, 284, 285, 286, 287, 288, 289, 290, 291, 292, 293]\u001b[0m\n",
            "testing\n",
            "########## CHECKING SIM ###########\n",
            "########## train users in test set ##########\n",
            "True    732\n",
            "Name: user, dtype: int64\n",
            "########## test users in train set ##########\n",
            "True    219\n",
            "Name: user, dtype: int64\n",
            "\n",
            " ============================== SVD ==============================\n",
            "Training start time: \u001b[35m2023-04-04 15:31:56\u001b[0m\n"
          ]
        },
        {
          "output_type": "stream",
          "name": "stderr",
          "text": [
            "\n",
            "train: 100%|██████████| 3/3 [00:00<00:00, 46.20it/s]\n",
            "train: 100%|██████████| 3/3 [00:00<00:00, 421.21it/s]\n",
            "train: 100%|██████████| 3/3 [00:00<00:00, 459.87it/s]\n",
            "train: 100%|██████████| 3/3 [00:00<00:00, 346.35it/s]\n",
            "train: 100%|██████████| 3/3 [00:00<00:00, 432.19it/s]\n",
            "train: 100%|██████████| 3/3 [00:00<00:00, 387.66it/s]\n",
            "train: 100%|██████████| 3/3 [00:00<00:00, 301.57it/s]\n",
            "train: 100%|██████████| 3/3 [00:00<00:00, 465.33it/s]\n",
            "train: 100%|██████████| 3/3 [00:00<00:00, 471.27it/s]\n",
            "train: 100%|██████████| 3/3 [00:00<00:00, 482.44it/s]\n",
            "train: 100%|██████████| 3/3 [00:00<00:00, 482.57it/s]\n",
            "train: 100%|██████████| 3/3 [00:00<00:00, 497.11it/s]\n",
            "train: 100%|██████████| 3/3 [00:00<00:00, 474.20it/s]\n",
            "train: 100%|██████████| 3/3 [00:00<00:00, 501.39it/s]\n",
            "train: 100%|██████████| 3/3 [00:00<00:00, 459.65it/s]\n",
            "train: 100%|██████████| 3/3 [00:00<00:00, 469.56it/s]\n",
            "train: 100%|██████████| 3/3 [00:00<00:00, 471.22it/s]\n",
            "train: 100%|██████████| 3/3 [00:00<00:00, 484.03it/s]\n",
            "train: 100%|██████████| 3/3 [00:00<00:00, 474.00it/s]\n",
            "train: 100%|██████████| 3/3 [00:00<00:00, 334.63it/s]\n",
            "train: 100%|██████████| 3/3 [00:00<00:00, 297.60it/s]\n",
            "train: 100%|██████████| 3/3 [00:00<00:00, 413.64it/s]\n",
            "train: 100%|██████████| 3/3 [00:00<00:00, 448.43it/s]\n",
            "train: 100%|██████████| 3/3 [00:00<00:00, 373.46it/s]\n",
            "train: 100%|██████████| 3/3 [00:00<00:00, 458.44it/s]\n",
            "train: 100%|██████████| 3/3 [00:00<00:00, 447.84it/s]\n",
            "train: 100%|██████████| 3/3 [00:00<00:00, 457.68it/s]\n",
            "train: 100%|██████████| 3/3 [00:00<00:00, 466.52it/s]\n",
            "train: 100%|██████████| 3/3 [00:00<00:00, 462.78it/s]\n",
            "train: 100%|██████████| 3/3 [00:00<00:00, 421.58it/s]\n",
            "train: 100%|██████████| 3/3 [00:00<00:00, 396.26it/s]\n",
            "train: 100%|██████████| 3/3 [00:00<00:00, 469.42it/s]\n",
            "train: 100%|██████████| 3/3 [00:00<00:00, 327.59it/s]\n",
            "train: 100%|██████████| 3/3 [00:00<00:00, 460.88it/s]\n",
            "train: 100%|██████████| 3/3 [00:00<00:00, 453.31it/s]\n",
            "train: 100%|██████████| 3/3 [00:00<00:00, 481.77it/s]\n",
            "train: 100%|██████████| 3/3 [00:00<00:00, 480.70it/s]\n",
            "train: 100%|██████████| 3/3 [00:00<00:00, 476.23it/s]\n",
            "train: 100%|██████████| 3/3 [00:00<00:00, 472.94it/s]\n",
            "train: 100%|██████████| 3/3 [00:00<00:00, 491.25it/s]\n",
            "train: 100%|██████████| 3/3 [00:00<00:00, 475.28it/s]\n",
            "train: 100%|██████████| 3/3 [00:00<00:00, 465.64it/s]\n",
            "train: 100%|██████████| 3/3 [00:00<00:00, 491.90it/s]\n",
            "train: 100%|██████████| 3/3 [00:00<00:00, 481.55it/s]\n",
            "train: 100%|██████████| 3/3 [00:00<00:00, 473.65it/s]\n",
            "train: 100%|██████████| 3/3 [00:00<00:00, 484.85it/s]\n",
            "train: 100%|██████████| 3/3 [00:00<00:00, 467.31it/s]\n",
            "train: 100%|██████████| 3/3 [00:00<00:00, 479.77it/s]\n",
            "train: 100%|██████████| 3/3 [00:00<00:00, 499.24it/s]\n",
            "train: 100%|██████████| 3/3 [00:00<00:00, 559.66it/s]\n"
          ]
        },
        {
          "output_type": "stream",
          "name": "stdout",
          "text": [
            "\n",
            " ============================== SVD++ ==============================\n",
            "Training start time: \u001b[35m2023-04-04 15:31:57\u001b[0m\n"
          ]
        },
        {
          "output_type": "stream",
          "name": "stderr",
          "text": [
            "train: 100%|██████████| 3/3 [00:00<00:00, 33.67it/s]\n",
            "train: 100%|██████████| 3/3 [00:00<00:00, 356.68it/s]\n",
            "train: 100%|██████████| 3/3 [00:00<00:00, 335.19it/s]\n",
            "train: 100%|██████████| 3/3 [00:00<00:00, 306.81it/s]\n",
            "train: 100%|██████████| 3/3 [00:00<00:00, 250.93it/s]\n",
            "train: 100%|██████████| 3/3 [00:00<00:00, 239.30it/s]\n",
            "train: 100%|██████████| 3/3 [00:00<00:00, 321.34it/s]\n",
            "train: 100%|██████████| 3/3 [00:00<00:00, 353.96it/s]\n",
            "train: 100%|██████████| 3/3 [00:00<00:00, 347.67it/s]\n",
            "train: 100%|██████████| 3/3 [00:00<00:00, 307.49it/s]\n",
            "train: 100%|██████████| 3/3 [00:00<00:00, 323.22it/s]\n",
            "train: 100%|██████████| 3/3 [00:00<00:00, 317.50it/s]\n",
            "train: 100%|██████████| 3/3 [00:00<00:00, 344.75it/s]\n",
            "train: 100%|██████████| 3/3 [00:00<00:00, 301.57it/s]\n",
            "train: 100%|██████████| 3/3 [00:00<00:00, 354.69it/s]\n",
            "train: 100%|██████████| 3/3 [00:00<00:00, 284.15it/s]\n",
            "train: 100%|██████████| 3/3 [00:00<00:00, 252.76it/s]\n",
            "train: 100%|██████████| 3/3 [00:00<00:00, 242.64it/s]\n",
            "train: 100%|██████████| 3/3 [00:00<00:00, 268.60it/s]\n",
            "train: 100%|██████████| 3/3 [00:00<00:00, 240.52it/s]\n",
            "train: 100%|██████████| 3/3 [00:00<00:00, 243.35it/s]\n",
            "train: 100%|██████████| 3/3 [00:00<00:00, 261.87it/s]\n",
            "train: 100%|██████████| 3/3 [00:00<00:00, 225.08it/s]\n",
            "train: 100%|██████████| 3/3 [00:00<00:00, 177.73it/s]\n",
            "train: 100%|██████████| 3/3 [00:00<00:00, 235.39it/s]\n"
          ]
        },
        {
          "output_type": "stream",
          "name": "stdout",
          "text": [
            "\n",
            " ============================== item_cf ==============================\n",
            "Training start time: \u001b[35m2023-04-04 15:31:58\u001b[0m\n",
            "Final block size and num: (450, 1)\n",
            "sim_matrix elapsed: 0.005s\n",
            "sim_matrix, shape: (450, 450), num_elements: 111294, density: 173896.8750 %\n"
          ]
        },
        {
          "output_type": "stream",
          "name": "stderr",
          "text": [
            "top_k: 100%|██████████| 450/450 [00:00<00:00, 11700.97it/s]\n"
          ]
        },
        {
          "output_type": "stream",
          "name": "stdout",
          "text": [
            "\n",
            " ============================== user_cf ==============================\n",
            "Training start time: \u001b[35m2023-04-04 15:31:58\u001b[0m\n",
            "Final block size and num: (8, 1)\n",
            "sim_matrix elapsed: 0.002s\n",
            "sim_matrix, shape: (8, 8), num_elements: 46, density: 71.8750 %\n"
          ]
        },
        {
          "output_type": "stream",
          "name": "stderr",
          "text": [
            "top_k: 100%|██████████| 8/8 [00:00<00:00, 59918.63it/s]\n"
          ]
        },
        {
          "output_type": "stream",
          "name": "stdout",
          "text": [
            "\n",
            " ============================== ALS ==============================\n",
            "Training start time: \u001b[35m2023-04-04 15:31:58\u001b[0m\n",
            "<libreco.algorithms.svd.SVD object at 0x7fd9c461f8b0>\n"
          ]
        },
        {
          "output_type": "stream",
          "name": "stderr",
          "text": [
            "eval_pointwise: 100%|██████████| 1/1 [00:00<00:00, 515.97it/s]\n"
          ]
        },
        {
          "output_type": "stream",
          "name": "stdout",
          "text": [
            "\u001b[31mDetect 72 unknown interaction(s), position: [10, 17, 31, 40, 44, 48, 49, 50, 52, 54, 58, 65, 69, 73, 75, 78, 84, 97, 103, 104, 107, 111, 112, 113, 115, 116, 118, 127, 129, 130, 131, 136, 137, 151, 154, 157, 161, 162, 163, 164, 170, 172, 173, 174, 176, 180, 182, 183, 184, 185, 186, 187, 188, 192, 193, 194, 195, 196, 200, 203, 204, 206, 207, 209, 211, 212, 213, 214, 215, 216, 217, 218]\u001b[0m\n",
            "<libreco.algorithms.svdpp.SVDpp object at 0x7fd9a9f5fe50>\n"
          ]
        },
        {
          "output_type": "stream",
          "name": "stderr",
          "text": [
            "eval_pointwise: 100%|██████████| 1/1 [00:00<00:00, 1687.17it/s]\n"
          ]
        },
        {
          "output_type": "stream",
          "name": "stdout",
          "text": [
            "\u001b[31mDetect 72 unknown interaction(s), position: [10, 17, 31, 40, 44, 48, 49, 50, 52, 54, 58, 65, 69, 73, 75, 78, 84, 97, 103, 104, 107, 111, 112, 113, 115, 116, 118, 127, 129, 130, 131, 136, 137, 151, 154, 157, 161, 162, 163, 164, 170, 172, 173, 174, 176, 180, 182, 183, 184, 185, 186, 187, 188, 192, 193, 194, 195, 196, 200, 203, 204, 206, 207, 209, 211, 212, 213, 214, 215, 216, 217, 218]\u001b[0m\n",
            "<libreco.algorithms.item_cf.ItemCF object at 0x7fd9aeb5be50>\n"
          ]
        },
        {
          "output_type": "stream",
          "name": "stderr",
          "text": [
            "eval_pointwise: 100%|██████████| 1/1 [00:00<00:00, 24.56it/s]\n"
          ]
        },
        {
          "output_type": "stream",
          "name": "stdout",
          "text": [
            "\u001b[31mDetect 72 unknown interaction(s), position: [10, 17, 31, 40, 44, 48, 49, 50, 52, 54, 58, 65, 69, 73, 75, 78, 84, 97, 103, 104, 107, 111, 112, 113, 115, 116, 118, 127, 129, 130, 131, 136, 137, 151, 154, 157, 161, 162, 163, 164, 170, 172, 173, 174, 176, 180, 182, 183, 184, 185, 186, 187, 188, 192, 193, 194, 195, 196, 200, 203, 204, 206, 207, 209, 211, 212, 213, 214, 215, 216, 217, 218]\u001b[0m\n",
            "\u001b[31mNo common interaction or similar neighbor for user 0 and item 148, proceed with default prediction\u001b[0m\n",
            "\u001b[31mNo common interaction or similar neighbor for user 0 and item 242, proceed with default prediction\u001b[0m\n",
            "<libreco.algorithms.user_cf.UserCF object at 0x7fd9a9f58ee0>\n"
          ]
        },
        {
          "output_type": "stream",
          "name": "stderr",
          "text": [
            "eval_pointwise: 100%|██████████| 1/1 [00:00<00:00, 29.16it/s]\n"
          ]
        },
        {
          "output_type": "stream",
          "name": "stdout",
          "text": [
            "\u001b[31mDetect 72 unknown interaction(s), position: [10, 17, 31, 40, 44, 48, 49, 50, 52, 54, 58, 65, 69, 73, 75, 78, 84, 97, 103, 104, 107, 111, 112, 113, 115, 116, 118, 127, 129, 130, 131, 136, 137, 151, 154, 157, 161, 162, 163, 164, 170, 172, 173, 174, 176, 180, 182, 183, 184, 185, 186, 187, 188, 192, 193, 194, 195, 196, 200, 203, 204, 206, 207, 209, 211, 212, 213, 214, 215, 216, 217, 218]\u001b[0m\n",
            "\u001b[31mNo common interaction or similar neighbor for user 0 and item 148, proceed with default prediction\u001b[0m\n",
            "\u001b[31mNo common interaction or similar neighbor for user 0 and item 242, proceed with default prediction\u001b[0m\n",
            "<libreco.algorithms.als.ALS object at 0x7fd9a9674b20>\n"
          ]
        },
        {
          "output_type": "stream",
          "name": "stderr",
          "text": [
            "eval_pointwise: 100%|██████████| 1/1 [00:00<00:00, 638.79it/s]"
          ]
        },
        {
          "output_type": "stream",
          "name": "stdout",
          "text": [
            "\u001b[31mDetect 72 unknown interaction(s), position: [10, 17, 31, 40, 44, 48, 49, 50, 52, 54, 58, 65, 69, 73, 75, 78, 84, 97, 103, 104, 107, 111, 112, 113, 115, 116, 118, 127, 129, 130, 131, 136, 137, 151, 154, 157, 161, 162, 163, 164, 170, 172, 173, 174, 176, 180, 182, 183, 184, 185, 186, 187, 188, 192, 193, 194, 195, 196, 200, 203, 204, 206, 207, 209, 211, 212, 213, 214, 215, 216, 217, 218]\u001b[0m\n",
            "testing\n",
            "########## CHECKING SIM ###########\n",
            "########## train users in test set ##########\n",
            "True    891\n",
            "Name: user, dtype: int64\n",
            "########## test users in train set ##########\n",
            "True    198\n",
            "Name: user, dtype: int64\n",
            "\n",
            " ============================== SVD ==============================\n",
            "Training start time: \u001b[35m2023-04-04 15:31:59\u001b[0m\n"
          ]
        },
        {
          "output_type": "stream",
          "name": "stderr",
          "text": [
            "\n",
            "train: 100%|██████████| 4/4 [00:00<00:00, 57.78it/s]\n",
            "train: 100%|██████████| 4/4 [00:00<00:00, 442.27it/s]\n",
            "train: 100%|██████████| 4/4 [00:00<00:00, 330.27it/s]\n",
            "train: 100%|██████████| 4/4 [00:00<00:00, 460.38it/s]\n",
            "train: 100%|██████████| 4/4 [00:00<00:00, 446.25it/s]\n",
            "train: 100%|██████████| 4/4 [00:00<00:00, 494.26it/s]\n",
            "train: 100%|██████████| 4/4 [00:00<00:00, 338.11it/s]\n",
            "train: 100%|██████████| 4/4 [00:00<00:00, 366.17it/s]\n",
            "train: 100%|██████████| 4/4 [00:00<00:00, 369.57it/s]\n",
            "train: 100%|██████████| 4/4 [00:00<00:00, 363.22it/s]\n",
            "train: 100%|██████████| 4/4 [00:00<00:00, 319.86it/s]\n",
            "train: 100%|██████████| 4/4 [00:00<00:00, 442.33it/s]\n",
            "train: 100%|██████████| 4/4 [00:00<00:00, 425.07it/s]\n",
            "train: 100%|██████████| 4/4 [00:00<00:00, 486.99it/s]\n",
            "train: 100%|██████████| 4/4 [00:00<00:00, 468.86it/s]\n",
            "train: 100%|██████████| 4/4 [00:00<00:00, 417.57it/s]\n",
            "train: 100%|██████████| 4/4 [00:00<00:00, 390.89it/s]\n",
            "train: 100%|██████████| 4/4 [00:00<00:00, 354.68it/s]\n",
            "train: 100%|██████████| 4/4 [00:00<00:00, 487.31it/s]\n",
            "train: 100%|██████████| 4/4 [00:00<00:00, 370.60it/s]\n",
            "train: 100%|██████████| 4/4 [00:00<00:00, 317.24it/s]\n",
            "train: 100%|██████████| 4/4 [00:00<00:00, 409.99it/s]\n",
            "train: 100%|██████████| 4/4 [00:00<00:00, 305.52it/s]\n",
            "train: 100%|██████████| 4/4 [00:00<00:00, 412.45it/s]\n",
            "train: 100%|██████████| 4/4 [00:00<00:00, 398.00it/s]\n",
            "train: 100%|██████████| 4/4 [00:00<00:00, 220.40it/s]\n",
            "train: 100%|██████████| 4/4 [00:00<00:00, 439.38it/s]\n",
            "train: 100%|██████████| 4/4 [00:00<00:00, 347.60it/s]\n",
            "train: 100%|██████████| 4/4 [00:00<00:00, 445.22it/s]\n",
            "train: 100%|██████████| 4/4 [00:00<00:00, 325.47it/s]\n",
            "train: 100%|██████████| 4/4 [00:00<00:00, 434.78it/s]\n",
            "train: 100%|██████████| 4/4 [00:00<00:00, 483.44it/s]\n",
            "train: 100%|██████████| 4/4 [00:00<00:00, 479.92it/s]\n",
            "train: 100%|██████████| 4/4 [00:00<00:00, 503.32it/s]\n",
            "train: 100%|██████████| 4/4 [00:00<00:00, 611.26it/s]\n",
            "train: 100%|██████████| 4/4 [00:00<00:00, 412.38it/s]\n",
            "train: 100%|██████████| 4/4 [00:00<00:00, 378.29it/s]\n",
            "train: 100%|██████████| 4/4 [00:00<00:00, 377.53it/s]\n",
            "train: 100%|██████████| 4/4 [00:00<00:00, 454.98it/s]\n",
            "train: 100%|██████████| 4/4 [00:00<00:00, 371.39it/s]\n",
            "train: 100%|██████████| 4/4 [00:00<00:00, 424.21it/s]\n",
            "train: 100%|██████████| 4/4 [00:00<00:00, 352.51it/s]\n",
            "train: 100%|██████████| 4/4 [00:00<00:00, 507.09it/s]\n",
            "train: 100%|██████████| 4/4 [00:00<00:00, 362.23it/s]\n",
            "train: 100%|██████████| 4/4 [00:00<00:00, 350.09it/s]\n",
            "train: 100%|██████████| 4/4 [00:00<00:00, 310.53it/s]\n",
            "train: 100%|██████████| 4/4 [00:00<00:00, 329.54it/s]\n",
            "train: 100%|██████████| 4/4 [00:00<00:00, 378.79it/s]\n",
            "train: 100%|██████████| 4/4 [00:00<00:00, 391.11it/s]\n",
            "train: 100%|██████████| 4/4 [00:00<00:00, 279.25it/s]\n"
          ]
        },
        {
          "output_type": "stream",
          "name": "stdout",
          "text": [
            "\n",
            " ============================== SVD++ ==============================\n",
            "Training start time: \u001b[35m2023-04-04 15:32:00\u001b[0m\n"
          ]
        },
        {
          "output_type": "stream",
          "name": "stderr",
          "text": [
            "train: 100%|██████████| 4/4 [00:00<00:00, 42.86it/s]\n",
            "train: 100%|██████████| 4/4 [00:00<00:00, 237.53it/s]\n",
            "train: 100%|██████████| 4/4 [00:00<00:00, 322.53it/s]\n",
            "train: 100%|██████████| 4/4 [00:00<00:00, 337.69it/s]\n",
            "train: 100%|██████████| 4/4 [00:00<00:00, 351.38it/s]\n",
            "train: 100%|██████████| 4/4 [00:00<00:00, 323.97it/s]\n",
            "train: 100%|██████████| 4/4 [00:00<00:00, 360.03it/s]\n",
            "train: 100%|██████████| 4/4 [00:00<00:00, 384.28it/s]\n",
            "train: 100%|██████████| 4/4 [00:00<00:00, 252.91it/s]\n",
            "train: 100%|██████████| 4/4 [00:00<00:00, 302.89it/s]\n",
            "train: 100%|██████████| 4/4 [00:00<00:00, 250.72it/s]\n",
            "train: 100%|██████████| 4/4 [00:00<00:00, 412.77it/s]\n",
            "train: 100%|██████████| 4/4 [00:00<00:00, 306.84it/s]\n",
            "train: 100%|██████████| 4/4 [00:00<00:00, 329.07it/s]\n",
            "train: 100%|██████████| 4/4 [00:00<00:00, 250.10it/s]\n",
            "train: 100%|██████████| 4/4 [00:00<00:00, 364.14it/s]\n",
            "train: 100%|██████████| 4/4 [00:00<00:00, 355.32it/s]\n",
            "train: 100%|██████████| 4/4 [00:00<00:00, 345.32it/s]\n",
            "train: 100%|██████████| 4/4 [00:00<00:00, 334.48it/s]\n",
            "train: 100%|██████████| 4/4 [00:00<00:00, 302.10it/s]\n",
            "train: 100%|██████████| 4/4 [00:00<00:00, 323.67it/s]\n",
            "train: 100%|██████████| 4/4 [00:00<00:00, 341.13it/s]\n",
            "train: 100%|██████████| 4/4 [00:00<00:00, 459.90it/s]\n",
            "train: 100%|██████████| 4/4 [00:00<00:00, 284.87it/s]\n",
            "train: 100%|██████████| 4/4 [00:00<00:00, 337.49it/s]\n"
          ]
        },
        {
          "output_type": "stream",
          "name": "stdout",
          "text": [
            "\n",
            " ============================== item_cf ==============================\n",
            "Training start time: \u001b[35m2023-04-04 15:32:01\u001b[0m\n",
            "Final block size and num: (579, 1)\n",
            "sim_matrix elapsed: 0.008s\n",
            "sim_matrix, shape: (579, 579), num_elements: 132728, density: 207387.5000 %\n"
          ]
        },
        {
          "output_type": "stream",
          "name": "stderr",
          "text": [
            "top_k: 100%|██████████| 579/579 [00:00<00:00, 12182.65it/s]\n"
          ]
        },
        {
          "output_type": "stream",
          "name": "stdout",
          "text": [
            "\n",
            " ============================== user_cf ==============================\n",
            "Training start time: \u001b[35m2023-04-04 15:32:01\u001b[0m\n",
            "Final block size and num: (8, 1)\n",
            "sim_matrix elapsed: 0.005s\n",
            "sim_matrix, shape: (8, 8), num_elements: 46, density: 71.8750 %\n"
          ]
        },
        {
          "output_type": "stream",
          "name": "stderr",
          "text": [
            "top_k: 100%|██████████| 8/8 [00:00<00:00, 43633.85it/s]\n"
          ]
        },
        {
          "output_type": "stream",
          "name": "stdout",
          "text": [
            "\n",
            " ============================== ALS ==============================\n",
            "Training start time: \u001b[35m2023-04-04 15:32:01\u001b[0m\n",
            "<libreco.algorithms.svd.SVD object at 0x7fd9a9678040>\n"
          ]
        },
        {
          "output_type": "stream",
          "name": "stderr",
          "text": [
            "eval_pointwise: 100%|██████████| 1/1 [00:00<00:00, 580.21it/s]\n"
          ]
        },
        {
          "output_type": "stream",
          "name": "stdout",
          "text": [
            "\u001b[31mDetect 50 unknown interaction(s), position: [1, 2, 132, 134, 135, 139, 146, 150, 153, 27, 163, 165, 166, 167, 168, 169, 44, 172, 173, 175, 176, 177, 182, 185, 187, 188, 61, 189, 190, 191, 193, 194, 195, 197, 74, 78, 82, 84, 85, 89, 93, 94, 95, 96, 97, 103, 108, 123, 124, 126]\u001b[0m\n",
            "<libreco.algorithms.svdpp.SVDpp object at 0x7fd9b1d4d6d0>\n"
          ]
        },
        {
          "output_type": "stream",
          "name": "stderr",
          "text": [
            "eval_pointwise: 100%|██████████| 1/1 [00:00<00:00, 1945.41it/s]\n"
          ]
        },
        {
          "output_type": "stream",
          "name": "stdout",
          "text": [
            "\u001b[31mDetect 50 unknown interaction(s), position: [1, 2, 132, 134, 135, 139, 146, 150, 153, 27, 163, 165, 166, 167, 168, 169, 44, 172, 173, 175, 176, 177, 182, 185, 187, 188, 61, 189, 190, 191, 193, 194, 195, 197, 74, 78, 82, 84, 85, 89, 93, 94, 95, 96, 97, 103, 108, 123, 124, 126]\u001b[0m\n",
            "<libreco.algorithms.item_cf.ItemCF object at 0x7fd9a943d910>\n"
          ]
        },
        {
          "output_type": "stream",
          "name": "stderr",
          "text": [
            "eval_pointwise: 100%|██████████| 1/1 [00:00<00:00, 20.18it/s]\n"
          ]
        },
        {
          "output_type": "stream",
          "name": "stdout",
          "text": [
            "\u001b[31mDetect 50 unknown interaction(s), position: [1, 2, 132, 134, 135, 139, 146, 150, 153, 27, 163, 165, 166, 167, 168, 169, 44, 172, 173, 175, 176, 177, 182, 185, 187, 188, 61, 189, 190, 191, 193, 194, 195, 197, 74, 78, 82, 84, 85, 89, 93, 94, 95, 96, 97, 103, 108, 123, 124, 126]\u001b[0m\n",
            "<libreco.algorithms.user_cf.UserCF object at 0x7fd9bcabe190>\n"
          ]
        },
        {
          "output_type": "stream",
          "name": "stderr",
          "text": [
            "eval_pointwise: 100%|██████████| 1/1 [00:00<00:00, 41.32it/s]\n"
          ]
        },
        {
          "output_type": "stream",
          "name": "stdout",
          "text": [
            "\u001b[31mDetect 50 unknown interaction(s), position: [1, 2, 132, 134, 135, 139, 146, 150, 153, 27, 163, 165, 166, 167, 168, 169, 44, 172, 173, 175, 176, 177, 182, 185, 187, 188, 61, 189, 190, 191, 193, 194, 195, 197, 74, 78, 82, 84, 85, 89, 93, 94, 95, 96, 97, 103, 108, 123, 124, 126]\u001b[0m\n",
            "<libreco.algorithms.als.ALS object at 0x7fd9a9417c70>\n"
          ]
        },
        {
          "output_type": "stream",
          "name": "stderr",
          "text": [
            "eval_pointwise: 100%|██████████| 1/1 [00:00<00:00, 1804.78it/s]"
          ]
        },
        {
          "output_type": "stream",
          "name": "stdout",
          "text": [
            "\u001b[31mDetect 50 unknown interaction(s), position: [1, 2, 132, 134, 135, 139, 146, 150, 153, 27, 163, 165, 166, 167, 168, 169, 44, 172, 173, 175, 176, 177, 182, 185, 187, 188, 61, 189, 190, 191, 193, 194, 195, 197, 74, 78, 82, 84, 85, 89, 93, 94, 95, 96, 97, 103, 108, 123, 124, 126]\u001b[0m\n",
            "testing\n",
            "########## CHECKING SIM ###########\n",
            "########## train users in test set ##########\n",
            "True    1051\n",
            "Name: user, dtype: int64\n",
            "########## test users in train set ##########\n",
            "True    66\n",
            "Name: user, dtype: int64\n",
            "\n",
            " ============================== SVD ==============================\n",
            "Training start time: \u001b[35m2023-04-04 15:32:01\u001b[0m\n"
          ]
        },
        {
          "output_type": "stream",
          "name": "stderr",
          "text": [
            "\n",
            "train: 100%|██████████| 5/5 [00:00<00:00, 79.62it/s]\n",
            "train: 100%|██████████| 5/5 [00:00<00:00, 466.73it/s]\n",
            "train: 100%|██████████| 5/5 [00:00<00:00, 499.46it/s]\n",
            "train: 100%|██████████| 5/5 [00:00<00:00, 525.36it/s]\n",
            "train: 100%|██████████| 5/5 [00:00<00:00, 396.59it/s]\n",
            "train: 100%|██████████| 5/5 [00:00<00:00, 377.33it/s]\n",
            "train: 100%|██████████| 5/5 [00:00<00:00, 343.31it/s]\n",
            "train: 100%|██████████| 5/5 [00:00<00:00, 532.20it/s]\n",
            "train: 100%|██████████| 5/5 [00:00<00:00, 454.91it/s]\n",
            "train: 100%|██████████| 5/5 [00:00<00:00, 368.27it/s]\n",
            "train: 100%|██████████| 5/5 [00:00<00:00, 522.55it/s]\n",
            "train: 100%|██████████| 5/5 [00:00<00:00, 474.48it/s]\n",
            "train: 100%|██████████| 5/5 [00:00<00:00, 397.86it/s]\n",
            "train: 100%|██████████| 5/5 [00:00<00:00, 366.26it/s]\n",
            "train: 100%|██████████| 5/5 [00:00<00:00, 435.40it/s]\n",
            "train: 100%|██████████| 5/5 [00:00<00:00, 373.50it/s]\n",
            "train: 100%|██████████| 5/5 [00:00<00:00, 409.53it/s]\n",
            "train: 100%|██████████| 5/5 [00:00<00:00, 422.18it/s]\n",
            "train: 100%|██████████| 5/5 [00:00<00:00, 394.86it/s]\n",
            "train: 100%|██████████| 5/5 [00:00<00:00, 421.81it/s]\n",
            "train: 100%|██████████| 5/5 [00:00<00:00, 277.82it/s]\n",
            "train: 100%|██████████| 5/5 [00:00<00:00, 375.90it/s]\n",
            "train: 100%|██████████| 5/5 [00:00<00:00, 317.95it/s]\n",
            "train: 100%|██████████| 5/5 [00:00<00:00, 390.93it/s]\n",
            "train: 100%|██████████| 5/5 [00:00<00:00, 488.07it/s]\n",
            "train: 100%|██████████| 5/5 [00:00<00:00, 319.88it/s]\n",
            "train: 100%|██████████| 5/5 [00:00<00:00, 493.64it/s]\n",
            "train: 100%|██████████| 5/5 [00:00<00:00, 281.46it/s]\n",
            "train: 100%|██████████| 5/5 [00:00<00:00, 357.24it/s]\n",
            "train: 100%|██████████| 5/5 [00:00<00:00, 474.90it/s]\n",
            "train: 100%|██████████| 5/5 [00:00<00:00, 295.14it/s]\n",
            "train: 100%|██████████| 5/5 [00:00<00:00, 318.18it/s]\n",
            "train: 100%|██████████| 5/5 [00:00<00:00, 252.79it/s]\n",
            "train: 100%|██████████| 5/5 [00:00<00:00, 591.01it/s]\n",
            "train: 100%|██████████| 5/5 [00:00<00:00, 558.20it/s]\n",
            "train: 100%|██████████| 5/5 [00:00<00:00, 420.50it/s]\n",
            "train: 100%|██████████| 5/5 [00:00<00:00, 513.28it/s]\n",
            "train: 100%|██████████| 5/5 [00:00<00:00, 397.92it/s]\n",
            "train: 100%|██████████| 5/5 [00:00<00:00, 435.36it/s]\n",
            "train: 100%|██████████| 5/5 [00:00<00:00, 421.79it/s]\n",
            "train: 100%|██████████| 5/5 [00:00<00:00, 398.85it/s]\n",
            "train: 100%|██████████| 5/5 [00:00<00:00, 608.81it/s]\n",
            "train: 100%|██████████| 5/5 [00:00<00:00, 272.81it/s]\n",
            "train: 100%|██████████| 5/5 [00:00<00:00, 610.31it/s]\n",
            "train: 100%|██████████| 5/5 [00:00<00:00, 483.67it/s]\n",
            "train: 100%|██████████| 5/5 [00:00<00:00, 554.55it/s]\n",
            "train: 100%|██████████| 5/5 [00:00<00:00, 549.44it/s]\n",
            "train: 100%|██████████| 5/5 [00:00<00:00, 410.16it/s]\n",
            "train: 100%|██████████| 5/5 [00:00<00:00, 363.45it/s]\n",
            "train: 100%|██████████| 5/5 [00:00<00:00, 155.78it/s]\n"
          ]
        },
        {
          "output_type": "stream",
          "name": "stdout",
          "text": [
            "\n",
            " ============================== SVD++ ==============================\n",
            "Training start time: \u001b[35m2023-04-04 15:32:03\u001b[0m\n"
          ]
        },
        {
          "output_type": "stream",
          "name": "stderr",
          "text": [
            "train: 100%|██████████| 5/5 [00:00<00:00, 33.88it/s]\n",
            "train: 100%|██████████| 5/5 [00:00<00:00, 235.61it/s]\n",
            "train: 100%|██████████| 5/5 [00:00<00:00, 273.90it/s]\n",
            "train: 100%|██████████| 5/5 [00:00<00:00, 259.55it/s]\n",
            "train: 100%|██████████| 5/5 [00:00<00:00, 297.96it/s]\n",
            "train: 100%|██████████| 5/5 [00:00<00:00, 280.36it/s]\n",
            "train: 100%|██████████| 5/5 [00:00<00:00, 281.15it/s]\n",
            "train: 100%|██████████| 5/5 [00:00<00:00, 278.38it/s]\n",
            "train: 100%|██████████| 5/5 [00:00<00:00, 266.06it/s]\n",
            "train: 100%|██████████| 5/5 [00:00<00:00, 230.86it/s]\n",
            "train: 100%|██████████| 5/5 [00:00<00:00, 243.14it/s]\n",
            "train: 100%|██████████| 5/5 [00:00<00:00, 268.04it/s]\n",
            "train: 100%|██████████| 5/5 [00:00<00:00, 268.93it/s]\n",
            "train: 100%|██████████| 5/5 [00:00<00:00, 269.59it/s]\n",
            "train: 100%|██████████| 5/5 [00:00<00:00, 272.37it/s]\n",
            "train: 100%|██████████| 5/5 [00:00<00:00, 274.38it/s]\n",
            "train: 100%|██████████| 5/5 [00:00<00:00, 253.99it/s]\n",
            "train: 100%|██████████| 5/5 [00:00<00:00, 183.91it/s]\n",
            "train: 100%|██████████| 5/5 [00:00<00:00, 203.01it/s]\n",
            "train: 100%|██████████| 5/5 [00:00<00:00, 182.17it/s]\n",
            "train: 100%|██████████| 5/5 [00:00<00:00, 198.36it/s]\n",
            "train: 100%|██████████| 5/5 [00:00<00:00, 186.46it/s]\n",
            "train: 100%|██████████| 5/5 [00:00<00:00, 222.51it/s]\n",
            "train: 100%|██████████| 5/5 [00:00<00:00, 289.35it/s]\n",
            "train: 100%|██████████| 5/5 [00:00<00:00, 294.96it/s]\n"
          ]
        },
        {
          "output_type": "stream",
          "name": "stdout",
          "text": [
            "\n",
            " ============================== item_cf ==============================\n",
            "Training start time: \u001b[35m2023-04-04 15:32:04\u001b[0m\n",
            "Final block size and num: (629, 1)\n",
            "sim_matrix elapsed: 0.008s\n",
            "sim_matrix, shape: (629, 629), num_elements: 190366, density: 297446.8750 %\n"
          ]
        },
        {
          "output_type": "stream",
          "name": "stderr",
          "text": [
            "top_k: 100%|██████████| 629/629 [00:00<00:00, 10493.77it/s]\n"
          ]
        },
        {
          "output_type": "stream",
          "name": "stdout",
          "text": [
            "\n",
            " ============================== user_cf ==============================\n",
            "Training start time: \u001b[35m2023-04-04 15:32:04\u001b[0m\n",
            "Final block size and num: (8, 1)\n",
            "sim_matrix elapsed: 0.004s\n",
            "sim_matrix, shape: (8, 8), num_elements: 48, density: 75.0000 %\n"
          ]
        },
        {
          "output_type": "stream",
          "name": "stderr",
          "text": [
            "top_k: 100%|██████████| 8/8 [00:00<00:00, 7843.49it/s]\n"
          ]
        },
        {
          "output_type": "stream",
          "name": "stdout",
          "text": [
            "\n",
            " ============================== ALS ==============================\n",
            "Training start time: \u001b[35m2023-04-04 15:32:04\u001b[0m\n",
            "<libreco.algorithms.svd.SVD object at 0x7fd9ae6cd6d0>\n"
          ]
        },
        {
          "output_type": "stream",
          "name": "stderr",
          "text": [
            "eval_pointwise: 100%|██████████| 1/1 [00:00<00:00, 266.00it/s]\n"
          ]
        },
        {
          "output_type": "stream",
          "name": "stdout",
          "text": [
            "\u001b[31mDetect 15 unknown interaction(s), position: [64, 1, 65, 3, 11, 44, 14, 46, 21, 53, 56, 57, 58, 62, 63]\u001b[0m\n",
            "<libreco.algorithms.svdpp.SVDpp object at 0x7fd9b15cea90>\n"
          ]
        },
        {
          "output_type": "stream",
          "name": "stderr",
          "text": [
            "eval_pointwise: 100%|██████████| 1/1 [00:00<00:00, 2296.99it/s]\n"
          ]
        },
        {
          "output_type": "stream",
          "name": "stdout",
          "text": [
            "\u001b[31mDetect 15 unknown interaction(s), position: [64, 1, 65, 3, 11, 44, 14, 46, 21, 53, 56, 57, 58, 62, 63]\u001b[0m\n",
            "<libreco.algorithms.item_cf.ItemCF object at 0x7fd9c4b21dc0>\n"
          ]
        },
        {
          "output_type": "stream",
          "name": "stderr",
          "text": [
            "eval_pointwise: 100%|██████████| 1/1 [00:00<00:00, 19.81it/s]\n"
          ]
        },
        {
          "output_type": "stream",
          "name": "stdout",
          "text": [
            "\u001b[31mDetect 15 unknown interaction(s), position: [64, 1, 65, 3, 11, 44, 14, 46, 21, 53, 56, 57, 58, 62, 63]\u001b[0m\n",
            "\u001b[31mNo common interaction or similar neighbor for user 5 and item 226, proceed with default prediction\u001b[0m\n",
            "<libreco.algorithms.user_cf.UserCF object at 0x7fd9c46ccd60>\n"
          ]
        },
        {
          "output_type": "stream",
          "name": "stderr",
          "text": [
            "eval_pointwise: 100%|██████████| 1/1 [00:00<00:00, 37.79it/s]\n"
          ]
        },
        {
          "output_type": "stream",
          "name": "stdout",
          "text": [
            "\u001b[31mDetect 15 unknown interaction(s), position: [64, 1, 65, 3, 11, 44, 14, 46, 21, 53, 56, 57, 58, 62, 63]\u001b[0m\n",
            "\u001b[31mNo common interaction or similar neighbor for user 5 and item 226, proceed with default prediction\u001b[0m\n",
            "<libreco.algorithms.als.ALS object at 0x7fd9b1eb0760>\n"
          ]
        },
        {
          "output_type": "stream",
          "name": "stderr",
          "text": [
            "eval_pointwise: 100%|██████████| 1/1 [00:00<00:00, 710.66it/s]"
          ]
        },
        {
          "output_type": "stream",
          "name": "stdout",
          "text": [
            "\u001b[31mDetect 15 unknown interaction(s), position: [64, 1, 65, 3, 11, 44, 14, 46, 21, 53, 56, 57, 58, 62, 63]\u001b[0m\n",
            "testing\n",
            "########## CHECKING SIM ###########\n",
            "########## train users in test set ##########\n",
            "True    942\n",
            "Name: user, dtype: int64\n",
            "########## test users in train set ##########\n",
            "True    311\n",
            "Name: user, dtype: int64\n",
            "\n",
            " ============================== SVD ==============================\n",
            "Training start time: \u001b[35m2023-04-04 15:32:06\u001b[0m\n"
          ]
        },
        {
          "output_type": "stream",
          "name": "stderr",
          "text": [
            "\n",
            "train: 100%|██████████| 4/4 [00:00<00:00, 32.65it/s]\n",
            "train: 100%|██████████| 4/4 [00:00<00:00, 352.97it/s]\n",
            "train: 100%|██████████| 4/4 [00:00<00:00, 383.60it/s]\n",
            "train: 100%|██████████| 4/4 [00:00<00:00, 298.74it/s]\n",
            "train: 100%|██████████| 4/4 [00:00<00:00, 319.05it/s]\n",
            "train: 100%|██████████| 4/4 [00:00<00:00, 410.23it/s]\n",
            "train: 100%|██████████| 4/4 [00:00<00:00, 577.45it/s]\n",
            "train: 100%|██████████| 4/4 [00:00<00:00, 470.19it/s]\n",
            "train: 100%|██████████| 4/4 [00:00<00:00, 405.62it/s]\n",
            "train: 100%|██████████| 4/4 [00:00<00:00, 350.41it/s]\n",
            "train: 100%|██████████| 4/4 [00:00<00:00, 401.96it/s]\n",
            "train: 100%|██████████| 4/4 [00:00<00:00, 452.90it/s]\n",
            "train: 100%|██████████| 4/4 [00:00<00:00, 381.52it/s]\n",
            "train: 100%|██████████| 4/4 [00:00<00:00, 476.72it/s]\n",
            "train: 100%|██████████| 4/4 [00:00<00:00, 524.03it/s]\n",
            "train: 100%|██████████| 4/4 [00:00<00:00, 420.96it/s]\n",
            "train: 100%|██████████| 4/4 [00:00<00:00, 356.76it/s]\n",
            "train: 100%|██████████| 4/4 [00:00<00:00, 382.51it/s]\n",
            "train: 100%|██████████| 4/4 [00:00<00:00, 393.67it/s]\n",
            "train: 100%|██████████| 4/4 [00:00<00:00, 399.39it/s]\n",
            "train: 100%|██████████| 4/4 [00:00<00:00, 387.33it/s]\n",
            "train: 100%|██████████| 4/4 [00:00<00:00, 496.07it/s]\n",
            "train: 100%|██████████| 4/4 [00:00<00:00, 526.99it/s]\n",
            "train: 100%|██████████| 4/4 [00:00<00:00, 328.07it/s]\n",
            "train: 100%|██████████| 4/4 [00:00<00:00, 453.46it/s]\n",
            "train: 100%|██████████| 4/4 [00:00<00:00, 339.02it/s]\n",
            "train: 100%|██████████| 4/4 [00:00<00:00, 274.00it/s]\n",
            "train: 100%|██████████| 4/4 [00:00<00:00, 407.89it/s]\n",
            "train: 100%|██████████| 4/4 [00:00<00:00, 343.92it/s]\n",
            "train: 100%|██████████| 4/4 [00:00<00:00, 533.68it/s]\n",
            "train: 100%|██████████| 4/4 [00:00<00:00, 373.24it/s]\n",
            "train: 100%|██████████| 4/4 [00:00<00:00, 323.42it/s]\n",
            "train: 100%|██████████| 4/4 [00:00<00:00, 270.03it/s]\n",
            "train: 100%|██████████| 4/4 [00:00<00:00, 313.37it/s]\n",
            "train: 100%|██████████| 4/4 [00:00<00:00, 329.18it/s]\n",
            "train: 100%|██████████| 4/4 [00:00<00:00, 400.59it/s]\n",
            "train: 100%|██████████| 4/4 [00:00<00:00, 381.35it/s]\n",
            "train: 100%|██████████| 4/4 [00:00<00:00, 316.25it/s]\n",
            "train: 100%|██████████| 4/4 [00:00<00:00, 494.09it/s]\n",
            "train: 100%|██████████| 4/4 [00:00<00:00, 519.40it/s]\n",
            "train: 100%|██████████| 4/4 [00:00<00:00, 430.20it/s]\n",
            "train: 100%|██████████| 4/4 [00:00<00:00, 402.23it/s]\n",
            "train: 100%|██████████| 4/4 [00:00<00:00, 369.66it/s]\n",
            "train: 100%|██████████| 4/4 [00:00<00:00, 356.39it/s]\n",
            "train: 100%|██████████| 4/4 [00:00<00:00, 369.76it/s]\n",
            "train: 100%|██████████| 4/4 [00:00<00:00, 435.58it/s]\n",
            "train: 100%|██████████| 4/4 [00:00<00:00, 326.16it/s]\n",
            "train: 100%|██████████| 4/4 [00:00<00:00, 257.10it/s]\n",
            "train: 100%|██████████| 4/4 [00:00<00:00, 324.55it/s]\n",
            "train: 100%|██████████| 4/4 [00:00<00:00, 363.47it/s]\n"
          ]
        },
        {
          "output_type": "stream",
          "name": "stdout",
          "text": [
            "\n",
            " ============================== SVD++ ==============================\n",
            "Training start time: \u001b[35m2023-04-04 15:32:07\u001b[0m\n"
          ]
        },
        {
          "output_type": "stream",
          "name": "stderr",
          "text": [
            "train: 100%|██████████| 4/4 [00:00<00:00, 26.63it/s]\n",
            "train: 100%|██████████| 4/4 [00:00<00:00, 268.64it/s]\n",
            "train: 100%|██████████| 4/4 [00:00<00:00, 232.62it/s]\n",
            "train: 100%|██████████| 4/4 [00:00<00:00, 244.00it/s]\n",
            "train: 100%|██████████| 4/4 [00:00<00:00, 205.14it/s]\n",
            "train: 100%|██████████| 4/4 [00:00<00:00, 261.76it/s]\n",
            "train: 100%|██████████| 4/4 [00:00<00:00, 197.09it/s]\n",
            "train: 100%|██████████| 4/4 [00:00<00:00, 172.74it/s]\n",
            "train: 100%|██████████| 4/4 [00:00<00:00, 246.25it/s]\n",
            "train: 100%|██████████| 4/4 [00:00<00:00, 186.34it/s]\n",
            "train: 100%|██████████| 4/4 [00:00<00:00, 224.96it/s]\n",
            "train: 100%|██████████| 4/4 [00:00<00:00, 235.40it/s]\n",
            "train: 100%|██████████| 4/4 [00:00<00:00, 251.53it/s]\n",
            "train: 100%|██████████| 4/4 [00:00<00:00, 227.27it/s]\n",
            "train: 100%|██████████| 4/4 [00:00<00:00, 183.05it/s]\n",
            "train: 100%|██████████| 4/4 [00:00<00:00, 206.08it/s]\n",
            "train: 100%|██████████| 4/4 [00:00<00:00, 251.16it/s]\n",
            "train: 100%|██████████| 4/4 [00:00<00:00, 224.68it/s]\n",
            "train: 100%|██████████| 4/4 [00:00<00:00, 167.49it/s]\n",
            "train: 100%|██████████| 4/4 [00:00<00:00, 199.11it/s]\n",
            "train: 100%|██████████| 4/4 [00:00<00:00, 170.36it/s]\n",
            "train: 100%|██████████| 4/4 [00:00<00:00, 217.74it/s]\n",
            "train: 100%|██████████| 4/4 [00:00<00:00, 201.38it/s]\n",
            "train: 100%|██████████| 4/4 [00:00<00:00, 186.83it/s]\n",
            "train: 100%|██████████| 4/4 [00:00<00:00, 246.07it/s]\n"
          ]
        },
        {
          "output_type": "stream",
          "name": "stdout",
          "text": [
            "\n",
            " ============================== item_cf ==============================\n",
            "Training start time: \u001b[35m2023-04-04 15:32:09\u001b[0m\n",
            "Final block size and num: (506, 1)\n",
            "sim_matrix elapsed: 0.009s\n",
            "sim_matrix, shape: (506, 506), num_elements: 120182, density: 99323.9669 %\n"
          ]
        },
        {
          "output_type": "stream",
          "name": "stderr",
          "text": [
            "top_k: 100%|██████████| 506/506 [00:00<00:00, 8052.14it/s]\n"
          ]
        },
        {
          "output_type": "stream",
          "name": "stdout",
          "text": [
            "\n",
            " ============================== user_cf ==============================\n",
            "Training start time: \u001b[35m2023-04-04 15:32:09\u001b[0m\n",
            "Final block size and num: (11, 1)\n",
            "sim_matrix elapsed: 0.004s\n",
            "sim_matrix, shape: (11, 11), num_elements: 98, density: 80.9917 %\n"
          ]
        },
        {
          "output_type": "stream",
          "name": "stderr",
          "text": [
            "top_k: 100%|██████████| 11/11 [00:00<00:00, 54279.23it/s]\n"
          ]
        },
        {
          "output_type": "stream",
          "name": "stdout",
          "text": [
            "\n",
            " ============================== ALS ==============================\n",
            "Training start time: \u001b[35m2023-04-04 15:32:09\u001b[0m\n",
            "<libreco.algorithms.svd.SVD object at 0x7fd9ae6cd5e0>\n"
          ]
        },
        {
          "output_type": "stream",
          "name": "stderr",
          "text": [
            "eval_pointwise: 100%|██████████| 1/1 [00:00<00:00, 387.79it/s]\n"
          ]
        },
        {
          "output_type": "stream",
          "name": "stdout",
          "text": [
            "\u001b[31mDetect 101 unknown interaction(s), position: [256, 257, 258, 259, 262, 263, 265, 267, 271, 273, 274, 275, 276, 21, 278, 24, 280, 281, 282, 283, 284, 285, 286, 288, 289, 290, 291, 292, 38, 294, 295, 298, 300, 301, 302, 303, 305, 306, 307, 308, 309, 54, 55, 56, 310, 64, 74, 77, 86, 94, 102, 103, 110, 112, 113, 119, 121, 127, 128, 130, 131, 133, 149, 151, 155, 156, 160, 162, 167, 171, 175, 177, 180, 183, 185, 187, 188, 190, 191, 192, 194, 195, 196, 204, 206, 209, 211, 212, 213, 215, 218, 222, 223, 228, 235, 236, 237, 241, 243, 244, 252]\u001b[0m\n",
            "<libreco.algorithms.svdpp.SVDpp object at 0x7fd9b016ee50>\n"
          ]
        },
        {
          "output_type": "stream",
          "name": "stderr",
          "text": [
            "eval_pointwise: 100%|██████████| 1/1 [00:00<00:00, 1726.76it/s]\n"
          ]
        },
        {
          "output_type": "stream",
          "name": "stdout",
          "text": [
            "\u001b[31mDetect 101 unknown interaction(s), position: [256, 257, 258, 259, 262, 263, 265, 267, 271, 273, 274, 275, 276, 21, 278, 24, 280, 281, 282, 283, 284, 285, 286, 288, 289, 290, 291, 292, 38, 294, 295, 298, 300, 301, 302, 303, 305, 306, 307, 308, 309, 54, 55, 56, 310, 64, 74, 77, 86, 94, 102, 103, 110, 112, 113, 119, 121, 127, 128, 130, 131, 133, 149, 151, 155, 156, 160, 162, 167, 171, 175, 177, 180, 183, 185, 187, 188, 190, 191, 192, 194, 195, 196, 204, 206, 209, 211, 212, 213, 215, 218, 222, 223, 228, 235, 236, 237, 241, 243, 244, 252]\u001b[0m\n",
            "<libreco.algorithms.item_cf.ItemCF object at 0x7fd9ab1fdf40>\n"
          ]
        },
        {
          "output_type": "stream",
          "name": "stderr",
          "text": [
            "eval_pointwise: 100%|██████████| 1/1 [00:00<00:00,  9.96it/s]\n"
          ]
        },
        {
          "output_type": "stream",
          "name": "stdout",
          "text": [
            "\u001b[31mDetect 101 unknown interaction(s), position: [256, 257, 258, 259, 262, 263, 265, 267, 271, 273, 274, 275, 276, 21, 278, 24, 280, 281, 282, 283, 284, 285, 286, 288, 289, 290, 291, 292, 38, 294, 295, 298, 300, 301, 302, 303, 305, 306, 307, 308, 309, 54, 55, 56, 310, 64, 74, 77, 86, 94, 102, 103, 110, 112, 113, 119, 121, 127, 128, 130, 131, 133, 149, 151, 155, 156, 160, 162, 167, 171, 175, 177, 180, 183, 185, 187, 188, 190, 191, 192, 194, 195, 196, 204, 206, 209, 211, 212, 213, 215, 218, 222, 223, 228, 235, 236, 237, 241, 243, 244, 252]\u001b[0m\n",
            "\u001b[31mNo common interaction or similar neighbor for user 10 and item 180, proceed with default prediction\u001b[0m\n",
            "<libreco.algorithms.user_cf.UserCF object at 0x7fd9aa88e100>\n"
          ]
        },
        {
          "output_type": "stream",
          "name": "stderr",
          "text": [
            "eval_pointwise: 100%|██████████| 1/1 [00:00<00:00, 21.54it/s]"
          ]
        },
        {
          "output_type": "stream",
          "name": "stdout",
          "text": [
            "\u001b[31mDetect 101 unknown interaction(s), position: [256, 257, 258, 259, 262, 263, 265, 267, 271, 273, 274, 275, 276, 21, 278, 24, 280, 281, 282, 283, 284, 285, 286, 288, 289, 290, 291, 292, 38, 294, 295, 298, 300, 301, 302, 303, 305, 306, 307, 308, 309, 54, 55, 56, 310, 64, 74, 77, 86, 94, 102, 103, 110, 112, 113, 119, 121, 127, 128, 130, 131, 133, 149, 151, 155, 156, 160, 162, 167, 171, 175, 177, 180, 183, 185, 187, 188, 190, 191, 192, 194, 195, 196, 204, 206, 209, 211, 212, 213, 215, 218, 222, 223, 228, 235, 236, 237, 241, 243, 244, 252]\u001b[0m\n",
            "\u001b[31mNo common interaction or similar neighbor for user 10 and item 180, proceed with default prediction\u001b[0m\n"
          ]
        },
        {
          "output_type": "stream",
          "name": "stderr",
          "text": [
            "\n"
          ]
        },
        {
          "output_type": "stream",
          "name": "stdout",
          "text": [
            "<libreco.algorithms.als.ALS object at 0x7fd9ae5936d0>\n"
          ]
        },
        {
          "output_type": "stream",
          "name": "stderr",
          "text": [
            "eval_pointwise: 100%|██████████| 1/1 [00:00<00:00, 1780.26it/s]\n"
          ]
        },
        {
          "output_type": "stream",
          "name": "stdout",
          "text": [
            "\u001b[31mDetect 101 unknown interaction(s), position: [256, 257, 258, 259, 262, 263, 265, 267, 271, 273, 274, 275, 276, 21, 278, 24, 280, 281, 282, 283, 284, 285, 286, 288, 289, 290, 291, 292, 38, 294, 295, 298, 300, 301, 302, 303, 305, 306, 307, 308, 309, 54, 55, 56, 310, 64, 74, 77, 86, 94, 102, 103, 110, 112, 113, 119, 121, 127, 128, 130, 131, 133, 149, 151, 155, 156, 160, 162, 167, 171, 175, 177, 180, 183, 185, 187, 188, 190, 191, 192, 194, 195, 196, 204, 206, 209, 211, 212, 213, 215, 218, 222, 223, 228, 235, 236, 237, 241, 243, 244, 252]\u001b[0m\n",
            "testing\n",
            "########## CHECKING SIM ###########\n",
            "########## train users in test set ##########\n",
            "True    823\n",
            "Name: user, dtype: int64\n",
            "########## test users in train set ##########\n",
            "True    143\n",
            "Name: user, dtype: int64\n",
            "\n",
            " ============================== SVD ==============================\n",
            "Training start time: \u001b[35m2023-04-04 15:32:10\u001b[0m\n"
          ]
        },
        {
          "output_type": "stream",
          "name": "stderr",
          "text": [
            "train: 100%|██████████| 4/4 [00:00<00:00, 59.57it/s]\n",
            "train: 100%|██████████| 4/4 [00:00<00:00, 319.16it/s]\n",
            "train: 100%|██████████| 4/4 [00:00<00:00, 356.36it/s]\n",
            "train: 100%|██████████| 4/4 [00:00<00:00, 324.17it/s]\n",
            "train: 100%|██████████| 4/4 [00:00<00:00, 263.82it/s]\n",
            "train: 100%|██████████| 4/4 [00:00<00:00, 332.57it/s]\n",
            "train: 100%|██████████| 4/4 [00:00<00:00, 397.21it/s]\n",
            "train: 100%|██████████| 4/4 [00:00<00:00, 281.03it/s]\n",
            "train: 100%|██████████| 4/4 [00:00<00:00, 289.74it/s]\n",
            "train: 100%|██████████| 4/4 [00:00<00:00, 430.67it/s]\n",
            "train: 100%|██████████| 4/4 [00:00<00:00, 399.38it/s]\n",
            "train: 100%|██████████| 4/4 [00:00<00:00, 362.05it/s]\n",
            "train: 100%|██████████| 4/4 [00:00<00:00, 367.99it/s]\n",
            "train: 100%|██████████| 4/4 [00:00<00:00, 409.84it/s]\n",
            "train: 100%|██████████| 4/4 [00:00<00:00, 363.97it/s]\n",
            "train: 100%|██████████| 4/4 [00:00<00:00, 407.24it/s]\n",
            "train: 100%|██████████| 4/4 [00:00<00:00, 421.92it/s]\n",
            "train: 100%|██████████| 4/4 [00:00<00:00, 441.65it/s]\n",
            "train: 100%|██████████| 4/4 [00:00<00:00, 406.09it/s]\n",
            "train: 100%|██████████| 4/4 [00:00<00:00, 413.82it/s]\n",
            "train: 100%|██████████| 4/4 [00:00<00:00, 465.57it/s]\n",
            "train: 100%|██████████| 4/4 [00:00<00:00, 434.17it/s]\n",
            "train: 100%|██████████| 4/4 [00:00<00:00, 356.83it/s]\n",
            "train: 100%|██████████| 4/4 [00:00<00:00, 302.89it/s]\n",
            "train: 100%|██████████| 4/4 [00:00<00:00, 313.16it/s]\n",
            "train: 100%|██████████| 4/4 [00:00<00:00, 252.73it/s]\n",
            "train: 100%|██████████| 4/4 [00:00<00:00, 342.64it/s]\n",
            "train: 100%|██████████| 4/4 [00:00<00:00, 444.32it/s]\n",
            "train: 100%|██████████| 4/4 [00:00<00:00, 413.93it/s]\n",
            "train: 100%|██████████| 4/4 [00:00<00:00, 261.51it/s]\n",
            "train: 100%|██████████| 4/4 [00:00<00:00, 360.39it/s]\n",
            "train: 100%|██████████| 4/4 [00:00<00:00, 363.06it/s]\n",
            "train: 100%|██████████| 4/4 [00:00<00:00, 125.01it/s]\n",
            "train: 100%|██████████| 4/4 [00:00<00:00, 444.72it/s]\n",
            "train: 100%|██████████| 4/4 [00:00<00:00, 288.11it/s]\n",
            "train: 100%|██████████| 4/4 [00:00<00:00, 300.83it/s]\n",
            "train: 100%|██████████| 4/4 [00:00<00:00, 340.18it/s]\n",
            "train: 100%|██████████| 4/4 [00:00<00:00, 354.95it/s]\n",
            "train: 100%|██████████| 4/4 [00:00<00:00, 290.66it/s]\n",
            "train: 100%|██████████| 4/4 [00:00<00:00, 254.48it/s]\n",
            "train: 100%|██████████| 4/4 [00:00<00:00, 319.31it/s]\n",
            "train: 100%|██████████| 4/4 [00:00<00:00, 574.44it/s]\n",
            "train: 100%|██████████| 4/4 [00:00<00:00, 273.18it/s]\n",
            "train: 100%|██████████| 4/4 [00:00<00:00, 387.78it/s]\n",
            "train: 100%|██████████| 4/4 [00:00<00:00, 331.89it/s]\n",
            "train: 100%|██████████| 4/4 [00:00<00:00, 334.70it/s]\n",
            "train: 100%|██████████| 4/4 [00:00<00:00, 450.90it/s]\n",
            "train: 100%|██████████| 4/4 [00:00<00:00, 432.71it/s]\n",
            "train: 100%|██████████| 4/4 [00:00<00:00, 299.84it/s]\n",
            "train: 100%|██████████| 4/4 [00:00<00:00, 378.97it/s]\n"
          ]
        },
        {
          "output_type": "stream",
          "name": "stdout",
          "text": [
            "\n",
            " ============================== SVD++ ==============================\n",
            "Training start time: \u001b[35m2023-04-04 15:32:11\u001b[0m\n"
          ]
        },
        {
          "output_type": "stream",
          "name": "stderr",
          "text": [
            "train: 100%|██████████| 4/4 [00:00<00:00, 42.44it/s]\n",
            "train: 100%|██████████| 4/4 [00:00<00:00, 311.91it/s]\n",
            "train: 100%|██████████| 4/4 [00:00<00:00, 395.35it/s]\n",
            "train: 100%|██████████| 4/4 [00:00<00:00, 282.16it/s]\n",
            "train: 100%|██████████| 4/4 [00:00<00:00, 289.63it/s]\n",
            "train: 100%|██████████| 4/4 [00:00<00:00, 301.88it/s]\n",
            "train: 100%|██████████| 4/4 [00:00<00:00, 276.80it/s]\n",
            "train: 100%|██████████| 4/4 [00:00<00:00, 264.62it/s]\n",
            "train: 100%|██████████| 4/4 [00:00<00:00, 239.78it/s]\n",
            "train: 100%|██████████| 4/4 [00:00<00:00, 275.83it/s]\n",
            "train: 100%|██████████| 4/4 [00:00<00:00, 247.35it/s]\n",
            "train: 100%|██████████| 4/4 [00:00<00:00, 254.73it/s]\n",
            "train: 100%|██████████| 4/4 [00:00<00:00, 246.55it/s]\n",
            "train: 100%|██████████| 4/4 [00:00<00:00, 311.05it/s]\n",
            "train: 100%|██████████| 4/4 [00:00<00:00, 325.54it/s]\n",
            "train: 100%|██████████| 4/4 [00:00<00:00, 341.90it/s]\n",
            "train: 100%|██████████| 4/4 [00:00<00:00, 246.96it/s]\n",
            "train: 100%|██████████| 4/4 [00:00<00:00, 245.48it/s]\n",
            "train: 100%|██████████| 4/4 [00:00<00:00, 302.82it/s]\n",
            "train: 100%|██████████| 4/4 [00:00<00:00, 386.34it/s]\n",
            "train: 100%|██████████| 4/4 [00:00<00:00, 331.89it/s]\n",
            "train: 100%|██████████| 4/4 [00:00<00:00, 258.94it/s]\n",
            "train: 100%|██████████| 4/4 [00:00<00:00, 243.56it/s]\n",
            "train: 100%|██████████| 4/4 [00:00<00:00, 312.19it/s]\n",
            "train: 100%|██████████| 4/4 [00:00<00:00, 237.80it/s]\n"
          ]
        },
        {
          "output_type": "stream",
          "name": "stdout",
          "text": [
            "\n",
            " ============================== item_cf ==============================\n",
            "Training start time: \u001b[35m2023-04-04 15:32:12\u001b[0m\n",
            "Final block size and num: (489, 1)\n",
            "sim_matrix elapsed: 0.006s\n",
            "sim_matrix, shape: (489, 489), num_elements: 134360, density: 537440.0000 %\n"
          ]
        },
        {
          "output_type": "stream",
          "name": "stderr",
          "text": [
            "top_k: 100%|██████████| 489/489 [00:00<00:00, 11201.73it/s]\n"
          ]
        },
        {
          "output_type": "stream",
          "name": "stdout",
          "text": [
            "\n",
            " ============================== user_cf ==============================\n",
            "Training start time: \u001b[35m2023-04-04 15:32:12\u001b[0m\n",
            "Final block size and num: (5, 1)\n",
            "sim_matrix elapsed: 0.005s\n",
            "sim_matrix, shape: (5, 5), num_elements: 20, density: 80.0000 %\n"
          ]
        },
        {
          "output_type": "stream",
          "name": "stderr",
          "text": [
            "top_k: 100%|██████████| 5/5 [00:00<00:00, 33500.83it/s]\n"
          ]
        },
        {
          "output_type": "stream",
          "name": "stdout",
          "text": [
            "\n",
            " ============================== ALS ==============================\n",
            "Training start time: \u001b[35m2023-04-04 15:32:12\u001b[0m\n",
            "<libreco.algorithms.svd.SVD object at 0x7fd9ab1db5e0>\n"
          ]
        },
        {
          "output_type": "stream",
          "name": "stderr",
          "text": [
            "eval_pointwise: 100%|██████████| 1/1 [00:00<00:00, 458.95it/s]\n"
          ]
        },
        {
          "output_type": "stream",
          "name": "stdout",
          "text": [
            "\u001b[31mDetect 51 unknown interaction(s), position: [128, 129, 2, 131, 132, 5, 133, 134, 135, 136, 137, 139, 140, 141, 142, 20, 34, 38, 43, 47, 50, 51, 54, 58, 59, 60, 62, 67, 70, 75, 84, 86, 89, 90, 91, 96, 98, 101, 102, 104, 106, 108, 110, 116, 118, 121, 122, 123, 124, 125, 126]\u001b[0m\n",
            "<libreco.algorithms.svdpp.SVDpp object at 0x7fd9aa06fe20>\n"
          ]
        },
        {
          "output_type": "stream",
          "name": "stderr",
          "text": [
            "eval_pointwise: 100%|██████████| 1/1 [00:00<00:00, 2184.53it/s]\n"
          ]
        },
        {
          "output_type": "stream",
          "name": "stdout",
          "text": [
            "\u001b[31mDetect 51 unknown interaction(s), position: [128, 129, 2, 131, 132, 5, 133, 134, 135, 136, 137, 139, 140, 141, 142, 20, 34, 38, 43, 47, 50, 51, 54, 58, 59, 60, 62, 67, 70, 75, 84, 86, 89, 90, 91, 96, 98, 101, 102, 104, 106, 108, 110, 116, 118, 121, 122, 123, 124, 125, 126]\u001b[0m\n",
            "<libreco.algorithms.item_cf.ItemCF object at 0x7fd9e00ce7c0>\n"
          ]
        },
        {
          "output_type": "stream",
          "name": "stderr",
          "text": [
            "eval_pointwise: 100%|██████████| 1/1 [00:00<00:00, 18.06it/s]\n"
          ]
        },
        {
          "output_type": "stream",
          "name": "stdout",
          "text": [
            "\u001b[31mDetect 51 unknown interaction(s), position: [128, 129, 2, 131, 132, 5, 133, 134, 135, 136, 137, 139, 140, 141, 142, 20, 34, 38, 43, 47, 50, 51, 54, 58, 59, 60, 62, 67, 70, 75, 84, 86, 89, 90, 91, 96, 98, 101, 102, 104, 106, 108, 110, 116, 118, 121, 122, 123, 124, 125, 126]\u001b[0m\n",
            "<libreco.algorithms.user_cf.UserCF object at 0x7fd9b1dfcfd0>\n"
          ]
        },
        {
          "output_type": "stream",
          "name": "stderr",
          "text": [
            "eval_pointwise: 100%|██████████| 1/1 [00:00<00:00, 57.49it/s]\n"
          ]
        },
        {
          "output_type": "stream",
          "name": "stdout",
          "text": [
            "\u001b[31mDetect 51 unknown interaction(s), position: [128, 129, 2, 131, 132, 5, 133, 134, 135, 136, 137, 139, 140, 141, 142, 20, 34, 38, 43, 47, 50, 51, 54, 58, 59, 60, 62, 67, 70, 75, 84, 86, 89, 90, 91, 96, 98, 101, 102, 104, 106, 108, 110, 116, 118, 121, 122, 123, 124, 125, 126]\u001b[0m\n",
            "<libreco.algorithms.als.ALS object at 0x7fd9b02caa90>\n"
          ]
        },
        {
          "output_type": "stream",
          "name": "stderr",
          "text": [
            "eval_pointwise: 100%|██████████| 1/1 [00:00<00:00, 1934.64it/s]"
          ]
        },
        {
          "output_type": "stream",
          "name": "stdout",
          "text": [
            "\u001b[31mDetect 51 unknown interaction(s), position: [128, 129, 2, 131, 132, 5, 133, 134, 135, 136, 137, 139, 140, 141, 142, 20, 34, 38, 43, 47, 50, 51, 54, 58, 59, 60, 62, 67, 70, 75, 84, 86, 89, 90, 91, 96, 98, 101, 102, 104, 106, 108, 110, 116, 118, 121, 122, 123, 124, 125, 126]\u001b[0m\n",
            "testing\n",
            "########## CHECKING SIM ###########\n",
            "########## train users in test set ##########\n",
            "True    966\n",
            "Name: user, dtype: int64\n",
            "########## test users in train set ##########\n",
            "True    61\n",
            "Name: user, dtype: int64\n",
            "\n",
            " ============================== SVD ==============================\n",
            "Training start time: \u001b[35m2023-04-04 15:32:13\u001b[0m\n"
          ]
        },
        {
          "output_type": "stream",
          "name": "stderr",
          "text": [
            "\n",
            "train: 100%|██████████| 4/4 [00:00<00:00, 59.79it/s]\n",
            "train: 100%|██████████| 4/4 [00:00<00:00, 413.48it/s]\n",
            "train: 100%|██████████| 4/4 [00:00<00:00, 411.54it/s]\n",
            "train: 100%|██████████| 4/4 [00:00<00:00, 488.52it/s]\n",
            "train: 100%|██████████| 4/4 [00:00<00:00, 412.26it/s]\n",
            "train: 100%|██████████| 4/4 [00:00<00:00, 400.95it/s]\n",
            "train: 100%|██████████| 4/4 [00:00<00:00, 386.89it/s]\n",
            "train: 100%|██████████| 4/4 [00:00<00:00, 591.35it/s]\n",
            "train: 100%|██████████| 4/4 [00:00<00:00, 381.22it/s]\n",
            "train: 100%|██████████| 4/4 [00:00<00:00, 304.27it/s]\n",
            "train: 100%|██████████| 4/4 [00:00<00:00, 476.02it/s]\n",
            "train: 100%|██████████| 4/4 [00:00<00:00, 380.72it/s]\n",
            "train: 100%|██████████| 4/4 [00:00<00:00, 408.90it/s]\n",
            "train: 100%|██████████| 4/4 [00:00<00:00, 675.36it/s]\n",
            "train: 100%|██████████| 4/4 [00:00<00:00, 548.10it/s]\n",
            "train: 100%|██████████| 4/4 [00:00<00:00, 327.37it/s]\n",
            "train: 100%|██████████| 4/4 [00:00<00:00, 293.04it/s]\n",
            "train: 100%|██████████| 4/4 [00:00<00:00, 417.52it/s]\n",
            "train: 100%|██████████| 4/4 [00:00<00:00, 202.95it/s]\n",
            "train: 100%|██████████| 4/4 [00:00<00:00, 425.53it/s]\n",
            "train: 100%|██████████| 4/4 [00:00<00:00, 238.38it/s]\n",
            "train: 100%|██████████| 4/4 [00:00<00:00, 441.88it/s]\n",
            "train: 100%|██████████| 4/4 [00:00<00:00, 502.63it/s]\n",
            "train: 100%|██████████| 4/4 [00:00<00:00, 312.21it/s]\n",
            "train: 100%|██████████| 4/4 [00:00<00:00, 268.68it/s]\n",
            "train: 100%|██████████| 4/4 [00:00<00:00, 359.08it/s]\n",
            "train: 100%|██████████| 4/4 [00:00<00:00, 288.68it/s]\n",
            "train: 100%|██████████| 4/4 [00:00<00:00, 306.92it/s]\n",
            "train: 100%|██████████| 4/4 [00:00<00:00, 373.64it/s]\n",
            "train: 100%|██████████| 4/4 [00:00<00:00, 367.43it/s]\n",
            "train: 100%|██████████| 4/4 [00:00<00:00, 325.27it/s]\n",
            "train: 100%|██████████| 4/4 [00:00<00:00, 392.12it/s]\n",
            "train: 100%|██████████| 4/4 [00:00<00:00, 512.55it/s]\n",
            "train: 100%|██████████| 4/4 [00:00<00:00, 340.67it/s]\n",
            "train: 100%|██████████| 4/4 [00:00<00:00, 349.50it/s]\n",
            "train: 100%|██████████| 4/4 [00:00<00:00, 435.87it/s]\n",
            "train: 100%|██████████| 4/4 [00:00<00:00, 527.73it/s]\n",
            "train: 100%|██████████| 4/4 [00:00<00:00, 296.15it/s]\n",
            "train: 100%|██████████| 4/4 [00:00<00:00, 255.82it/s]\n",
            "train: 100%|██████████| 4/4 [00:00<00:00, 283.78it/s]\n",
            "train: 100%|██████████| 4/4 [00:00<00:00, 349.50it/s]\n",
            "train: 100%|██████████| 4/4 [00:00<00:00, 322.09it/s]\n",
            "train: 100%|██████████| 4/4 [00:00<00:00, 401.22it/s]\n",
            "train: 100%|██████████| 4/4 [00:00<00:00, 401.42it/s]\n",
            "train: 100%|██████████| 4/4 [00:00<00:00, 348.93it/s]\n",
            "train: 100%|██████████| 4/4 [00:00<00:00, 403.18it/s]\n",
            "train: 100%|██████████| 4/4 [00:00<00:00, 424.68it/s]\n",
            "train: 100%|██████████| 4/4 [00:00<00:00, 302.20it/s]\n",
            "train: 100%|██████████| 4/4 [00:00<00:00, 315.23it/s]\n",
            "train: 100%|██████████| 4/4 [00:00<00:00, 282.94it/s]\n"
          ]
        },
        {
          "output_type": "stream",
          "name": "stdout",
          "text": [
            "\n",
            " ============================== SVD++ ==============================\n",
            "Training start time: \u001b[35m2023-04-04 15:32:14\u001b[0m\n"
          ]
        },
        {
          "output_type": "stream",
          "name": "stderr",
          "text": [
            "train: 100%|██████████| 4/4 [00:00<00:00, 44.76it/s]\n",
            "train: 100%|██████████| 4/4 [00:00<00:00, 394.28it/s]\n",
            "train: 100%|██████████| 4/4 [00:00<00:00, 302.54it/s]\n",
            "train: 100%|██████████| 4/4 [00:00<00:00, 342.90it/s]\n",
            "train: 100%|██████████| 4/4 [00:00<00:00, 311.08it/s]\n",
            "train: 100%|██████████| 4/4 [00:00<00:00, 291.37it/s]\n",
            "train: 100%|██████████| 4/4 [00:00<00:00, 235.88it/s]\n",
            "train: 100%|██████████| 4/4 [00:00<00:00, 255.35it/s]\n",
            "train: 100%|██████████| 4/4 [00:00<00:00, 278.29it/s]\n",
            "train: 100%|██████████| 4/4 [00:00<00:00, 204.47it/s]\n",
            "train: 100%|██████████| 4/4 [00:00<00:00, 211.64it/s]\n",
            "train: 100%|██████████| 4/4 [00:00<00:00, 270.05it/s]\n",
            "train: 100%|██████████| 4/4 [00:00<00:00, 314.92it/s]\n",
            "train: 100%|██████████| 4/4 [00:00<00:00, 249.29it/s]\n",
            "train: 100%|██████████| 4/4 [00:00<00:00, 314.68it/s]\n",
            "train: 100%|██████████| 4/4 [00:00<00:00, 251.13it/s]\n",
            "train: 100%|██████████| 4/4 [00:00<00:00, 300.42it/s]\n",
            "train: 100%|██████████| 4/4 [00:00<00:00, 305.06it/s]\n",
            "train: 100%|██████████| 4/4 [00:00<00:00, 245.77it/s]\n",
            "train: 100%|██████████| 4/4 [00:00<00:00, 208.36it/s]\n",
            "train: 100%|██████████| 4/4 [00:00<00:00, 249.13it/s]\n",
            "train: 100%|██████████| 4/4 [00:00<00:00, 224.15it/s]\n",
            "train: 100%|██████████| 4/4 [00:00<00:00, 222.16it/s]\n",
            "train: 100%|██████████| 4/4 [00:00<00:00, 257.32it/s]\n",
            "train: 100%|██████████| 4/4 [00:00<00:00, 227.71it/s]\n"
          ]
        },
        {
          "output_type": "stream",
          "name": "stdout",
          "text": [
            "\n",
            " ============================== item_cf ==============================\n",
            "Training start time: \u001b[35m2023-04-04 15:32:15\u001b[0m\n",
            "Final block size and num: (552, 1)\n",
            "sim_matrix elapsed: 0.008s\n",
            "sim_matrix, shape: (552, 552), num_elements: 191716, density: 391257.1429 %\n"
          ]
        },
        {
          "output_type": "stream",
          "name": "stderr",
          "text": [
            "top_k: 100%|██████████| 552/552 [00:00<00:00, 10043.84it/s]\n"
          ]
        },
        {
          "output_type": "stream",
          "name": "stdout",
          "text": [
            "\n",
            " ============================== user_cf ==============================\n",
            "Training start time: \u001b[35m2023-04-04 15:32:15\u001b[0m\n",
            "Final block size and num: (7, 1)\n",
            "sim_matrix elapsed: 0.002s\n",
            "sim_matrix, shape: (7, 7), num_elements: 38, density: 77.5510 %\n"
          ]
        },
        {
          "output_type": "stream",
          "name": "stderr",
          "text": [
            "top_k: 100%|██████████| 7/7 [00:00<00:00, 46091.25it/s]\n"
          ]
        },
        {
          "output_type": "stream",
          "name": "stdout",
          "text": [
            "\n",
            " ============================== ALS ==============================\n",
            "Training start time: \u001b[35m2023-04-04 15:32:15\u001b[0m\n",
            "<libreco.algorithms.svd.SVD object at 0x7fd9b14bf370>\n"
          ]
        },
        {
          "output_type": "stream",
          "name": "stderr",
          "text": [
            "eval_pointwise: 100%|██████████| 1/1 [00:00<00:00, 174.02it/s]\n"
          ]
        },
        {
          "output_type": "stream",
          "name": "stdout",
          "text": [
            "\u001b[31mDetect 19 unknown interaction(s), position: [19, 20, 22, 30, 32, 34, 39, 40, 42, 43, 44, 48, 51, 52, 53, 54, 56, 59, 60]\u001b[0m\n",
            "<libreco.algorithms.svdpp.SVDpp object at 0x7fd9c40e0a00>\n"
          ]
        },
        {
          "output_type": "stream",
          "name": "stderr",
          "text": [
            "eval_pointwise: 100%|██████████| 1/1 [00:00<00:00, 2529.74it/s]\n"
          ]
        },
        {
          "output_type": "stream",
          "name": "stdout",
          "text": [
            "\u001b[31mDetect 19 unknown interaction(s), position: [19, 20, 22, 30, 32, 34, 39, 40, 42, 43, 44, 48, 51, 52, 53, 54, 56, 59, 60]\u001b[0m\n",
            "<libreco.algorithms.item_cf.ItemCF object at 0x7fd9aa9fe4f0>\n"
          ]
        },
        {
          "output_type": "stream",
          "name": "stderr",
          "text": [
            "eval_pointwise: 100%|██████████| 1/1 [00:00<00:00, 31.47it/s]\n"
          ]
        },
        {
          "output_type": "stream",
          "name": "stdout",
          "text": [
            "\u001b[31mDetect 19 unknown interaction(s), position: [19, 20, 22, 30, 32, 34, 39, 40, 42, 43, 44, 48, 51, 52, 53, 54, 56, 59, 60]\u001b[0m\n",
            "\u001b[31mNo common interaction or similar neighbor for user 2 and item 215, proceed with default prediction\u001b[0m\n",
            "<libreco.algorithms.user_cf.UserCF object at 0x7fd9b14bf340>\n"
          ]
        },
        {
          "output_type": "stream",
          "name": "stderr",
          "text": [
            "eval_pointwise: 100%|██████████| 1/1 [00:00<00:00, 64.61it/s]\n"
          ]
        },
        {
          "output_type": "stream",
          "name": "stdout",
          "text": [
            "\u001b[31mDetect 19 unknown interaction(s), position: [19, 20, 22, 30, 32, 34, 39, 40, 42, 43, 44, 48, 51, 52, 53, 54, 56, 59, 60]\u001b[0m\n",
            "\u001b[31mNo common interaction or similar neighbor for user 2 and item 215, proceed with default prediction\u001b[0m\n",
            "<libreco.algorithms.als.ALS object at 0x7fd9aa9df8e0>\n"
          ]
        },
        {
          "output_type": "stream",
          "name": "stderr",
          "text": [
            "eval_pointwise: 100%|██████████| 1/1 [00:00<00:00, 2395.38it/s]"
          ]
        },
        {
          "output_type": "stream",
          "name": "stdout",
          "text": [
            "\u001b[31mDetect 19 unknown interaction(s), position: [19, 20, 22, 30, 32, 34, 39, 40, 42, 43, 44, 48, 51, 52, 53, 54, 56, 59, 60]\u001b[0m\n",
            "testing\n",
            "########## CHECKING SIM ###########\n",
            "########## train users in test set ##########\n",
            "True    1694\n",
            "Name: user, dtype: int64\n",
            "########## test users in train set ##########\n",
            "True    28\n",
            "Name: user, dtype: int64\n",
            "\n",
            " ============================== SVD ==============================\n",
            "Training start time: \u001b[35m2023-04-04 15:32:16\u001b[0m\n"
          ]
        },
        {
          "output_type": "stream",
          "name": "stderr",
          "text": [
            "\n",
            "train: 100%|██████████| 7/7 [00:00<00:00, 93.32it/s]\n",
            "train: 100%|██████████| 7/7 [00:00<00:00, 421.92it/s]\n",
            "train: 100%|██████████| 7/7 [00:00<00:00, 496.43it/s]\n",
            "train: 100%|██████████| 7/7 [00:00<00:00, 481.78it/s]\n",
            "train: 100%|██████████| 7/7 [00:00<00:00, 496.12it/s]\n",
            "train: 100%|██████████| 7/7 [00:00<00:00, 473.35it/s]\n",
            "train: 100%|██████████| 7/7 [00:00<00:00, 458.49it/s]\n",
            "train: 100%|██████████| 7/7 [00:00<00:00, 434.92it/s]\n",
            "train: 100%|██████████| 7/7 [00:00<00:00, 515.83it/s]\n",
            "train: 100%|██████████| 7/7 [00:00<00:00, 527.95it/s]\n",
            "train: 100%|██████████| 7/7 [00:00<00:00, 434.16it/s]\n",
            "train: 100%|██████████| 7/7 [00:00<00:00, 532.65it/s]\n",
            "train: 100%|██████████| 7/7 [00:00<00:00, 381.28it/s]\n",
            "train: 100%|██████████| 7/7 [00:00<00:00, 525.90it/s]\n",
            "train: 100%|██████████| 7/7 [00:00<00:00, 429.57it/s]\n",
            "train: 100%|██████████| 7/7 [00:00<00:00, 315.18it/s]\n",
            "train: 100%|██████████| 7/7 [00:00<00:00, 497.49it/s]\n",
            "train: 100%|██████████| 7/7 [00:00<00:00, 534.29it/s]\n",
            "train: 100%|██████████| 7/7 [00:00<00:00, 301.54it/s]\n",
            "train: 100%|██████████| 7/7 [00:00<00:00, 476.94it/s]\n",
            "train: 100%|██████████| 7/7 [00:00<00:00, 450.14it/s]\n",
            "train: 100%|██████████| 7/7 [00:00<00:00, 548.11it/s]\n",
            "train: 100%|██████████| 7/7 [00:00<00:00, 455.76it/s]\n",
            "train: 100%|██████████| 7/7 [00:00<00:00, 494.67it/s]\n",
            "train: 100%|██████████| 7/7 [00:00<00:00, 406.70it/s]\n",
            "train: 100%|██████████| 7/7 [00:00<00:00, 449.56it/s]\n",
            "train: 100%|██████████| 7/7 [00:00<00:00, 503.69it/s]\n",
            "train: 100%|██████████| 7/7 [00:00<00:00, 548.88it/s]\n",
            "train: 100%|██████████| 7/7 [00:00<00:00, 348.36it/s]\n",
            "train: 100%|██████████| 7/7 [00:00<00:00, 482.38it/s]\n",
            "train: 100%|██████████| 7/7 [00:00<00:00, 495.32it/s]\n",
            "train: 100%|██████████| 7/7 [00:00<00:00, 324.72it/s]\n",
            "train: 100%|██████████| 7/7 [00:00<00:00, 450.30it/s]\n",
            "train: 100%|██████████| 7/7 [00:00<00:00, 421.25it/s]\n",
            "train: 100%|██████████| 7/7 [00:00<00:00, 364.48it/s]\n",
            "train: 100%|██████████| 7/7 [00:00<00:00, 358.16it/s]\n",
            "train: 100%|██████████| 7/7 [00:00<00:00, 425.00it/s]\n",
            "train: 100%|██████████| 7/7 [00:00<00:00, 568.55it/s]\n",
            "train: 100%|██████████| 7/7 [00:00<00:00, 393.37it/s]\n",
            "train: 100%|██████████| 7/7 [00:00<00:00, 400.89it/s]\n",
            "train: 100%|██████████| 7/7 [00:00<00:00, 457.89it/s]\n",
            "train: 100%|██████████| 7/7 [00:00<00:00, 525.10it/s]\n",
            "train: 100%|██████████| 7/7 [00:00<00:00, 461.26it/s]\n",
            "train: 100%|██████████| 7/7 [00:00<00:00, 426.49it/s]\n",
            "train: 100%|██████████| 7/7 [00:00<00:00, 428.20it/s]\n",
            "train: 100%|██████████| 7/7 [00:00<00:00, 467.52it/s]\n",
            "train: 100%|██████████| 7/7 [00:00<00:00, 440.49it/s]\n",
            "train: 100%|██████████| 7/7 [00:00<00:00, 497.71it/s]\n",
            "train: 100%|██████████| 7/7 [00:00<00:00, 383.16it/s]\n",
            "train: 100%|██████████| 7/7 [00:00<00:00, 443.00it/s]\n"
          ]
        },
        {
          "output_type": "stream",
          "name": "stdout",
          "text": [
            "\n",
            " ============================== SVD++ ==============================\n",
            "Training start time: \u001b[35m2023-04-04 15:32:17\u001b[0m\n"
          ]
        },
        {
          "output_type": "stream",
          "name": "stderr",
          "text": [
            "train:   0%|          | 0/7 [00:00<?, ?it/s]\n"
          ]
        },
        {
          "output_type": "error",
          "ename": "KeyboardInterrupt",
          "evalue": "ignored",
          "traceback": [
            "\u001b[0;31m---------------------------------------------------------------------------\u001b[0m",
            "\u001b[0;31mKeyboardInterrupt\u001b[0m                         Traceback (most recent call last)",
            "\u001b[0;32m<ipython-input-88-8eebb0ead75a>\u001b[0m in \u001b[0;36m<cell line: 10>\u001b[0;34m()\u001b[0m\n\u001b[1;32m      8\u001b[0m \u001b[0mmetrics_rating\u001b[0m \u001b[0;34m=\u001b[0m \u001b[0;34m[\u001b[0m\u001b[0;34m'rmse'\u001b[0m\u001b[0;34m]\u001b[0m\u001b[0;34m\u001b[0m\u001b[0;34m\u001b[0m\u001b[0m\n\u001b[1;32m      9\u001b[0m \u001b[0;34m\u001b[0m\u001b[0m\n\u001b[0;32m---> 10\u001b[0;31m \u001b[0mtest_run4\u001b[0m \u001b[0;34m=\u001b[0m \u001b[0mrun_experiment_alt\u001b[0m\u001b[0;34m(\u001b[0m\u001b[0mdf_data\u001b[0m\u001b[0;34m,\u001b[0m \u001b[0;36m10\u001b[0m\u001b[0;34m,\u001b[0m \u001b[0;36m1\u001b[0m\u001b[0;34m,\u001b[0m \u001b[0mstop\u001b[0m\u001b[0;34m=\u001b[0m\u001b[0;32mNone\u001b[0m\u001b[0;34m,\u001b[0m \u001b[0mtask\u001b[0m\u001b[0;34m=\u001b[0m\u001b[0;34m'rating'\u001b[0m\u001b[0;34m)\u001b[0m\u001b[0;34m\u001b[0m\u001b[0;34m\u001b[0m\u001b[0m\n\u001b[0m\u001b[1;32m     11\u001b[0m \u001b[0mtest_figures4\u001b[0m \u001b[0;34m=\u001b[0m \u001b[0mmodel_results\u001b[0m\u001b[0;34m(\u001b[0m\u001b[0mtest_run4\u001b[0m\u001b[0;34m,\u001b[0m \u001b[0mmetrics_rating\u001b[0m\u001b[0;34m,\u001b[0m \u001b[0;36m2\u001b[0m\u001b[0;34m,\u001b[0m \u001b[0mmodel_time\u001b[0m\u001b[0;34m=\u001b[0m\u001b[0;32mFalse\u001b[0m\u001b[0;34m)\u001b[0m\u001b[0;34m\u001b[0m\u001b[0;34m\u001b[0m\u001b[0m\n",
            "\u001b[0;32m<ipython-input-86-ffee45e75c52>\u001b[0m in \u001b[0;36mrun_experiment_alt\u001b[0;34m(data, increments, test_days, stop, ignore_remainder, task)\u001b[0m\n\u001b[1;32m     84\u001b[0m     )\n\u001b[1;32m     85\u001b[0m \u001b[0;34m\u001b[0m\u001b[0m\n\u001b[0;32m---> 86\u001b[0;31m     svdpp.fit(\n\u001b[0m\u001b[1;32m     87\u001b[0m         \u001b[0mtrain_data\u001b[0m\u001b[0;34m,\u001b[0m\u001b[0;34m\u001b[0m\u001b[0;34m\u001b[0m\u001b[0m\n\u001b[1;32m     88\u001b[0m         \u001b[0mverbose\u001b[0m\u001b[0;34m=\u001b[0m\u001b[0;36m0\u001b[0m\u001b[0;34m,\u001b[0m\u001b[0;34m\u001b[0m\u001b[0;34m\u001b[0m\u001b[0m\n",
            "\u001b[0;32m/usr/local/lib/python3.9/dist-packages/libreco/algorithms/svdpp.py\u001b[0m in \u001b[0;36mfit\u001b[0;34m(self, train_data, verbose, shuffle, eval_data, metrics, **kwargs)\u001b[0m\n\u001b[1;32m    155\u001b[0m         \u001b[0;32mif\u001b[0m \u001b[0mself\u001b[0m\u001b[0;34m.\u001b[0m\u001b[0msparse_interaction\u001b[0m \u001b[0;32mis\u001b[0m \u001b[0;32mNone\u001b[0m\u001b[0;34m:\u001b[0m\u001b[0;34m\u001b[0m\u001b[0;34m\u001b[0m\u001b[0m\n\u001b[1;32m    156\u001b[0m             \u001b[0mself\u001b[0m\u001b[0;34m.\u001b[0m\u001b[0msparse_interaction\u001b[0m \u001b[0;34m=\u001b[0m \u001b[0mself\u001b[0m\u001b[0;34m.\u001b[0m\u001b[0m_set_sparse_interaction\u001b[0m\u001b[0;34m(\u001b[0m\u001b[0;34m)\u001b[0m\u001b[0;34m\u001b[0m\u001b[0;34m\u001b[0m\u001b[0m\n\u001b[0;32m--> 157\u001b[0;31m         \u001b[0msuper\u001b[0m\u001b[0;34m(\u001b[0m\u001b[0;34m)\u001b[0m\u001b[0;34m.\u001b[0m\u001b[0mfit\u001b[0m\u001b[0;34m(\u001b[0m\u001b[0mtrain_data\u001b[0m\u001b[0;34m,\u001b[0m \u001b[0mverbose\u001b[0m\u001b[0;34m,\u001b[0m \u001b[0mshuffle\u001b[0m\u001b[0;34m,\u001b[0m \u001b[0meval_data\u001b[0m\u001b[0;34m,\u001b[0m \u001b[0mmetrics\u001b[0m\u001b[0;34m,\u001b[0m \u001b[0;34m**\u001b[0m\u001b[0mkwargs\u001b[0m\u001b[0;34m)\u001b[0m\u001b[0;34m\u001b[0m\u001b[0;34m\u001b[0m\u001b[0m\n\u001b[0m\u001b[1;32m    158\u001b[0m \u001b[0;34m\u001b[0m\u001b[0m\n\u001b[1;32m    159\u001b[0m     \u001b[0;32mdef\u001b[0m \u001b[0mset_embeddings\u001b[0m\u001b[0;34m(\u001b[0m\u001b[0mself\u001b[0m\u001b[0;34m)\u001b[0m\u001b[0;34m:\u001b[0m\u001b[0;34m\u001b[0m\u001b[0;34m\u001b[0m\u001b[0m\n",
            "\u001b[0;32m/usr/local/lib/python3.9/dist-packages/libreco/bases/embed_base.py\u001b[0m in \u001b[0;36mfit\u001b[0;34m(self, train_data, verbose, shuffle, eval_data, metrics, k, eval_batch_size, eval_user_num)\u001b[0m\n\u001b[1;32m    115\u001b[0m         \u001b[0;32mif\u001b[0m \u001b[0mself\u001b[0m\u001b[0;34m.\u001b[0m\u001b[0mtrainer\u001b[0m \u001b[0;32mis\u001b[0m \u001b[0;32mNone\u001b[0m\u001b[0;34m:\u001b[0m\u001b[0;34m\u001b[0m\u001b[0;34m\u001b[0m\u001b[0m\n\u001b[1;32m    116\u001b[0m             \u001b[0mself\u001b[0m\u001b[0;34m.\u001b[0m\u001b[0mtrainer\u001b[0m \u001b[0;34m=\u001b[0m \u001b[0mget_trainer\u001b[0m\u001b[0;34m(\u001b[0m\u001b[0mself\u001b[0m\u001b[0;34m)\u001b[0m\u001b[0;34m\u001b[0m\u001b[0;34m\u001b[0m\u001b[0m\n\u001b[0;32m--> 117\u001b[0;31m         self.trainer.run(\n\u001b[0m\u001b[1;32m    118\u001b[0m             \u001b[0mtrain_data\u001b[0m\u001b[0;34m,\u001b[0m\u001b[0;34m\u001b[0m\u001b[0;34m\u001b[0m\u001b[0m\n\u001b[1;32m    119\u001b[0m             \u001b[0mverbose\u001b[0m\u001b[0;34m,\u001b[0m\u001b[0;34m\u001b[0m\u001b[0;34m\u001b[0m\u001b[0m\n",
            "\u001b[0;32m/usr/local/lib/python3.9/dist-packages/libreco/training/tf_trainer.py\u001b[0m in \u001b[0;36mrun\u001b[0;34m(self, train_data, verbose, shuffle, eval_data, metrics, k, eval_batch_size, eval_user_num)\u001b[0m\n\u001b[1;32m     79\u001b[0m                         \u001b[0mis_training\u001b[0m\u001b[0;34m=\u001b[0m\u001b[0;32mTrue\u001b[0m\u001b[0;34m,\u001b[0m\u001b[0;34m\u001b[0m\u001b[0;34m\u001b[0m\u001b[0m\n\u001b[1;32m     80\u001b[0m                     )\n\u001b[0;32m---> 81\u001b[0;31m                     train_loss, _ = self.sess.run(\n\u001b[0m\u001b[1;32m     82\u001b[0m                         \u001b[0;34m[\u001b[0m\u001b[0mself\u001b[0m\u001b[0;34m.\u001b[0m\u001b[0mloss\u001b[0m\u001b[0;34m,\u001b[0m \u001b[0mself\u001b[0m\u001b[0;34m.\u001b[0m\u001b[0mtraining_op\u001b[0m\u001b[0;34m]\u001b[0m\u001b[0;34m,\u001b[0m \u001b[0mfeed_dict\u001b[0m\u001b[0;34m\u001b[0m\u001b[0;34m\u001b[0m\u001b[0m\n\u001b[1;32m     83\u001b[0m                     )\n",
            "\u001b[0;32m/usr/local/lib/python3.9/dist-packages/tensorflow/python/client/session.py\u001b[0m in \u001b[0;36mrun\u001b[0;34m(self, fetches, feed_dict, options, run_metadata)\u001b[0m\n\u001b[1;32m    966\u001b[0m \u001b[0;34m\u001b[0m\u001b[0m\n\u001b[1;32m    967\u001b[0m     \u001b[0;32mtry\u001b[0m\u001b[0;34m:\u001b[0m\u001b[0;34m\u001b[0m\u001b[0;34m\u001b[0m\u001b[0m\n\u001b[0;32m--> 968\u001b[0;31m       result = self._run(None, fetches, feed_dict, options_ptr,\n\u001b[0m\u001b[1;32m    969\u001b[0m                          run_metadata_ptr)\n\u001b[1;32m    970\u001b[0m       \u001b[0;32mif\u001b[0m \u001b[0mrun_metadata\u001b[0m\u001b[0;34m:\u001b[0m\u001b[0;34m\u001b[0m\u001b[0;34m\u001b[0m\u001b[0m\n",
            "\u001b[0;32m/usr/local/lib/python3.9/dist-packages/tensorflow/python/client/session.py\u001b[0m in \u001b[0;36m_run\u001b[0;34m(self, handle, fetches, feed_dict, options, run_metadata)\u001b[0m\n\u001b[1;32m   1189\u001b[0m     \u001b[0;31m# or if the call is a partial run that specifies feeds.\u001b[0m\u001b[0;34m\u001b[0m\u001b[0;34m\u001b[0m\u001b[0m\n\u001b[1;32m   1190\u001b[0m     \u001b[0;32mif\u001b[0m \u001b[0mfinal_fetches\u001b[0m \u001b[0;32mor\u001b[0m \u001b[0mfinal_targets\u001b[0m \u001b[0;32mor\u001b[0m \u001b[0;34m(\u001b[0m\u001b[0mhandle\u001b[0m \u001b[0;32mand\u001b[0m \u001b[0mfeed_dict_tensor\u001b[0m\u001b[0;34m)\u001b[0m\u001b[0;34m:\u001b[0m\u001b[0;34m\u001b[0m\u001b[0;34m\u001b[0m\u001b[0m\n\u001b[0;32m-> 1191\u001b[0;31m       results = self._do_run(handle, final_targets, final_fetches,\n\u001b[0m\u001b[1;32m   1192\u001b[0m                              feed_dict_tensor, options, run_metadata)\n\u001b[1;32m   1193\u001b[0m     \u001b[0;32melse\u001b[0m\u001b[0;34m:\u001b[0m\u001b[0;34m\u001b[0m\u001b[0;34m\u001b[0m\u001b[0m\n",
            "\u001b[0;32m/usr/local/lib/python3.9/dist-packages/tensorflow/python/client/session.py\u001b[0m in \u001b[0;36m_do_run\u001b[0;34m(self, handle, target_list, fetch_list, feed_dict, options, run_metadata)\u001b[0m\n\u001b[1;32m   1369\u001b[0m \u001b[0;34m\u001b[0m\u001b[0m\n\u001b[1;32m   1370\u001b[0m     \u001b[0;32mif\u001b[0m \u001b[0mhandle\u001b[0m \u001b[0;32mis\u001b[0m \u001b[0;32mNone\u001b[0m\u001b[0;34m:\u001b[0m\u001b[0;34m\u001b[0m\u001b[0;34m\u001b[0m\u001b[0m\n\u001b[0;32m-> 1371\u001b[0;31m       return self._do_call(_run_fn, feeds, fetches, targets, options,\n\u001b[0m\u001b[1;32m   1372\u001b[0m                            run_metadata)\n\u001b[1;32m   1373\u001b[0m     \u001b[0;32melse\u001b[0m\u001b[0;34m:\u001b[0m\u001b[0;34m\u001b[0m\u001b[0;34m\u001b[0m\u001b[0m\n",
            "\u001b[0;32m/usr/local/lib/python3.9/dist-packages/tensorflow/python/client/session.py\u001b[0m in \u001b[0;36m_do_call\u001b[0;34m(self, fn, *args)\u001b[0m\n\u001b[1;32m   1376\u001b[0m   \u001b[0;32mdef\u001b[0m \u001b[0m_do_call\u001b[0m\u001b[0;34m(\u001b[0m\u001b[0mself\u001b[0m\u001b[0;34m,\u001b[0m \u001b[0mfn\u001b[0m\u001b[0;34m,\u001b[0m \u001b[0;34m*\u001b[0m\u001b[0margs\u001b[0m\u001b[0;34m)\u001b[0m\u001b[0;34m:\u001b[0m\u001b[0;34m\u001b[0m\u001b[0;34m\u001b[0m\u001b[0m\n\u001b[1;32m   1377\u001b[0m     \u001b[0;32mtry\u001b[0m\u001b[0;34m:\u001b[0m\u001b[0;34m\u001b[0m\u001b[0;34m\u001b[0m\u001b[0m\n\u001b[0;32m-> 1378\u001b[0;31m       \u001b[0;32mreturn\u001b[0m \u001b[0mfn\u001b[0m\u001b[0;34m(\u001b[0m\u001b[0;34m*\u001b[0m\u001b[0margs\u001b[0m\u001b[0;34m)\u001b[0m\u001b[0;34m\u001b[0m\u001b[0;34m\u001b[0m\u001b[0m\n\u001b[0m\u001b[1;32m   1379\u001b[0m     \u001b[0;32mexcept\u001b[0m \u001b[0merrors\u001b[0m\u001b[0;34m.\u001b[0m\u001b[0mOpError\u001b[0m \u001b[0;32mas\u001b[0m \u001b[0me\u001b[0m\u001b[0;34m:\u001b[0m\u001b[0;34m\u001b[0m\u001b[0;34m\u001b[0m\u001b[0m\n\u001b[1;32m   1380\u001b[0m       \u001b[0mmessage\u001b[0m \u001b[0;34m=\u001b[0m \u001b[0mcompat\u001b[0m\u001b[0;34m.\u001b[0m\u001b[0mas_text\u001b[0m\u001b[0;34m(\u001b[0m\u001b[0me\u001b[0m\u001b[0;34m.\u001b[0m\u001b[0mmessage\u001b[0m\u001b[0;34m)\u001b[0m\u001b[0;34m\u001b[0m\u001b[0;34m\u001b[0m\u001b[0m\n",
            "\u001b[0;32m/usr/local/lib/python3.9/dist-packages/tensorflow/python/client/session.py\u001b[0m in \u001b[0;36m_run_fn\u001b[0;34m(feed_dict, fetch_list, target_list, options, run_metadata)\u001b[0m\n\u001b[1;32m   1359\u001b[0m       \u001b[0;31m# Ensure any changes to the graph are reflected in the runtime.\u001b[0m\u001b[0;34m\u001b[0m\u001b[0;34m\u001b[0m\u001b[0m\n\u001b[1;32m   1360\u001b[0m       \u001b[0mself\u001b[0m\u001b[0;34m.\u001b[0m\u001b[0m_extend_graph\u001b[0m\u001b[0;34m(\u001b[0m\u001b[0;34m)\u001b[0m\u001b[0;34m\u001b[0m\u001b[0;34m\u001b[0m\u001b[0m\n\u001b[0;32m-> 1361\u001b[0;31m       return self._call_tf_sessionrun(options, feed_dict, fetch_list,\n\u001b[0m\u001b[1;32m   1362\u001b[0m                                       target_list, run_metadata)\n\u001b[1;32m   1363\u001b[0m \u001b[0;34m\u001b[0m\u001b[0m\n",
            "\u001b[0;32m/usr/local/lib/python3.9/dist-packages/tensorflow/python/client/session.py\u001b[0m in \u001b[0;36m_call_tf_sessionrun\u001b[0;34m(self, options, feed_dict, fetch_list, target_list, run_metadata)\u001b[0m\n\u001b[1;32m   1452\u001b[0m   def _call_tf_sessionrun(self, options, feed_dict, fetch_list, target_list,\n\u001b[1;32m   1453\u001b[0m                           run_metadata):\n\u001b[0;32m-> 1454\u001b[0;31m     return tf_session.TF_SessionRun_wrapper(self._session, options, feed_dict,\n\u001b[0m\u001b[1;32m   1455\u001b[0m                                             \u001b[0mfetch_list\u001b[0m\u001b[0;34m,\u001b[0m \u001b[0mtarget_list\u001b[0m\u001b[0;34m,\u001b[0m\u001b[0;34m\u001b[0m\u001b[0;34m\u001b[0m\u001b[0m\n\u001b[1;32m   1456\u001b[0m                                             run_metadata)\n",
            "\u001b[0;31mKeyboardInterrupt\u001b[0m: "
          ]
        }
      ],
      "source": [
        "metrics_ranking = [\n",
        "  \"precision\",\n",
        "  \"recall\",\n",
        "  \"map\",\n",
        "  \"ndcg\",\n",
        "]\n",
        "\n",
        "metrics_rating = ['rmse']\n",
        "\n",
        "test_run4 = run_experiment_alt(df_data, 10, 1, stop=None, task='rating')\n",
        "test_figures4 = model_results(test_run4, metrics_rating, 2, model_time=False)"
      ]
    },
    {
      "cell_type": "code",
      "execution_count": null,
      "metadata": {
        "colab": {
          "base_uri": "https://localhost:8080/"
        },
        "id": "IlnIcVwrCD6r",
        "outputId": "4740ce7c-3561-4895-82b6-cae86b50df0e"
      },
      "outputs": [
        {
          "data": {
            "text/plain": [
              "count    246.000000\n",
              "mean       3.410569\n",
              "std        1.033189\n",
              "min        1.000000\n",
              "25%        3.000000\n",
              "50%        4.000000\n",
              "75%        4.000000\n",
              "max        5.000000\n",
              "Name: label, dtype: float64"
            ]
          },
          "execution_count": 99,
          "metadata": {},
          "output_type": "execute_result"
        }
      ],
      "source": [
        "day_40 = df_data['time'].min() + 86400 * 90\n",
        "\n",
        "describe_set = df_data.loc[(df_data['time'] > day_40) & (df_data['time'] < day_40 + 86400)]['label'].describe()\n",
        "\n",
        "describe_set"
      ]
    },
    {
      "cell_type": "code",
      "execution_count": null,
      "metadata": {
        "colab": {
          "base_uri": "https://localhost:8080/",
          "height": 1000
        },
        "id": "WiubUrbt9fdj",
        "outputId": "d803f819-4341-4fcb-f59a-f9787590a18c"
      },
      "outputs": [
        {
          "data": {
            "text/plain": [
              "<Figure size 1000x600 with 0 Axes>"
            ]
          },
          "metadata": {},
          "output_type": "display_data"
        },
        {
          "data": {
            "image/png": "[encoded data removed]",
            "text/plain": [
              "<Figure size 640x480 with 1 Axes>"
            ]
          },
          "metadata": {},
          "output_type": "display_data"
        },
        {
          "data": {
            "text/plain": [
              "<Figure size 1000x600 with 0 Axes>"
            ]
          },
          "metadata": {},
          "output_type": "display_data"
        },
        {
          "data": {
            "image/png": "[encoded data removed]",
            "text/plain": [
              "<Figure size 640x480 with 1 Axes>"
            ]
          },
          "metadata": {},
          "output_type": "display_data"
        },
        {
          "data": {
            "text/plain": [
              "<Figure size 1000x600 with 0 Axes>"
            ]
          },
          "metadata": {},
          "output_type": "display_data"
        },
        {
          "data": {
            "image/png": "[encoded data removed]",
            "text/plain": [
              "<Figure size 640x480 with 1 Axes>"
            ]
          },
          "metadata": {},
          "output_type": "display_data"
        },
        {
          "data": {
            "text/plain": [
              "<Figure size 1000x600 with 0 Axes>"
            ]
          },
          "metadata": {},
          "output_type": "display_data"
        },
        {
          "data": {
            "image/png": "[encoded data removed]",
            "text/plain": [
              "<Figure size 640x480 with 1 Axes>"
            ]
          },
          "metadata": {},
          "output_type": "display_data"
        }
      ],
      "source": [
        "for desc in ['count', 'mean', 'std', '75%']:\n",
        "  value_list = []\n",
        "  value_list2 = []\n",
        "  day_list = list(range(0, 210, 10))\n",
        "  for day in range(0, 210, 10):\n",
        "    day_m = df_data['time'].min() + 86400 * day\n",
        "    value_list.append(df_data.loc[(df_data['time'] > day_m) & (df_data['time'] < day_m + 86400)]['label'].describe()[desc])\n",
        "    value_list2.append(df_data.loc[(df_data['time'] <= day_m)]['label'].describe()[desc])\n",
        "\n",
        "  plt.figure(figsize=(10,6))\n",
        "\n",
        "  fig, ax = plt.subplots()\n",
        "\n",
        "  ax.plot(day_list, value_list, label=f'{desc}')\n",
        "  ax.plot(day_list, value_list2, label=f'time_before')\n",
        "\n",
        "  ax.set(xlabel='time (d)', ylabel=f'{desc}',\n",
        "        title=f'Comparison for {desc}')\n",
        "  ax.grid()\n",
        "  ax.set_xticks((range(10, 210, 20)))\n",
        "\n",
        "  # fig.savefig(\"test.png\")\n",
        "  plt.legend()\n",
        "  plt.show()"
      ]
    },
    {
      "cell_type": "code",
      "execution_count": null,
      "metadata": {
        "colab": {
          "base_uri": "https://localhost:8080/"
        },
        "id": "uvb1IuiaOpcf",
        "outputId": "c665d49b-3776-47fc-d9b0-02c724d942e9"
      },
      "outputs": [
        {
          "data": {
            "text/plain": [
              "{'SVD': {'precision': 0.16666666666666666,\n",
              "  'recall': 0.047926447574334896,\n",
              "  'map': 0.2242476851851852,\n",
              "  'ndcg': 0.2896617568867699,\n",
              "  'train_time': 3.8219778190000397},\n",
              " 'SVDpp': {'precision': 0.13333333333333333,\n",
              "  'recall': 0.008621962382260017,\n",
              "  'map': 0.15575396825396826,\n",
              "  'ndcg': 0.2092122877422773,\n",
              "  'train_time': 4.235125897999751},\n",
              " 'ItemCF': {'precision': 0.13333333333333333,\n",
              "  'recall': 0.028814923081465733,\n",
              "  'map': 0.18939594356261025,\n",
              "  'ndcg': 0.2917555358212361,\n",
              "  'train_time': 0.22642295500008913},\n",
              " 'UserCF': {'precision': 0.049999999999999996,\n",
              "  'recall': 0.002347417840375587,\n",
              "  'map': 0.12962962962962962,\n",
              "  'ndcg': 0.15110460164140846,\n",
              "  'train_time': 0.023390250999909767},\n",
              " 'ALS': {'precision': 0.10000000000000002,\n",
              "  'recall': 0.014143561579118315,\n",
              "  'map': 0.11686507936507935,\n",
              "  'ndcg': 0.18410580022395764,\n",
              "  'train_time': 4.652555495999877}}"
            ]
          },
          "execution_count": 63,
          "metadata": {},
          "output_type": "execute_result"
        }
      ],
      "source": [
        "test_run4['40']"
      ]
    },
    {
      "cell_type": "code",
      "execution_count": null,
      "metadata": {
        "colab": {
          "base_uri": "https://localhost:8080/"
        },
        "id": "dse3DgMsAFUm",
        "outputId": "c2907928-7cf4-4251-b34f-b0b11448e683"
      },
      "outputs": [
        {
          "name": "stdout",
          "output_type": "stream",
          "text": [
            "\n",
            " ============================== SVD ==============================\n",
            "Training start time: \u001b[35m2023-04-04 12:43:50\u001b[0m\n"
          ]
        },
        {
          "name": "stderr",
          "output_type": "stream",
          "text": [
            "train: 100%|██████████| 387/387 [00:00<00:00, 880.72it/s]\n",
            "train: 100%|██████████| 387/387 [00:00<00:00, 1022.62it/s]\n",
            "train: 100%|██████████| 387/387 [00:00<00:00, 1032.23it/s]\n",
            "train: 100%|██████████| 387/387 [00:00<00:00, 1124.98it/s]\n",
            "train: 100%|██████████| 387/387 [00:00<00:00, 1046.41it/s]\n",
            "train: 100%|██████████| 387/387 [00:00<00:00, 1142.55it/s]\n",
            "train: 100%|██████████| 387/387 [00:00<00:00, 1125.25it/s]\n",
            "train: 100%|██████████| 387/387 [00:00<00:00, 1045.33it/s]\n",
            "train: 100%|██████████| 387/387 [00:00<00:00, 1106.47it/s]\n",
            "train: 100%|██████████| 387/387 [00:00<00:00, 1041.43it/s]\n",
            "train: 100%|██████████| 387/387 [00:00<00:00, 1086.13it/s]\n",
            "train: 100%|██████████| 387/387 [00:00<00:00, 1052.68it/s]\n",
            "train: 100%|██████████| 387/387 [00:00<00:00, 1164.81it/s]\n",
            "train: 100%|██████████| 387/387 [00:00<00:00, 1011.66it/s]\n",
            "train: 100%|██████████| 387/387 [00:00<00:00, 1103.76it/s]\n",
            "train: 100%|██████████| 387/387 [00:00<00:00, 1046.90it/s]\n",
            "train: 100%|██████████| 387/387 [00:00<00:00, 1130.54it/s]\n",
            "train: 100%|██████████| 387/387 [00:00<00:00, 893.54it/s]\n",
            "train: 100%|██████████| 387/387 [00:00<00:00, 714.51it/s]\n",
            "train: 100%|██████████| 387/387 [00:00<00:00, 710.33it/s]\n",
            "train: 100%|██████████| 387/387 [00:00<00:00, 1030.16it/s]\n",
            "train: 100%|██████████| 387/387 [00:00<00:00, 943.56it/s]\n",
            "train: 100%|██████████| 387/387 [00:00<00:00, 746.63it/s]\n",
            "train: 100%|██████████| 387/387 [00:00<00:00, 830.78it/s]\n",
            "train: 100%|██████████| 387/387 [00:00<00:00, 764.03it/s]\n",
            "train: 100%|██████████| 387/387 [00:00<00:00, 815.41it/s]\n",
            "train: 100%|██████████| 387/387 [00:00<00:00, 814.06it/s]\n",
            "train: 100%|██████████| 387/387 [00:00<00:00, 797.76it/s]\n",
            "train: 100%|██████████| 387/387 [00:00<00:00, 759.27it/s]\n",
            "train: 100%|██████████| 387/387 [00:00<00:00, 654.06it/s]\n",
            "train: 100%|██████████| 387/387 [00:00<00:00, 733.06it/s]\n",
            "train: 100%|██████████| 387/387 [00:00<00:00, 1035.78it/s]\n",
            "train: 100%|██████████| 387/387 [00:00<00:00, 1042.00it/s]\n",
            "train: 100%|██████████| 387/387 [00:00<00:00, 956.60it/s]\n",
            "train: 100%|██████████| 387/387 [00:00<00:00, 961.82it/s]\n",
            "train: 100%|██████████| 387/387 [00:00<00:00, 1006.58it/s]\n",
            "train: 100%|██████████| 387/387 [00:00<00:00, 1027.76it/s]\n",
            "train: 100%|██████████| 387/387 [00:00<00:00, 987.74it/s] \n",
            "train: 100%|██████████| 387/387 [00:00<00:00, 969.04it/s]\n",
            "train: 100%|██████████| 387/387 [00:00<00:00, 1120.94it/s]\n",
            "train: 100%|██████████| 387/387 [00:00<00:00, 999.11it/s] \n",
            "train: 100%|██████████| 387/387 [00:00<00:00, 1039.63it/s]\n",
            "train: 100%|██████████| 387/387 [00:00<00:00, 1071.66it/s]\n",
            "train: 100%|██████████| 387/387 [00:00<00:00, 1057.06it/s]\n",
            "train: 100%|██████████| 387/387 [00:00<00:00, 1126.74it/s]\n",
            "train: 100%|██████████| 387/387 [00:00<00:00, 1000.47it/s]\n",
            "train: 100%|██████████| 387/387 [00:00<00:00, 1053.57it/s]\n",
            "train: 100%|██████████| 387/387 [00:00<00:00, 1031.96it/s]\n",
            "train: 100%|██████████| 387/387 [00:00<00:00, 990.24it/s] \n",
            "train: 100%|██████████| 387/387 [00:00<00:00, 1038.20it/s]\n"
          ]
        },
        {
          "name": "stdout",
          "output_type": "stream",
          "text": [
            "\n",
            " ============================== SVD++ ==============================\n",
            "Training start time: \u001b[35m2023-04-04 12:44:11\u001b[0m\n"
          ]
        },
        {
          "name": "stderr",
          "output_type": "stream",
          "text": [
            "train: 100%|██████████| 387/387 [00:01<00:00, 206.07it/s]\n",
            "train: 100%|██████████| 387/387 [00:02<00:00, 170.79it/s]\n",
            "train: 100%|██████████| 387/387 [00:02<00:00, 159.16it/s]\n",
            "train: 100%|██████████| 387/387 [00:01<00:00, 208.16it/s]\n",
            "train: 100%|██████████| 387/387 [00:01<00:00, 215.50it/s]\n",
            "train: 100%|██████████| 387/387 [00:01<00:00, 209.04it/s]\n",
            "train: 100%|██████████| 387/387 [00:01<00:00, 213.56it/s]\n",
            "train: 100%|██████████| 387/387 [00:01<00:00, 214.90it/s]\n",
            "train: 100%|██████████| 387/387 [00:02<00:00, 173.45it/s]\n",
            "train: 100%|██████████| 387/387 [00:02<00:00, 157.99it/s]\n",
            "train: 100%|██████████| 387/387 [00:01<00:00, 211.44it/s]\n",
            "train: 100%|██████████| 387/387 [00:01<00:00, 209.30it/s]\n",
            "train: 100%|██████████| 387/387 [00:01<00:00, 212.45it/s]\n",
            "train: 100%|██████████| 387/387 [00:01<00:00, 212.05it/s]\n",
            "train: 100%|██████████| 387/387 [00:01<00:00, 213.54it/s]\n",
            "train: 100%|██████████| 387/387 [00:02<00:00, 180.26it/s]\n",
            "train: 100%|██████████| 387/387 [00:02<00:00, 161.71it/s]\n",
            "train: 100%|██████████| 387/387 [00:01<00:00, 201.52it/s]\n",
            "train: 100%|██████████| 387/387 [00:01<00:00, 218.11it/s]\n",
            "train: 100%|██████████| 387/387 [00:01<00:00, 209.37it/s]\n",
            "train: 100%|██████████| 387/387 [00:01<00:00, 209.19it/s]\n",
            "train: 100%|██████████| 387/387 [00:01<00:00, 212.05it/s]\n",
            "train: 100%|██████████| 387/387 [00:02<00:00, 188.75it/s]\n",
            "train: 100%|██████████| 387/387 [00:02<00:00, 158.08it/s]\n",
            "train: 100%|██████████| 387/387 [00:02<00:00, 187.63it/s]\n"
          ]
        },
        {
          "name": "stdout",
          "output_type": "stream",
          "text": [
            "\n",
            " ============================== item_cf ==============================\n",
            "\u001b[31mWarning: pearson is not suitable for implicit data\u001b[0m\n",
            "Training start time: \u001b[35m2023-04-04 12:45:02\u001b[0m\n",
            "Final block size and num: (1680, 1)\n",
            "sim_matrix elapsed: 0.131s\n",
            "sim_matrix, shape: (1680, 1680), num_elements: 1771614, density: 199.2259 %\n"
          ]
        },
        {
          "name": "stderr",
          "output_type": "stream",
          "text": [
            "top_k: 100%|██████████| 1680/1680 [00:00<00:00, 4311.94it/s]\n"
          ]
        },
        {
          "name": "stdout",
          "output_type": "stream",
          "text": [
            "\n",
            " ============================== user_cf ==============================\n",
            "\u001b[31mWarning: pearson is not suitable for implicit data\u001b[0m\n",
            "Training start time: \u001b[35m2023-04-04 12:45:02\u001b[0m\n",
            "Final block size and num: (943, 1)\n",
            "sim_matrix elapsed: 0.060s\n",
            "sim_matrix, shape: (943, 943), num_elements: 853296, density: 95.9569 %\n"
          ]
        },
        {
          "name": "stderr",
          "output_type": "stream",
          "text": [
            "top_k: 100%|██████████| 943/943 [00:00<00:00, 4746.84it/s]\n"
          ]
        },
        {
          "name": "stdout",
          "output_type": "stream",
          "text": [
            "\n",
            " ============================== ALS ==============================\n",
            "Training start time: \u001b[35m2023-04-04 12:45:03\u001b[0m\n",
            "<libreco.algorithms.svd.SVD object at 0x7f87c81ee3a0>\n"
          ]
        },
        {
          "name": "stderr",
          "output_type": "stream",
          "text": [
            "eval_listwise: 100%|██████████| 236/236 [00:00<00:00, 1202.03it/s]\n"
          ]
        },
        {
          "name": "stdout",
          "output_type": "stream",
          "text": [
            "<libreco.algorithms.svdpp.SVDpp object at 0x7f87c4a94a90>\n"
          ]
        },
        {
          "name": "stderr",
          "output_type": "stream",
          "text": [
            "eval_listwise: 100%|██████████| 236/236 [00:00<00:00, 1286.27it/s]\n"
          ]
        },
        {
          "name": "stdout",
          "output_type": "stream",
          "text": [
            "<libreco.algorithms.als.ALS object at 0x7f87c4a811f0>\n"
          ]
        },
        {
          "name": "stderr",
          "output_type": "stream",
          "text": [
            "eval_listwise: 100%|██████████| 236/236 [00:00<00:00, 1840.90it/s]\n"
          ]
        },
        {
          "name": "stdout",
          "output_type": "stream",
          "text": [
            "<libreco.algorithms.item_cf.ItemCF object at 0x7f87c413a910>\n"
          ]
        },
        {
          "name": "stderr",
          "output_type": "stream",
          "text": [
            "eval_listwise: 100%|██████████| 236/236 [00:08<00:00, 27.42it/s]\n"
          ]
        },
        {
          "name": "stdout",
          "output_type": "stream",
          "text": [
            "<libreco.algorithms.user_cf.UserCF object at 0x7f87c4e2bf10>\n"
          ]
        },
        {
          "name": "stderr",
          "output_type": "stream",
          "text": [
            "eval_listwise: 100%|██████████| 236/236 [00:21<00:00, 11.02it/s]"
          ]
        },
        {
          "name": "stdout",
          "output_type": "stream",
          "text": [
            "{'SVD': {'precision': 0.005419766206163655, 'recall': 0.10839532412327312, 'map': 0.028166300388723673, 'ndcg': 0.045298074432087755}, 'SVDpp': {'precision': 0.005844845908607864, 'recall': 0.11689691817215728, 'map': 0.03272022164939587, 'ndcg': 0.05099651715815287}, 'ALS': {'precision': 0.009192348565356005, 'recall': 0.18384697130712008, 'map': 0.044290667157536934, 'ndcg': 0.07405223511998436}, 'ItemCF': {'precision': 0.004622741764080765, 'recall': 0.0924548352816153, 'map': 0.02836842293907434, 'ndcg': 0.04193841145431167}, 'UserCF': {'precision': 0.0004250797024442083, 'recall': 0.008501594048884165, 'map': 0.0016626144548567503, 'ndcg': 0.0030372939781753657}}\n"
          ]
        },
        {
          "name": "stderr",
          "output_type": "stream",
          "text": [
            "\n"
          ]
        }
      ],
      "source": [
        "train_data, eval_data, test_data = random_split(df_data, multi_ratios=[0.8, 0.1, 0.1])\n",
        "eval_data = DatasetPure.build_evalset(eval_data)\n",
        "train_data, data_info = DatasetPure.build_trainset(train)\n",
        "test_data = DatasetPure.build_testset(test)\n",
        "\n",
        "def reset_state(name):\n",
        "    tf.compat.v1.reset_default_graph()\n",
        "    print(\"\\n\", \"=\" * 30, name, \"=\" * 30)\n",
        "\n",
        "def create_results(algos, test_data, metrics):\n",
        "\n",
        "  results = {}\n",
        "\n",
        "  for algo in algos:\n",
        "    print(algo)\n",
        "    result = evaluate(model=algo, data=test_data, metrics=metrics, k=20)\n",
        "    results[algo.__class__.__name__] = result\n",
        "\n",
        "  return results\n",
        "\n",
        "metrics = [\n",
        "  \"precision\",\n",
        "  \"recall\",\n",
        "  \"map\",\n",
        "  \"ndcg\",\n",
        "]\n",
        "\n",
        "reset_state(\"SVD\")\n",
        "svd = SVD(\n",
        "    \"ranking\",\n",
        "    data_info,\n",
        "    embed_size=20,\n",
        "    n_epochs=50,\n",
        "    lr=0.001,\n",
        "    reg=0.0001,\n",
        ")\n",
        "\n",
        "svd.fit(\n",
        "    train_data,\n",
        "    verbose=0,\n",
        "    shuffle=False,\n",
        "    # eval_data=eval_data,\n",
        "    # metrics=metrics,\n",
        ")\n",
        "\n",
        "reset_state(\"SVD++\")\n",
        "svdpp = SVDpp(\n",
        "    \"ranking\",\n",
        "    data_info,\n",
        "    loss_type=\"cross_entropy\",\n",
        "    embed_size=50,\n",
        "    n_epochs=25,\n",
        "    lr=0.001,\n",
        "    reg=0.0001,\n",
        ")\n",
        "\n",
        "svdpp.fit(\n",
        "    train_data,\n",
        "    verbose=0,\n",
        "    # eval_data=eval_data,\n",
        "    # metrics=metrics,\n",
        ")\n",
        "\n",
        "reset_state(\"item_cf\")\n",
        "item_cf = ItemCF(\n",
        "    task=\"ranking\",\n",
        "    data_info=data_info,\n",
        "    k_sim=25,\n",
        "    sim_type=\"pearson\",\n",
        ")\n",
        "\n",
        "item_cf.fit(\n",
        "    train_data,\n",
        "    verbose=0,\n",
        "    # eval_data=eval_data,\n",
        "    # metrics=metrics,\n",
        ")\n",
        "\n",
        "reset_state(\"user_cf\")\n",
        "user_cf = UserCF(\n",
        "    task=\"ranking\",\n",
        "    data_info=data_info,\n",
        "    k_sim=50,\n",
        "    sim_type=\"pearson\",\n",
        ")\n",
        "\n",
        "user_cf.fit(\n",
        "    train_data,\n",
        "    verbose=0,\n",
        "    # eval_data=eval_data,\n",
        "    # metrics=metrics,\n",
        ")\n",
        "\n",
        "reset_state(\"ALS\")\n",
        "als = ALS(\n",
        "    \"ranking\",\n",
        "    data_info,\n",
        "    embed_size=10,\n",
        "    n_epochs=200,\n",
        "    reg=5.0\n",
        ")\n",
        "\n",
        "als.fit(\n",
        "    train_data,\n",
        "    verbose=0,\n",
        "    # eval_data=eval_data,\n",
        "    # metrics=metrics,\n",
        ")\n",
        "\n",
        "algos = [svd, svdpp, als, item_cf, user_cf]\n",
        "\n",
        "result = create_results(algos, test_data, metrics)\n",
        "\n",
        "print(result)"
      ]
    },
    {
      "cell_type": "code",
      "execution_count": null,
      "metadata": {
        "id": "48OrSnemEqUs"
      },
      "outputs": [],
      "source": [
        "test_figures4 = model_results(test_run4, metrics_ranking, 2, model_time=True)"
      ]
    },
    {
      "cell_type": "code",
      "execution_count": null,
      "metadata": {
        "colab": {
          "base_uri": "https://localhost:8080/",
          "height": 508
        },
        "id": "SK7yHTOxE7Nn",
        "outputId": "04cda5e7-7a2a-4aac-ec2d-c842fbf74c55"
      },
      "outputs": [
        {
          "data": {
            "image/png": "[encoded data removed]",
            "text/plain": [
              "<Figure size 640x480 with 1 Axes>"
            ]
          },
          "metadata": {},
          "output_type": "display_data"
        }
      ],
      "source": [
        "for algorithm, algo_values in result.items():\n",
        "  for metric, values in algo_values.items():\n",
        "    offset = width * multiplier\n",
        "    rects = ax.bar(x + offset, measurement, width, label=attribute)\n",
        "    ax.bar_label(rects, padding=3)\n",
        "    multiplier += 1\n",
        "\n",
        "species = (\"Adelie\", \"Chinstrap\", \"Gentoo\")\n",
        "penguin_means = {\n",
        "    'Bill Depth': (18.35, 18.43, 14.98),\n",
        "    'Bill Length': (38.79, 48.83, 47.50),\n",
        "    'Flipper Length': (189.95, 195.82, 217.19),\n",
        "}\n",
        "\n",
        "x = np.arange(len(species))  # the label locations\n",
        "width = 0.25  # the width of the bars\n",
        "multiplier = 0\n",
        "\n",
        "fig, ax = plt.subplots(layout='constrained')\n",
        "\n",
        "for attribute, measurement in penguin_means.items():\n",
        "    offset = width * multiplier\n",
        "    rects = ax.bar(x + offset, measurement, width, label=attribute)\n",
        "    ax.bar_label(rects, padding=3)\n",
        "    multiplier += 1\n",
        "\n",
        "# Add some text for labels, title and custom x-axis tick labels, etc.\n",
        "ax.set_ylabel('Length (mm)')\n",
        "ax.set_title('Penguin attributes by species')\n",
        "ax.set_xticks(x + width, species)\n",
        "ax.legend(loc='upper left', ncols=3)\n",
        "ax.set_ylim(0, 250)\n",
        "\n",
        "plt.show()"
      ]
    },
    {
      "cell_type": "code",
      "execution_count": null,
      "metadata": {
        "colab": {
          "base_uri": "https://localhost:8080/"
        },
        "id": "MjAE_IX52YOm",
        "outputId": "8d6331c2-a3ee-4070-889d-1258949a9031"
      },
      "outputs": [
        {
          "data": {
            "text/plain": [
              "{'SVD': {'precision': 0.006801275239107333,\n",
              "  'recall': 0.06801275239107332,\n",
              "  'map': 0.02546682860179141,\n",
              "  'ndcg': 0.03522976023436723},\n",
              " 'SVDpp': {'precision': 0.00818278427205101,\n",
              "  'recall': 0.0818278427205101,\n",
              "  'map': 0.03024138454531653,\n",
              "  'ndcg': 0.04207258040678309},\n",
              " 'ALS': {'precision': 0.010201912858661,\n",
              "  'recall': 0.10201912858660998,\n",
              "  'map': 0.03865104667442605,\n",
              "  'ndcg': 0.05341823324420977},\n",
              " 'ItemCF': {'precision': 0.004888416578108395,\n",
              "  'recall': 0.048884165781083955,\n",
              "  'map': 0.025321761719211237,\n",
              "  'ndcg': 0.030893151817769613},\n",
              " 'UserCF': {'precision': 0.0004250797024442083,\n",
              "  'recall': 0.004250797024442083,\n",
              "  'map': 0.001393316802456016,\n",
              "  'ndcg': 0.0019969815603610597}}"
            ]
          },
          "execution_count": 278,
          "metadata": {},
          "output_type": "execute_result"
        }
      ],
      "source": [
        "result"
      ]
    },
    {
      "cell_type": "code",
      "execution_count": null,
      "metadata": {
        "colab": {
          "base_uri": "https://localhost:8080/",
          "height": 35
        },
        "id": "Zob8JtHHN6pl",
        "outputId": "29395fa7-29f6-433c-bfaa-e789f056bf5f"
      },
      "outputs": [
        {
          "data": {
            "application/vnd.google.colaboratory.intrinsic+json": {
              "type": "string"
            },
            "text/plain": [
              "'SVD'"
            ]
          },
          "execution_count": 152,
          "metadata": {},
          "output_type": "execute_result"
        }
      ],
      "source": [
        "svd.__class__.__name__"
      ]
    },
    {
      "cell_type": "code",
      "execution_count": null,
      "metadata": {
        "colab": {
          "base_uri": "https://localhost:8080/"
        },
        "id": "gsrzHP1AL01v",
        "outputId": "304d34b7-ed3b-4720-9e3a-8c17f9443bad"
      },
      "outputs": [
        {
          "name": "stderr",
          "output_type": "stream",
          "text": [
            "eval_listwise: 100%|██████████| 236/236 [00:01<00:00, 205.10it/s]\n",
            "eval_listwise: 100%|██████████| 236/236 [00:01<00:00, 229.14it/s]\n",
            "eval_listwise: 100%|██████████| 236/236 [00:06<00:00, 35.51it/s]\n",
            "eval_listwise: 100%|██████████| 236/236 [00:16<00:00, 14.08it/s]\n",
            "eval_listwise: 100%|██████████| 236/236 [00:00<00:00, 1951.74it/s]\n"
          ]
        }
      ],
      "source": [
        "algos = [svd, svdpp, item_cf, user_cf, als]\n",
        "\n",
        "results = {}\n",
        "\n",
        "for algo in algos:\n",
        "  accuracy = evaluate(model=algo, data=test_data, metrics=metrics)\n",
        "  results[algo.__class__.__name__] = accuracy"
      ]
    },
    {
      "cell_type": "code",
      "execution_count": null,
      "metadata": {
        "colab": {
          "base_uri": "https://localhost:8080/"
        },
        "id": "NJ1HkfyZObpO",
        "outputId": "be5344a8-e19e-4c86-a99d-f408da4110fe"
      },
      "outputs": [
        {
          "name": "stdout",
          "output_type": "stream",
          "text": [
            "{'SVD': {'precision': 0.006801275239107333, 'recall': 0.06801275239107332, 'map': 0.02542550140849822, 'ndcg': 0.035195904143514145}, 'SVDpp': {'precision': 0.00818278427205101, 'recall': 0.0818278427205101, 'map': 0.03024138454531653, 'ndcg': 0.04207258040678309}, 'ItemCF': {'precision': 0.004888416578108395, 'recall': 0.048884165781083955, 'map': 0.025321761719211237, 'ndcg': 0.030893151817769613}, 'UserCF': {'precision': 0.0004250797024442083, 'recall': 0.004250797024442083, 'map': 0.001393316802456016, 'ndcg': 0.0019969815603610597}, 'ALS': {'precision': 0.010201912858661, 'recall': 0.10201912858660998, 'map': 0.03865104667442605, 'ndcg': 0.05341823324420977}}\n"
          ]
        }
      ],
      "source": [
        "print(results)"
      ]
    },
    {
      "cell_type": "code",
      "execution_count": null,
      "metadata": {
        "colab": {
          "base_uri": "https://localhost:8080/"
        },
        "id": "FN6y3EgEhUDe",
        "outputId": "243754cc-20ac-4196-f2c3-2e2abf768f5b"
      },
      "outputs": [
        {
          "name": "stdout",
          "output_type": "stream",
          "text": [
            "Training start time: \u001b[35m2023-04-04 12:04:02\u001b[0m\n"
          ]
        },
        {
          "name": "stderr",
          "output_type": "stream",
          "text": [
            "eval_listwise: 100%|██████████| 236/236 [00:00<00:00, 925.42it/s]\n"
          ]
        }
      ],
      "source": [
        "tf.compat.v1.reset_default_graph()\n",
        "\n",
        "metrics = [\n",
        "  \"precision\",\n",
        "  \"recall\",\n",
        "  \"map\",\n",
        "  \"ndcg\",\n",
        "]\n",
        "\n",
        "als = ALS(\n",
        "    \"ranking\",\n",
        "    data_info,\n",
        "    reg=5.0,\n",
        "    # embed_size=20,\n",
        "    # n_epochs=50,\n",
        "    # lr=0.001,\n",
        "    # reg=0.0001,\n",
        ")\n",
        "\n",
        "\n",
        "\n",
        "als.fit(\n",
        "    train_data,\n",
        "    verbose=0,\n",
        "    eval_data=eval_data,\n",
        "    metrics=metrics,\n",
        ")\n",
        "\n",
        "accuracy = evaluate(model=als, data=test_data, metrics=metrics)"
      ]
    },
    {
      "cell_type": "code",
      "execution_count": null,
      "metadata": {
        "colab": {
          "base_uri": "https://localhost:8080/"
        },
        "id": "09OLp5gyJeTk",
        "outputId": "e2895209-cc29-410d-a84c-855b50f62340"
      },
      "outputs": [
        {
          "name": "stdout",
          "output_type": "stream",
          "text": [
            "{'precision': 0.010201912858661, 'recall': 0.10201912858660998, 'map': 0.03644468059983469, 'ndcg': 0.05160415822209243}\n"
          ]
        }
      ],
      "source": [
        "print(accuracy)"
      ]
    }
  ],
  "metadata": {
    "accelerator": "GPU",
    "colab": {
      "toc_visible": true,
      "provenance": [],
      "authorship_tag": "ABX9TyMXK6jA1SZMFjC+UJeQ7ltJ",
      "include_colab_link": true
    },
    "gpuClass": "standard",
    "kernelspec": {
      "display_name": "Python 3",
      "name": "python3"
    },
    "language_info": {
      "name": "python"
    }
  },
  "nbformat": 4,
  "nbformat_minor": 0
}